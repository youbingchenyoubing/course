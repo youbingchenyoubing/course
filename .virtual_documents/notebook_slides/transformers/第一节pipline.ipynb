





from transformers.pipelines import SUPPORTED_TASKS
for k,v in SUPPORTED_TASKS.items():
    print(k,v["type"])





from transformers import pipeline
pipe = pipeline("text-classification")
pipe(["This restaurant is awesome"])





pipe = pipeline(model="FacebookAI/roberta-large-mnli")
pipe("This restaurant is awesome")





# https://huggingface.co/models
pipe = pipeline("text-classification", model="uer/roberta-base-finetuned-dianping-chinese")


pipe("我觉得我很帅")





from transformers import AutoModelForSequenceClassification
from transformers import AutoTokenizer
model = AutoModelForSequenceClassification.from_pretrained("uer/roberta-base-finetuned-dianping-chinese")
tokenizer = AutoTokenizer.from_pretrained("uer/roberta-base-finetuned-dianping-chinese")
pipe = pipeline("text-classification", model=model, tokenizer=tokenizer)


pipe("你是真的很帅气")





pipe.model.device





pipe = pipeline("text-classification", model="uer/roberta-base-finetuned-dianping-chinese", device=0)
pipe.model.device



