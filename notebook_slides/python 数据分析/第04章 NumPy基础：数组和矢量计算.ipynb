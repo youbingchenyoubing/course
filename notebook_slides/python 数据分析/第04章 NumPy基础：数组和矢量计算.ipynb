{
 "cells": [
  {
   "cell_type": "markdown",
   "id": "ec793fe3",
   "metadata": {
    "lines_to_next_cell": 0
   },
   "source": [
    "NumPy（Numerical Python的简称）是Python数值计算最重要的基础包。大多数提供科学计算的包都是用NumPy的数组作为构建基础。\n",
    "\n",
    "NumPy的部分功能如下：\n",
    "\n",
    "- ndarray，一个具有矢量算术运算和复杂广播能力的快速且节省空间的多维数组。\n",
    "- 用于对整组数据进行快速运算的标准数学函数（无需编写循环）。\n",
    "- 用于读写磁盘数据的工具以及用于操作内存映射文件的工具。\n",
    "- 线性代数、随机数生成以及傅里叶变换功能。\n",
    "- 用于集成由C、C++、Fortran等语言编写的代码的A C API。\n",
    "\n",
    "由于NumPy提供了一个简单易用的C API，因此很容易将数据传递给由低级语言编写的外部库，外部库也能以NumPy数组的形式将数据返回给Python。这个功能使Python成为一种包装C/C++/Fortran历史代码库的选择，并使被包装库拥有一个动态的、易用的接口。\n",
    "\n",
    "NumPy本身并没有提供多么高级的数据分析功能，理解NumPy数组以及面向数组的计算将有助于你更加高效地使用诸如pandas之类的工具。因为NumPy是一个很大的题目，我会在附录A中介绍更多NumPy高级功能，比如广播。\n",
    "\n",
    "对于大部分数据分析应用而言，我最关注的功能主要集中在：\n",
    "\n",
    "- 用于数据整理和清理、子集构造和过滤、转换等快速的矢量化数组运算。\n",
    "- 常用的数组算法，如排序、唯一化、集合运算等。\n",
    "- 高效的描述统计和数据聚合/摘要运算。\n",
    "- 用于异构数据集的合并/连接运算的数据对齐和关系型数据运算。\n",
    "- 将条件逻辑表述为数组表达式（而不是带有if-elif-else分支的循环）。\n",
    "- 数据的分组运算（聚合、转换、函数应用等）。。\n",
    "\n",
    "虽然NumPy提供了通用的数值数据处理的计算基础，但大多数读者可能还是想将pandas作为统计和分析工作的基础，尤其是处理表格数据时。pandas还提供了一些NumPy所没有的领域特定的功能，如时间序列处理等。\n",
    "\n",
    ">笔记：Python的面向数组计算可以追溯到1995年，Jim Hugunin创建了Numeric库。接下来的10年，许多科学编程社区纷纷开始使用Python的数组编程，但是进入21世纪，库的生态系统变得碎片化了。2005年，Travis Oliphant从Numeric和Numarray项目整合出了NumPy项目，进而所有社区都集合到了这个框架下。\n",
    "\n",
    "NumPy之于数值计算特别重要的原因之一，是因为它可以高效处理大数组的数据。这是因为：\n",
    "\n",
    "- NumPy是在一个连续的内存块中存储数据，独立于其他Python内置对象。NumPy的C语言编写的算法库可以操作内存，而不必进行类型检查或其它前期工作。比起Python的内置序列，NumPy数组使用的内存更少。\n",
    "- NumPy可以在整个数组上执行复杂的计算，而不需要Python的for循环。\n",
    "\n",
    "要搞明白具体的性能差距，考察一个包含一百万整数的数组，和一个等价的Python列表："
   ]
  },
  {
   "cell_type": "code",
   "execution_count": 6,
   "id": "46ebbbe4",
   "metadata": {},
   "outputs": [],
   "source": [
    "import numpy as np\n",
    "\n",
    "my_arr = np.arange(1000000)\n",
    "\n",
    "my_list = list(range(1000000))"
   ]
  },
  {
   "cell_type": "markdown",
   "id": "f4859ec3",
   "metadata": {
    "lines_to_next_cell": 0
   },
   "source": [
    "各个序列分别乘以2："
   ]
  },
  {
   "cell_type": "code",
   "execution_count": 8,
   "id": "657df2bd",
   "metadata": {},
   "outputs": [
    {
     "name": "stdout",
     "output_type": "stream",
     "text": [
      "CPU times: user 24.6 ms, sys: 5.34 ms, total: 30 ms\n",
      "Wall time: 27.7 ms\n",
      "CPU times: user 545 ms, sys: 160 ms, total: 704 ms\n",
      "Wall time: 704 ms\n"
     ]
    }
   ],
   "source": [
    "%time for _ in range(10): my_arr2 = my_arr * 2\n",
    "\n",
    "%time for _ in range(10): my_list2 = [x * 2 for x in my_list]\n"
   ]
  },
  {
   "cell_type": "markdown",
   "id": "816fd753",
   "metadata": {
    "lines_to_next_cell": 0
   },
   "source": [
    "基于NumPy的算法要比纯Python快10到100倍（甚至更快），并且使用的内存更少。\n",
    "\n",
    "# 4.1 NumPy的ndarray：一种多维数组对象\n",
    "NumPy最重要的一个特点就是其N维数组对象（即ndarray），该对象是一个快速而灵活的大数据集容器。你可以利用这种数组对整块数据执行一些数学运算，其语法跟标量元素之间的运算一样。\n",
    "\n",
    "要明白Python是如何利用与标量值类似的语法进行批次计算，我先引入NumPy，然后生成一个包含随机数据的小数组："
   ]
  },
  {
   "cell_type": "code",
   "execution_count": 9,
   "id": "100c1537",
   "metadata": {},
   "outputs": [
    {
     "data": {
      "text/plain": [
       "array([[-0.12752302, -0.3691808 , -0.08328145],\n",
       "       [-0.75543415,  0.87491506, -0.04810702]])"
      ]
     },
     "execution_count": 9,
     "metadata": {},
     "output_type": "execute_result"
    }
   ],
   "source": [
    "import numpy as np\n",
    "\n",
    "# Generate some random data\n",
    "data = np.random.randn(2, 3)\n",
    "data\n"
   ]
  },
  {
   "cell_type": "markdown",
   "id": "a560e3db",
   "metadata": {
    "lines_to_next_cell": 0
   },
   "source": [
    "然后进行数学运算："
   ]
  },
  {
   "cell_type": "code",
   "execution_count": 11,
   "id": "e0cf01d0",
   "metadata": {},
   "outputs": [
    {
     "data": {
      "text/plain": [
       "array([[-1.27523025, -3.69180799, -0.83281445],\n",
       "       [-7.55434149,  8.74915058, -0.48107022]])"
      ]
     },
     "execution_count": 11,
     "metadata": {},
     "output_type": "execute_result"
    }
   ],
   "source": [
    "data * 10"
   ]
  },
  {
   "cell_type": "code",
   "execution_count": 12,
   "id": "7f591e4e-3a94-41b3-b616-feb04fad1667",
   "metadata": {},
   "outputs": [
    {
     "data": {
      "text/plain": [
       "array([[-0.25504605, -0.7383616 , -0.16656289],\n",
       "       [-1.5108683 ,  1.74983012, -0.09621404]])"
      ]
     },
     "execution_count": 12,
     "metadata": {},
     "output_type": "execute_result"
    }
   ],
   "source": [
    "data + data"
   ]
  },
  {
   "cell_type": "markdown",
   "id": "059458f7",
   "metadata": {
    "lines_to_next_cell": 0
   },
   "source": [
    "第一个例子中，所有的元素都乘以10。第二个例子中，每个元素都与自身相加。\n",
    "\n",
    ">笔记：在本章及全书中，我会使用标准的NumPy惯用法``import numpy as np``。你当然也可以在代码中使用``from numpy import *``，但不建议这么做。``numpy``的命名空间很大，包含许多函数，其中一些的名字与Python的内置函数重名（比如min和max）。\n",
    "\n",
    "ndarray是一个通用的同构数据多维容器，也就是说，其中的所有元素必须是相同类型的。每个数组都有一个shape（一个表示各维度大小的元组）和一个dtype（一个用于说明数组数据类型的对象）："
   ]
  },
  {
   "cell_type": "code",
   "execution_count": 5,
   "id": "45b23dbb",
   "metadata": {},
   "outputs": [
    {
     "ename": "NameError",
     "evalue": "name 'data' is not defined",
     "output_type": "error",
     "traceback": [
      "\u001b[0;31m---------------------------------------------------------------------------\u001b[0m",
      "\u001b[0;31mNameError\u001b[0m                                 Traceback (most recent call last)",
      "Cell \u001b[0;32mIn[5], line 1\u001b[0m\n\u001b[0;32m----> 1\u001b[0m \u001b[43mdata\u001b[49m\u001b[38;5;241m.\u001b[39mshape\n\u001b[1;32m      2\u001b[0m Out[\u001b[38;5;241m17\u001b[39m]: (\u001b[38;5;241m2\u001b[39m, \u001b[38;5;241m3\u001b[39m)\n\u001b[1;32m      4\u001b[0m data\u001b[38;5;241m.\u001b[39mdtype\n",
      "\u001b[0;31mNameError\u001b[0m: name 'data' is not defined"
     ]
    }
   ],
   "source": [
    "In [17]: data.shape\n",
    "Out[17]: (2, 3)\n",
    "\n",
    "In [18]: data.dtype\n",
    "Out[18]: dtype('float64')"
   ]
  },
  {
   "cell_type": "markdown",
   "id": "e91de26a",
   "metadata": {
    "lines_to_next_cell": 0
   },
   "source": [
    "本章将会介绍NumPy数组的基本用法，这对于本书后面各章的理解基本够用。虽然大多数数据分析工作不需要深入理解NumPy，但是精通面向数组的编程和思维方式是成为Python科学计算牛人的一大关键步骤。\n",
    "\n",
    ">笔记：当你在本书中看到“数组”、“NumPy数组”、\"ndarray\"时，基本上都指的是同一样东西，即ndarray对象。\n",
    "\n",
    "## 创建ndarray\n",
    "创建数组最简单的办法就是使用array函数。它接受一切序列型的对象（包括其他数组），然后产生一个新的含有传入数据的NumPy数组。以一个列表的转换为例："
   ]
  },
  {
   "cell_type": "code",
   "execution_count": null,
   "id": "786b87c2",
   "metadata": {},
   "outputs": [],
   "source": [
    "In [19]: data1 = [6, 7.5, 8, 0, 1]\n",
    "\n",
    "In [20]: arr1 = np.array(data1)\n",
    "\n",
    "In [21]: arr1\n",
    "Out[21]: array([ 6. ,  7.5,  8. ,  0. ,  1. ])"
   ]
  },
  {
   "cell_type": "markdown",
   "id": "22f88076",
   "metadata": {
    "lines_to_next_cell": 0
   },
   "source": [
    "嵌套序列（比如由一组等长列表组成的列表）将会被转换为一个多维数组："
   ]
  },
  {
   "cell_type": "code",
   "execution_count": null,
   "id": "9d63b99e",
   "metadata": {},
   "outputs": [],
   "source": [
    "In [22]: data2 = [[1, 2, 3, 4], [5, 6, 7, 8]]\n",
    "\n",
    "In [23]: arr2 = np.array(data2)\n",
    "\n",
    "In [24]: arr2\n",
    "Out[24]: \n",
    "array([[1, 2, 3, 4],\n",
    "       [5, 6, 7, 8]])"
   ]
  },
  {
   "cell_type": "markdown",
   "id": "1df08d20",
   "metadata": {
    "lines_to_next_cell": 0
   },
   "source": [
    "因为data2是列表的列表，NumPy数组arr2的两个维度的shape是从data2引入的。可以用属性ndim和shape验证："
   ]
  },
  {
   "cell_type": "code",
   "execution_count": null,
   "id": "a4b708ac",
   "metadata": {},
   "outputs": [],
   "source": [
    "In [25]: arr2.ndim\n",
    "Out[25]: 2\n",
    "\n",
    "In [26]: arr2.shape\n",
    "Out[26]: (2, 4)"
   ]
  },
  {
   "cell_type": "markdown",
   "id": "0cce9792",
   "metadata": {
    "lines_to_next_cell": 0
   },
   "source": [
    "除非特别说明（稍后将会详细介绍），np.array会尝试为新建的这个数组推断出一个较为合适的数据类型。数据类型保存在一个特殊的dtype对象中。比如说，在上面的两个例子中，我们有："
   ]
  },
  {
   "cell_type": "code",
   "execution_count": null,
   "id": "7b400fad",
   "metadata": {},
   "outputs": [],
   "source": [
    "In [27]: arr1.dtype\n",
    "Out[27]: dtype('float64')\n",
    "\n",
    "In [28]: arr2.dtype\n",
    "Out[28]: dtype('int64')"
   ]
  },
  {
   "cell_type": "markdown",
   "id": "e39d0d84",
   "metadata": {
    "lines_to_next_cell": 0
   },
   "source": [
    "除np.array之外，还有一些函数也可以新建数组。比如，zeros和ones分别可以创建指定长度或形状的全0或全1数组。empty可以创建一个没有任何具体值的数组。要用这些方法创建多维数组，只需传入一个表示形状的元组即可："
   ]
  },
  {
   "cell_type": "code",
   "execution_count": null,
   "id": "6b27e42b",
   "metadata": {},
   "outputs": [],
   "source": [
    "In [29]: np.zeros(10)\n",
    "Out[29]: array([ 0.,  0.,  0.,  0.,  0.,  0.,  0.,  0.,  0.,  0.])\n",
    "\n",
    "In [30]: np.zeros((3, 6))\n",
    "Out[30]: \n",
    "array([[ 0.,  0.,  0.,  0.,  0.,  0.],\n",
    "       [ 0.,  0.,  0.,  0.,  0.,  0.],\n",
    "       [ 0.,  0.,  0.,  0.,  0.,  0.]])\n",
    "\n",
    "In [31]: np.empty((2, 3, 2))\n",
    "Out[31]: \n",
    "array([[[ 0.,  0.],\n",
    "        [ 0.,  0.],\n",
    "        [ 0.,  0.]],\n",
    "       [[ 0.,  0.],\n",
    "        [ 0.,  0.],\n",
    "        [ 0.,  0.]]])"
   ]
  },
  {
   "cell_type": "markdown",
   "id": "ffe0239a",
   "metadata": {
    "lines_to_next_cell": 0
   },
   "source": [
    ">注意：认为np.empty会返回全0数组的想法是不安全的。很多情况下（如前所示），它返回的都是一些未初始化的垃圾值。\n",
    "\n",
    "arange是Python内置函数range的数组版："
   ]
  },
  {
   "cell_type": "code",
   "execution_count": null,
   "id": "a4db1515",
   "metadata": {},
   "outputs": [],
   "source": [
    "In [32]: np.arange(15)\n",
    "Out[32]: array([ 0,  1,  2,  3,  4,  5,  6,  7,  8,  9, 10, 11, 12, 13, 14])"
   ]
  },
  {
   "cell_type": "markdown",
   "id": "d703ae4a",
   "metadata": {
    "lines_to_next_cell": 0
   },
   "source": [
    "表4-1列出了一些数组创建函数。由于NumPy关注的是数值计算，因此，如果没有特别指定，数据类型基本都是float64（浮点数）。\n",
    "\n",
    "![表4-1 数组创建函数](./figures/t4-1.png)\n",
    "\n",
    "## ndarray的数据类型\n",
    "dtype（数据类型）是一个特殊的对象，它含有ndarray将一块内存解释为特定数据类型所需的信息："
   ]
  },
  {
   "cell_type": "code",
   "execution_count": 16,
   "id": "71d5fa8d",
   "metadata": {},
   "outputs": [
    {
     "ename": "NameError",
     "evalue": "name 'dtype' is not defined",
     "output_type": "error",
     "traceback": [
      "\u001b[0;31m---------------------------------------------------------------------------\u001b[0m",
      "\u001b[0;31mNameError\u001b[0m                                 Traceback (most recent call last)",
      "Cell \u001b[0;32mIn[16], line 6\u001b[0m\n\u001b[1;32m      3\u001b[0m arr2 \u001b[38;5;241m=\u001b[39m np\u001b[38;5;241m.\u001b[39marray([\u001b[38;5;241m1\u001b[39m, \u001b[38;5;241m2\u001b[39m, \u001b[38;5;241m3\u001b[39m], dtype\u001b[38;5;241m=\u001b[39mnp\u001b[38;5;241m.\u001b[39mint32)\n\u001b[1;32m      5\u001b[0m arr1\u001b[38;5;241m.\u001b[39mdtype\n\u001b[0;32m----> 6\u001b[0m Out[\u001b[38;5;241m35\u001b[39m]: \u001b[43mdtype\u001b[49m(\u001b[38;5;124m'\u001b[39m\u001b[38;5;124mfloat64\u001b[39m\u001b[38;5;124m'\u001b[39m)\n\u001b[1;32m      8\u001b[0m arr2\u001b[38;5;241m.\u001b[39mdtype\n\u001b[1;32m      9\u001b[0m Out[\u001b[38;5;241m36\u001b[39m]: dtype(\u001b[38;5;124m'\u001b[39m\u001b[38;5;124mint32\u001b[39m\u001b[38;5;124m'\u001b[39m)\n",
      "\u001b[0;31mNameError\u001b[0m: name 'dtype' is not defined"
     ]
    }
   ],
   "source": [
    "In [33]: arr1 = np.array([1, 2, 3], dtype=np.float64)\n",
    "\n",
    "In [34]: arr2 = np.array([1, 2, 3], dtype=np.int32)\n",
    "\n",
    "In [35]: arr1.dtype\n",
    "Out[35]: dtype('float64')\n",
    "\n",
    "In [36]: arr2.dtype\n",
    "Out[36]: dtype('int32')"
   ]
  },
  {
   "cell_type": "markdown",
   "id": "b075be0a",
   "metadata": {
    "lines_to_next_cell": 0
   },
   "source": [
    "dtype是NumPy灵活交互其它系统的源泉之一。多数情况下，它们直接映射到相应的机器表示，这使得“读写磁盘上的二进制数据流”以及“集成低级语言代码（如C、Fortran）”等工作变得更加简单。数值型dtype的命名方式相同：一个类型名（如float或int），后面跟一个用于表示各元素位长的数字。标准的双精度浮点值（即Python中的float对象）需要占用8字节（即64位）。因此，该类型在NumPy中就记作float64。表4-2列出了NumPy所支持的全部数据类型。\n",
    "\n",
    ">笔记：记不住这些NumPy的dtype也没关系，新手更是如此。通常只需要知道你所处理的数据的大致类型是浮点数、复数、整数、布尔值、字符串，还是普通的Python对象即可。当你需要控制数据在内存和磁盘中的存储方式时（尤其是对大数据集），那就得了解如何控制存储类型。\n",
    "\n",
    "![](./figures/4-0.png)\n",
    "\n",
    "![](./figures/4-0-1.png)\n",
    "\n",
    "你可以通过ndarray的astype方法明确地将一个数组从一个dtype转换成另一个dtype："
   ]
  },
  {
   "cell_type": "code",
   "execution_count": 17,
   "id": "cdfba005",
   "metadata": {},
   "outputs": [
    {
     "ename": "NameError",
     "evalue": "name 'dtype' is not defined",
     "output_type": "error",
     "traceback": [
      "\u001b[0;31m---------------------------------------------------------------------------\u001b[0m",
      "\u001b[0;31mNameError\u001b[0m                                 Traceback (most recent call last)",
      "Cell \u001b[0;32mIn[17], line 4\u001b[0m\n\u001b[1;32m      1\u001b[0m arr \u001b[38;5;241m=\u001b[39m np\u001b[38;5;241m.\u001b[39marray([\u001b[38;5;241m1\u001b[39m, \u001b[38;5;241m2\u001b[39m, \u001b[38;5;241m3\u001b[39m, \u001b[38;5;241m4\u001b[39m, \u001b[38;5;241m5\u001b[39m])\n\u001b[1;32m      3\u001b[0m arr\u001b[38;5;241m.\u001b[39mdtype\n\u001b[0;32m----> 4\u001b[0m Out[\u001b[38;5;241m38\u001b[39m]: \u001b[43mdtype\u001b[49m(\u001b[38;5;124m'\u001b[39m\u001b[38;5;124mint64\u001b[39m\u001b[38;5;124m'\u001b[39m)\n\u001b[1;32m      6\u001b[0m float_arr \u001b[38;5;241m=\u001b[39m arr\u001b[38;5;241m.\u001b[39mastype(np\u001b[38;5;241m.\u001b[39mfloat64)\n\u001b[1;32m      8\u001b[0m float_arr\u001b[38;5;241m.\u001b[39mdtype\n",
      "\u001b[0;31mNameError\u001b[0m: name 'dtype' is not defined"
     ]
    }
   ],
   "source": [
    "In [37]: arr = np.array([1, 2, 3, 4, 5])\n",
    "\n",
    "In [38]: arr.dtype\n",
    "Out[38]: dtype('int64')\n",
    "\n",
    "In [39]: float_arr = arr.astype(np.float64)\n",
    "\n",
    "In [40]: float_arr.dtype\n",
    "Out[40]: dtype('float64')"
   ]
  },
  {
   "cell_type": "markdown",
   "id": "4da89066",
   "metadata": {
    "lines_to_next_cell": 0
   },
   "source": [
    "在本例中，整数被转换成了浮点数。如果将浮点数转换成整数，则小数部分将会被截取删除："
   ]
  },
  {
   "cell_type": "code",
   "execution_count": null,
   "id": "09c3b038",
   "metadata": {},
   "outputs": [],
   "source": [
    "In [41]: arr = np.array([3.7, -1.2, -2.6, 0.5, 12.9, 10.1])\n",
    "\n",
    "In [42]: arr\n",
    "Out[42]: array([  3.7,  -1.2,  -2.6,   0.5,  12.9,  10.1])\n",
    "\n",
    "In [43]: arr.astype(np.int32)\n",
    "Out[43]: array([ 3, -1, -2,  0, 12, 10], dtype=int32)"
   ]
  },
  {
   "cell_type": "markdown",
   "id": "2d6dee14",
   "metadata": {
    "lines_to_next_cell": 0
   },
   "source": [
    "如果某字符串数组表示的全是数字，也可以用astype将其转换为数值形式："
   ]
  },
  {
   "cell_type": "code",
   "execution_count": null,
   "id": "57a7b4c4",
   "metadata": {},
   "outputs": [],
   "source": [
    "In [44]: numeric_strings = np.array(['1.25', '-9.6', '42'], dtype=np.string_)\n",
    "\n",
    "In [45]: numeric_strings.astype(float)\n",
    "Out[45]: array([  1.25,  -9.6 ,  42.  ])"
   ]
  },
  {
   "cell_type": "markdown",
   "id": "9861bdcc",
   "metadata": {
    "lines_to_next_cell": 0
   },
   "source": [
    ">注意：使用numpy.string_类型时，一定要小心，因为NumPy的字符串数据是大小固定的，发生截取时，不会发出警告。pandas提供了更多非数值数据的便利的处理方法。\n",
    "\n",
    "如果转换过程因为某种原因而失败了（比如某个不能被转换为float64的字符串），就会引发一个ValueError。这里，我比较懒，写的是float而不是np.float64；NumPy很聪明，它会将Python类型映射到等价的dtype上。\n",
    "\n",
    "数组的dtype还有另一个属性："
   ]
  },
  {
   "cell_type": "code",
   "execution_count": null,
   "id": "6288d67b",
   "metadata": {},
   "outputs": [],
   "source": [
    "In [46]: int_array = np.arange(10)\n",
    "\n",
    "In [47]: calibers = np.array([.22, .270, .357, .380, .44, .50], dtype=np.float64)\n",
    "\n",
    "In [48]: int_array.astype(calibers.dtype)\n",
    "Out[48]: array([ 0.,  1.,  2.,  3.,  4.,  5.,  6.,  7.,  8.,  9.])"
   ]
  },
  {
   "cell_type": "markdown",
   "id": "0981259b",
   "metadata": {
    "lines_to_next_cell": 0
   },
   "source": [
    "你还可以用简洁的类型代码来表示dtype："
   ]
  },
  {
   "cell_type": "code",
   "execution_count": null,
   "id": "119b7210",
   "metadata": {},
   "outputs": [],
   "source": [
    "In [49]: empty_uint32 = np.empty(8, dtype='u4')\n",
    "\n",
    "In [50]: empty_uint32\n",
    "Out[50]: \n",
    "array([         0, 1075314688,          0, 1075707904,          0,\n",
    "       1075838976,          0, 1072693248], dtype=uint32)"
   ]
  },
  {
   "cell_type": "markdown",
   "id": "7cf48ed4",
   "metadata": {
    "lines_to_next_cell": 0
   },
   "source": [
    ">笔记：调用astype总会创建一个新的数组（一个数据的备份），即使新的dtype与旧的dtype相同。\n",
    "\n",
    "## NumPy数组的运算\n",
    "数组很重要，因为它使你不用编写循环即可对数据执行批量运算。NumPy用户称其为矢量化（vectorization）。大小相等的数组之间的任何算术运算都会将运算应用到元素级："
   ]
  },
  {
   "cell_type": "code",
   "execution_count": null,
   "id": "3d331d70",
   "metadata": {},
   "outputs": [],
   "source": [
    "In [51]: arr = np.array([[1., 2., 3.], [4., 5., 6.]])\n",
    "\n",
    "In [52]: arr\n",
    "Out[52]: \n",
    "array([[ 1.,  2.,  3.],\n",
    "       [ 4.,  5.,  6.]])\n",
    "\n",
    "In [53]: arr * arr\n",
    "Out[53]: \n",
    "array([[  1.,   4.,   9.],\n",
    "       [ 16.,  25.,  36.]])\n",
    "\n",
    "In [54]: arr - arr\n",
    "Out[54]: \n",
    "array([[ 0.,  0.,  0.],\n",
    "       [ 0.,  0.,  0.]])"
   ]
  },
  {
   "cell_type": "markdown",
   "id": "b64cba42",
   "metadata": {
    "lines_to_next_cell": 0
   },
   "source": [
    "数组与标量的算术运算会将标量值传播到各个元素："
   ]
  },
  {
   "cell_type": "code",
   "execution_count": null,
   "id": "588fcfe8",
   "metadata": {},
   "outputs": [],
   "source": [
    "In [55]: 1 / arr\n",
    "Out[55]: \n",
    "array([[ 1.    ,  0.5   ,  0.3333],\n",
    "       [ 0.25  ,  0.2   ,  0.1667]])\n",
    "\n",
    "In [56]: arr ** 0.5\n",
    "Out[56]: \n",
    "array([[ 1.    ,  1.4142,  1.7321],\n",
    "       [ 2.    ,  2.2361,  2.4495]])"
   ]
  },
  {
   "cell_type": "markdown",
   "id": "c142b490",
   "metadata": {
    "lines_to_next_cell": 0
   },
   "source": [
    "大小相同的数组之间的比较会生成布尔值数组："
   ]
  },
  {
   "cell_type": "code",
   "execution_count": null,
   "id": "bd9e8d78",
   "metadata": {},
   "outputs": [],
   "source": [
    "In [57]: arr2 = np.array([[0., 4., 1.], [7., 2., 12.]])\n",
    "\n",
    "In [58]: arr2\n",
    "Out[58]: \n",
    "array([[  0.,   4.,   1.],\n",
    "       [  7.,   2.,  12.]])\n",
    "\n",
    "In [59]: arr2 > arr\n",
    "Out[59]:\n",
    "array([[False,  True, False],\n",
    "       [ True, False,  True]], dtype=bool)"
   ]
  },
  {
   "cell_type": "markdown",
   "id": "843f7699",
   "metadata": {
    "lines_to_next_cell": 0
   },
   "source": [
    "不同大小的数组之间的运算叫做广播（broadcasting），将在附录A中对其进行详细讨论。本书的内容不需要对广播机制有多深的理解。\n",
    "\n",
    "## 基本的索引和切片\n",
    "NumPy数组的索引是一个内容丰富的主题，因为选取数据子集或单个元素的方式有很多。一维数组很简单。从表面上看，它们跟Python列表的功能差不多："
   ]
  },
  {
   "cell_type": "code",
   "execution_count": null,
   "id": "3e691800",
   "metadata": {},
   "outputs": [],
   "source": [
    "In [60]: arr = np.arange(10)\n",
    "\n",
    "In [61]: arr\n",
    "Out[61]: array([0, 1, 2, 3, 4, 5, 6, 7, 8, 9])\n",
    "\n",
    "In [62]: arr[5]\n",
    "Out[62]: 5\n",
    "\n",
    "In [63]: arr[5:8]\n",
    "Out[63]: array([5, 6, 7])\n",
    "\n",
    "In [64]: arr[5:8] = 12\n",
    "\n",
    "In [65]: arr\n",
    "Out[65]: array([ 0,  1,  2,  3,  4, 12, 12, 12,  8,  9])"
   ]
  },
  {
   "cell_type": "markdown",
   "id": "bcad2f6d",
   "metadata": {
    "lines_to_next_cell": 0
   },
   "source": [
    "如上所示，当你将一个标量值赋值给一个切片时（如arr[5:8]=12），该值会自动传播（也就说后面将会讲到的“广播”）到整个选区。跟列表最重要的区别在于，数组切片是原始数组的视图。这意味着数据不会被复制，视图上的任何修改都会直接反映到源数组上。\n",
    "\n",
    "作为例子，先创建一个arr的切片："
   ]
  },
  {
   "cell_type": "code",
   "execution_count": null,
   "id": "7e2f4b0b",
   "metadata": {},
   "outputs": [],
   "source": [
    "In [66]: arr_slice = arr[5:8]\n",
    "\n",
    "In [67]: arr_slice\n",
    "Out[67]: array([12, 12, 12])"
   ]
  },
  {
   "cell_type": "markdown",
   "id": "84249a7d",
   "metadata": {
    "lines_to_next_cell": 0
   },
   "source": [
    "现在，当我修改arr_slice中的值，变动也会体现在原始数组arr中："
   ]
  },
  {
   "cell_type": "code",
   "execution_count": null,
   "id": "cb33e256",
   "metadata": {},
   "outputs": [],
   "source": [
    "In [68]: arr_slice[1] = 12345\n",
    "\n",
    "In [69]: arr\n",
    "Out[69]: array([    0,     1,     2,     3,     4,    12, 12345,    12,     8,   \n",
    "  9])"
   ]
  },
  {
   "cell_type": "markdown",
   "id": "84f633b4",
   "metadata": {
    "lines_to_next_cell": 0
   },
   "source": [
    "切片[ : ]会给数组中的所有值赋值："
   ]
  },
  {
   "cell_type": "code",
   "execution_count": null,
   "id": "74436c92",
   "metadata": {},
   "outputs": [],
   "source": [
    "In [70]: arr_slice[:] = 64\n",
    "\n",
    "In [71]: arr\n",
    "Out[71]: array([ 0,  1,  2,  3,  4, 64, 64, 64,  8,  9])"
   ]
  },
  {
   "cell_type": "markdown",
   "id": "26fc868f",
   "metadata": {
    "lines_to_next_cell": 0
   },
   "source": [
    "如果你刚开始接触NumPy，可能会对此感到惊讶（尤其是当你曾经用过其他热衷于复制数组数据的编程语言）。由于NumPy的设计目的是处理大数据，所以你可以想象一下，假如NumPy坚持要将数据复制来复制去的话会产生何等的性能和内存问题。\n",
    "\n",
    ">注意：如果你想要得到的是ndarray切片的一份副本而非视图，就需要明确地进行复制操作，例如``arr[5:8].copy()``。\n",
    "\n",
    "对于高维度数组，能做的事情更多。在一个二维数组中，各索引位置上的元素不再是标量而是一维数组："
   ]
  },
  {
   "cell_type": "code",
   "execution_count": null,
   "id": "4f7338bd",
   "metadata": {},
   "outputs": [],
   "source": [
    "In [72]: arr2d = np.array([[1, 2, 3], [4, 5, 6], [7, 8, 9]])\n",
    "\n",
    "In [73]: arr2d[2]\n",
    "Out[73]: array([7, 8, 9])"
   ]
  },
  {
   "cell_type": "markdown",
   "id": "cfb8115d",
   "metadata": {
    "lines_to_next_cell": 0
   },
   "source": [
    "因此，可以对各个元素进行递归访问，但这样需要做的事情有点多。你可以传入一个以逗号隔开的索引列表来选取单个元素。也就是说，下面两种方式是等价的："
   ]
  },
  {
   "cell_type": "code",
   "execution_count": null,
   "id": "3686482b",
   "metadata": {},
   "outputs": [],
   "source": [
    "In [74]: arr2d[0][2]\n",
    "Out[74]: 3\n",
    "\n",
    "In [75]: arr2d[0, 2]\n",
    "Out[75]: 3"
   ]
  },
  {
   "cell_type": "markdown",
   "id": "a381396c",
   "metadata": {
    "lines_to_next_cell": 0
   },
   "source": [
    "图4-1说明了二维数组的索引方式。轴0作为行，轴1作为列。\n",
    "\n",
    "![图4-1 NumPy数组中的元素索引](./figures/4-1.png)\n",
    "\n",
    "在多维数组中，如果省略了后面的索引，则返回对象会是一个维度低一点的ndarray（它含有高一级维度上的所有数据）。因此，在2×2×3数组arr3d中："
   ]
  },
  {
   "cell_type": "code",
   "execution_count": 13,
   "id": "f39847f0",
   "metadata": {},
   "outputs": [
    {
     "ename": "SyntaxError",
     "evalue": "invalid syntax (3288957607.py, line 4)",
     "output_type": "error",
     "traceback": [
      "\u001b[0;36m  Cell \u001b[0;32mIn[13], line 4\u001b[0;36m\u001b[0m\n\u001b[0;31m    Out[77]:\u001b[0m\n\u001b[0m             ^\u001b[0m\n\u001b[0;31mSyntaxError\u001b[0m\u001b[0;31m:\u001b[0m invalid syntax\n"
     ]
    }
   ],
   "source": [
    "In [76]: arr3d = np.array([[[1, 2, 3], [4, 5, 6]], [[7, 8, 9], [10, 11, 12]]])\n",
    "\n",
    "In [77]: arr3d\n",
    "Out[77]: \n",
    "array([[[ 1,  2,  3],\n",
    "        [ 4,  5,  6]],\n",
    "       [[ 7,  8,  9],\n",
    "        [10, 11, 12]]])"
   ]
  },
  {
   "cell_type": "markdown",
   "id": "e065082b",
   "metadata": {
    "lines_to_next_cell": 0
   },
   "source": [
    "arr3d[0]是一个2×3数组："
   ]
  },
  {
   "cell_type": "code",
   "execution_count": null,
   "id": "831c2ee0",
   "metadata": {},
   "outputs": [],
   "source": [
    "In [78]: arr3d[0]\n",
    "Out[78]: \n",
    "array([[1, 2, 3],\n",
    "       [4, 5, 6]])"
   ]
  },
  {
   "cell_type": "markdown",
   "id": "9d234899",
   "metadata": {
    "lines_to_next_cell": 0
   },
   "source": [
    "标量值和数组都可以被赋值给arr3d[0]："
   ]
  },
  {
   "cell_type": "code",
   "execution_count": null,
   "id": "7390c51c",
   "metadata": {},
   "outputs": [],
   "source": [
    "In [79]: old_values = arr3d[0].copy()\n",
    "\n",
    "In [80]: arr3d[0] = 42\n",
    "\n",
    "In [81]: arr3d\n",
    "Out[81]: \n",
    "array([[[42, 42, 42],\n",
    "        [42, 42, 42]],\n",
    "       [[ 7,  8,  9],\n",
    "        [10, 11, 12]]])\n",
    "\n",
    "In [82]: arr3d[0] = old_values\n",
    "\n",
    "In [83]: arr3d\n",
    "Out[83]: \n",
    "array([[[ 1,  2,  3],\n",
    "        [ 4,  5,  6]],\n",
    "       [[ 7,  8,  9],\n",
    "        [10, 11, 12]]])"
   ]
  },
  {
   "cell_type": "markdown",
   "id": "d8da2877",
   "metadata": {
    "lines_to_next_cell": 0
   },
   "source": [
    "相似的，arr3d[1,0]可以访问索引以(1,0)开头的那些值（以一维数组的形式返回）："
   ]
  },
  {
   "cell_type": "code",
   "execution_count": null,
   "id": "724320b6",
   "metadata": {},
   "outputs": [],
   "source": [
    "In [84]: arr3d[1, 0]\n",
    "Out[84]: array([7, 8, 9])"
   ]
  },
  {
   "cell_type": "markdown",
   "id": "31684ff5",
   "metadata": {
    "lines_to_next_cell": 0
   },
   "source": [
    "虽然是用两步进行索引的，表达式是相同的："
   ]
  },
  {
   "cell_type": "code",
   "execution_count": null,
   "id": "1e1117a0",
   "metadata": {},
   "outputs": [],
   "source": [
    "In [85]: x = arr3d[1]\n",
    "\n",
    "In [86]: x\n",
    "Out[86]: \n",
    "array([[ 7,  8,  9],\n",
    "       [10, 11, 12]])\n",
    "\n",
    "In [87]: x[0]\n",
    "Out[87]: array([7, 8, 9])"
   ]
  },
  {
   "cell_type": "markdown",
   "id": "098fcf31",
   "metadata": {
    "lines_to_next_cell": 0
   },
   "source": [
    "注意，在上面所有这些选取数组子集的例子中，返回的数组都是视图。\n",
    "\n",
    "## 切片索引\n",
    "ndarray的切片语法跟Python列表这样的一维对象差不多："
   ]
  },
  {
   "cell_type": "code",
   "execution_count": null,
   "id": "a618b965",
   "metadata": {},
   "outputs": [],
   "source": [
    "In [88]: arr\n",
    "Out[88]: array([ 0,  1,  2,  3,  4, 64, 64, 64,  8,  9])\n",
    "\n",
    "In [89]: arr[1:6]\n",
    "Out[89]: array([ 1,  2,  3,  4, 64])"
   ]
  },
  {
   "cell_type": "markdown",
   "id": "843b9c1b",
   "metadata": {
    "lines_to_next_cell": 0
   },
   "source": [
    "对于之前的二维数组arr2d，其切片方式稍显不同："
   ]
  },
  {
   "cell_type": "code",
   "execution_count": null,
   "id": "13bd6acc",
   "metadata": {},
   "outputs": [],
   "source": [
    "In [90]: arr2d\n",
    "Out[90]: \n",
    "array([[1, 2, 3],\n",
    "       [4, 5, 6],\n",
    "       [7, 8, 9]])\n",
    "\n",
    "In [91]: arr2d[:2]\n",
    "Out[91]: \n",
    "array([[1, 2, 3],\n",
    "       [4, 5, 6]])"
   ]
  },
  {
   "cell_type": "markdown",
   "id": "e8d40004",
   "metadata": {
    "lines_to_next_cell": 0
   },
   "source": [
    "可以看出，它是沿着第0轴（即第一个轴）切片的。也就是说，切片是沿着一个轴向选取元素的。表达式arr2d[:2]可以被认为是“选取arr2d的前两行”。\n",
    "\n",
    "你可以一次传入多个切片，就像传入多个索引那样："
   ]
  },
  {
   "cell_type": "code",
   "execution_count": null,
   "id": "b1e0271c",
   "metadata": {},
   "outputs": [],
   "source": [
    "In [92]: arr2d[:2, 1:]\n",
    "Out[92]: \n",
    "array([[2, 3],\n",
    "       [5, 6]])"
   ]
  },
  {
   "cell_type": "markdown",
   "id": "f7f4ee0f",
   "metadata": {
    "lines_to_next_cell": 0
   },
   "source": [
    "像这样进行切片时，只能得到相同维数的数组视图。通过将整数索引和切片混合，可以得到低维度的切片。\n",
    "\n",
    "例如，我可以选取第二行的前两列："
   ]
  },
  {
   "cell_type": "code",
   "execution_count": null,
   "id": "54a0f6f4",
   "metadata": {},
   "outputs": [],
   "source": [
    "In [93]: arr2d[1, :2]\n",
    "Out[93]: array([4, 5])"
   ]
  },
  {
   "cell_type": "markdown",
   "id": "dece37e7",
   "metadata": {
    "lines_to_next_cell": 0
   },
   "source": [
    "相似的，还可以选择第三列的前两行："
   ]
  },
  {
   "cell_type": "code",
   "execution_count": null,
   "id": "9dd31996",
   "metadata": {},
   "outputs": [],
   "source": [
    "In [94]: arr2d[:2, 2]\n",
    "Out[94]: array([3, 6])"
   ]
  },
  {
   "cell_type": "markdown",
   "id": "4a3d8bd7",
   "metadata": {
    "lines_to_next_cell": 0
   },
   "source": [
    "图4-2对此进行了说明。注意，“只有冒号”表示选取整个轴，因此你可以像下面这样只对高维轴进行切片："
   ]
  },
  {
   "cell_type": "code",
   "execution_count": null,
   "id": "db18181c",
   "metadata": {},
   "outputs": [],
   "source": [
    "In [95]: arr2d[:, :1]\n",
    "Out[95]: \n",
    "array([[1],\n",
    "       [4],\n",
    "       [7]])"
   ]
  },
  {
   "cell_type": "markdown",
   "id": "c4046e70",
   "metadata": {},
   "source": [
    "![图4-2 维数组切片](./figures/4-2.png)"
   ]
  },
  {
   "cell_type": "markdown",
   "id": "1eb40708",
   "metadata": {
    "lines_to_next_cell": 0
   },
   "source": [
    "自然，对切片表达式的赋值操作也会被扩散到整个选区："
   ]
  },
  {
   "cell_type": "code",
   "execution_count": null,
   "id": "84975970",
   "metadata": {},
   "outputs": [],
   "source": [
    "In [96]: arr2d[:2, 1:] = 0\n",
    "\n",
    "In [97]: arr2d\n",
    "Out[97]: \n",
    "array([[1, 0, 0],\n",
    "       [4, 0, 0],\n",
    "       [7, 8, 9]])"
   ]
  },
  {
   "cell_type": "markdown",
   "id": "0de7f9bc",
   "metadata": {
    "lines_to_next_cell": 0
   },
   "source": [
    "## 布尔型索引\n",
    "来看这样一个例子，假设我们有一个用于存储数据的数组以及一个存储姓名的数组（含有重复项）。在这里，我将使用numpy.random中的randn函数生成一些正态分布的随机数据："
   ]
  },
  {
   "cell_type": "code",
   "execution_count": null,
   "id": "4606fe8c",
   "metadata": {},
   "outputs": [],
   "source": [
    "In [98]: names = np.array(['Bob', 'Joe', 'Will', 'Bob', 'Will', 'Joe', 'Joe'])\n",
    "\n",
    "In [99]: data = np.random.randn(7, 4)\n",
    "\n",
    "In [100]: names\n",
    "Out[100]: \n",
    "array(['Bob', 'Joe', 'Will', 'Bob', 'Will', 'Joe', 'Joe'],\n",
    "      dtype='<U4')\n",
    "\n",
    "In [101]: data\n",
    "Out[101]: \n",
    "array([[ 0.0929,  0.2817,  0.769 ,  1.2464],\n",
    "       [ 1.0072, -1.2962,  0.275 ,  0.2289],\n",
    "       [ 1.3529,  0.8864, -2.0016, -0.3718],\n",
    "       [ 1.669 , -0.4386, -0.5397,  0.477 ],\n",
    "       [ 3.2489, -1.0212, -0.5771,  0.1241],\n",
    "       [ 0.3026,  0.5238,  0.0009,  1.3438],\n",
    "       [-0.7135, -0.8312, -2.3702, -1.8608]])"
   ]
  },
  {
   "cell_type": "markdown",
   "id": "f1993898",
   "metadata": {
    "lines_to_next_cell": 0
   },
   "source": [
    "假设每个名字都对应data数组中的一行，而我们想要选出对应于名字\"Bob\"的所有行。跟算术运算一样，数组的比较运算（如==）也是矢量化的。因此，对names和字符串\"Bob\"的比较运算将会产生一个布尔型数组："
   ]
  },
  {
   "cell_type": "code",
   "execution_count": null,
   "id": "375186c1",
   "metadata": {},
   "outputs": [],
   "source": [
    "In [102]: names == 'Bob'\n",
    "Out[102]: array([ True, False, False,  True, False, False, False], dtype=bool)"
   ]
  },
  {
   "cell_type": "markdown",
   "id": "0da725a7",
   "metadata": {
    "lines_to_next_cell": 0
   },
   "source": [
    "这个布尔型数组可用于数组索引："
   ]
  },
  {
   "cell_type": "code",
   "execution_count": null,
   "id": "30882337",
   "metadata": {},
   "outputs": [],
   "source": [
    "In [103]: data[names == 'Bob']\n",
    "Out[103]: \n",
    "array([[ 0.0929,  0.2817,  0.769 ,  1.2464],\n",
    "       [ 1.669 , -0.4386, -0.5397,  0.477 ]])"
   ]
  },
  {
   "cell_type": "markdown",
   "id": "debc0bce",
   "metadata": {
    "lines_to_next_cell": 0
   },
   "source": [
    "布尔型数组的长度必须跟被索引的轴长度一致。此外，还可以将布尔型数组跟切片、整数（或整数序列，稍后将对此进行详细讲解）混合使用："
   ]
  },
  {
   "cell_type": "code",
   "execution_count": null,
   "id": "21e6f256",
   "metadata": {},
   "outputs": [],
   "source": [
    "In [103]: data[names == 'Bob']\n",
    "Out[103]: \n",
    "array([[ 0.0929,  0.2817,  0.769 ,  1.2464],\n",
    "       [ 1.669 , -0.4386, -0.5397,  0.477 ]])"
   ]
  },
  {
   "cell_type": "markdown",
   "id": "3bb4f4d9",
   "metadata": {
    "lines_to_next_cell": 0
   },
   "source": [
    ">注意：如果布尔型数组的长度不对，布尔型选择就会出错，因此一定要小心。\n",
    "\n",
    "下面的例子，我选取了``names == 'Bob'``的行，并索引了列："
   ]
  },
  {
   "cell_type": "code",
   "execution_count": null,
   "id": "b7c83353",
   "metadata": {},
   "outputs": [],
   "source": [
    "In [104]: data[names == 'Bob', 2:]\n",
    "Out[104]: \n",
    "array([[ 0.769 ,  1.2464],\n",
    "       [-0.5397,  0.477 ]])\n",
    "\n",
    "In [105]: data[names == 'Bob', 3]\n",
    "Out[105]: array([ 1.2464,  0.477 ])"
   ]
  },
  {
   "cell_type": "markdown",
   "id": "20e0b0b1",
   "metadata": {
    "lines_to_next_cell": 0
   },
   "source": [
    "要选择除\"Bob\"以外的其他值，既可以使用不等于符号（!=），也可以通过~对条件进行否定："
   ]
  },
  {
   "cell_type": "code",
   "execution_count": null,
   "id": "26aa12c0",
   "metadata": {},
   "outputs": [],
   "source": [
    "In [106]: names != 'Bob'\n",
    "Out[106]: array([False,  True,  True, False,  True,  True,  True], dtype=bool)\n",
    "\n",
    "In [107]: data[~(names == 'Bob')]\n",
    "Out[107]:\n",
    "array([[ 1.0072, -1.2962,  0.275 ,  0.2289],\n",
    "       [ 1.3529,  0.8864, -2.0016, -0.3718],\n",
    "       [ 3.2489, -1.0212, -0.5771,  0.1241],\n",
    "       [ 0.3026,  0.5238,  0.0009,  1.3438],\n",
    "       [-0.7135, -0.8312, -2.3702, -1.8608]])"
   ]
  },
  {
   "cell_type": "markdown",
   "id": "c99ef2fd",
   "metadata": {
    "lines_to_next_cell": 0
   },
   "source": [
    "~操作符用来反转条件很好用："
   ]
  },
  {
   "cell_type": "code",
   "execution_count": null,
   "id": "ac460dd8",
   "metadata": {},
   "outputs": [],
   "source": [
    "In [108]: cond = names == 'Bob'\n",
    "\n",
    "In [109]: data[~cond]\n",
    "Out[109]: \n",
    "array([[ 1.0072, -1.2962,  0.275 ,  0.2289],\n",
    "       [ 1.3529,  0.8864, -2.0016, -0.3718],\n",
    "       [ 3.2489, -1.0212, -0.5771,  0.1241],\n",
    "       [ 0.3026,  0.5238,  0.0009,  1.3438],\n",
    "       [-0.7135, -0.8312, -2.3702, -1.8608]])"
   ]
  },
  {
   "cell_type": "markdown",
   "id": "2a38bb4e",
   "metadata": {
    "lines_to_next_cell": 0
   },
   "source": [
    "选取这三个名字中的两个需要组合应用多个布尔条件，使用&（和）、|（或）之类的布尔算术运算符即可："
   ]
  },
  {
   "cell_type": "code",
   "execution_count": null,
   "id": "30adeced",
   "metadata": {},
   "outputs": [],
   "source": [
    "In [110]: mask = (names == 'Bob') | (names == 'Will')\n",
    "\n",
    "In [111]: mask\n",
    "Out[111]: array([ True, False,  True,  True,  True, False, False], dtype=bool)\n",
    "\n",
    "In [112]: data[mask]\n",
    "Out[112]: \n",
    "array([[ 0.0929,  0.2817,  0.769 ,  1.2464],\n",
    "       [ 1.3529,  0.8864, -2.0016, -0.3718],\n",
    "       [ 1.669 , -0.4386, -0.5397,  0.477 ],\n",
    "       [ 3.2489, -1.0212, -0.5771,  0.1241]])"
   ]
  },
  {
   "cell_type": "markdown",
   "id": "86e5439c",
   "metadata": {
    "lines_to_next_cell": 0
   },
   "source": [
    "通过布尔型索引选取数组中的数据，将总是创建数据的副本，即使返回一模一样的数组也是如此。\n",
    "\n",
    ">注意：Python关键字and和or在布尔型数组中无效。要使用&与|。\n",
    "\n",
    "通过布尔型数组设置值是一种经常用到的手段。为了将data中的所有负值都设置为0，我们只需："
   ]
  },
  {
   "cell_type": "code",
   "execution_count": null,
   "id": "847308ba",
   "metadata": {},
   "outputs": [],
   "source": [
    "In [113]: data[data < 0] = 0\n",
    "\n",
    "In [114]: data\n",
    "Out[114]: \n",
    "array([[ 0.0929,  0.2817,  0.769 ,  1.2464],\n",
    "       [ 1.0072,  0.    ,  0.275 ,  0.2289],\n",
    "       [ 1.3529,  0.8864,  0.    ,  0.    ],\n",
    "       [ 1.669 ,  0.    ,  0.    ,  0.477 ],\n",
    "       [ 3.2489,  0.    ,  0.    ,  0.1241],\n",
    "       [ 0.3026,  0.5238,  0.0009,  1.3438],\n",
    "       [ 0.    ,  0.    ,  0.    ,  0.    ]])"
   ]
  },
  {
   "cell_type": "markdown",
   "id": "5f0e04e1",
   "metadata": {
    "lines_to_next_cell": 0
   },
   "source": [
    "通过一维布尔数组设置整行或列的值也很简单："
   ]
  },
  {
   "cell_type": "code",
   "execution_count": null,
   "id": "2e37aad1",
   "metadata": {},
   "outputs": [],
   "source": [
    "In [115]: data[names != 'Joe'] = 7\n",
    "\n",
    "In [116]: data\n",
    "Out[116]: \n",
    "array([[ 7.    ,  7.    ,  7.    ,  7.    ],\n",
    "       [ 1.0072,  0.    ,  0.275 ,  0.2289],\n",
    "       [ 7.    ,  7.    ,  7.    ,  7.    ],\n",
    "       [ 7.    ,  7.    ,  7.    ,  7.    ],\n",
    "       [ 7.    ,  7.    ,  7.    ,  7.    ],\n",
    "       [ 0.3026,  0.5238,  0.0009,  1.3438],\n",
    "       [ 0.    ,  0.    ,  0.    ,  0.    ]])"
   ]
  },
  {
   "cell_type": "markdown",
   "id": "09052565",
   "metadata": {
    "lines_to_next_cell": 0
   },
   "source": [
    "后面会看到，这类二维数据的操作也可以用pandas方便的来做。\n",
    "\n",
    "## 花式索引\n",
    "花式索引（Fancy indexing）是一个NumPy术语，它指的是利用整数数组进行索引。假设我们有一个8×4数组："
   ]
  },
  {
   "cell_type": "code",
   "execution_count": null,
   "id": "9654cb36",
   "metadata": {},
   "outputs": [],
   "source": [
    "In [117]: arr = np.empty((8, 4))\n",
    "\n",
    "In [118]: for i in range(8):\n",
    "   .....:     arr[i] = i\n",
    "\n",
    "In [119]: arr\n",
    "Out[119]: \n",
    "array([[ 0.,  0.,  0.,  0.],\n",
    "       [ 1.,  1.,  1.,  1.],\n",
    "       [ 2.,  2.,  2.,  2.],\n",
    "       [ 3.,  3.,  3.,  3.],\n",
    "       [ 4.,  4.,  4.,  4.],\n",
    "       [ 5.,  5.,  5.,  5.],\n",
    "       [ 6.,  6.,  6.,  6.],\n",
    "       [ 7.,  7.,  7.,  7.]])"
   ]
  },
  {
   "cell_type": "markdown",
   "id": "adfc232d",
   "metadata": {
    "lines_to_next_cell": 0
   },
   "source": [
    "为了以特定顺序选取行子集，只需传入一个用于指定顺序的整数列表或ndarray即可："
   ]
  },
  {
   "cell_type": "code",
   "execution_count": null,
   "id": "1d3bece8",
   "metadata": {},
   "outputs": [],
   "source": [
    "In [120]: arr[[4, 3, 0, 6]]\n",
    "Out[120]: \n",
    "array([[ 4.,  4.,  4.,  4.],\n",
    "       [ 3.,  3.,  3.,  3.],\n",
    "       [ 0.,  0.,  0.,  0.],\n",
    "       [ 6.,  6.,  6.,  6.]])"
   ]
  },
  {
   "cell_type": "markdown",
   "id": "3499c8bd",
   "metadata": {
    "lines_to_next_cell": 0
   },
   "source": [
    "这段代码确实达到我们的要求了！使用负数索引将会从末尾开始选取行："
   ]
  },
  {
   "cell_type": "code",
   "execution_count": null,
   "id": "a8b91f64",
   "metadata": {},
   "outputs": [],
   "source": [
    "In [121]: arr[[-3, -5, -7]]\n",
    "Out[121]: \n",
    "array([[ 5.,  5.,  5.,  5.],\n",
    "       [ 3.,  3.,  3.,  3.],\n",
    "       [ 1.,  1.,  1.,  1.]])"
   ]
  },
  {
   "cell_type": "markdown",
   "id": "e14dec4b",
   "metadata": {
    "lines_to_next_cell": 0
   },
   "source": [
    "一次传入多个索引数组会有一点特别。它返回的是一个一维数组，其中的元素对应各个索引元组："
   ]
  },
  {
   "cell_type": "code",
   "execution_count": null,
   "id": "e2277746",
   "metadata": {},
   "outputs": [],
   "source": [
    "In [122]: arr = np.arange(32).reshape((8, 4))\n",
    "\n",
    "In [123]: arr\n",
    "Out[123]: \n",
    "array([[ 0,  1,  2,  3],\n",
    "       [ 4,  5,  6,  7],\n",
    "       [ 8,  9, 10, 11],\n",
    "       [12, 13, 14, 15],\n",
    "       [16, 17, 18, 19],\n",
    "       [20, 21, 22, 23],\n",
    "       [24, 25, 26, 27],\n",
    "       [28, 29, 30, 31]])\n",
    "\n",
    "In [124]: arr[[1, 5, 7, 2], [0, 3, 1, 2]]\n",
    "Out[124]: array([ 4, 23, 29, 10])"
   ]
  },
  {
   "cell_type": "markdown",
   "id": "f49923ba",
   "metadata": {
    "lines_to_next_cell": 0
   },
   "source": [
    "附录A中会详细介绍reshape方法。\n",
    "\n",
    "最终选出的是元素(1,0)、(5,3)、(7,1)和(2,2)。无论数组是多少维的，花式索引总是一维的。\n",
    "\n",
    "这个花式索引的行为可能会跟某些用户的预期不一样（包括我在内），选取矩阵的行列子集应该是矩形区域的形式才对。下面是得到该结果的一个办法："
   ]
  },
  {
   "cell_type": "code",
   "execution_count": null,
   "id": "fea1d379",
   "metadata": {},
   "outputs": [],
   "source": [
    "In [125]: arr[[1, 5, 7, 2]][:, [0, 3, 1, 2]]\n",
    "Out[125]: \n",
    "array([[ 4,  7,  5,  6],\n",
    "       [20, 23, 21, 22],\n",
    "       [28, 31, 29, 30],\n",
    "       [ 8, 11,  9, 10]])"
   ]
  },
  {
   "cell_type": "markdown",
   "id": "737b2e79",
   "metadata": {
    "lines_to_next_cell": 0
   },
   "source": [
    "记住，花式索引跟切片不一样，它总是将数据复制到新数组中。\n",
    "\n",
    "## 数组转置和轴对换\n",
    "转置是重塑的一种特殊形式，它返回的是源数据的视图（不会进行任何复制操作）。数组不仅有transpose方法，还有一个特殊的T属性："
   ]
  },
  {
   "cell_type": "code",
   "execution_count": null,
   "id": "3c7a0e59",
   "metadata": {},
   "outputs": [],
   "source": [
    "In [126]: arr = np.arange(15).reshape((3, 5))\n",
    "\n",
    "In [127]: arr\n",
    "Out[127]: \n",
    "array([[ 0,  1,  2,  3,  4],\n",
    "       [ 5,  6,  7,  8,  9],\n",
    "       [10, 11, 12, 13, 14]])\n",
    "\n",
    "In [128]: arr.T\n",
    "Out[128]: \n",
    "array([[ 0,  5, 10],\n",
    "       [ 1,  6, 11],\n",
    "       [ 2,  7, 12],\n",
    "       [ 3,  8, 13],\n",
    "       [ 4,  9, 14]])"
   ]
  },
  {
   "cell_type": "markdown",
   "id": "5067a643",
   "metadata": {
    "lines_to_next_cell": 0
   },
   "source": [
    "在进行矩阵计算时，经常需要用到该操作，比如利用np.dot计算矩阵内积："
   ]
  },
  {
   "cell_type": "code",
   "execution_count": null,
   "id": "a9736037",
   "metadata": {},
   "outputs": [],
   "source": [
    "In [129]: arr = np.random.randn(6, 3)\n",
    "\n",
    "In [130]: arr\n",
    "Out[130]: \n",
    "array([[-0.8608,  0.5601, -1.2659],\n",
    "       [ 0.1198, -1.0635,  0.3329],\n",
    "       [-2.3594, -0.1995, -1.542 ],\n",
    "       [-0.9707, -1.307 ,  0.2863],\n",
    "       [ 0.378 , -0.7539,  0.3313],\n",
    "       [ 1.3497,  0.0699,  0.2467]])\n",
    "\n",
    "In [131]: np.dot(arr.T, arr)\n",
    "Out[131]:\n",
    "array([[ 9.2291,  0.9394,  4.948 ],\n",
    "       [ 0.9394,  3.7662, -1.3622],\n",
    "       [ 4.948 , -1.3622,  4.3437]])"
   ]
  },
  {
   "cell_type": "markdown",
   "id": "5b39c64a",
   "metadata": {
    "lines_to_next_cell": 0
   },
   "source": [
    "对于高维数组，transpose需要得到一个由轴编号组成的元组才能对这些轴进行转置（比较费脑子）："
   ]
  },
  {
   "cell_type": "code",
   "execution_count": null,
   "id": "3e86a462",
   "metadata": {},
   "outputs": [],
   "source": [
    "In [132]: arr = np.arange(16).reshape((2, 2, 4))\n",
    "\n",
    "In [133]: arr\n",
    "Out[133]: \n",
    "array([[[ 0,  1,  2,  3],\n",
    "        [ 4,  5,  6,  7]],\n",
    "       [[ 8,  9, 10, 11],\n",
    "        [12, 13, 14, 15]]])\n",
    "\n",
    "In [134]: arr.transpose((1, 0, 2))\n",
    "Out[134]: \n",
    "array([[[ 0,  1,  2,  3],\n",
    "        [ 8,  9, 10, 11]],\n",
    "       [[ 4,  5,  6,  7],\n",
    "        [12, 13, 14, 15]]])"
   ]
  },
  {
   "cell_type": "markdown",
   "id": "b86eb0d6",
   "metadata": {
    "lines_to_next_cell": 0
   },
   "source": [
    "这里，第一个轴被换成了第二个，第二个轴被换成了第一个，最后一个轴不变。\n",
    "\n",
    "简单的转置可以使用.T，它其实就是进行轴对换而已。ndarray还有一个swapaxes方法，它需要接受一对轴编号："
   ]
  },
  {
   "cell_type": "code",
   "execution_count": null,
   "id": "2b9d490a",
   "metadata": {},
   "outputs": [],
   "source": [
    "In [135]: arr\n",
    "Out[135]: \n",
    "array([[[ 0,  1,  2,  3],\n",
    "        [ 4,  5,  6,  7]],\n",
    "       [[ 8,  9, 10, 11],\n",
    "        [12, 13, 14, 15]]])\n",
    "\n",
    "In [136]: arr.swapaxes(1, 2)\n",
    "Out[136]: \n",
    "array([[[ 0,  4],\n",
    "        [ 1,  5],\n",
    "        [ 2,  6],\n",
    "        [ 3,  7]],\n",
    "       [[ 8, 12],\n",
    "        [ 9, 13],\n",
    "        [10, 14],\n",
    "        [11, 15]]])"
   ]
  },
  {
   "cell_type": "markdown",
   "id": "75752a59",
   "metadata": {
    "lines_to_next_cell": 0
   },
   "source": [
    "swapaxes也是返回源数据的视图（不会进行任何复制操作）。\n",
    "\n",
    "# 4.2 通用函数：快速的元素级数组函数\n",
    "通用函数（即ufunc）是一种对ndarray中的数据执行元素级运算的函数。你可以将其看做简单函数（接受一个或多个标量值，并产生一个或多个标量值）的矢量化包装器。\n",
    "\n",
    "许多ufunc都是简单的元素级变体，如sqrt和exp："
   ]
  },
  {
   "cell_type": "code",
   "execution_count": null,
   "id": "4917c6e9",
   "metadata": {},
   "outputs": [],
   "source": [
    "In [137]: arr = np.arange(10)\n",
    "\n",
    "In [138]: arr\n",
    "Out[138]: array([0, 1, 2, 3, 4, 5, 6, 7, 8, 9])\n",
    "\n",
    "In [139]: np.sqrt(arr)\n",
    "Out[139]: \n",
    "array([ 0.    ,  1.    ,  1.4142,  1.7321,  2.    ,  2.2361,  2.4495,\n",
    "        2.6458,  2.8284,  3.    ])\n",
    "\n",
    "In [140]: np.exp(arr)\n",
    "Out[140]: \n",
    "array([    1.    ,     2.7183,     7.3891,    20.0855,    54.5982,\n",
    "         148.4132,   403.4288,  1096.6332,  2980.958 ,  8103.0839])"
   ]
  },
  {
   "cell_type": "markdown",
   "id": "83db3143",
   "metadata": {
    "lines_to_next_cell": 0
   },
   "source": [
    "这些都是一元（unary）ufunc。另外一些（如add或maximum）接受2个数组（因此也叫二元（binary）ufunc），并返回一个结果数组："
   ]
  },
  {
   "cell_type": "code",
   "execution_count": null,
   "id": "f87b0960",
   "metadata": {},
   "outputs": [],
   "source": [
    "In [141]: x = np.random.randn(8)\n",
    "\n",
    "In [142]: y = np.random.randn(8)\n",
    "\n",
    "In [143]: x\n",
    "Out[143]: \n",
    "array([-0.0119,  1.0048,  1.3272, -0.9193, -1.5491,  0.0222,  0.7584,\n",
    "       -0.6605])\n",
    "\n",
    "In [144]: y\n",
    "Out[144]: \n",
    "array([ 0.8626, -0.01  ,  0.05  ,  0.6702,  0.853 , -0.9559, -0.0235,\n",
    "       -2.3042])\n",
    "\n",
    "In [145]: np.maximum(x, y)\n",
    "Out[145]: \n",
    "array([ 0.8626,  1.0048,  1.3272,  0.6702,  0.853 ,  0.0222,  0.7584,   \n",
    "       -0.6605])"
   ]
  },
  {
   "cell_type": "markdown",
   "id": "c8039305",
   "metadata": {
    "lines_to_next_cell": 0
   },
   "source": [
    "这里，numpy.maximum计算了x和y中元素级别最大的元素。\n",
    "\n",
    "虽然并不常见，但有些ufunc的确可以返回多个数组。modf就是一个例子，它是Python内置函数divmod的矢量化版本，它会返回浮点数数组的小数和整数部分："
   ]
  },
  {
   "cell_type": "code",
   "execution_count": null,
   "id": "4196f7f3",
   "metadata": {},
   "outputs": [],
   "source": [
    "In [146]: arr = np.random.randn(7) * 5\n",
    "\n",
    "In [147]: arr\n",
    "Out[147]: array([-3.2623, -6.0915, -6.663 ,  5.3731,  3.6182,  3.45  ,  5.0077])\n",
    "\n",
    "In [148]: remainder, whole_part = np.modf(arr)\n",
    "\n",
    "In [149]: remainder\n",
    "Out[149]: array([-0.2623, -0.0915, -0.663 ,  0.3731,\n",
    "0.6182,  0.45  ,  0.0077])\n",
    "\n",
    "In [150]: whole_part\n",
    "Out[150]: array([-3., -6., -6.,  5.,  3.,  3.,  5.])"
   ]
  },
  {
   "cell_type": "markdown",
   "id": "62009dbb",
   "metadata": {
    "lines_to_next_cell": 0
   },
   "source": [
    "Ufuncs可以接受一个out可选参数，这样就能在数组原地进行操作："
   ]
  },
  {
   "cell_type": "code",
   "execution_count": null,
   "id": "1fee9829",
   "metadata": {},
   "outputs": [],
   "source": [
    "In [151]: arr\n",
    "Out[151]: array([-3.2623, -6.0915, -6.663 ,  5.3731,  3.6182,  3.45  ,  5.0077])\n",
    "\n",
    "In [152]: np.sqrt(arr)\n",
    "Out[152]: array([    nan,     nan,     nan,  2.318 ,  1.9022,  1.8574,  2.2378])\n",
    "\n",
    "In [153]: np.sqrt(arr, arr)\n",
    "Out[153]: array([    nan,     nan,     nan,  2.318 ,  1.9022,  1.8574,  2.2378])\n",
    "\n",
    "In [154]: arr\n",
    "Out[154]: array([    nan,     nan,     nan,  2.318 ,  1.9022,  1.8574,  2.2378])"
   ]
  },
  {
   "cell_type": "markdown",
   "id": "d72812e3",
   "metadata": {
    "lines_to_next_cell": 0
   },
   "source": [
    "表4-3和表4-4分别列出了一些一元和二元ufunc。\n",
    "\n",
    "![](./figures/t4-2.png)\n",
    "\n",
    "![](./figures/t4-2-1.png)\n",
    "\n",
    "![](./figures/t4-3.png)\n",
    "\n",
    "![](./figures/t4-3-1.png)\n",
    "\n",
    "![](./figures/t4-3-2.png)\n",
    "\n",
    "# 4.3 利用数组进行数据处理\n",
    "NumPy数组使你可以将许多种数据处理任务表述为简洁的数组表达式（否则需要编写循环）。用数组表达式代替循环的做法，通常被称为矢量化。一般来说，矢量化数组运算要比等价的纯Python方式快上一两个数量级（甚至更多），尤其是各种数值计算。在后面内容中（见附录A）我将介绍广播，这是一种针对矢量化计算的强大手段。\n",
    "\n",
    "作为简单的例子，假设我们想要在一组值（网格型）上计算函数``sqrt(x^2+y^2)``。np.meshgrid函数接受两个一维数组，并产生两个二维矩阵（对应于两个数组中所有的(x,y)对）："
   ]
  },
  {
   "cell_type": "code",
   "execution_count": null,
   "id": "1c983fd1",
   "metadata": {},
   "outputs": [],
   "source": [
    "In [155]: points = np.arange(-5, 5, 0.01) # 1000 equally spaced points\n",
    "\n",
    "In [156]: xs, ys = np.meshgrid(points, points)\n",
    "In [157]: ys\n",
    "Out[157]: \n",
    "array([[-5.  , -5.  , -5.  , ..., -5.  , -5.  , -5.  ],\n",
    "       [-4.99, -4.99, -4.99, ..., -4.99, -4.99, -4.99],\n",
    "       [-4.98, -4.98, -4.98, ..., -4.98, -4.98, -4.98],\n",
    "       ..., \n",
    "       [ 4.97,  4.97,  4.97, ...,  4.97,  4.97,  4.97],\n",
    "       [ 4.98,  4.98,  4.98, ...,  4.98,  4.98,  4.98],\n",
    "       [ 4.99,  4.99,  4.99, ...,  4.99,  4.99,  4.99]])"
   ]
  },
  {
   "cell_type": "markdown",
   "id": "798005a6",
   "metadata": {
    "lines_to_next_cell": 0
   },
   "source": [
    "现在，对该函数的求值运算就好办了，把这两个数组当做两个浮点数那样编写表达式即可："
   ]
  },
  {
   "cell_type": "code",
   "execution_count": 15,
   "id": "54f95025",
   "metadata": {},
   "outputs": [
    {
     "ename": "NameError",
     "evalue": "name 'xs' is not defined",
     "output_type": "error",
     "traceback": [
      "\u001b[0;31m---------------------------------------------------------------------------\u001b[0m",
      "\u001b[0;31mNameError\u001b[0m                                 Traceback (most recent call last)",
      "Cell \u001b[0;32mIn[15], line 1\u001b[0m\n\u001b[0;32m----> 1\u001b[0m z \u001b[38;5;241m=\u001b[39m np\u001b[38;5;241m.\u001b[39msqrt(\u001b[43mxs\u001b[49m \u001b[38;5;241m*\u001b[39m\u001b[38;5;241m*\u001b[39m \u001b[38;5;241m2\u001b[39m \u001b[38;5;241m+\u001b[39m ys \u001b[38;5;241m*\u001b[39m\u001b[38;5;241m*\u001b[39m \u001b[38;5;241m2\u001b[39m)\n\u001b[1;32m      2\u001b[0m z\n",
      "\u001b[0;31mNameError\u001b[0m: name 'xs' is not defined"
     ]
    }
   ],
   "source": [
    "z = np.sqrt(xs ** 2 + ys ** 2)\n",
    "z"
   ]
  },
  {
   "cell_type": "markdown",
   "id": "385de607",
   "metadata": {
    "lines_to_next_cell": 0
   },
   "source": [
    "作为第9章的先导，我用matplotlib创建了这个二维数组的可视化："
   ]
  },
  {
   "cell_type": "code",
   "execution_count": 14,
   "id": "95acaed8",
   "metadata": {},
   "outputs": [
    {
     "ename": "NameError",
     "evalue": "name 'z' is not defined",
     "output_type": "error",
     "traceback": [
      "\u001b[0;31m---------------------------------------------------------------------------\u001b[0m",
      "\u001b[0;31mNameError\u001b[0m                                 Traceback (most recent call last)",
      "Cell \u001b[0;32mIn[14], line 2\u001b[0m\n\u001b[1;32m      1\u001b[0m \u001b[38;5;28;01mimport\u001b[39;00m \u001b[38;5;21;01mmatplotlib\u001b[39;00m\u001b[38;5;21;01m.\u001b[39;00m\u001b[38;5;21;01mpyplot\u001b[39;00m \u001b[38;5;28;01mas\u001b[39;00m \u001b[38;5;21;01mplt\u001b[39;00m\n\u001b[0;32m----> 2\u001b[0m plt\u001b[38;5;241m.\u001b[39mimshow(\u001b[43mz\u001b[49m, cmap\u001b[38;5;241m=\u001b[39mplt\u001b[38;5;241m.\u001b[39mcm\u001b[38;5;241m.\u001b[39mgray); plt\u001b[38;5;241m.\u001b[39mcolorbar()\n\u001b[1;32m      3\u001b[0m plt\u001b[38;5;241m.\u001b[39mtitle(\u001b[38;5;124m\"\u001b[39m\u001b[38;5;124mImage plot of $\u001b[39m\u001b[38;5;124m\\\u001b[39m\u001b[38;5;124msqrt\u001b[39m\u001b[38;5;124m{\u001b[39m\u001b[38;5;124mx^2 + y^2}$ for a grid of values\u001b[39m\u001b[38;5;124m\"\u001b[39m)\n",
      "\u001b[0;31mNameError\u001b[0m: name 'z' is not defined"
     ]
    }
   ],
   "source": [
    " import matplotlib.pyplot as plt\n",
    " plt.imshow(z, cmap=plt.cm.gray); plt.colorbar()\n",
    " plt.title(\"Image plot of $\\sqrt{x^2 + y^2}$ for a grid of values\")"
   ]
  },
  {
   "cell_type": "markdown",
   "id": "5bd83a7d",
   "metadata": {
    "lines_to_next_cell": 0
   },
   "source": [
    "见图4-3。这张图是用matplotlib的imshow函数创建的。\n",
    "\n",
    "![图4-3 根据网格对函数求值的结果](./figures/4-3.png)\n",
    "\n",
    "## 将条件逻辑表述为数组运算\n",
    "numpy.where函数是三元表达式x if condition else y的矢量化版本。假设我们有一个布尔数组和两个值数组："
   ]
  },
  {
   "cell_type": "code",
   "execution_count": null,
   "id": "b41f67e1",
   "metadata": {},
   "outputs": [],
   "source": [
    "In [165]: xarr = np.array([1.1, 1.2, 1.3, 1.4, 1.5])\n",
    "\n",
    "In [166]: yarr = np.array([2.1, 2.2, 2.3, 2.4, 2.5])\n",
    "\n",
    "In [167]: cond = np.array([True, False, True, True, False])"
   ]
  },
  {
   "cell_type": "markdown",
   "id": "6a4b77b2",
   "metadata": {
    "lines_to_next_cell": 0
   },
   "source": [
    "假设我们想要根据cond中的值选取xarr和yarr的值：当cond中的值为True时，选取xarr的值，否则从yarr中选取。列表推导式的写法应该如下所示："
   ]
  },
  {
   "cell_type": "code",
   "execution_count": null,
   "id": "263b4b92",
   "metadata": {},
   "outputs": [],
   "source": [
    "In [168]: result = [(x if c else y)\n",
    "   .....:           for x, y, c in zip(xarr, yarr, cond)]\n",
    "\n",
    "In [169]: result\n",
    "Out[169]: [1.1000000000000001, 2.2000000000000002, 1.3, 1.3999999999999999, 2.5]"
   ]
  },
  {
   "cell_type": "markdown",
   "id": "b3fe9957",
   "metadata": {
    "lines_to_next_cell": 0
   },
   "source": [
    "这有几个问题。第一，它对大数组的处理速度不是很快（因为所有工作都是由纯Python完成的）。第二，无法用于多维数组。若使用np.where，则可以将该功能写得非常简洁："
   ]
  },
  {
   "cell_type": "code",
   "execution_count": null,
   "id": "372f5f0f",
   "metadata": {},
   "outputs": [],
   "source": [
    "In [170]: result = np.where(cond, xarr, yarr)\n",
    "\n",
    "In [171]: result\n",
    "Out[171]: array([ 1.1,  2.2,  1.3,  1.4,  2.5])"
   ]
  },
  {
   "cell_type": "markdown",
   "id": "dbfa4df5",
   "metadata": {
    "lines_to_next_cell": 0
   },
   "source": [
    "np.where的第二个和第三个参数不必是数组，它们都可以是标量值。在数据分析工作中，where通常用于根据另一个数组而产生一个新的数组。假设有一个由随机数据组成的矩阵，你希望将所有正值替换为2，将所有负值替换为－2。若利用np.where，则会非常简单："
   ]
  },
  {
   "cell_type": "code",
   "execution_count": null,
   "id": "8fdbf5e4",
   "metadata": {},
   "outputs": [],
   "source": [
    "In [172]: arr = np.random.randn(4, 4)\n",
    "\n",
    "In [173]: arr\n",
    "Out[173]: \n",
    "array([[-0.5031, -0.6223, -0.9212, -0.7262],\n",
    "       [ 0.2229,  0.0513, -1.1577,  0.8167],\n",
    "       [ 0.4336,  1.0107,  1.8249, -0.9975],\n",
    "       [ 0.8506, -0.1316,  0.9124,  0.1882]])\n",
    "\n",
    "In [174]: arr > 0\n",
    "Out[174]: \n",
    "array([[False, False, False, False],\n",
    "       [ True,  True, False,  True],\n",
    "       [ True,  True,  True, False],\n",
    "       [ True, False,  True,  True]], dtype=bool)\n",
    "\n",
    "In [175]: np.where(arr > 0, 2, -2)\n",
    "Out[175]: \n",
    "array([[-2, -2, -2, -2],\n",
    "       [ 2,  2, -2,  2],\n",
    "       [ 2,  2,  2, -2],\n",
    "       [ 2, -2,  2,  2]])"
   ]
  },
  {
   "cell_type": "markdown",
   "id": "a24ac1aa",
   "metadata": {
    "lines_to_next_cell": 0
   },
   "source": [
    "使用np.where，可以将标量和数组结合起来。例如，我可用常数2替换arr中所有正的值："
   ]
  },
  {
   "cell_type": "code",
   "execution_count": null,
   "id": "758581fe",
   "metadata": {},
   "outputs": [],
   "source": [
    "In [176]: np.where(arr > 0, 2, arr) # set only positive values to 2\n",
    "Out[176]: \n",
    "array([[-0.5031, -0.6223, -0.9212, -0.7262],\n",
    "       [ 2.    ,  2.    , -1.1577,  2.    ],\n",
    "       [ 2.    ,  2.    ,  2.    , -0.9975],\n",
    "       [ 2.    , -0.1316,  2.    ,  2.    ]])"
   ]
  },
  {
   "cell_type": "markdown",
   "id": "c40511c8",
   "metadata": {
    "lines_to_next_cell": 0
   },
   "source": [
    "传递给where的数组大小可以不相等，甚至可以是标量值。\n",
    "\n",
    "## 数学和统计方法\n",
    "可以通过数组上的一组数学函数对整个数组或某个轴向的数据进行统计计算。sum、mean以及标准差std等聚合计算（aggregation，通常叫做约简（reduction））既可以当做数组的实例方法调用，也可以当做顶级NumPy函数使用。\n",
    "\n",
    "这里，我生成了一些正态分布随机数据，然后做了聚类统计："
   ]
  },
  {
   "cell_type": "code",
   "execution_count": null,
   "id": "567c3c71",
   "metadata": {},
   "outputs": [],
   "source": [
    "In [177]: arr = np.random.randn(5, 4)\n",
    "\n",
    "In [178]: arr\n",
    "Out[178]: \n",
    "array([[ 2.1695, -0.1149,  2.0037,  0.0296],\n",
    "       [ 0.7953,  0.1181, -0.7485,  0.585 ],\n",
    "       [ 0.1527, -1.5657, -0.5625, -0.0327],\n",
    "       [-0.929 , -0.4826, -0.0363,  1.0954],\n",
    "       [ 0.9809, -0.5895,  1.5817, -0.5287]])\n",
    "\n",
    "In [179]: arr.mean()\n",
    "Out[179]: 0.19607051119998253\n",
    "\n",
    "In [180]: np.mean(arr)\n",
    "Out[180]: 0.19607051119998253\n",
    "\n",
    "In [181]: arr.sum()\n",
    "Out[181]: 3.9214102239996507"
   ]
  },
  {
   "cell_type": "markdown",
   "id": "9fadf806",
   "metadata": {
    "lines_to_next_cell": 0
   },
   "source": [
    "mean和sum这类的函数可以接受一个axis选项参数，用于计算该轴向上的统计值，最终结果是一个少一维的数组："
   ]
  },
  {
   "cell_type": "code",
   "execution_count": null,
   "id": "decc3779",
   "metadata": {},
   "outputs": [],
   "source": [
    "In [182]: arr.mean(axis=1)\n",
    "Out[182]: array([ 1.022 ,  0.1875, -0.502 , -0.0881,  0.3611])\n",
    "\n",
    "In [183]: arr.sum(axis=0)\n",
    "Out[183]: array([ 3.1693, -2.6345,  2.2381,  1.1486])"
   ]
  },
  {
   "cell_type": "markdown",
   "id": "69b52b3a",
   "metadata": {
    "lines_to_next_cell": 0
   },
   "source": [
    "这里，arr.mean(1)是“计算行的平均值”，arr.sum(0)是“计算每列的和”。\n",
    "\n",
    "其他如cumsum和cumprod之类的方法则不聚合，而是产生一个由中间结果组成的数组："
   ]
  },
  {
   "cell_type": "code",
   "execution_count": null,
   "id": "8b14ea5a",
   "metadata": {},
   "outputs": [],
   "source": [
    "In [184]: arr = np.array([0, 1, 2, 3, 4, 5, 6, 7])\n",
    "\n",
    "In [185]: arr.cumsum()\n",
    "Out[185]: array([ 0,  1,  3,  6, 10, 15, 21, 28])"
   ]
  },
  {
   "cell_type": "markdown",
   "id": "59362236",
   "metadata": {
    "lines_to_next_cell": 0
   },
   "source": [
    "在多维数组中，累加函数（如cumsum）返回的是同样大小的数组，但是会根据每个低维的切片沿着标记轴计算部分聚类："
   ]
  },
  {
   "cell_type": "code",
   "execution_count": null,
   "id": "fe6ac6e5",
   "metadata": {},
   "outputs": [],
   "source": [
    "In [186]: arr = np.array([[0, 1, 2], [3, 4, 5], [6, 7, 8]])\n",
    "\n",
    "In [187]: arr\n",
    "Out[187]: \n",
    "array([[0, 1, 2],\n",
    "       [3, 4, 5],\n",
    "       [6, 7, 8]])\n",
    "\n",
    "In [188]: arr.cumsum(axis=0)\n",
    "Out[188]: \n",
    "array([[ 0,  1,  2],\n",
    "       [ 3,  5,  7],\n",
    "       [ 9, 12, 15]])\n",
    "\n",
    "In [189]: arr.cumprod(axis=1)\n",
    "Out[189]: \n",
    "array([[  0,   0,   0],\n",
    "       [  3,  12,  60],\n",
    "       [  6,  42, 336]])"
   ]
  },
  {
   "cell_type": "markdown",
   "id": "3ec072fe",
   "metadata": {
    "lines_to_next_cell": 0
   },
   "source": [
    "表4-5列出了全部的基本数组统计方法。后续章节中有很多例子都会用到这些方法。\n",
    "\n",
    "![](./figures/t4-5.png)\n",
    "\n",
    "![](./figures/t4-5-1.png)\n",
    "\n",
    "## 用于布尔型数组的方法\n",
    "在上面这些方法中，布尔值会被强制转换为1（True）和0（False）。因此，sum经常被用来对布尔型数组中的True值计数："
   ]
  },
  {
   "cell_type": "code",
   "execution_count": null,
   "id": "4557f9bb",
   "metadata": {},
   "outputs": [],
   "source": [
    "In [190]: arr = np.random.randn(100)\n",
    "\n",
    "In [191]: (arr > 0).sum() # Number of positive values\n",
    "Out[191]: 42"
   ]
  },
  {
   "cell_type": "markdown",
   "id": "23f52476",
   "metadata": {
    "lines_to_next_cell": 0
   },
   "source": [
    "另外还有两个方法any和all，它们对布尔型数组非常有用。any用于测试数组中是否存在一个或多个True，而all则检查数组中所有值是否都是True："
   ]
  },
  {
   "cell_type": "code",
   "execution_count": null,
   "id": "b5087f06",
   "metadata": {},
   "outputs": [],
   "source": [
    "In [192]: bools = np.array([False, False, True, False])\n",
    "\n",
    "In [193]: bools.any()\n",
    "Out[193]: True\n",
    "\n",
    "In [194]: bools.all()\n",
    "Out[194]: False"
   ]
  },
  {
   "cell_type": "markdown",
   "id": "29d95741",
   "metadata": {
    "lines_to_next_cell": 0
   },
   "source": [
    "这两个方法也能用于非布尔型数组，所有非0元素将会被当做True。\n",
    "\n",
    "## 排序\n",
    "跟Python内置的列表类型一样，NumPy数组也可以通过sort方法就地排序："
   ]
  },
  {
   "cell_type": "code",
   "execution_count": null,
   "id": "ae142b8f",
   "metadata": {},
   "outputs": [],
   "source": [
    "In [195]: arr = np.random.randn(6)\n",
    "\n",
    "In [196]: arr\n",
    "Out[196]: array([ 0.6095, -0.4938,  1.24  , -0.1357,  1.43  , -0.8469])\n",
    "\n",
    "In [197]: arr.sort()\n",
    "\n",
    "In [198]: arr\n",
    "Out[198]: array([-0.8469, -0.4938, -0.1357,  0.6095,  1.24  ,  1.43  ])"
   ]
  },
  {
   "cell_type": "markdown",
   "id": "253aa2e6",
   "metadata": {
    "lines_to_next_cell": 0
   },
   "source": [
    "多维数组可以在任何一个轴向上进行排序，只需将轴编号传给sort即可："
   ]
  },
  {
   "cell_type": "code",
   "execution_count": null,
   "id": "f8e70941",
   "metadata": {},
   "outputs": [],
   "source": [
    "In [199]: arr = np.random.randn(5, 3)\n",
    "\n",
    "In [200]: arr\n",
    "Out[200]: \n",
    "array([[ 0.6033,  1.2636, -0.2555],\n",
    "       [-0.4457,  0.4684, -0.9616],\n",
    "       [-1.8245,  0.6254,  1.0229],\n",
    "       [ 1.1074,  0.0909, -0.3501],\n",
    "       [ 0.218 , -0.8948, -1.7415]])\n",
    "\n",
    "In [201]: arr.sort(1)\n",
    "\n",
    "In [202]: arr\n",
    "Out[202]: \n",
    "array([[-0.2555,  0.6033,  1.2636],\n",
    "       [-0.9616, -0.4457,  0.4684],\n",
    "       [-1.8245,  0.6254,  1.0229],\n",
    "       [-0.3501,  0.0909,  1.1074],\n",
    "       [-1.7415, -0.8948,  0.218 ]])"
   ]
  },
  {
   "cell_type": "markdown",
   "id": "669ef418",
   "metadata": {
    "lines_to_next_cell": 0
   },
   "source": [
    "顶级方法np.sort返回的是数组的已排序副本，而就地排序则会修改数组本身。计算数组分位数最简单的办法是对其进行排序，然后选取特定位置的值："
   ]
  },
  {
   "cell_type": "code",
   "execution_count": null,
   "id": "d79e8483",
   "metadata": {},
   "outputs": [],
   "source": [
    "In [203]: large_arr = np.random.randn(1000)\n",
    "\n",
    "In [204]: large_arr.sort()\n",
    "\n",
    "In [205]: large_arr[int(0.05 * len(large_arr))] # 5% quantile\n",
    "Out[205]: -1.5311513550102103"
   ]
  },
  {
   "cell_type": "markdown",
   "id": "c6d604ab",
   "metadata": {
    "lines_to_next_cell": 0
   },
   "source": [
    "更多关于NumPy排序方法以及诸如间接排序之类的高级技术，请参阅附录A。在pandas中还可以找到一些其他跟排序有关的数据操作（比如根据一列或多列对表格型数据进行排序）。\n",
    "\n",
    "## 唯一化以及其它的集合逻辑\n",
    "NumPy提供了一些针对一维ndarray的基本集合运算。最常用的可能要数np.unique了，它用于找出数组中的唯一值并返回已排序的结果："
   ]
  },
  {
   "cell_type": "code",
   "execution_count": null,
   "id": "1e0f7657",
   "metadata": {},
   "outputs": [],
   "source": [
    "In [206]: names = np.array(['Bob', 'Joe', 'Will', 'Bob', 'Will', 'Joe', 'Joe'])\n",
    "\n",
    "In [207]: np.unique(names)\n",
    "Out[207]: \n",
    "array(['Bob', 'Joe', 'Will'],\n",
    "      dtype='<U4')\n",
    "\n",
    "In [208]: ints = np.array([3, 3, 3, 2, 2, 1, 1, 4, 4])\n",
    "\n",
    "In [209]: np.unique(ints)\n",
    "Out[209]: array([1, 2, 3, 4])"
   ]
  },
  {
   "cell_type": "markdown",
   "id": "34e91141",
   "metadata": {
    "lines_to_next_cell": 0
   },
   "source": [
    "拿跟np.unique等价的纯Python代码来对比一下："
   ]
  },
  {
   "cell_type": "code",
   "execution_count": null,
   "id": "464f34a5",
   "metadata": {},
   "outputs": [],
   "source": [
    "In [210]: sorted(set(names))\n",
    "Out[210]: ['Bob', 'Joe', 'Will']"
   ]
  },
  {
   "cell_type": "markdown",
   "id": "b1921f89",
   "metadata": {
    "lines_to_next_cell": 0
   },
   "source": [
    "另一个函数np.in1d用于测试一个数组中的值在另一个数组中的成员资格，返回一个布尔型数组："
   ]
  },
  {
   "cell_type": "code",
   "execution_count": null,
   "id": "315ca5b9",
   "metadata": {},
   "outputs": [],
   "source": [
    "In [211]: values = np.array([6, 0, 0, 3, 2, 5, 6])\n",
    "\n",
    "In [212]: np.in1d(values, [2, 3, 6])\n",
    "Out[212]: array([ True, False, False,  True,  True, False,  True], dtype=bool)"
   ]
  },
  {
   "cell_type": "markdown",
   "id": "5793aa1b",
   "metadata": {
    "lines_to_next_cell": 0
   },
   "source": [
    "NumPy中的集合函数请参见表4-6。\n",
    "![](./figures/t4-6.png)\n",
    "\n",
    "# 4.4 用于数组的文件输入输出\n",
    "NumPy能够读写磁盘上的文本数据或二进制数据。这一小节只讨论NumPy的内置二进制格式，因为更多的用户会使用pandas或其它工具加载文本或表格数据（见第6章）。\n",
    "\n",
    "np.save和np.load是读写磁盘数组数据的两个主要函数。默认情况下，数组是以未压缩的原始二进制格式保存在扩展名为.npy的文件中的："
   ]
  },
  {
   "cell_type": "code",
   "execution_count": null,
   "id": "98041b29",
   "metadata": {},
   "outputs": [],
   "source": [
    "In [213]: arr = np.arange(10)\n",
    "\n",
    "In [214]: np.save('some_array', arr)"
   ]
  },
  {
   "cell_type": "markdown",
   "id": "f85b3c82",
   "metadata": {
    "lines_to_next_cell": 0
   },
   "source": [
    "如果文件路径末尾没有扩展名.npy，则该扩展名会被自动加上。然后就可以通过np.load读取磁盘上的数组："
   ]
  },
  {
   "cell_type": "code",
   "execution_count": null,
   "id": "00693087",
   "metadata": {},
   "outputs": [],
   "source": [
    "In [215]: np.load('some_array.npy')\n",
    "Out[215]: array([0, 1, 2, 3, 4, 5, 6, 7, 8, 9])"
   ]
  },
  {
   "cell_type": "markdown",
   "id": "09a05440",
   "metadata": {
    "lines_to_next_cell": 0
   },
   "source": [
    "通过np.savez可以将多个数组保存到一个未压缩文件中，将数组以关键字参数的形式传入即可："
   ]
  },
  {
   "cell_type": "code",
   "execution_count": null,
   "id": "d3817542",
   "metadata": {},
   "outputs": [],
   "source": [
    "In [216]: np.savez('array_archive.npz', a=arr, b=arr)"
   ]
  },
  {
   "cell_type": "markdown",
   "id": "d14a5ad1",
   "metadata": {
    "lines_to_next_cell": 0
   },
   "source": [
    "加载.npz文件时，你会得到一个类似字典的对象，该对象会对各个数组进行延迟加载："
   ]
  },
  {
   "cell_type": "code",
   "execution_count": null,
   "id": "41e67a9b",
   "metadata": {},
   "outputs": [],
   "source": [
    "In [217]: arch = np.load('array_archive.npz')\n",
    "\n",
    "In [218]: arch['b']\n",
    "Out[218]: array([0, 1, 2, 3, 4, 5, 6, 7, 8, 9])"
   ]
  },
  {
   "cell_type": "markdown",
   "id": "02297395",
   "metadata": {
    "lines_to_next_cell": 0
   },
   "source": [
    "如果要将数据压缩，可以使用numpy.savez_compressed："
   ]
  },
  {
   "cell_type": "code",
   "execution_count": null,
   "id": "9634d932",
   "metadata": {},
   "outputs": [],
   "source": [
    "In [219]: np.savez_compressed('arrays_compressed.npz', a=arr, b=arr)"
   ]
  },
  {
   "cell_type": "markdown",
   "id": "ef607e07",
   "metadata": {
    "lines_to_next_cell": 0
   },
   "source": [
    "# 4.5 线性代数\n",
    "线性代数（如矩阵乘法、矩阵分解、行列式以及其他方阵数学等）是任何数组库的重要组成部分。不像某些语言（如MATLAB），通过*对两个二维数组相乘得到的是一个元素级的积，而不是一个矩阵点积。因此，NumPy提供了一个用于矩阵乘法的dot函数（既是一个数组方法也是numpy命名空间中的一个函数）："
   ]
  },
  {
   "cell_type": "code",
   "execution_count": null,
   "id": "f93ef54e",
   "metadata": {},
   "outputs": [],
   "source": [
    "In [223]: x = np.array([[1., 2., 3.], [4., 5., 6.]])\n",
    "\n",
    "In [224]: y = np.array([[6., 23.], [-1, 7], [8, 9]])\n",
    "\n",
    "In [225]: x\n",
    "Out[225]: \n",
    "array([[ 1.,  2.,  3.],\n",
    "       [ 4.,  5.,  6.]])\n",
    "\n",
    "In [226]: y\n",
    "Out[226]: \n",
    "array([[  6.,  23.],\n",
    "       [ -1.,   7.],\n",
    "       [  8.,   9.]])\n",
    "\n",
    "In [227]: x.dot(y)\n",
    "Out[227]: \n",
    "array([[  28.,   64.],\n",
    "       [  67.,  181.]])"
   ]
  },
  {
   "cell_type": "markdown",
   "id": "6f76e6e2",
   "metadata": {
    "lines_to_next_cell": 0
   },
   "source": [
    "x.dot(y)等价于np.dot(x, y)："
   ]
  },
  {
   "cell_type": "code",
   "execution_count": null,
   "id": "0899b672",
   "metadata": {},
   "outputs": [],
   "source": [
    "In [228]: np.dot(x, y)\n",
    "Out[228]: \n",
    "array([[  28.,   64.],\n",
    "       [  67.,  181.]])"
   ]
  },
  {
   "cell_type": "markdown",
   "id": "dec23ba1",
   "metadata": {
    "lines_to_next_cell": 0
   },
   "source": [
    "一个二维数组跟一个大小合适的一维数组的矩阵点积运算之后将会得到一个一维数组："
   ]
  },
  {
   "cell_type": "code",
   "execution_count": null,
   "id": "3d1d55f6",
   "metadata": {},
   "outputs": [],
   "source": [
    "In [229]: np.dot(x, np.ones(3))\n",
    "Out[229]: array([  6.,  15.])"
   ]
  },
  {
   "cell_type": "markdown",
   "id": "9ed07e9d",
   "metadata": {
    "lines_to_next_cell": 0
   },
   "source": [
    "@符（类似Python 3.5）也可以用作中缀运算符，进行矩阵乘法："
   ]
  },
  {
   "cell_type": "code",
   "execution_count": null,
   "id": "9faa67a6",
   "metadata": {},
   "outputs": [],
   "source": [
    "In [230]: x @ np.ones(3)\n",
    "Out[230]: array([  6.,  15.])"
   ]
  },
  {
   "cell_type": "markdown",
   "id": "85971e92",
   "metadata": {
    "lines_to_next_cell": 0
   },
   "source": [
    "numpy.linalg中有一组标准的矩阵分解运算以及诸如求逆和行列式之类的东西。它们跟MATLAB和R等语言所使用的是相同的行业标准线性代数库，如BLAS、LAPACK、Intel MKL（Math Kernel Library，可能有，取决于你的NumPy版本）等："
   ]
  },
  {
   "cell_type": "code",
   "execution_count": null,
   "id": "86047f1d",
   "metadata": {},
   "outputs": [],
   "source": [
    "In [231]: from numpy.linalg import inv, qr\n",
    "\n",
    "In [232]: X = np.random.randn(5, 5)\n",
    "\n",
    "In [233]: mat = X.T.dot(X)\n",
    "\n",
    "In [234]: inv(mat)\n",
    "Out[234]: \n",
    "array([[  933.1189,   871.8258, -1417.6902, -1460.4005,  1782.1391],\n",
    "       [  871.8258,   815.3929, -1325.9965, -1365.9242,  1666.9347],\n",
    "       [-1417.6902, -1325.9965,  2158.4424,  2222.0191, -2711.6822],\n",
    "       [-1460.4005, -1365.9242,  2222.0191,  2289.0575, -2793.422 ],\n",
    "       [ 1782.1391,  1666.9347, -2711.6822, -2793.422 ,  3409.5128]])\n",
    "\n",
    "In [235]: mat.dot(inv(mat))\n",
    "Out[235]: \n",
    "array([[ 1.,  0., -0., -0., -0.],\n",
    "       [-0.,  1.,  0.,  0.,  0.],\n",
    "       [ 0.,  0.,  1.,  0.,  0.],\n",
    "       [-0.,  0.,  0.,  1., -0.],\n",
    "       [-0.,  0.,  0.,  0.,  1.]])\n",
    "\n",
    "In [236]: q, r = qr(mat)\n",
    "\n",
    "In [237]: r\n",
    "Out[237]: \n",
    "array([[-1.6914,  4.38  ,  0.1757,  0.4075, -0.7838],\n",
    "       [ 0.    , -2.6436,  0.1939, -3.072 , -1.0702],\n",
    "       [ 0.    ,  0.    , -0.8138,  1.5414,  0.6155],\n",
    "       [ 0.    ,  0.    ,  0.    , -2.6445, -2.1669],\n",
    "       [ 0.    ,  0.    ,  0.    ,  0.    ,  0.0002]])"
   ]
  },
  {
   "cell_type": "markdown",
   "id": "79b9e7c3",
   "metadata": {
    "lines_to_next_cell": 0
   },
   "source": [
    "表达式X.T.dot(X)计算X和它的转置X.T的点积。\n",
    "\n",
    "表4-7中列出了一些最常用的线性代数函数。\n",
    "\n",
    "![](./figures/t4-7.png)\n",
    "\n",
    "# 4.6 伪随机数生成\n",
    "numpy.random模块对Python内置的random进行了补充，增加了一些用于高效生成多种概率分布的样本值的函数。例如，你可以用normal来得到一个标准正态分布的4×4样本数组："
   ]
  },
  {
   "cell_type": "code",
   "execution_count": null,
   "id": "e1b746d2",
   "metadata": {},
   "outputs": [],
   "source": [
    "In [238]: samples = np.random.normal(size=(4, 4))\n",
    "\n",
    "In [239]: samples\n",
    "Out[239]: \n",
    "array([[ 0.5732,  0.1933,  0.4429,  1.2796],\n",
    "       [ 0.575 ,  0.4339, -0.7658, -1.237 ],\n",
    "       [-0.5367,  1.8545, -0.92  , -0.1082],\n",
    "       [ 0.1525,  0.9435, -1.0953, -0.144 ]])"
   ]
  },
  {
   "cell_type": "markdown",
   "id": "8d60be09",
   "metadata": {
    "lines_to_next_cell": 0
   },
   "source": [
    "而Python内置的random模块则只能一次生成一个样本值。从下面的测试结果中可以看出，如果需要产生大量样本值，numpy.random快了不止一个数量级："
   ]
  },
  {
   "cell_type": "code",
   "execution_count": null,
   "id": "a08ba2ae",
   "metadata": {},
   "outputs": [],
   "source": [
    "In [240]: from random import normalvariate\n",
    "\n",
    "In [241]: N = 1000000\n",
    "\n",
    "In [242]: %timeit samples = [normalvariate(0, 1) for _ in range(N)]\n",
    "1.77 s +- 126 ms per loop (mean +- std. dev. of 7 runs, 1 loop each)\n",
    "\n",
    "In [243]: %timeit np.random.normal(size=N)\n",
    "61.7 ms +- 1.32 ms per loop (mean +- std. dev. of 7 runs, 10 loops each)"
   ]
  },
  {
   "cell_type": "markdown",
   "id": "a714e3dd",
   "metadata": {
    "lines_to_next_cell": 0
   },
   "source": [
    "我们说这些都是伪随机数，是因为它们都是通过算法基于随机数生成器种子，在确定性的条件下生成的。你可以用NumPy的np.random.seed更改随机数生成种子："
   ]
  },
  {
   "cell_type": "code",
   "execution_count": null,
   "id": "c05f6e8f",
   "metadata": {},
   "outputs": [],
   "source": [
    "In [244]: np.random.seed(1234)"
   ]
  },
  {
   "cell_type": "markdown",
   "id": "56240451",
   "metadata": {
    "lines_to_next_cell": 0
   },
   "source": [
    "numpy.random的数据生成函数使用了全局的随机种子。要避免全局状态，你可以使用numpy.random.RandomState，创建一个与其它隔离的随机数生成器："
   ]
  },
  {
   "cell_type": "code",
   "execution_count": null,
   "id": "6ff3dc01",
   "metadata": {},
   "outputs": [],
   "source": [
    "In [245]: rng = np.random.RandomState(1234)\n",
    "\n",
    "In [246]: rng.randn(10)\n",
    "Out[246]: \n",
    "array([ 0.4714, -1.191 ,  1.4327, -0.3127, -0.7206,  0.8872,  0.8596,\n",
    "       -0.6365,  0.0157, -2.2427])"
   ]
  },
  {
   "cell_type": "markdown",
   "id": "da6a21ed",
   "metadata": {
    "lines_to_next_cell": 0
   },
   "source": [
    "表4-8列出了numpy.random中的部分函数。在下一节中，我将给出一些利用这些函数一次性生成大量样本值的范例。\n",
    "\n",
    "![](./figures/t4-8.png)\n",
    "\n",
    "\n",
    "![](./figures/t4-8-1.png)\n",
    "\n",
    "# 4.7 示例：随机漫步\n",
    "我们通过模拟随机漫步来说明如何运用数组运算。先来看一个简单的随机漫步的例子：从0开始，步长1和－1出现的概率相等。\n",
    "\n",
    "下面是一个通过内置的random模块以纯Python的方式实现1000步的随机漫步："
   ]
  },
  {
   "cell_type": "code",
   "execution_count": null,
   "id": "2230b317",
   "metadata": {},
   "outputs": [],
   "source": [
    "In [247]: import random\n",
    "   .....: position = 0\n",
    "   .....: walk = [position]\n",
    "   .....: steps = 1000\n",
    "   .....: for i in range(steps):\n",
    "   .....:     step = 1 if random.randint(0, 1) else -1\n",
    "   .....:     position += step\n",
    "   .....:     walk.append(position)\n",
    "   .....:"
   ]
  },
  {
   "cell_type": "markdown",
   "id": "bc9ccfe0",
   "metadata": {
    "lines_to_next_cell": 0
   },
   "source": [
    "图4-4是根据前100个随机漫步值生成的折线图："
   ]
  },
  {
   "cell_type": "code",
   "execution_count": null,
   "id": "b484fb8b",
   "metadata": {},
   "outputs": [],
   "source": [
    "In [249]: plt.plot(walk[:100])"
   ]
  },
  {
   "cell_type": "markdown",
   "id": "5ee0b875",
   "metadata": {
    "lines_to_next_cell": 0
   },
   "source": [
    "![图4-4 简单的随机漫步](./figures/4-4.png)\n",
    "\n",
    "不难看出，这其实就是随机漫步中各步的累计和，可以用一个数组运算来实现。因此，我用np.random模块一次性随机产生1000个“掷硬币”结果（即两个数中任选一个），将其分别设置为1或－1，然后计算累计和："
   ]
  },
  {
   "cell_type": "code",
   "execution_count": null,
   "id": "57eeac0f",
   "metadata": {},
   "outputs": [],
   "source": [
    "In [251]: nsteps = 1000\n",
    "\n",
    "In [252]: draws = np.random.randint(0, 2, size=nsteps)\n",
    "\n",
    "In [253]: steps = np.where(draws > 0, 1, -1)\n",
    "\n",
    "In [254]: walk = steps.cumsum()"
   ]
  },
  {
   "cell_type": "markdown",
   "id": "c4479f63",
   "metadata": {
    "lines_to_next_cell": 0
   },
   "source": [
    "有了这些数据之后，我们就可以沿着漫步路径做一些统计工作了，比如求取最大值和最小值："
   ]
  },
  {
   "cell_type": "code",
   "execution_count": null,
   "id": "53d4dd57",
   "metadata": {},
   "outputs": [],
   "source": [
    "In [255]: walk.min()\n",
    "Out[255]: -3\n",
    "\n",
    "In [256]: walk.max()\n",
    "Out[256]: 31"
   ]
  },
  {
   "cell_type": "markdown",
   "id": "2305a81c",
   "metadata": {
    "lines_to_next_cell": 0
   },
   "source": [
    "现在来看一个复杂点的统计任务——首次穿越时间，即随机漫步过程中第一次到达某个特定值的时间。假设我们想要知道本次随机漫步需要多久才能距离初始0点至少10步远（任一方向均可）。np.abs(walk)>=10可以得到一个布尔型数组，它表示的是距离是否达到或超过10，而我们想要知道的是第一个10或－10的索引。可以用argmax来解决这个问题，它返回的是该布尔型数组第一个最大值的索引（True就是最大值）："
   ]
  },
  {
   "cell_type": "code",
   "execution_count": null,
   "id": "99704d38",
   "metadata": {},
   "outputs": [],
   "source": [
    "In [257]: (np.abs(walk) >= 10).argmax()\n",
    "Out[257]: 37"
   ]
  },
  {
   "cell_type": "markdown",
   "id": "d3ecf49b",
   "metadata": {
    "lines_to_next_cell": 0
   },
   "source": [
    "注意，这里使用argmax并不是很高效，因为它无论如何都会对数组进行完全扫描。在本例中，只要发现了一个True，那我们就知道它是个最大值了。\n",
    "\n",
    "## 一次模拟多个随机漫步\n",
    "如果你希望模拟多个随机漫步过程（比如5000个），只需对上面的代码做一点点修改即可生成所有的随机漫步过程。只要给numpy.random的函数传入一个二元元组就可以产生一个二维数组，然后我们就可以一次性计算5000个随机漫步过程（一行一个）的累计和了："
   ]
  },
  {
   "cell_type": "code",
   "execution_count": null,
   "id": "5aac2cd0",
   "metadata": {},
   "outputs": [],
   "source": [
    "In [258]: nwalks = 5000\n",
    "\n",
    "In [259]: nsteps = 1000\n",
    "\n",
    "In [260]: draws = np.random.randint(0, 2, size=(nwalks, nsteps)) # 0 or 1\n",
    "\n",
    "In [261]: steps = np.where(draws > 0, 1, -1)\n",
    "\n",
    "In [262]: walks = steps.cumsum(1)\n",
    "\n",
    "In [263]: walks\n",
    "Out[263]: \n",
    "array([[  1,   0,   1, ...,   8,   7,   8],\n",
    "       [  1,   0,  -1, ...,  34,  33,  32],\n",
    "       [  1,   0,  -1, ...,   4,   5,   4],\n",
    "       ..., \n",
    "       [  1,   2,   1, ...,  24,  25,  26],\n",
    "       [  1,   2,   3, ...,  14,  13,  14],\n",
    "       [ -1,  -2,  -3, ..., -24, -23, -22]])"
   ]
  },
  {
   "cell_type": "markdown",
   "id": "f8762eec",
   "metadata": {
    "lines_to_next_cell": 0
   },
   "source": [
    "现在，我们来计算所有随机漫步过程的最大值和最小值："
   ]
  },
  {
   "cell_type": "code",
   "execution_count": null,
   "id": "21094a0a",
   "metadata": {},
   "outputs": [],
   "source": [
    "In [264]: walks.max()\n",
    "Out[264]: 138\n",
    "\n",
    "In [265]: walks.min()\n",
    "Out[265]: -133"
   ]
  },
  {
   "cell_type": "markdown",
   "id": "8b54a51f",
   "metadata": {
    "lines_to_next_cell": 0
   },
   "source": [
    "得到这些数据之后，我们来计算30或－30的最小穿越时间。这里稍微复杂些，因为不是5000个过程都到达了30。我们可以用any方法来对此进行检查："
   ]
  },
  {
   "cell_type": "code",
   "execution_count": null,
   "id": "f1e7a542",
   "metadata": {},
   "outputs": [],
   "source": [
    "In [266]: hits30 = (np.abs(walks) >= 30).any(1)\n",
    "\n",
    "In [267]: hits30\n",
    "Out[267]: array([False,  True, False, ..., False,  True, False], dtype=bool)\n",
    "\n",
    "In [268]: hits30.sum() # Number that hit 30 or -30\n",
    "Out[268]: 3410"
   ]
  },
  {
   "cell_type": "markdown",
   "id": "34e89287",
   "metadata": {
    "lines_to_next_cell": 0
   },
   "source": [
    "然后我们利用这个布尔型数组选出那些穿越了30（绝对值）的随机漫步（行），并调用argmax在轴1上获取穿越时间："
   ]
  },
  {
   "cell_type": "code",
   "execution_count": null,
   "id": "1a16e159",
   "metadata": {},
   "outputs": [],
   "source": [
    "In [269]: crossing_times = (np.abs(walks[hits30]) >= 30).argmax(1)\n",
    "\n",
    "In [270]: crossing_times.mean()\n",
    "Out[270]: 498.88973607038122"
   ]
  },
  {
   "cell_type": "markdown",
   "id": "a2abdd3b",
   "metadata": {
    "lines_to_next_cell": 0
   },
   "source": [
    "请尝试用其他分布方式得到漫步数据。只需使用不同的随机数生成函数即可，如normal用于生成指定均值和标准差的正态分布数据："
   ]
  },
  {
   "cell_type": "code",
   "execution_count": null,
   "id": "8fa7c1fe",
   "metadata": {},
   "outputs": [],
   "source": [
    "In [271]: steps = np.random.normal(loc=0, scale=0.25,\n",
    "   .....:                          size=(nwalks, nsteps))"
   ]
  },
  {
   "cell_type": "markdown",
   "id": "3ce19e72",
   "metadata": {},
   "source": [
    "# 4.8 结论\n",
    "虽然本书剩下的章节大部分是用pandas规整数据，我们还是会用到相似的基于数组的计算。在附录A中，我们会深入挖掘NumPy的特点，进一步学习数组的技巧。"
   ]
  }
 ],
 "metadata": {
  "jupytext": {
   "cell_metadata_filter": "-all",
   "main_language": "python",
   "notebook_metadata_filter": "-all"
  },
  "kernelspec": {
   "display_name": "Python 3 (ipykernel)",
   "language": "python",
   "name": "python3"
  },
  "language_info": {
   "codemirror_mode": {
    "name": "ipython",
    "version": 3
   },
   "file_extension": ".py",
   "mimetype": "text/x-python",
   "name": "python",
   "nbconvert_exporter": "python",
   "pygments_lexer": "ipython3",
   "version": "3.10.12"
  }
 },
 "nbformat": 4,
 "nbformat_minor": 5
}
