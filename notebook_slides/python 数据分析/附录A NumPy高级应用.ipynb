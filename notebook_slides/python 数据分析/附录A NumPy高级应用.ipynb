{
 "cells": [
  {
   "cell_type": "markdown",
   "id": "71938a89",
   "metadata": {},
   "source": [
    "在这篇附录中，我会深入NumPy库的数组计算。这会包括ndarray更内部的细节，和更高级的数组操作和算法。\n",
    "\n",
    "本章包括了一些杂乱的章节，不需要仔细研究。\n",
    "\n",
    "# A.1 ndarray对象的内部机理\n",
    "\n",
    "NumPy的ndarray提供了一种将同质数据块（可以是连续或跨越）解释为多维数组对象的方式。正如你之前所看到的那样，数据类型（dtype）决定了数据的解释方式，比如浮点数、整数、布尔值等。\n",
    "\n",
    "ndarray如此强大的部分原因是所有数组对象都是数据块的一个跨度视图（strided view）。你可能想知道数组视图arr[::2,::-1]不复制任何数据的原因是什么。简单地说，ndarray不只是一块内存和一个dtype，它还有跨度信息，这使得数组能以各种步幅（step size）在内存中移动。更准确地讲，ndarray内部由以下内容组成：\n",
    "\n",
    "- 一个指向数据（内存或内存映射文件中的一块数据）的指针。\n",
    "- 数据类型或dtype，描述在数组中的固定大小值的格子。\n",
    "- 一个表示数组形状（shape）的元组。\n",
    "- 一个跨度元组（stride），其中的整数指的是为了前进到当前维度下一个元素需要“跨过”的字节数。\n",
    "\n",
    "图A-1简单地说明了ndarray的内部结构。\n",
    "\n",
    "![图A-1 Numpy的ndarray对象](https://upload-images.jianshu.io/upload_images/7178691-43452f2f413e5094.png?imageMogr2/auto-orient/strip%7CimageView2/2/w/1240)"
   ]
  },
  {
   "cell_type": "markdown",
   "id": "bf7e72eb",
   "metadata": {
    "lines_to_next_cell": 0
   },
   "source": [
    "例如，一个10×5的数组，其形状为(10,5)："
   ]
  },
  {
   "cell_type": "code",
   "execution_count": null,
   "id": "a2b40e32",
   "metadata": {},
   "outputs": [],
   "source": [
    "In [10]: np.ones((10, 5)).shape\n",
    "Out[10]: (10, 5)"
   ]
  },
  {
   "cell_type": "markdown",
   "id": "30483c67",
   "metadata": {
    "lines_to_next_cell": 0
   },
   "source": [
    "一个典型的（C顺序，稍后将详细讲解）3×4×5的float64（8个字节）数组，其跨度为(160,40,8) —— 知道跨度是非常有用的，通常，跨度在一个轴上越大，沿这个轴进行计算的开销就越大："
   ]
  },
  {
   "cell_type": "code",
   "execution_count": null,
   "id": "3ab491a7",
   "metadata": {},
   "outputs": [],
   "source": [
    "In [11]: np.ones((3, 4, 5), dtype=np.float64).strides\n",
    "Out[11]: (160, 40, 8)"
   ]
  },
  {
   "cell_type": "markdown",
   "id": "2f1e7ee8",
   "metadata": {
    "lines_to_next_cell": 0
   },
   "source": [
    "虽然NumPy用户很少会对数组的跨度信息感兴趣，但它们却是构建非复制式数组视图的重要因素。跨度甚至可以是负数，这样会使数组在内存中后向移动，比如在切片obj[::-1]或obj[:,::-1]中就是这样的。\n",
    "\n",
    "## NumPy数据类型体系\n",
    "\n",
    "你可能偶尔需要检查数组中所包含的是否是整数、浮点数、字符串或Python对象。因为浮点数的种类很多（从float16到float128），判断dtype是否属于某个大类的工作非常繁琐。幸运的是，dtype都有一个超类（比如np.integer和np.floating），它们可以跟np.issubdtype函数结合使用："
   ]
  },
  {
   "cell_type": "code",
   "execution_count": null,
   "id": "79c805f0",
   "metadata": {},
   "outputs": [],
   "source": [
    "In [12]: ints = np.ones(10, dtype=np.uint16)\n",
    "\n",
    "In [13]: floats = np.ones(10, dtype=np.float32)\n",
    "\n",
    "In [14]: np.issubdtype(ints.dtype, np.integer)\n",
    "Out[14]: True\n",
    "\n",
    "In [15]: np.issubdtype(floats.dtype, np.floating)\n",
    "Out[15]: True"
   ]
  },
  {
   "cell_type": "markdown",
   "id": "cd23c778",
   "metadata": {
    "lines_to_next_cell": 0
   },
   "source": [
    "调用dtype的mro方法即可查看其所有的父类："
   ]
  },
  {
   "cell_type": "code",
   "execution_count": null,
   "id": "7daf3e55",
   "metadata": {},
   "outputs": [],
   "source": [
    "In [16]: np.float64.mro()\n",
    "Out[16]:\n",
    "[numpy.float64,\n",
    " numpy.floating,\n",
    " numpy.inexact,\n",
    " numpy.number,\n",
    " numpy.generic,\n",
    " float,\n",
    " object]"
   ]
  },
  {
   "cell_type": "markdown",
   "id": "abf2c144",
   "metadata": {
    "lines_to_next_cell": 0
   },
   "source": [
    "然后得到："
   ]
  },
  {
   "cell_type": "code",
   "execution_count": null,
   "id": "0864e39c",
   "metadata": {},
   "outputs": [],
   "source": [
    "In [17]: np.issubdtype(ints.dtype, np.number)\n",
    "Out[17]: True"
   ]
  },
  {
   "cell_type": "markdown",
   "id": "09722121",
   "metadata": {
    "lines_to_next_cell": 0
   },
   "source": [
    "大部分NumPy用户完全不需要了解这些知识，但是这些知识偶尔还是能派上用场的。图A-2说明了dtype体系以及父子类关系。\n",
    "\n",
    "![图A-2 NumPy的dtype体系](http://upload-images.jianshu.io/upload_images/7178691-b8996bf943a06ab9.png?imageMogr2/auto-orient/strip%7CimageView2/2/w/1240)\n",
    "\n",
    "# A.2 高级数组操作\n",
    "\n",
    "除花式索引、切片、布尔条件取子集等操作之外，数组的操作方式还有很多。虽然pandas中的高级函数可以处理数据分析工作中的许多重型任务，但有时你还是需要编写一些在现有库中找不到的数据算法。\n",
    "\n",
    "## 数组重塑\n",
    "\n",
    "多数情况下，你可以无需复制任何数据，就将数组从一个形状转换为另一个形状。只需向数组的实例方法reshape传入一个表示新形状的元组即可实现该目的。例如，假设有一个一维数组，我们希望将其重新排列为一个矩阵（结果见图A-3）："
   ]
  },
  {
   "cell_type": "code",
   "execution_count": null,
   "id": "989184a8",
   "metadata": {},
   "outputs": [],
   "source": [
    "In [18]: arr = np.arange(8)\n",
    "\n",
    "In [19]: arr\n",
    "Out[19]: array([0, 1, 2, 3, 4, 5, 6, 7])\n",
    "\n",
    "In [20]: arr.reshape((4, 2))\n",
    "Out[20]: \n",
    "array([[0, 1],\n",
    "       [2, 3],\n",
    "       [4, 5],\n",
    "       [6, 7]])"
   ]
  },
  {
   "cell_type": "markdown",
   "id": "a47e135f",
   "metadata": {
    "lines_to_next_cell": 0
   },
   "source": [
    "![图A-3 按C顺序（按行）和按Fortran顺序（按列）进行重塑](http://upload-images.jianshu.io/upload_images/7178691-95bbca6d8d04e4c7.png?imageMogr2/auto-orient/strip%7CimageView2/2/w/1240)\n",
    "\n",
    "多维数组也能被重塑："
   ]
  },
  {
   "cell_type": "code",
   "execution_count": null,
   "id": "54384723",
   "metadata": {},
   "outputs": [],
   "source": [
    "In [21]: arr.reshape((4, 2)).reshape((2, 4))\n",
    "Out[21]: \n",
    "array([[0, 1, 2, 3],\n",
    "       [4, 5, 6, 7]])"
   ]
  },
  {
   "cell_type": "markdown",
   "id": "28d51843",
   "metadata": {
    "lines_to_next_cell": 0
   },
   "source": [
    "作为参数的形状的其中一维可以是－1，它表示该维度的大小由数据本身推断而来："
   ]
  },
  {
   "cell_type": "code",
   "execution_count": null,
   "id": "eb7866ba",
   "metadata": {},
   "outputs": [],
   "source": [
    "In [22]: arr = np.arange(15)\n",
    "\n",
    "In [23]: arr.reshape((5, -1))\n",
    "Out[23]: \n",
    "array([[ 0,  1,  2],\n",
    "       [ 3,  4,  5],\n",
    "       [ 6,  7,  8],\n",
    "       [ 9, 10, 11],\n",
    "       [12, 13, 14]])"
   ]
  },
  {
   "cell_type": "markdown",
   "id": "7687e0a8",
   "metadata": {
    "lines_to_next_cell": 0
   },
   "source": [
    "与reshape将一维数组转换为多维数组的运算过程相反的运算通常称为扁平化（flattening）或散开（raveling）："
   ]
  },
  {
   "cell_type": "code",
   "execution_count": null,
   "id": "840a4717",
   "metadata": {},
   "outputs": [],
   "source": [
    "In [27]: arr = np.arange(15).reshape((5, 3))\n",
    "\n",
    "In [28]: arr\n",
    "Out[28]: \n",
    "array([[ 0,  1,  2],\n",
    "       [ 3,  4,  5],\n",
    "       [ 6,  7,  8],\n",
    "       [ 9, 10, 11],\n",
    "       [12, 13, 14]])\n",
    "\n",
    "In [29]: arr.ravel()\n",
    "Out[29]: array([ 0,  1,  2,  3,  4,  5,  6,  7,  8,  9, 10, 11, 12, 13, 14])"
   ]
  },
  {
   "cell_type": "markdown",
   "id": "74844303",
   "metadata": {
    "lines_to_next_cell": 0
   },
   "source": [
    "如果结果中的值与原始数组相同，ravel不会产生源数据的副本。flatten方法的行为类似于ravel，只不过它总是返回数据的副本："
   ]
  },
  {
   "cell_type": "code",
   "execution_count": null,
   "id": "7e95a4e9",
   "metadata": {},
   "outputs": [],
   "source": [
    "In [30]: arr.flatten()\n",
    "Out[30]: array([ 0,  1,  2,  3,  4,  5,  6,  7,  8,  9, 10, 11, 12, 13, 14])"
   ]
  },
  {
   "cell_type": "markdown",
   "id": "7410ac0b",
   "metadata": {
    "lines_to_next_cell": 0
   },
   "source": [
    "数组可以被重塑或散开为别的顺序。这对NumPy新手来说是一个比较微妙的问题，所以在下一小节中我们将专门讲解这个问题。\n",
    "\n",
    "## C和Fortran顺序\n",
    "\n",
    "NumPy允许你更为灵活地控制数据在内存中的布局。默认情况下，NumPy数组是按行优先顺序创建的。在空间方面，这就意味着，对于一个二维数组，每行中的数据项是被存放在相邻内存位置上的。另一种顺序是列优先顺序，它意味着每列中的数据项是被存放在相邻内存位置上的。\n",
    "\n",
    "由于一些历史原因，行和列优先顺序又分别称为C和Fortran顺序。在FORTRAN 77中，矩阵全都是列优先的。\n",
    "\n",
    "像reshape和reval这样的函数，都可以接受一个表示数组数据存放顺序的order参数。一般可以是'C'或'F'（还有'A'和'K'等不常用的选项，具体请参考NumPy的文档）。图A-3对此进行了说明："
   ]
  },
  {
   "cell_type": "code",
   "execution_count": null,
   "id": "7034e224",
   "metadata": {},
   "outputs": [],
   "source": [
    "In [31]: arr = np.arange(12).reshape((3, 4))\n",
    "\n",
    "In [32]: arr\n",
    "Out[32]: \n",
    "array([[ 0,  1,  2,  3],\n",
    "       [ 4,  5,  6,  7],\n",
    "       [ 8,  9, 10, 11]])\n",
    "\n",
    "In [33]: arr.ravel()\n",
    "Out[33]: array([ 0,  1,  2,  3,  4,  5,  6,  7,  8,  9, 10, 11])\n",
    "\n",
    "In [34]: arr.ravel('F')\n",
    "Out[34]: array([ 0,  4,  8,  1,  5,  9,  2,  6, 10,  3,  7, 11])"
   ]
  },
  {
   "cell_type": "markdown",
   "id": "1cfa66e3",
   "metadata": {},
   "source": [
    "![图A-3 按C（行优先）或Fortran（列优先）顺序进行重塑](http://upload-images.jianshu.io/upload_images/7178691-f486e7c41d7e0eec.png?imageMogr2/auto-orient/strip%7CimageView2/2/w/1240)\n",
    "\n",
    "二维或更高维数组的重塑过程比较令人费解（见图A-3）。C和Fortran顺序的关键区别就是维度的行进顺序：\n",
    "\n",
    "- C/行优先顺序：先经过更高的维度（例如，轴1会先于轴0被处理）。\n",
    "- Fortran/列优先顺序：后经过更高的维度（例如，轴0会先于轴1被处理）。"
   ]
  },
  {
   "cell_type": "markdown",
   "id": "2295c4b8",
   "metadata": {
    "lines_to_next_cell": 0
   },
   "source": [
    "## 数组的合并和拆分\n",
    "\n",
    "numpy.concatenate可以按指定轴将一个由数组组成的序列（如元组、列表等）连接到一起："
   ]
  },
  {
   "cell_type": "code",
   "execution_count": null,
   "id": "f25a4074",
   "metadata": {},
   "outputs": [],
   "source": [
    "In [35]: arr1 = np.array([[1, 2, 3], [4, 5, 6]])\n",
    "\n",
    "In [36]: arr2 = np.array([[7, 8, 9], [10, 11, 12]])\n",
    "\n",
    "In [37]: np.concatenate([arr1, arr2], axis=0)\n",
    "Out[37]: \n",
    "array([[ 1,  2,  3],\n",
    "       [ 4,  5,  6],\n",
    "       [ 7,  8,  9],\n",
    "       [10, 11, 12]])\n",
    "\n",
    "In [38]: np.concatenate([arr1, arr2], axis=1)\n",
    "Out[38]: \n",
    "array([[ 1,  2,  3,  7,  8,  9],\n",
    "       [ 4,  5,  6, 10, 11, 12]])"
   ]
  },
  {
   "cell_type": "markdown",
   "id": "57f03b32",
   "metadata": {
    "lines_to_next_cell": 0
   },
   "source": [
    "对于常见的连接操作，NumPy提供了一些比较方便的方法（如vstack和hstack）。因此，上面的运算还可以表达为："
   ]
  },
  {
   "cell_type": "code",
   "execution_count": null,
   "id": "0ba8ae69",
   "metadata": {},
   "outputs": [],
   "source": [
    "In [39]: np.vstack((arr1, arr2))\n",
    "Out[39]: \n",
    "array([[ 1,  2,  3],\n",
    "       [ 4,  5,  6],\n",
    "       [ 7,  8,  9],\n",
    "       [10, 11, 12]])\n",
    "\n",
    "In [40]: np.hstack((arr1, arr2))\n",
    "Out[40]: \n",
    "array([[ 1,  2,  3,  7,  8,  9],\n",
    "[ 4,  5,  6, 10, 11, 12]])"
   ]
  },
  {
   "cell_type": "markdown",
   "id": "4076f45c",
   "metadata": {
    "lines_to_next_cell": 0
   },
   "source": [
    "与此相反，split用于将一个数组沿指定轴拆分为多个数组："
   ]
  },
  {
   "cell_type": "code",
   "execution_count": null,
   "id": "d5253900",
   "metadata": {},
   "outputs": [],
   "source": [
    "In [41]: arr = np.random.randn(5, 2)\n",
    "\n",
    "In [42]: arr\n",
    "Out[42]: \n",
    "array([[-0.2047,  0.4789],\n",
    "       [-0.5194, -0.5557],\n",
    "       [ 1.9658,  1.3934],\n",
    "       [ 0.0929,  0.2817],\n",
    "       [ 0.769 ,  1.2464]])\n",
    "\n",
    "In [43]: first, second, third = np.split(arr, [1, 3])\n",
    "\n",
    "In [44]: first\n",
    "Out[44]: array([[-0.2047,  0.4789]])\n",
    "\n",
    "In [45]: second\n",
    "Out[45]: \n",
    "array([[-0.5194, -0.5557],\n",
    "       [ 1.9658,  1.3934]])\n",
    "In [46]: third\n",
    "Out[46]: \n",
    "array([[ 0.0929,  0.2817],\n",
    "       [ 0.769 ,  1.2464]])"
   ]
  },
  {
   "cell_type": "markdown",
   "id": "3bb85b9c",
   "metadata": {
    "lines_to_next_cell": 0
   },
   "source": [
    "传入到np.split的值[1,3]指示在哪个索引处分割数组。\n",
    "\n",
    "表A-1中列出了所有关于数组连接和拆分的函数，其中有些是专门为了方便常见的连接运算而提供的。\n",
    "                                                                    \n",
    "![表A-1 数组连接函数](http://upload-images.jianshu.io/upload_images/7178691-c597246722a6bb01.png?imageMogr2/auto-orient/strip%7CimageView2/2/w/1240)\n",
    "\n",
    "## 堆叠辅助类：r_和c_\n",
    "\n",
    "NumPy命名空间中有两个特殊的对象——r_和c_，它们可以使数组的堆叠操作更为简洁："
   ]
  },
  {
   "cell_type": "code",
   "execution_count": null,
   "id": "79230204",
   "metadata": {},
   "outputs": [],
   "source": [
    "In [47]: arr = np.arange(6)\n",
    "\n",
    "In [48]: arr1 = arr.reshape((3, 2))\n",
    "\n",
    "In [49]: arr2 = np.random.randn(3, 2)\n",
    "\n",
    "In [50]: np.r_[arr1, arr2]\n",
    "Out[50]: \n",
    "array([[ 0.    ,  1.    ],\n",
    "       [ 2.    ,  3.    ],\n",
    "       [ 4.    ,  5.    ],\n",
    "       [ 1.0072, -1.2962],\n",
    "       [ 0.275 ,  0.2289],\n",
    "       [ 1.3529,  0.8864]])\n",
    "\n",
    "In [51]: np.c_[np.r_[arr1, arr2], arr]\n",
    "Out[51]: \n",
    "array([[ 0.    ,  1.    ,  0.    ],\n",
    "       [ 2.    ,  3.    ,  1.    ],\n",
    "       [ 4.    ,  5.    ,  2.    ],\n",
    "       [ 1.0072, -1.2962,  3.    ],\n",
    "       [ 0.275 ,  0.2289,  4.    ],\n",
    "       [ 1.3529,  0.8864,  5.    ]])"
   ]
  },
  {
   "cell_type": "markdown",
   "id": "aa5892d5",
   "metadata": {
    "lines_to_next_cell": 0
   },
   "source": [
    "它还可以将切片转换成数组："
   ]
  },
  {
   "cell_type": "code",
   "execution_count": null,
   "id": "4b9b3f93",
   "metadata": {},
   "outputs": [],
   "source": [
    "In [52]: np.c_[1:6, -10:-5]\n",
    "Out[52]: \n",
    "array([[  1, -10],\n",
    "       [  2,  -9],\n",
    "       [  3,  -8],\n",
    "       [  4,  -7],\n",
    "       [  5,  -6]])"
   ]
  },
  {
   "cell_type": "markdown",
   "id": "4793292d",
   "metadata": {
    "lines_to_next_cell": 0
   },
   "source": [
    "r_和c_的具体功能请参考其文档。\n",
    "\n",
    "## 元素的重复操作：tile和repeat\n",
    "\n",
    "对数组进行重复以产生更大数组的工具主要是repeat和tile这两个函数。repeat会将数组中的各个元素重复一定次数，从而产生一个更大的数组："
   ]
  },
  {
   "cell_type": "code",
   "execution_count": null,
   "id": "a0d53c4b",
   "metadata": {},
   "outputs": [],
   "source": [
    "In [53]: arr = np.arange(3)\n",
    "\n",
    "In [54]: arr\n",
    "Out[54]: array([0, 1, 2])\n",
    "\n",
    "In [55]: arr.repeat(3)\n",
    "Out[55]: array([0, 0, 0, 1, 1, 1, 2, 2, 2])"
   ]
  },
  {
   "cell_type": "markdown",
   "id": "ccfee6ee",
   "metadata": {
    "lines_to_next_cell": 0
   },
   "source": [
    ">笔记：跟其他流行的数组编程语言（如MATLAB）不同，NumPy中很少需要对数组进行重复（replicate）。这主要是因为广播（broadcasting，我们将在下一节中讲解该技术）能更好地满足该需求。\n",
    "\n",
    "默认情况下，如果传入的是一个整数，则各元素就都会重复那么多次。如果传入的是一组整数，则各元素就可以重复不同的次数："
   ]
  },
  {
   "cell_type": "code",
   "execution_count": null,
   "id": "336162e7",
   "metadata": {},
   "outputs": [],
   "source": [
    "In [56]: arr.repeat([2, 3, 4])\n",
    "Out[56]: array([0, 0, 1, 1, 1, 2, 2, 2, 2])"
   ]
  },
  {
   "cell_type": "markdown",
   "id": "c82456d3",
   "metadata": {
    "lines_to_next_cell": 0
   },
   "source": [
    "对于多维数组，还可以让它们的元素沿指定轴重复："
   ]
  },
  {
   "cell_type": "code",
   "execution_count": null,
   "id": "39b586df",
   "metadata": {},
   "outputs": [],
   "source": [
    "In [57]: arr = np.random.randn(2, 2)\n",
    "\n",
    "In [58]: arr\n",
    "Out[58]: \n",
    "array([[-2.0016, -0.3718],\n",
    "       [ 1.669 , -0.4386]])\n",
    "\n",
    "In [59]: arr.repeat(2, axis=0)\n",
    "Out[59]: \n",
    "array([[-2.0016, -0.3718],\n",
    "       [-2.0016, -0.3718],\n",
    "       [ 1.669 , -0.4386],\n",
    "       [ 1.669 , -0.4386]])"
   ]
  },
  {
   "cell_type": "markdown",
   "id": "1133d8fa",
   "metadata": {
    "lines_to_next_cell": 0
   },
   "source": [
    "注意，如果没有设置轴向，则数组会被扁平化，这可能不会是你想要的结果。同样，在对多维进行重复时，也可以传入一组整数，这样就会使各切片重复不同的次数："
   ]
  },
  {
   "cell_type": "code",
   "execution_count": null,
   "id": "65750d9d",
   "metadata": {},
   "outputs": [],
   "source": [
    "In [60]: arr.repeat([2, 3], axis=0)\n",
    "Out[60]: \n",
    "array([[-2.0016, -0.3718],\n",
    "       [-2.0016, -0.3718],\n",
    "       [ 1.669 , -0.4386],\n",
    "       [ 1.669 , -0.4386],\n",
    "       [ 1.669 , -0.4386]])\n",
    "\n",
    "In [61]: arr.repeat([2, 3], axis=1)\n",
    "Out[61]: \n",
    "array([[-2.0016, -2.0016, -0.3718, -0.3718, -0.3718],\n",
    "       [ 1.669 ,  1.669 , -0.4386, -0.4386, -0.4386]])"
   ]
  },
  {
   "cell_type": "markdown",
   "id": "c21f51c9",
   "metadata": {
    "lines_to_next_cell": 0
   },
   "source": [
    "tile的功能是沿指定轴向堆叠数组的副本。你可以形象地将其想象成“铺瓷砖”："
   ]
  },
  {
   "cell_type": "code",
   "execution_count": null,
   "id": "7eb43ff5",
   "metadata": {},
   "outputs": [],
   "source": [
    "In [62]: arr\n",
    "Out[62]: \n",
    "array([[-2.0016, -0.3718],\n",
    "       [ 1.669 , -0.4386]])\n",
    "\n",
    "In [63]: np.tile(arr, 2)\n",
    "Out[63]: \n",
    "array([[-2.0016, -0.3718, -2.0016, -0.3718],\n",
    "       [ 1.669 , -0.4386,  1.669 , -0.4386]])"
   ]
  },
  {
   "cell_type": "markdown",
   "id": "65e304ff",
   "metadata": {
    "lines_to_next_cell": 0
   },
   "source": [
    "第二个参数是瓷砖的数量。对于标量，瓷砖是水平铺设的，而不是垂直铺设。它可以是一个表示“铺设”布局的元组："
   ]
  },
  {
   "cell_type": "code",
   "execution_count": null,
   "id": "010f313d",
   "metadata": {},
   "outputs": [],
   "source": [
    "In [64]: arr\n",
    "Out[64]: \n",
    "array([[-2.0016, -0.3718],\n",
    "       [ 1.669 , -0.4386]])\n",
    "\n",
    "In [65]: np.tile(arr, (2, 1))\n",
    "Out[65]: \n",
    "array([[-2.0016, -0.3718],\n",
    "       [ 1.669 , -0.4386],\n",
    "       [-2.0016, -0.3718],\n",
    "       [ 1.669 , -0.4386]])\n",
    "\n",
    "In [66]: np.tile(arr, (3, 2))\n",
    "Out[66]: \n",
    "array([[-2.0016, -0.3718, -2.0016, -0.3718],\n",
    "       [ 1.669 , -0.4386,  1.669 , -0.4386],\n",
    "       [-2.0016, -0.3718, -2.0016, -0.3718],\n",
    "       [ 1.669 , -0.4386,  1.669 , -0.4386],\n",
    "       [-2.0016, -0.3718, -2.0016, -0.3718],\n",
    "       [ 1.669 , -0.4386,  1.669 , -0.4386]])"
   ]
  },
  {
   "cell_type": "markdown",
   "id": "ebcfe7a7",
   "metadata": {
    "lines_to_next_cell": 0
   },
   "source": [
    "## 花式索引的等价函数：take和put\n",
    "\n",
    "在第4章中我们讲过，获取和设置数组子集的一个办法是通过整数数组使用花式索引："
   ]
  },
  {
   "cell_type": "code",
   "execution_count": null,
   "id": "57f1dfb5",
   "metadata": {},
   "outputs": [],
   "source": [
    "In [67]: arr = np.arange(10) * 100\n",
    "\n",
    "In [68]: inds = [7, 1, 2, 6]\n",
    "\n",
    "In [69]: arr[inds]\n",
    "Out[69]: array([700, 100, 200, 600])"
   ]
  },
  {
   "cell_type": "markdown",
   "id": "2202f909",
   "metadata": {
    "lines_to_next_cell": 0
   },
   "source": [
    "ndarray还有其它方法用于获取单个轴向上的选区："
   ]
  },
  {
   "cell_type": "code",
   "execution_count": null,
   "id": "45818a59",
   "metadata": {},
   "outputs": [],
   "source": [
    "In [70]: arr.take(inds)\n",
    "Out[70]: array([700, 100, 200, 600])\n",
    "\n",
    "In [71]: arr.put(inds, 42)\n",
    "\n",
    "In [72]: arr\n",
    "Out[72]: array([  0,  42,  42, 300, 400, 500,  42,  42,800, 900])\n",
    "\n",
    "In [73]: arr.put(inds, [40, 41, 42, 43])\n",
    "\n",
    "In [74]: arr\n",
    "Out[74]: array([  0,  41,  42, 300, 400, 500,  43,  40, 800, 900])"
   ]
  },
  {
   "cell_type": "markdown",
   "id": "bc9944ce",
   "metadata": {
    "lines_to_next_cell": 0
   },
   "source": [
    "要在其它轴上使用take，只需传入axis关键字即可："
   ]
  },
  {
   "cell_type": "code",
   "execution_count": null,
   "id": "7a8d9d24",
   "metadata": {},
   "outputs": [],
   "source": [
    "In [75]: inds = [2, 0, 2, 1]\n",
    "\n",
    "In [76]: arr = np.random.randn(2, 4)\n",
    "\n",
    "In [77]: arr\n",
    "Out[77]: \n",
    "array([[-0.5397,  0.477 ,  3.2489, -1.0212],\n",
    "       [-0.5771,  0.1241,  0.3026,  0.5238]])\n",
    "\n",
    "In [78]: arr.take(inds, axis=1)\n",
    "Out[78]: \n",
    "array([[ 3.2489, -0.5397,  3.2489,  0.477 ],\n",
    "       [ 0.3026, -0.5771,  0.3026,  0.1241]])"
   ]
  },
  {
   "cell_type": "markdown",
   "id": "aac4f63b",
   "metadata": {
    "lines_to_next_cell": 0
   },
   "source": [
    "put不接受axis参数，它只会在数组的扁平化版本（一维，C顺序）上进行索引。因此，在需要用其他轴向的索引设置元素时，最好还是使用花式索引。\n",
    "\n",
    "# A.3 广播\n",
    "\n",
    "广播（broadcasting）指的是不同形状的数组之间的算术运算的执行方式。它是一种非常强大的功能，但也容易令人误解，即使是经验丰富的老手也是如此。将标量值跟数组合并时就会发生最简单的广播："
   ]
  },
  {
   "cell_type": "code",
   "execution_count": null,
   "id": "6eb27f79",
   "metadata": {},
   "outputs": [],
   "source": [
    "In [79]: arr = np.arange(5)\n",
    "\n",
    "In [80]: arr\n",
    "Out[80]: array([0, 1, 2, 3, 4])\n",
    "\n",
    "In [81]: arr * 4\n",
    "Out[81]: array([ 0,  4,  8, 12, 16])"
   ]
  },
  {
   "cell_type": "markdown",
   "id": "daf3f04f",
   "metadata": {
    "lines_to_next_cell": 0
   },
   "source": [
    "这里我们说：在这个乘法运算中，标量值4被广播到了其他所有的元素上。\n",
    "\n",
    "看一个例子，我们可以通过减去列平均值的方式对数组的每一列进行距平化处理。这个问题解决起来非常简单："
   ]
  },
  {
   "cell_type": "code",
   "execution_count": null,
   "id": "537589cc",
   "metadata": {},
   "outputs": [],
   "source": [
    "In [82]: arr = np.random.randn(4, 3)\n",
    "\n",
    "In [83]: arr.mean(0)\n",
    "Out[83]: array([-0.3928, -0.3824, -0.8768])\n",
    "\n",
    "In [84]: demeaned = arr - arr.mean(0)\n",
    "\n",
    "In [85]: demeaned\n",
    "Out[85]: \n",
    "array([[ 0.3937,  1.7263,  0.1633],\n",
    "       [-0.4384, -1.9878, -0.9839],\n",
    "       [-0.468 ,  0.9426, -0.3891],\n",
    "       [ 0.5126, -0.6811,  1.2097]])\n",
    "\n",
    "In [86]: demeaned.mean(0)\n",
    "Out[86]: array([-0.,  0., -0.])"
   ]
  },
  {
   "cell_type": "markdown",
   "id": "2c4ea78e",
   "metadata": {},
   "source": [
    "图A-4形象地展示了该过程。用广播的方式对行进行距平化处理会稍微麻烦一些。幸运的是，只要遵循一定的规则，低维度的值是可以被广播到数组的任意维度的（比如对二维数组各列减去行平均值）。\n",
    "\n",
    "![图A-4 一维数组在轴0上的广播](http://upload-images.jianshu.io/upload_images/7178691-6aaf022ab88452a9.png?imageMogr2/auto-orient/strip%7CimageView2/2/w/1240)"
   ]
  },
  {
   "cell_type": "markdown",
   "id": "679fb9b7",
   "metadata": {
    "lines_to_next_cell": 0
   },
   "source": [
    "于是就得到了：\n",
    "\n",
    "![](http://upload-images.jianshu.io/upload_images/7178691-fcaba8455960862a.png?imageMogr2/auto-orient/strip%7CimageView2/2/w/1240)\n",
    "\n",
    "虽然我是一名经验丰富的NumPy老手，但经常还是得停下来画张图并想想广播的原则。再来看一下最后那个例子，假设你希望对各行减去那个平均值。由于arr.mean(0)的长度为3，所以它可以在0轴向上进行广播：因为arr的后缘维度是3，所以它们是兼容的。根据该原则，要在1轴向上做减法（即各行减去行平均值），较小的那个数组的形状必须是(4,1)："
   ]
  },
  {
   "cell_type": "code",
   "execution_count": null,
   "id": "f4b204ee",
   "metadata": {},
   "outputs": [],
   "source": [
    "In [87]: arr\n",
    "Out[87]: \n",
    "array([[ 0.0009,  1.3438, -0.7135],\n",
    "       [-0.8312, -2.3702, -1.8608],\n",
    "       [-0.8608,  0.5601, -1.2659],\n",
    "       [ 0.1198, -1.0635,  0.3329]])\n",
    "\n",
    "In [88]: row_means = arr.mean(1)\n",
    "\n",
    "In [89]: row_means.shape\n",
    "Out[89]: (4,)\n",
    "\n",
    "In [90]: row_means.reshape((4, 1))\n",
    "Out[90]: \n",
    "array([[ 0.2104],\n",
    "       [-1.6874],\n",
    "       [-0.5222],\n",
    "       [-0.2036]])\n",
    "\n",
    "In [91]: demeaned = arr - row_means.reshape((4, 1))\n",
    "\n",
    "In [92]: demeaned.mean(1)\n",
    "Out[92]: array([ 0., -0.,  0.,  0.])"
   ]
  },
  {
   "cell_type": "markdown",
   "id": "19fd8f56",
   "metadata": {
    "lines_to_next_cell": 0
   },
   "source": [
    "图A-5说明了该运算的过程。\n",
    "\n",
    "![图A-5 二维数组在轴1上的广播](http://upload-images.jianshu.io/upload_images/7178691-9b0310d6773c3d38.png?imageMogr2/auto-orient/strip%7CimageView2/2/w/1240)\n",
    "\n",
    "图A-6展示了另外一种情况，这次是在一个三维数组上沿0轴向加上一个二维数组。\n",
    "\n",
    "![图A-6 三维数组在轴0上的广播](http://upload-images.jianshu.io/upload_images/7178691-965eb28b60046cd9.png?imageMogr2/auto-orient/strip%7CimageView2/2/w/1240)\n",
    "\n",
    "## 沿其它轴向广播\n",
    "\n",
    "高维度数组的广播似乎更难以理解，而实际上它也是遵循广播原则的。如果不然，你就会得到下面这样一个错误："
   ]
  },
  {
   "cell_type": "code",
   "execution_count": null,
   "id": "b982694e",
   "metadata": {},
   "outputs": [],
   "source": [
    "In [93]: arr - arr.mean(1)\n",
    "---------------------------------------------------------------------------\n",
    "ValueError                                Traceback (most recent call last)\n",
    "<ipython-input-93-7b87b85a20b2> in <module>()\n",
    "----> 1 arr - arr.mean(1)\n",
    "ValueError: operands could not be broadcast together with shapes (4,3) (4,)"
   ]
  },
  {
   "cell_type": "markdown",
   "id": "21dfda8b",
   "metadata": {
    "lines_to_next_cell": 0
   },
   "source": [
    "人们经常需要通过算术运算过程将较低维度的数组在除0轴以外的其他轴向上广播。根据广播的原则，较小数组的“广播维”必须为1。在上面那个行距平化的例子中，这就意味着要将行平均值的形状变成(4,1)而不是(4,)："
   ]
  },
  {
   "cell_type": "code",
   "execution_count": null,
   "id": "58a6afc2",
   "metadata": {},
   "outputs": [],
   "source": [
    "In [94]: arr - arr.mean(1).reshape((4, 1))\n",
    "Out[94]: \n",
    "array([[-0.2095,  1.1334, -0.9239],\n",
    "       [ 0.8562, -0.6828, -0.1734],\n",
    "       [-0.3386,  1.0823, -0.7438],\n",
    "       [ 0.3234, -0.8599,  0.5365]])"
   ]
  },
  {
   "cell_type": "markdown",
   "id": "7df6f596",
   "metadata": {
    "lines_to_next_cell": 0
   },
   "source": [
    "对于三维的情况，在三维中的任何一维上广播其实也就是将数据重塑为兼容的形状而已。图A-7说明了要在三维数组各维度上广播的形状需求。\n",
    "\n",
    "![图A-7：能在该三维数组上广播的二维数组的形状](http://upload-images.jianshu.io/upload_images/7178691-b40936aab8e757d0.png?imageMogr2/auto-orient/strip%7CimageView2/2/w/1240)\n",
    "\n",
    "于是就有了一个非常普遍的问题（尤其是在通用算法中），即专门为了广播而添加一个长度为1的新轴。虽然reshape是一个办法，但插入轴需要构造一个表示新形状的元组。这是一个很郁闷的过程。因此，NumPy数组提供了一种通过索引机制插入轴的特殊语法。下面这段代码通过特殊的np.newaxis属性以及“全”切片来插入新轴："
   ]
  },
  {
   "cell_type": "code",
   "execution_count": null,
   "id": "8911c70b",
   "metadata": {},
   "outputs": [],
   "source": [
    "In [95]: arr = np.zeros((4, 4))\n",
    "\n",
    "In [96]: arr_3d = arr[:, np.newaxis, :]\n",
    "\n",
    "In [97]: arr_3d.shape\n",
    "Out[97]: (4, 1, 4)\n",
    "\n",
    "In [98]: arr_1d = np.random.normal(size=3)\n",
    "\n",
    "In [99]: arr_1d[:, np.newaxis]\n",
    "Out[99]: \n",
    "array([[-2.3594],\n",
    "       [-0.1995],\n",
    "       [-1.542 ]])\n",
    "\n",
    "In [100]: arr_1d[np.newaxis, :]\n",
    "Out[100]: array([[-2.3594, -0.1995, -1.542 ]])"
   ]
  },
  {
   "cell_type": "markdown",
   "id": "a961ef2f",
   "metadata": {
    "lines_to_next_cell": 0
   },
   "source": [
    "因此，如果我们有一个三维数组，并希望对轴2进行距平化，那么只需要编写下面这样的代码就可以了："
   ]
  },
  {
   "cell_type": "code",
   "execution_count": null,
   "id": "2fdf600f",
   "metadata": {},
   "outputs": [],
   "source": [
    "In [101]: arr = np.random.randn(3, 4, 5)\n",
    "\n",
    "In [102]: depth_means = arr.mean(2)\n",
    "\n",
    "In [103]: depth_means\n",
    "Out[103]: \n",
    "array([[-0.4735,  0.3971, -0.0228,  0.2001],\n",
    "       [-0.3521, -0.281 , -0.071 , -0.1586],\n",
    "       [ 0.6245,  0.6047,  0.4396, -0.2846]])\n",
    "\n",
    "In [104]: depth_means.shape\n",
    "Out[104]: (3, 4)\n",
    "\n",
    "In [105]: demeaned = arr - depth_means[:, :, np.newaxis]\n",
    "\n",
    "In [106]: demeaned.mean(2)\n",
    "Out[106]: \n",
    "array([[ 0.,  0., -0., -0.],\n",
    "       [ 0.,  0., -0.,  0.],\n",
    "       [ 0.,  0., -0., -0.]])"
   ]
  },
  {
   "cell_type": "markdown",
   "id": "4dbd272a",
   "metadata": {
    "lines_to_next_cell": 0
   },
   "source": [
    "有些读者可能会想，在对指定轴进行距平化时，有没有一种既通用又不牺牲性能的方法呢？实际上是有的，但需要一些索引方面的技巧："
   ]
  },
  {
   "cell_type": "code",
   "execution_count": null,
   "id": "2b1357dc",
   "metadata": {},
   "outputs": [],
   "source": [
    "def demean_axis(arr, axis=0):\n",
    "    means = arr.mean(axis)\n",
    "\n",
    "    # This generalizes things like [:, :, np.newaxis] to N dimensions\n",
    "    indexer = [slice(None)] * arr.ndim\n",
    "    indexer[axis] = np.newaxis\n",
    "    return arr - means[indexer]"
   ]
  },
  {
   "cell_type": "markdown",
   "id": "848a8992",
   "metadata": {
    "lines_to_next_cell": 0
   },
   "source": [
    "## 通过广播设置数组的值\n",
    "\n",
    "算术运算所遵循的广播原则同样也适用于通过索引机制设置数组值的操作。对于最简单的情况，我们可以这样做："
   ]
  },
  {
   "cell_type": "code",
   "execution_count": null,
   "id": "430a81c6",
   "metadata": {},
   "outputs": [],
   "source": [
    "In [107]: arr = np.zeros((4, 3))\n",
    "\n",
    "In [108]: arr[:] = 5\n",
    "\n",
    "In [109]: arr\n",
    "Out[109]: \n",
    "array([[ 5.,  5.,  5.],\n",
    "       [ 5.,  5.,  5.],\n",
    "       [ 5.,  5.,  5.],\n",
    "       [ 5.,  5.,  5.]])"
   ]
  },
  {
   "cell_type": "markdown",
   "id": "0a94f821",
   "metadata": {
    "lines_to_next_cell": 0
   },
   "source": [
    "但是，假设我们想要用一个一维数组来设置目标数组的各列，只要保证形状兼容就可以了："
   ]
  },
  {
   "cell_type": "code",
   "execution_count": null,
   "id": "b5694bd2",
   "metadata": {},
   "outputs": [],
   "source": [
    "In [110]: col = np.array([1.28, -0.42, 0.44, 1.6])\n",
    "In [111]: arr[:] = col[:, np.newaxis]\n",
    "\n",
    "In [112]: arr\n",
    "Out[112]: \n",
    "array([[ 1.28,  1.28,  1.28],\n",
    "       [-0.42, -0.42, -0.42],\n",
    "       [ 0.44,  0.44,  0.44],\n",
    "       [ 1.6 ,  1.6 ,  1.6 ]])\n",
    "\n",
    "In [113]: arr[:2] = [[-1.37], [0.509]]\n",
    "\n",
    "In [114]: arr\n",
    "Out[114]: \n",
    "array([[-1.37 , -1.37 , -1.37 ],\n",
    "       [ 0.509,  0.509,  0.509],\n",
    "       [ 0.44 ,  0.44 ,  0.44 ],\n",
    "       [ 1.6  ,  1.6  ,  1.6  ]])"
   ]
  },
  {
   "cell_type": "markdown",
   "id": "3dc91ef6",
   "metadata": {
    "lines_to_next_cell": 0
   },
   "source": [
    "# A.4 ufunc高级应用\n",
    "\n",
    "虽然许多NumPy用户只会用到通用函数所提供的快速的元素级运算，但通用函数实际上还有一些高级用法能使我们丢开循环而编写出更为简洁的代码。\n",
    "\n",
    "## ufunc实例方法\n",
    "\n",
    "NumPy的各个二元ufunc都有一些用于执行特定矢量化运算的特殊方法。表A-2汇总了这些方法，下面我将通过几个具体的例子对它们进行说明。\n",
    "\n",
    "reduce接受一个数组参数，并通过一系列的二元运算对其值进行聚合（可指明轴向）。例如，我们可以用np.add.reduce对数组中各个元素进行求和："
   ]
  },
  {
   "cell_type": "code",
   "execution_count": null,
   "id": "c12b4315",
   "metadata": {},
   "outputs": [],
   "source": [
    "In [115]: arr = np.arange(10)\n",
    "\n",
    "In [116]: np.add.reduce(arr)\n",
    "Out[116]: 45\n",
    "\n",
    "In [117]: arr.sum()\n",
    "Out[117]: 45"
   ]
  },
  {
   "cell_type": "markdown",
   "id": "7a0565e7",
   "metadata": {
    "lines_to_next_cell": 0
   },
   "source": [
    "起始值取决于ufunc（对于add的情况，就是0）。如果设置了轴号，约简运算就会沿该轴向执行。这就使你能用一种比较简洁的方式得到某些问题的答案。在下面这个例子中，我们用np.logical_and检查数组各行中的值是否是有序的："
   ]
  },
  {
   "cell_type": "code",
   "execution_count": null,
   "id": "26a71af1",
   "metadata": {},
   "outputs": [],
   "source": [
    "In [118]: np.random.seed(12346)  # for reproducibility\n",
    "\n",
    "In [119]: arr = np.random.randn(5, 5)\n",
    "\n",
    "In [120]: arr[::2].sort(1) # sort a few rows\n",
    "\n",
    "In [121]: arr[:, :-1] < arr[:, 1:]\n",
    "Out[121]: \n",
    "array([[ True,  True,  True,  True],\n",
    "       [False,  True, False, False],\n",
    "       [ True,  True,  True,  True],\n",
    "       [ True, False,  True,  True],\n",
    "       [ True,  True,  True,  True]], dtype=bool)\n",
    "\n",
    "In [122]: np.logical_and.reduce(arr[:, :-1] < arr[:, 1:], axis=1)\n",
    "Out[122]: array([ True, False,  True, False,  True], dtype=bool)"
   ]
  },
  {
   "cell_type": "markdown",
   "id": "8bad385b",
   "metadata": {
    "lines_to_next_cell": 0
   },
   "source": [
    "注意，logical_and.reduce跟all方法是等价的。\n",
    "\n",
    "ccumulate跟reduce的关系就像cumsum跟sum的关系那样。它产生一个跟原数组大小相同的中间“累计”值数组："
   ]
  },
  {
   "cell_type": "code",
   "execution_count": null,
   "id": "c12dc392",
   "metadata": {},
   "outputs": [],
   "source": [
    "In [123]: arr = np.arange(15).reshape((3, 5))\n",
    "\n",
    "In [124]: np.add.accumulate(arr, axis=1)\n",
    "Out[124]: \n",
    "array([[ 0,  1,  3,  6, 10],\n",
    "       [ 5, 11, 18, 26, 35],\n",
    "       [10, 21, 33, 46, 60]])"
   ]
  },
  {
   "cell_type": "markdown",
   "id": "3e420994",
   "metadata": {
    "lines_to_next_cell": 0
   },
   "source": [
    "outer用于计算两个数组的叉积："
   ]
  },
  {
   "cell_type": "code",
   "execution_count": null,
   "id": "26ec9547",
   "metadata": {},
   "outputs": [],
   "source": [
    "In [125]: arr = np.arange(3).repeat([1, 2, 2])\n",
    "\n",
    "In [126]: arr\n",
    "Out[126]: array([0, 1, 1, 2, 2])\n",
    "\n",
    "In [127]: np.multiply.outer(arr, np.arange(5))\n",
    "Out[127]: \n",
    "array([[0, 0, 0, 0, 0],\n",
    "       [0, 1, 2, 3, 4],\n",
    "       [0, 1, 2, 3, 4],\n",
    "       [0, 2, 4, 6, 8],\n",
    "       [0, 2, 4, 6, 8]])"
   ]
  },
  {
   "cell_type": "markdown",
   "id": "5fd7dfc4",
   "metadata": {
    "lines_to_next_cell": 0
   },
   "source": [
    "outer输出结果的维度是两个输入数据的维度之和："
   ]
  },
  {
   "cell_type": "code",
   "execution_count": null,
   "id": "d3a078ef",
   "metadata": {},
   "outputs": [],
   "source": [
    "In [128]: x, y = np.random.randn(3, 4), np.random.randn(5)\n",
    "\n",
    "In [129]: result = np.subtract.outer(x, y)\n",
    "\n",
    "In [130]: result.shape\n",
    "Out[130]: (3, 4, 5)"
   ]
  },
  {
   "cell_type": "markdown",
   "id": "43caf0a9",
   "metadata": {
    "lines_to_next_cell": 0
   },
   "source": [
    "最后一个方法reduceat用于计算“局部约简”，其实就是一个对数据各切片进行聚合的groupby运算。它接受一组用于指示如何对值进行拆分和聚合的“面元边界”："
   ]
  },
  {
   "cell_type": "code",
   "execution_count": null,
   "id": "17ef8ae9",
   "metadata": {},
   "outputs": [],
   "source": [
    "In [131]: arr = np.arange(10)\n",
    "\n",
    "In [132]: np.add.reduceat(arr, [0, 5, 8])\n",
    "Out[132]: array([10, 18, 17])"
   ]
  },
  {
   "cell_type": "markdown",
   "id": "aa028ecb",
   "metadata": {
    "lines_to_next_cell": 0
   },
   "source": [
    "最终结果是在arr[0:5]、arr[5:8]以及arr[8:]上执行的约简。跟其他方法一样，这里也可以传入一个axis参数："
   ]
  },
  {
   "cell_type": "code",
   "execution_count": null,
   "id": "e4b865ed",
   "metadata": {},
   "outputs": [],
   "source": [
    "In [133]: arr = np.multiply.outer(np.arange(4), np.arange(5))\n",
    "\n",
    "In [134]: arr\n",
    "Out[134]: \n",
    "array([[ 0,  0,  0,  0,  0],\n",
    "       [ 0,  1,  2,  3,  4],\n",
    "       [ 0,  2,  4,  6,  8],\n",
    "       [ 0,  3,  6,  9, 12]])\n",
    "\n",
    "In [135]: np.add.reduceat(arr, [0, 2, 4], axis=1)\n",
    "Out[135]: \n",
    "array([[ 0,  0,  0],\n",
    "       [ 1,  5,  4],\n",
    "       [ 2, 10,  8],\n",
    "       [ 3, 15, 12]])"
   ]
  },
  {
   "cell_type": "markdown",
   "id": "90a957ce",
   "metadata": {},
   "source": [
    "表A-2总结了部分的ufunc方法。"
   ]
  },
  {
   "cell_type": "markdown",
   "id": "6cf9878c",
   "metadata": {
    "lines_to_next_cell": 0
   },
   "source": [
    "![表A ufunc方法](http://upload-images.jianshu.io/upload_images/7178691-c997bd45000f7b72.png?imageMogr2/auto-orient/strip%7CimageView2/2/w/1240)\n",
    "\n",
    "## 编写新的ufunc\n",
    "\n",
    "有多种方法可以让你编写自己的NumPy ufuncs。最常见的是使用NumPy C API，但它超越了本书的范围。在本节，我们讲纯粹的Python ufunc。\n",
    "\n",
    "numpy.frompyfunc接受一个Python函数以及两个分别表示输入输出参数数量的参数。例如，下面是一个能够实现元素级加法的简单函数："
   ]
  },
  {
   "cell_type": "code",
   "execution_count": null,
   "id": "08219d72",
   "metadata": {},
   "outputs": [],
   "source": [
    "In [136]: def add_elements(x, y):\n",
    "   .....:     return x + y\n",
    "\n",
    "In [137]: add_them = np.frompyfunc(add_elements, 2, 1)\n",
    "\n",
    "In [138]: add_them(np.arange(8), np.arange(8))\n",
    "Out[138]: array([0, 2, 4, 6, 8, 10, 12, 14], dtype=object)"
   ]
  },
  {
   "cell_type": "markdown",
   "id": "932bdf46",
   "metadata": {
    "lines_to_next_cell": 0
   },
   "source": [
    "用frompyfunc创建的函数总是返回Python对象数组，这一点很不方便。幸运的是，还有另一个办法，即numpy.vectorize。虽然没有frompyfunc那么强大，但可以让你指定输出类型："
   ]
  },
  {
   "cell_type": "code",
   "execution_count": null,
   "id": "1dcb165a",
   "metadata": {},
   "outputs": [],
   "source": [
    "In [139]: add_them = np.vectorize(add_elements, otypes=[np.float64])\n",
    "\n",
    "In [140]: add_them(np.arange(8), np.arange(8))\n",
    "Out[140]: array([  0.,   2.,   4.,   6.,   8.,  10.,  12.,  14.])"
   ]
  },
  {
   "cell_type": "markdown",
   "id": "65456a05",
   "metadata": {
    "lines_to_next_cell": 0
   },
   "source": [
    "虽然这两个函数提供了一种创建ufunc型函数的手段，但它们非常慢，因为它们在计算每个元素时都要执行一次Python函数调用，这就会比NumPy自带的基于C的ufunc慢很多："
   ]
  },
  {
   "cell_type": "code",
   "execution_count": null,
   "id": "5f6dacba",
   "metadata": {},
   "outputs": [],
   "source": [
    "In [141]: arr = np.random.randn(10000)\n",
    "\n",
    "In [142]: %timeit add_them(arr, arr)\n",
    "4.12 ms +- 182 us per loop (mean +- std. dev. of 7 runs, 100 loops each)\n",
    "\n",
    "In [143]: %timeit np.add(arr, arr)\n",
    "6.89 us +- 504 ns per loop (mean +- std. dev. of 7 runs, 100000 loops each)"
   ]
  },
  {
   "cell_type": "markdown",
   "id": "83c8bd89",
   "metadata": {
    "lines_to_next_cell": 0
   },
   "source": [
    "本章的后面，我会介绍使用Numba（http://numba.pydata.org/），创建快速Python ufuncs。\n",
    "\n",
    "# A.5 结构化和记录式数组\n",
    "\n",
    "你可能已经注意到了，到目前为止我们所讨论的ndarray都是一种同质数据容器，也就是说，在它所表示的内存块中，各元素占用的字节数相同（具体根据dtype而定）。从表面上看，它似乎不能用于表示异质或表格型的数据。结构化数组是一种特殊的ndarray，其中的各个元素可以被看做C语言中的结构体（struct，这就是“结构化”的由来）或SQL表中带有多个命名字段的行："
   ]
  },
  {
   "cell_type": "code",
   "execution_count": null,
   "id": "c753a791",
   "metadata": {},
   "outputs": [],
   "source": [
    "In [144]: dtype = [('x', np.float64), ('y', np.int32)]\n",
    "\n",
    "In [145]: sarr = np.array([(1.5, 6), (np.pi, -2)], dtype=dtype)\n",
    "\n",
    "In [146]: sarr\n",
    "Out[146]: \n",
    "array([( 1.5   ,  6), ( 3.1416, -2)],\n",
    "      dtype=[('x', '<f8'), ('y', '<i4')])"
   ]
  },
  {
   "cell_type": "markdown",
   "id": "635a6226",
   "metadata": {
    "lines_to_next_cell": 0
   },
   "source": [
    "定义结构化dtype（请参考NumPy的在线文档）的方式有很多。最典型的办法是元组列表，各元组的格式为(field_name,field_data_type)。这样，数组的元素就成了元组式的对象，该对象中各个元素可以像字典那样进行访问："
   ]
  },
  {
   "cell_type": "code",
   "execution_count": null,
   "id": "9877896f",
   "metadata": {},
   "outputs": [],
   "source": [
    "In [147]: sarr[0]\n",
    "Out[147]: ( 1.5, 6)\n",
    "\n",
    "In [148]: sarr[0]['y']\n",
    "Out[148]: 6"
   ]
  },
  {
   "cell_type": "markdown",
   "id": "201c90f9",
   "metadata": {
    "lines_to_next_cell": 0
   },
   "source": [
    "字段名保存在dtype.names属性中。在访问结构化数组的某个字段时，返回的是该数据的视图，所以不会发生数据复制："
   ]
  },
  {
   "cell_type": "code",
   "execution_count": null,
   "id": "059a7cae",
   "metadata": {},
   "outputs": [],
   "source": [
    "In [149]: sarr['x']\n",
    "Out[149]: array([ 1.5   ,  3.1416])"
   ]
  },
  {
   "cell_type": "markdown",
   "id": "11209442",
   "metadata": {
    "lines_to_next_cell": 0
   },
   "source": [
    "## 嵌套dtype和多维字段\n",
    "\n",
    "在定义结构化dtype时，你可以再设置一个形状（可以是一个整数，也可以是一个元组）："
   ]
  },
  {
   "cell_type": "code",
   "execution_count": null,
   "id": "22962c8b",
   "metadata": {},
   "outputs": [],
   "source": [
    "In [150]: dtype = [('x', np.int64, 3), ('y', np.int32)]\n",
    "\n",
    "In [151]: arr = np.zeros(4, dtype=dtype)\n",
    "\n",
    "In [152]: arr\n",
    "Out[152]: \n",
    "array([([0, 0, 0], 0), ([0, 0, 0], 0), ([0, 0, 0], 0), ([0, 0, 0], 0)],\n",
    "      dtype=[('x', '<i8', (3,)), ('y', '<i4')])"
   ]
  },
  {
   "cell_type": "markdown",
   "id": "3812b06c",
   "metadata": {
    "lines_to_next_cell": 0
   },
   "source": [
    "在这种情况下，各个记录的x字段所表示的是一个长度为3的数组："
   ]
  },
  {
   "cell_type": "code",
   "execution_count": null,
   "id": "44bba1c1",
   "metadata": {},
   "outputs": [],
   "source": [
    "In [153]: arr[0]['x']\n",
    "Out[153]: array([0, 0, 0])"
   ]
  },
  {
   "cell_type": "markdown",
   "id": "d2fd092f",
   "metadata": {
    "lines_to_next_cell": 0
   },
   "source": [
    "这样，访问arr['x']即可得到一个二维数组，而不是前面那个例子中的一维数组："
   ]
  },
  {
   "cell_type": "code",
   "execution_count": null,
   "id": "703af070",
   "metadata": {},
   "outputs": [],
   "source": [
    "In [154]: arr['x']\n",
    "Out[154]: \n",
    "array([[0, 0, 0],\n",
    "       [0, 0, 0],\n",
    "       [0, 0, 0],\n",
    "       [0, 0, 0]])"
   ]
  },
  {
   "cell_type": "markdown",
   "id": "a2db5a3f",
   "metadata": {
    "lines_to_next_cell": 0
   },
   "source": [
    "这就使你能用单个数组的内存块存放复杂的嵌套结构。你还可以嵌套dtype，作出更复杂的结构。下面是一个简单的例子："
   ]
  },
  {
   "cell_type": "code",
   "execution_count": null,
   "id": "e79bd77e",
   "metadata": {},
   "outputs": [],
   "source": [
    "In [155]: dtype = [('x', [('a', 'f8'), ('b', 'f4')]), ('y', np.int32)]\n",
    "\n",
    "In [156]: data = np.array([((1, 2), 5), ((3, 4), 6)], dtype=dtype)\n",
    "\n",
    "In [157]: data['x']\n",
    "Out[157]: \n",
    "array([( 1.,  2.), ( 3.,  4.)],\n",
    "      dtype=[('a', '<f8'), ('b', '<f4')])\n",
    "\n",
    "In [158]: data['y']\n",
    "Out[158]: array([5, 6], dtype=int32)\n",
    "\n",
    "In [159]: data['x']['a']\n",
    "Out[159]: array([ 1.,  3.])"
   ]
  },
  {
   "cell_type": "markdown",
   "id": "e19d5790",
   "metadata": {
    "lines_to_next_cell": 0
   },
   "source": [
    "pandas的DataFrame并不直接支持该功能，但它的分层索引机制跟这个差不多。\n",
    "\n",
    "## 为什么要用结构化数组\n",
    "\n",
    "跟pandas的DataFrame相比，NumPy的结构化数组是一种相对较低级的工具。它可以将单个内存块解释为带有任意复杂嵌套列的表格型结构。由于数组中的每个元素在内存中都被表示为固定的字节数，所以结构化数组能够提供非常快速高效的磁盘数据读写（包括内存映像）、网络传输等功能。\n",
    "\n",
    "结构化数组的另一个常见用法是，将数据文件写成定长记录字节流，这是C和C++代码中常见的数据序列化手段（业界许多历史系统中都能找得到）。只要知道文件的格式（记录的大小、元素的顺序、字节数以及数据类型等），就可以用np.fromfile将数据读入内存。这种用法超出了本书的范围，知道这点就可以了。\n",
    "\n",
    "# A.6 更多有关排序的话题\n",
    "\n",
    "跟Python内置的列表一样，ndarray的sort实例方法也是就地排序。也就是说，数组内容的重新排列是不会产生新数组的："
   ]
  },
  {
   "cell_type": "code",
   "execution_count": null,
   "id": "bf50416e",
   "metadata": {},
   "outputs": [],
   "source": [
    "In [160]: arr = np.random.randn(6)\n",
    "\n",
    "In [161]: arr.sort()\n",
    "\n",
    "In [162]: arr\n",
    "Out[162]: array([-1.082 ,  0.3759,  0.8014,  1.1397,  1.2888,  1.8413])"
   ]
  },
  {
   "cell_type": "markdown",
   "id": "e61a3ed2",
   "metadata": {
    "lines_to_next_cell": 0
   },
   "source": [
    "在对数组进行就地排序时要注意一点，如果目标数组只是一个视图，则原始数组将会被修改："
   ]
  },
  {
   "cell_type": "code",
   "execution_count": null,
   "id": "68a10378",
   "metadata": {},
   "outputs": [],
   "source": [
    "In [163]: arr = np.random.randn(3, 5)\n",
    "\n",
    "In [164]: arr\n",
    "Out[164]: \n",
    "array([[-0.3318, -1.4711,  0.8705, -0.0847, -1.1329],\n",
    "       [-1.0111, -0.3436,  2.1714,  0.1234, -0.0189],\n",
    "       [ 0.1773,  0.7424,  0.8548,  1.038 , -0.329 ]])\n",
    "\n",
    "In [165]: arr[:, 0].sort()  # Sort first column values in-place\n",
    "\n",
    "In [166]: arr\n",
    "Out[166]: \n",
    "array([[-1.0111, -1.4711,  0.8705, -0.0847, -1.1329],\n",
    "       [-0.3318, -0.3436,  2.1714,  0.1234, -0.0189],\n",
    "       [ 0.1773,  0.7424,  0.8548,  1.038 , -0.329 ]])"
   ]
  },
  {
   "cell_type": "markdown",
   "id": "9871a794",
   "metadata": {
    "lines_to_next_cell": 0
   },
   "source": [
    "相反，numpy.sort会为原数组创建一个已排序副本。另外，它所接受的参数（比如kind）跟ndarray.sort一样："
   ]
  },
  {
   "cell_type": "code",
   "execution_count": null,
   "id": "2010879e",
   "metadata": {},
   "outputs": [],
   "source": [
    "In [167]: arr = np.random.randn(5)\n",
    "\n",
    "In [168]: arr\n",
    "Out[168]: array([-1.1181, -0.2415, -2.0051,  0.7379, -1.0614])\n",
    "\n",
    "In [169]: np.sort(arr)\n",
    "Out[169]: array([-2.0051, -1.1181, -1.0614, -0.2415,  0.7379])\n",
    "\n",
    "In [170]: arr\n",
    "Out[170]: array([-1.1181, -0.2415, -2.0051,  0.7379, -1.0614])"
   ]
  },
  {
   "cell_type": "markdown",
   "id": "070bb37d",
   "metadata": {
    "lines_to_next_cell": 0
   },
   "source": [
    "这两个排序方法都可以接受一个axis参数，以便沿指定轴向对各块数据进行单独排序："
   ]
  },
  {
   "cell_type": "code",
   "execution_count": null,
   "id": "fdba573d",
   "metadata": {},
   "outputs": [],
   "source": [
    "In [171]: arr = np.random.randn(3, 5)\n",
    "\n",
    "In [172]: arr\n",
    "Out[172]: \n",
    "array([[ 0.5955, -0.2682,  1.3389, -0.1872,  0.9111],\n",
    "       [-0.3215,  1.0054, -0.5168,  1.1925, -0.1989],\n",
    "       [ 0.3969, -1.7638,  0.6071, -0.2222, -0.2171]])\n",
    "\n",
    "In [173]: arr.sort(axis=1)\n",
    "\n",
    "In [174]: arr\n",
    "Out[174]: \n",
    "array([[-0.2682, -0.1872,  0.5955,  0.9111,  1.3389],\n",
    "       [-0.5168, -0.3215, -0.1989,  1.0054,  1.1925],\n",
    "       [-1.7638, -0.2222, -0.2171,  0.3969,  0.6071]])"
   ]
  },
  {
   "cell_type": "markdown",
   "id": "fb233fd3",
   "metadata": {
    "lines_to_next_cell": 0
   },
   "source": [
    "你可能注意到了，这两个排序方法都不可以被设置为降序。其实这也无所谓，因为数组切片会产生视图（也就是说，不会产生副本，也不需要任何其他的计算工作）。许多Python用户都很熟悉一个有关列表的小技巧：values[::-1]可以返回一个反序的列表。对ndarray也是如此："
   ]
  },
  {
   "cell_type": "code",
   "execution_count": null,
   "id": "ac43f471",
   "metadata": {},
   "outputs": [],
   "source": [
    "In [175]: arr[:, ::-1]\n",
    "Out[175]: \n",
    "array([[ 1.3389,  0.9111,  0.5955, -0.1872, -0.2682],\n",
    "       [ 1.1925,  1.0054, -0.1989, -0.3215, -0.5168],\n",
    "       [ 0.6071,  0.3969, -0.2171, -0.2222, -1.7638]])"
   ]
  },
  {
   "cell_type": "markdown",
   "id": "d3e33e95",
   "metadata": {
    "lines_to_next_cell": 0
   },
   "source": [
    "## 间接排序：argsort和lexsort\n",
    "\n",
    "在数据分析工作中，常常需要根据一个或多个键对数据集进行排序。例如，一个有关学生信息的数据表可能需要以姓和名进行排序（先姓后名）。这就是间接排序的一个例子，如果你阅读过有关pandas的章节，那就已经见过不少高级例子了。给定一个或多个键，你就可以得到一个由整数组成的索引数组（我亲切地称之为索引器），其中的索引值说明了数据在新顺序下的位置。argsort和numpy.lexsort就是实现该功能的两个主要方法。下面是一个简单的例子："
   ]
  },
  {
   "cell_type": "code",
   "execution_count": null,
   "id": "184d43b6",
   "metadata": {},
   "outputs": [],
   "source": [
    "In [176]: values = np.array([5, 0, 1, 3, 2])\n",
    "\n",
    "In [177]: indexer = values.argsort()\n",
    "\n",
    "In [178]: indexer\n",
    "Out[178]: array([1, 2, 4, 3, 0])\n",
    "\n",
    "In [179]: values[indexer]\n",
    "Out[179]: array([0, 1, 2, 3, 5])"
   ]
  },
  {
   "cell_type": "markdown",
   "id": "eae419ad",
   "metadata": {
    "lines_to_next_cell": 0
   },
   "source": [
    "一个更复杂的例子，下面这段代码根据数组的第一行对其进行排序："
   ]
  },
  {
   "cell_type": "code",
   "execution_count": null,
   "id": "791d5e0d",
   "metadata": {},
   "outputs": [],
   "source": [
    "In [180]: arr = np.random.randn(3, 5)\n",
    "\n",
    "In [181]: arr[0] = values\n",
    "\n",
    "In [182]: arr\n",
    "Out[182]: \n",
    "array([[ 5.    ,  0.    ,  1.    ,  3.    ,  2.    ],\n",
    "       [-0.3636, -0.1378,  2.1777, -0.4728,  0.8356],\n",
    "       [-0.2089,  0.2316,  0.728 , -1.3918,  1.9956]])\n",
    "\n",
    "In [183]: arr[:, arr[0].argsort()]\n",
    "Out[183]: \n",
    "array([[ 0.    ,  1.    ,  2.    ,  3.    ,  5.    ],\n",
    "       [-0.1378,  2.1777,  0.8356, -0.4728, -0.3636],\n",
    "       [ 0.2316,  0.728 ,  1.9956, -1.3918, -0.2089]])"
   ]
  },
  {
   "cell_type": "markdown",
   "id": "041e6755",
   "metadata": {
    "lines_to_next_cell": 0
   },
   "source": [
    "lexsort跟argsort差不多，只不过它可以一次性对多个键数组执行间接排序（字典序）。假设我们想对一些以姓和名标识的数据进行排序："
   ]
  },
  {
   "cell_type": "code",
   "execution_count": null,
   "id": "f89bb36c",
   "metadata": {},
   "outputs": [],
   "source": [
    "In [184]: first_name = np.array(['Bob', 'Jane', 'Steve', 'Bill', 'Barbara'])\n",
    "\n",
    "In [185]: last_name = np.array(['Jones', 'Arnold', 'Arnold', 'Jones', 'Walters'])\n",
    "\n",
    "In [186]: sorter = np.lexsort((first_name, last_name))\n",
    "\n",
    "In [187]: sorter\n",
    "Out[187]: array([1, 2, 3, 0, 4])\n",
    "\n",
    "In [188]: zip(last_name[sorter], first_name[sorter])\n",
    "Out[188]: <zip at 0x7fa203eda1c8>"
   ]
  },
  {
   "cell_type": "markdown",
   "id": "a14a9aee",
   "metadata": {
    "lines_to_next_cell": 0
   },
   "source": [
    "刚开始使用lexsort的时候可能会比较容易头晕，这是因为键的应用顺序是从最后一个传入的算起的。不难看出，last_name是先于first_name被应用的。\n",
    "\n",
    ">笔记：Series和DataFrame的sort_index以及Series的order方法就是通过这些函数的变体（它们还必须考虑缺失值）实现的。\n",
    "\n",
    "## 其他排序算法\n",
    "\n",
    "稳定的（stable）排序算法会保持等价元素的相对位置。对于相对位置具有实际意义的那些间接排序而言，这一点非常重要："
   ]
  },
  {
   "cell_type": "code",
   "execution_count": null,
   "id": "5ba7b721",
   "metadata": {},
   "outputs": [],
   "source": [
    "In [189]: values = np.array(['2:first', '2:second', '1:first', '1:second',\n",
    ".....:                    '1:third'])\n",
    "\n",
    "In [190]: key = np.array([2, 2, 1, 1, 1])\n",
    "\n",
    "In [191]: indexer = key.argsort(kind='mergesort')\n",
    "\n",
    "In [192]: indexer\n",
    "Out[192]: array([2, 3, 4, 0, 1])\n",
    "\n",
    "In [193]: values.take(indexer)\n",
    "Out[193]: \n",
    "array(['1:first', '1:second', '1:third', '2:first', '2:second'],\n",
    "      dtype='<U8')"
   ]
  },
  {
   "cell_type": "markdown",
   "id": "9cd2a517",
   "metadata": {
    "lines_to_next_cell": 0
   },
   "source": [
    "mergesort（合并排序）是唯一的稳定排序，它保证有O(n log n)的性能（空间复杂度），但是其平均性能比默认的quicksort（快速排序）要差。表A-3列出了可用的排序算法及其相关的性能指标。大部分用户完全不需要知道这些东西，但了解一下总是好的。\n",
    "\n",
    "![表A-3 数组排序算法](http://upload-images.jianshu.io/upload_images/7178691-970f54f58b6b3356.png?imageMogr2/auto-orient/strip%7CimageView2/2/w/1240)\n",
    "\n",
    "## 部分排序数组\n",
    "\n",
    "排序的目的之一可能是确定数组中最大或最小的元素。NumPy有两个优化方法，numpy.partition和np.argpartition，可以在第k个最小元素划分的数组："
   ]
  },
  {
   "cell_type": "code",
   "execution_count": null,
   "id": "824de4c6",
   "metadata": {},
   "outputs": [],
   "source": [
    "In [194]: np.random.seed(12345)\n",
    "\n",
    "In [195]: arr = np.random.randn(20)\n",
    "\n",
    "In [196]: arr\n",
    "Out[196]: \n",
    "array([-0.2047,  0.4789, -0.5194, -0.5557,  1.9658,  1.3934,  0.0929,\n",
    "        0.2817,  0.769 ,  1.2464,  1.0072, -1.2962,  0.275 ,  0.2289,\n",
    "        1.3529,  0.8864, -2.0016, -0.3718,  1.669 , -0.4386])\n",
    "\n",
    "In [197]: np.partition(arr, 3)\n",
    "Out[197]: \n",
    "array([-2.0016, -1.2962, -0.5557, -0.5194, -0.3718, -0.4386, -0.2047,\n",
    "        0.2817,  0.769 ,  0.4789,  1.0072,  0.0929,  0.275 ,  0.2289,\n",
    "        1.3529,  0.8864,  1.3934,  1.9658,  1.669 ,  1.2464])"
   ]
  },
  {
   "cell_type": "markdown",
   "id": "b9777db4",
   "metadata": {
    "lines_to_next_cell": 0
   },
   "source": [
    "当你调用partition(arr, 3)，结果中的头三个元素是最小的三个，没有特定的顺序。numpy.argpartition与numpy.argsort相似，会返回索引，重排数据为等价的顺序："
   ]
  },
  {
   "cell_type": "code",
   "execution_count": null,
   "id": "b0364ed3",
   "metadata": {},
   "outputs": [],
   "source": [
    "In [198]: indices = np.argpartition(arr, 3)\n",
    "\n",
    "In [199]: indices\n",
    "Out[199]: \n",
    "array([16, 11,  3,  2, 17, 19,  0,  7,  8,  1, 10,  6, 12, 13, 14, 15,  5,\n",
    "        4, 18,  9])\n",
    "\n",
    "In [200]: arr.take(indices)\n",
    "Out[200]: \n",
    "array([-2.0016, -1.2962, -0.5557, -0.5194, -0.3718, -0.4386, -0.2047,\n",
    "        0.2817,  0.769 ,  0.4789,  1.0072,  0.0929,  0.275 ,  0.2289,\n",
    "        1.3529,  0.8864,  1.3934,  1.9658,  1.669 ,  1.2464])"
   ]
  },
  {
   "cell_type": "markdown",
   "id": "204f080c",
   "metadata": {
    "lines_to_next_cell": 0
   },
   "source": [
    "## numpy.searchsorted：在有序数组中查找元素\n",
    "\n",
    "searchsorted是一个在有序数组上执行二分查找的数组方法，只要将值插入到它返回的那个位置就能维持数组的有序性："
   ]
  },
  {
   "cell_type": "code",
   "execution_count": null,
   "id": "04f1a508",
   "metadata": {},
   "outputs": [],
   "source": [
    "In [201]: arr = np.array([0, 1, 7, 12, 15])\n",
    "\n",
    "In [202]: arr.searchsorted(9)\n",
    "Out[202]: 3"
   ]
  },
  {
   "cell_type": "markdown",
   "id": "3acb87b1",
   "metadata": {
    "lines_to_next_cell": 0
   },
   "source": [
    "你可以传入一组值就能得到一组索引："
   ]
  },
  {
   "cell_type": "code",
   "execution_count": null,
   "id": "ffdcdffd",
   "metadata": {},
   "outputs": [],
   "source": [
    "In [203]: arr.searchsorted([0, 8, 11, 16])\n",
    "Out[203]: array([0, 3, 3, 5])"
   ]
  },
  {
   "cell_type": "markdown",
   "id": "dd2ffa65",
   "metadata": {
    "lines_to_next_cell": 0
   },
   "source": [
    "从上面的结果中可以看出，对于元素0，searchsorted会返回0。这是因为其默认行为是返回相等值组的左侧索引："
   ]
  },
  {
   "cell_type": "code",
   "execution_count": null,
   "id": "80af1bc7",
   "metadata": {},
   "outputs": [],
   "source": [
    "In [204]: arr = np.array([0, 0, 0, 1, 1, 1, 1])\n",
    "\n",
    "In [205]: arr.searchsorted([0, 1])\n",
    "Out[205]: array([0, 3])\n",
    "\n",
    "In [206]: arr.searchsorted([0, 1], side='right')\n",
    "Out[206]: array([3, 7])"
   ]
  },
  {
   "cell_type": "markdown",
   "id": "55e23694",
   "metadata": {
    "lines_to_next_cell": 0
   },
   "source": [
    "再来看searchsorted的另一个用法，假设我们有一个数据数组（其中的值在0到10000之间），还有一个表示“面元边界”的数组，我们希望用它将数据数组拆分开："
   ]
  },
  {
   "cell_type": "code",
   "execution_count": null,
   "id": "47db7235",
   "metadata": {},
   "outputs": [],
   "source": [
    "In [207]: data = np.floor(np.random.uniform(0, 10000, size=50))\n",
    "\n",
    "In [208]: bins = np.array([0, 100, 1000, 5000, 10000])\n",
    "\n",
    "In [209]: data\n",
    "Out[209]: \n",
    "array([ 9940.,  6768.,  7908.,  1709.,   268.,  8003., 9037.,   246.,\n",
    "        4917.,  5262.,  5963.,   519.,  8950.,  7282.,  8183.,  5002.,\n",
    "        8101.,   959.,  2189.,  2587.,  4681.,  4593.,  7095.,  1780.,\n",
    "        5314.,  1677.,  7688.,  9281.,  6094.,  1501.,  4896.,  3773.,\n",
    "        8486.,  9110.,  3838.,  3154.,  5683.,  1878.,  1258.,  6875.,\n",
    "        7996.,  5735.,  9732.,  6340.,  8884.,  4954.,  3516.,  7142.,\n",
    "        5039.,  2256.])"
   ]
  },
  {
   "cell_type": "markdown",
   "id": "53afb52e",
   "metadata": {
    "lines_to_next_cell": 0
   },
   "source": [
    "然后，为了得到各数据点所属区间的编号（其中1表示面元[0,100)），我们可以直接使用searchsorted："
   ]
  },
  {
   "cell_type": "code",
   "execution_count": null,
   "id": "5f0f715f",
   "metadata": {},
   "outputs": [],
   "source": [
    "In [210]: labels = bins.searchsorted(data)\n",
    "\n",
    "In [211]: labels\n",
    "Out[211]: \n",
    "array([4, 4, 4, 3, 2, 4, 4, 2, 3, 4, 4, 2, 4, 4, 4, 4, 4, 2, 3, 3, 3, 3, 4,\n",
    "       3, 4, 3, 4, 4, 4, 3, 3, 3, 4, 4, 3, 3, 4, 3, 3, 4, 4, 4, 4, 4, 4, 3,\n",
    "       3, 4, 4, 3])"
   ]
  },
  {
   "cell_type": "markdown",
   "id": "d06536a8",
   "metadata": {
    "lines_to_next_cell": 0
   },
   "source": [
    "通过pandas的groupby使用该结果即可非常轻松地对原数据集进行拆分："
   ]
  },
  {
   "cell_type": "code",
   "execution_count": null,
   "id": "d0337475",
   "metadata": {},
   "outputs": [],
   "source": [
    "In [212]: pd.Series(data).groupby(labels).mean()\n",
    "Out[212]: \n",
    "2     498.000000\n",
    "3    3064.277778\n",
    "4    7389.035714\n",
    "dtype: float64"
   ]
  },
  {
   "cell_type": "markdown",
   "id": "372dc2de",
   "metadata": {
    "lines_to_next_cell": 0
   },
   "source": [
    "#A.7 用Numba编写快速NumPy函数\n",
    "\n",
    "Numba是一个开源项目，它可以利用CPUs、GPUs或其它硬件为类似NumPy的数据创建快速函数。它使用了LLVM项目（http://llvm.org/），将Python代码转换为机器代码。\n",
    "\n",
    "为了介绍Numba，来考虑一个纯粹的Python函数，它使用for循环计算表达式(x - y).mean()："
   ]
  },
  {
   "cell_type": "code",
   "execution_count": null,
   "id": "d0794512",
   "metadata": {},
   "outputs": [],
   "source": [
    "import numpy as np\n",
    "\n",
    "def mean_distance(x, y):\n",
    "    nx = len(x)\n",
    "    result = 0.0\n",
    "    count = 0\n",
    "    for i in range(nx):\n",
    "        result += x[i] - y[i]\n",
    "        count += 1\n",
    "    return result / count"
   ]
  },
  {
   "cell_type": "markdown",
   "id": "87f5deb8",
   "metadata": {
    "lines_to_next_cell": 0
   },
   "source": [
    "这个函数很慢："
   ]
  },
  {
   "cell_type": "code",
   "execution_count": null,
   "id": "6a2d3d66",
   "metadata": {},
   "outputs": [],
   "source": [
    "In [209]: x = np.random.randn(10000000)\n",
    "\n",
    "In [210]: y = np.random.randn(10000000)\n",
    "\n",
    "In [211]: %timeit mean_distance(x, y)\n",
    "1 loop, best of 3: 2 s per loop\n",
    "\n",
    "In [212]: %timeit (x - y).mean()\n",
    "100 loops, best of 3: 14.7 ms per loop"
   ]
  },
  {
   "cell_type": "markdown",
   "id": "c29525bb",
   "metadata": {
    "lines_to_next_cell": 0
   },
   "source": [
    "NumPy的版本要比它快过100倍。我们可以转换这个函数为编译的Numba函数，使用numba.jit函数："
   ]
  },
  {
   "cell_type": "code",
   "execution_count": null,
   "id": "b1a3b4af",
   "metadata": {},
   "outputs": [],
   "source": [
    "In [213]: import numba as nb\n",
    "\n",
    "In [214]: numba_mean_distance = nb.jit(mean_distance)"
   ]
  },
  {
   "cell_type": "markdown",
   "id": "2342bd71",
   "metadata": {
    "lines_to_next_cell": 0
   },
   "source": [
    "也可以写成装饰器："
   ]
  },
  {
   "cell_type": "code",
   "execution_count": null,
   "id": "1282c7c6",
   "metadata": {},
   "outputs": [],
   "source": [
    "@nb.jit\n",
    "def mean_distance(x, y):\n",
    "    nx = len(x)\n",
    "    result = 0.0\n",
    "    count = 0\n",
    "    for i in range(nx):\n",
    "        result += x[i] - y[i]\n",
    "        count += 1\n",
    "    return result / count"
   ]
  },
  {
   "cell_type": "markdown",
   "id": "accb1e78",
   "metadata": {
    "lines_to_next_cell": 0
   },
   "source": [
    "它要比矢量化的NumPy快："
   ]
  },
  {
   "cell_type": "code",
   "execution_count": null,
   "id": "2cebac3c",
   "metadata": {},
   "outputs": [],
   "source": [
    "In [215]: %timeit numba_mean_distance(x, y)\n",
    "100 loops, best of 3: 10.3 ms per loop"
   ]
  },
  {
   "cell_type": "markdown",
   "id": "ec5be12f",
   "metadata": {
    "lines_to_next_cell": 0
   },
   "source": [
    "Numba不能编译Python代码，但它支持纯Python写的一个部分，可以编写数值算法。\n",
    "\n",
    "Numba是一个深厚的库，支持多种硬件、编译模式和用户插件。它还可以编译NumPy Python API的一部分，而不用for循环。Numba也可以识别可以便以为机器编码的结构体，但是若调用CPython API，它就不知道如何编译。Numba的jit函数有一个选项，nopython=True，它限制了可以被转换为Python代码的代码，这些代码可以编译为LLVM，但没有任何Python C API调用。jit(nopython=True)有一个简短的别名numba.njit。\n",
    "\n",
    "前面的例子，我们还可以这样写："
   ]
  },
  {
   "cell_type": "code",
   "execution_count": null,
   "id": "579f4b47",
   "metadata": {},
   "outputs": [],
   "source": [
    "from numba import float64, njit\n",
    "\n",
    "@njit(float64(float64[:], float64[:]))\n",
    "def mean_distance(x, y):\n",
    "    return (x - y).mean()"
   ]
  },
  {
   "cell_type": "markdown",
   "id": "013dc3a7",
   "metadata": {
    "lines_to_next_cell": 0
   },
   "source": [
    "我建议你学习Numba的线上文档（http://numba.pydata.org/）。下一节介绍一个创建自定义Numpy ufunc对象的例子。\n",
    "\n",
    "## 用Numba创建自定义numpy.ufunc对象\n",
    "\n",
    "numba.vectorize创建了一个编译的NumPy ufunc，它与内置的ufunc很像。考虑一个numpy.add的Python例子："
   ]
  },
  {
   "cell_type": "code",
   "execution_count": null,
   "id": "b82a037d",
   "metadata": {},
   "outputs": [],
   "source": [
    "from numba import vectorize\n",
    "\n",
    "@vectorize\n",
    "def nb_add(x, y):\n",
    "    return x + y"
   ]
  },
  {
   "cell_type": "markdown",
   "id": "c03a7a8a",
   "metadata": {
    "lines_to_next_cell": 0
   },
   "source": [
    "现在有："
   ]
  },
  {
   "cell_type": "code",
   "execution_count": null,
   "id": "9ff1a7c2",
   "metadata": {
    "lines_to_next_cell": 2
   },
   "outputs": [],
   "source": [
    "In [13]: x = np.arange(10)\n",
    "\n",
    "In [14]: nb_add(x, x)\n",
    "Out[14]: array([  0.,   2.,   4.,   6.,   8.,  10.,  12.,  14.,  16.,  18.])\n",
    "\n",
    "In [15]: nb_add.accumulate(x, 0)\n",
    "Out[15]: array([  0.,   1.,   3.,   6.,  10.,  15.,  21.,  28.,  36.,  45.])"
   ]
  },
  {
   "cell_type": "markdown",
   "id": "946237ef",
   "metadata": {
    "lines_to_next_cell": 0
   },
   "source": [
    "# A.8 高级数组输入输出\n",
    "\n",
    "我在第4章中讲过，np.save和np.load可用于读写磁盘上以二进制格式存储的数组。其实还有一些工具可用于更为复杂的场景。尤其是内存映像（memory map），它使你能处理在内存中放不下的数据集。\n",
    "\n",
    "## 内存映像文件\n",
    "\n",
    "内存映像文件是一种将磁盘上的非常大的二进制数据文件当做内存中的数组进行处理的方式。NumPy实现了一个类似于ndarray的memmap对象，它允许将大文件分成小段进行读写，而不是一次性将整个数组读入内存。另外，memmap也拥有跟普通数组一样的方法，因此，基本上只要是能用于ndarray的算法就也能用于memmap。\n",
    "\n",
    "要创建一个内存映像，可以使用函数np.memmap并传入一个文件路径、数据类型、形状以及文件模式："
   ]
  },
  {
   "cell_type": "code",
   "execution_count": null,
   "id": "f2f3a77e",
   "metadata": {},
   "outputs": [],
   "source": [
    "In [214]: mmap = np.memmap('mymmap', dtype='float64', mode='w+',\n",
    "   .....:                  shape=(10000, 10000))\n",
    "\n",
    "In [215]: mmap\n",
    "Out[215]: \n",
    "memmap([[ 0.,  0.,  0., ...,  0.,  0.,  0.],\n",
    "        [ 0.,  0.,  0., ...,  0.,  0.,  0.],\n",
    "        [ 0.,  0.,  0., ...,  0.,  0.,  0.],\n",
    "        ..., \n",
    "        [ 0.,  0.,  0., ...,  0.,  0.,  0.],\n",
    "        [ 0.,  0.,  0., ...,  0.,  0.,  0.],\n",
    "        [ 0.,  0.,  0., ...,  0.,  0.,  0.]])"
   ]
  },
  {
   "cell_type": "markdown",
   "id": "332ee321",
   "metadata": {
    "lines_to_next_cell": 0
   },
   "source": [
    "对memmap切片将会返回磁盘上的数据的视图："
   ]
  },
  {
   "cell_type": "code",
   "execution_count": null,
   "id": "d732b730",
   "metadata": {},
   "outputs": [],
   "source": [
    "In [216]: section = mmap[:5]"
   ]
  },
  {
   "cell_type": "markdown",
   "id": "d19364b3",
   "metadata": {
    "lines_to_next_cell": 0
   },
   "source": [
    "如果将数据赋值给这些视图：数据会先被缓存在内存中（就像是Python的文件对象），调用flush即可将其写入磁盘："
   ]
  },
  {
   "cell_type": "code",
   "execution_count": null,
   "id": "1864a071",
   "metadata": {},
   "outputs": [],
   "source": [
    "In [217]: section[:] = np.random.randn(5, 10000)\n",
    "\n",
    "In [218]: mmap.flush()\n",
    "\n",
    "In [219]: mmap\n",
    "Out[219]: \n",
    "memmap([[ 0.7584, -0.6605,  0.8626, ...,  0.6046, -0.6212,  2.0542],\n",
    "        [-1.2113, -1.0375,  0.7093, ..., -1.4117, -0.1719, -0.8957],\n",
    "        [-0.1419, -0.3375,  0.4329, ...,  1.2914, -0.752 , -0.44  ],\n",
    "        ..., \n",
    "        [ 0.    ,  0.    ,  0.    , ...,  0.    ,  0.    ,  0.    ],\n",
    "        [ 0.    ,  0.    ,  0.    , ...,  0.    ,  0.    ,  0.    ],\n",
    "        [ 0.    ,  0.    ,  0.    , ...,  0.    ,  0.    ,  0.    ]])\n",
    "\n",
    "In [220]: del mmap"
   ]
  },
  {
   "cell_type": "markdown",
   "id": "d5d8a10a",
   "metadata": {
    "lines_to_next_cell": 0
   },
   "source": [
    "只要某个内存映像超出了作用域，它就会被垃圾回收器回收，之前对其所做的任何修改都会被写入磁盘。当打开一个已经存在的内存映像时，仍然需要指明数据类型和形状，因为磁盘上的那个文件只是一块二进制数据而已，没有任何元数据："
   ]
  },
  {
   "cell_type": "code",
   "execution_count": null,
   "id": "6aa4c8d1",
   "metadata": {},
   "outputs": [],
   "source": [
    "In [221]: mmap = np.memmap('mymmap', dtype='float64', shape=(10000, 10000))\n",
    "\n",
    "In [222]: mmap\n",
    "Out[222]: \n",
    "memmap([[ 0.7584, -0.6605,  0.8626, ...,  0.6046, -0.6212,  2.0542],\n",
    "        [-1.2113, -1.0375,  0.7093, ..., -1.4117, -0.1719, -0.8957],\n",
    "        [-0.1419, -0.3375,  0.4329, ...,  1.2914, -0.752 , -0.44  ],\n",
    "        ..., \n",
    "        [ 0.    ,  0.    ,  0.    , ...,  0.    ,  0.    ,  0.    ],\n",
    "        [ 0.    ,  0.    ,  0.    , ...,  0.    ,  0.    ,  0.    ],\n",
    "        [ 0.    ,  0.    ,  0.    , ...,  0.    ,  0.    ,  0.    ]])"
   ]
  },
  {
   "cell_type": "markdown",
   "id": "dbae7a35",
   "metadata": {
    "lines_to_next_cell": 0
   },
   "source": [
    "内存映像可以使用前面介绍的结构化或嵌套dtype。\n",
    "\n",
    "## HDF5及其他数组存储方式\n",
    "\n",
    "PyTables和h5py这两个Python项目可以将NumPy的数组数据存储为高效且可压缩的HDF5格式（HDF意思是“层次化数据格式”）。你可以安全地将好几百GB甚至TB的数据存储为HDF5格式。要学习Python使用HDF5，请参考pandas线上文档。\n",
    "\n",
    "# A.9 性能建议\n",
    "\n",
    "使用NumPy的代码的性能一般都很不错，因为数组运算一般都比纯Python循环快得多。下面大致列出了一些需要注意的事项：\n",
    "\n",
    "- 将Python循环和条件逻辑转换为数组运算和布尔数组运算。\n",
    "- 尽量使用广播。\n",
    "- 避免复制数据，尽量使用数组视图（即切片）。\n",
    "- 利用ufunc及其各种方法。\n",
    "\n",
    "如果单用NumPy无论如何都达不到所需的性能指标，就可以考虑一下用C、Fortran或Cython（等下会稍微介绍一下）来编写代码。我自己在工作中经常会用到Cython（http://cython.org），因为它不用花费我太多精力就能得到C语言那样的性能。\n",
    "\n",
    "## 连续内存的重要性\n",
    "\n",
    "虽然这个话题有点超出本书的范围，但还是要提一下，因为在某些应用场景中，数组的内存布局可以对计算速度造成极大的影响。这是因为性能差别在一定程度上跟CPU的高速缓存（cache）体系有关。运算过程中访问连续内存块（例如，对以C顺序存储的数组的行求和）一般是最快的，因为内存子系统会将适当的内存块缓存到超高速的L1或L2CPU Cache中。此外，NumPy的C语言基础代码（某些）对连续存储的情况进行了优化处理，这样就能避免一些跨越式的内存访问。\n",
    "\n",
    "一个数组的内存布局是连续的，就是说元素是以它们在数组中出现的顺序（即Fortran型（列优先）或C型（行优先））存储在内存中的。默认情况下，NumPy数组是以C型连续的方式创建的。列优先的数组（比如C型连续数组的转置）也被称为Fortran型连续。通过ndarray的flags属性即可查看这些信息："
   ]
  },
  {
   "cell_type": "code",
   "execution_count": null,
   "id": "6e47b15b",
   "metadata": {},
   "outputs": [],
   "source": [
    "In [225]: arr_c = np.ones((1000, 1000), order='C')\n",
    "\n",
    "In [226]: arr_f = np.ones((1000, 1000), order='F')\n",
    "\n",
    "In [227]: arr_c.flags\n",
    "\n",
    "Out[227]: \n",
    "  C_CONTIGUOUS : True\n",
    "  F_CONTIGUOUS : False\n",
    "  OWNDATA : True\n",
    "  WRITEABLE : True\n",
    "  ALIGNED : True\n",
    "  UPDATEIFCOPY : False\n",
    "\n",
    "In [228]: arr_f.flags\n",
    "Out[228]: \n",
    "  C_CONTIGUOUS : False\n",
    "  F_CONTIGUOUS : True\n",
    "  OWNDATA : True\n",
    "  WRITEABLE : True\n",
    "  ALIGNED : True\n",
    "  UPDATEIFCOPY : False\n",
    "\n",
    "In [229]: arr_f.flags.f_contiguous\n",
    "Out[229]: True"
   ]
  },
  {
   "cell_type": "markdown",
   "id": "09e4a615",
   "metadata": {
    "lines_to_next_cell": 0
   },
   "source": [
    "在这个例子中，对两个数组的行进行求和计算，理论上说，arr_c会比arr_f快，因为arr_c的行在内存中是连续的。我们可以在IPython中用%timeit来确认一下："
   ]
  },
  {
   "cell_type": "code",
   "execution_count": null,
   "id": "86201fdd",
   "metadata": {},
   "outputs": [],
   "source": [
    "In [230]: %timeit arr_c.sum(1)\n",
    "784 us +- 10.4 us per loop (mean +- std. dev. of 7 runs, 1000 loops each)\n",
    "\n",
    "In [231]: %timeit arr_f.sum(1)\n",
    "934 us +- 29 us per loop (mean +- std. dev. of 7 runs, 1000 loops each)"
   ]
  },
  {
   "cell_type": "markdown",
   "id": "f012d855",
   "metadata": {
    "lines_to_next_cell": 0
   },
   "source": [
    "如果想从NumPy中提升性能，这里就应该是下手的地方。如果数组的内存顺序不符合你的要求，使用copy并传入'C'或'F'即可解决该问题："
   ]
  },
  {
   "cell_type": "code",
   "execution_count": null,
   "id": "87b5bdf5",
   "metadata": {},
   "outputs": [],
   "source": [
    "In [232]: arr_f.copy('C').flags\n",
    "Out[232]: \n",
    "  C_CONTIGUOUS : True\n",
    "  F_CONTIGUOUS : False\n",
    "  OWNDATA : True\n",
    "  WRITEABLE : True\n",
    "  ALIGNED : True\n",
    "  UPDATEIFCOPY : False"
   ]
  },
  {
   "cell_type": "markdown",
   "id": "8ab13b3a",
   "metadata": {
    "lines_to_next_cell": 0
   },
   "source": [
    "注意，在构造数组的视图时，其结果不一定是连续的："
   ]
  },
  {
   "cell_type": "code",
   "execution_count": null,
   "id": "2318d830",
   "metadata": {},
   "outputs": [],
   "source": [
    "In [233]: arr_c[:50].flags.contiguous\n",
    "Out[233]: True\n",
    "\n",
    "In [234]: arr_c[:, :50].flags\n",
    "Out[234]: \n",
    "  C_CONTIGUOUS : False\n",
    "  F_CONTIGUOUS : False\n",
    "  OWNDATA : False\n",
    "  WRITEABLE : True\n",
    "  ALIGNED : True\n",
    "  UPDATEIFCOPY : False"
   ]
  }
 ],
 "metadata": {
  "jupytext": {
   "cell_metadata_filter": "-all",
   "main_language": "python",
   "notebook_metadata_filter": "-all"
  }
 },
 "nbformat": 4,
 "nbformat_minor": 5
}
