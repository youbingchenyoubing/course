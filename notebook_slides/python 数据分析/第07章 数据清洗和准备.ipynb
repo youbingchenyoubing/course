{
 "cells": [
  {
   "cell_type": "markdown",
   "id": "4fcb1d0c",
   "metadata": {
    "lines_to_next_cell": 0
   },
   "source": [
    "在数据分析和建模的过程中，相当多的时间要用在数据准备上：加载、清理、转换以及重塑。这些工作会占到分析师时间的80%或更多。有时，存储在文件和数据库中的数据的格式不适合某个特定的任务。许多研究者都选择使用通用编程语言（如Python、Perl、R或Java）或UNIX文本处理工具（如sed或awk）对数据格式进行专门处理。幸运的是，pandas和内置的Python标准库提供了一组高级的、灵活的、快速的工具，可以让你轻松地将数据规整为想要的格式。\n",
    "\n",
    "如果你发现了一种本书或pandas库中没有的数据操作方式，请在邮件列表或GitHub网站上提出。实际上，pandas的许多设计和实现都是由真实应用的需求所驱动的。\n",
    "\n",
    "在本章中，我会讨论处理缺失数据、重复数据、字符串操作和其它分析数据转换的工具。下一章，我会关注于用多种方法合并、重塑数据集。\n",
    "\n",
    "# 7.1 处理缺失数据\n",
    "在许多数据分析工作中，缺失数据是经常发生的。pandas的目标之一就是尽量轻松地处理缺失数据。例如，pandas对象的所有描述性统计默认都不包括缺失数据。\n",
    "\n",
    "缺失数据在pandas中呈现的方式有些不完美，但对于大多数用户可以保证功能正常。对于数值数据，pandas使用浮点值NaN（Not a Number）表示缺失数据。我们称其为哨兵值，可以方便的检测出来："
   ]
  },
  {
   "cell_type": "code",
   "execution_count": null,
   "id": "92e665bc",
   "metadata": {},
   "outputs": [],
   "source": [
    "In [10]: string_data = pd.Series(['aardvark', 'artichoke', np.nan, 'avocado'])\n",
    "\n",
    "In [11]: string_data\n",
    "Out[11]:\n",
    "0     aardvark\n",
    "1    artichoke\n",
    "2          NaN\n",
    "3      avocado\n",
    "dtype: object\n",
    "\n",
    "In [12]: string_data.isnull()\n",
    "Out[12]: \n",
    "0    False\n",
    "1    False\n",
    "2     True\n",
    "3    False\n",
    "dtype: bool"
   ]
  },
  {
   "cell_type": "markdown",
   "id": "a5be752c",
   "metadata": {
    "lines_to_next_cell": 0
   },
   "source": [
    "在pandas中，我们采用了R语言中的惯用法，即将缺失值表示为NA，它表示不可用not available。在统计应用中，NA数据可能是不存在的数据或者虽然存在，但是没有观察到（例如，数据采集中发生了问题）。当进行数据清洗以进行分析时，最好直接对缺失数据进行分析，以判断数据采集的问题或缺失数据可能导致的偏差。\n",
    "\n",
    "Python内置的None值在对象数组中也可以作为NA："
   ]
  },
  {
   "cell_type": "code",
   "execution_count": null,
   "id": "f6221316",
   "metadata": {},
   "outputs": [],
   "source": [
    "In [13]: string_data[0] = None\n",
    "\n",
    "In [14]: string_data.isnull()\n",
    "Out[14]: \n",
    "0     True\n",
    "1    False\n",
    "2     True\n",
    "3    False\n",
    "dtype: bool"
   ]
  },
  {
   "cell_type": "markdown",
   "id": "e815c79a",
   "metadata": {
    "lines_to_next_cell": 0
   },
   "source": [
    "pandas项目中还在不断优化内部细节以更好处理缺失数据，像用户API功能，例如pandas.isnull，去除了许多恼人的细节。表7-1列出了一些关于缺失数据处理的函数。\n",
    "\n",
    "![表7-1 NA处理方法](http://upload-images.jianshu.io/upload_images/7178691-1a0f73e5bb26ea21.png?imageMogr2/auto-orient/strip%7CimageView2/2/w/1240)\n",
    "\n",
    "## 滤除缺失数据\n",
    "过滤掉缺失数据的办法有很多种。你可以通过pandas.isnull或布尔索引的手工方法，但dropna可能会更实用一些。对于一个Series，dropna返回一个仅含非空数据和索引值的Series："
   ]
  },
  {
   "cell_type": "code",
   "execution_count": null,
   "id": "f03fe32c",
   "metadata": {},
   "outputs": [],
   "source": [
    "In [15]: from numpy import nan as NA\n",
    "\n",
    "In [16]: data = pd.Series([1, NA, 3.5, NA, 7])\n",
    "\n",
    "In [17]: data.dropna()\n",
    "Out[17]: \n",
    "0    1.0\n",
    "2    3.5\n",
    "4    7.0\n",
    "dtype: float64"
   ]
  },
  {
   "cell_type": "markdown",
   "id": "1bbba759",
   "metadata": {
    "lines_to_next_cell": 0
   },
   "source": [
    "这等价于："
   ]
  },
  {
   "cell_type": "code",
   "execution_count": null,
   "id": "830a3d1e",
   "metadata": {},
   "outputs": [],
   "source": [
    "In [18]: data[data.notnull()]\n",
    "Out[18]: \n",
    "0    1.0\n",
    "2    3.5\n",
    "4    7.0\n",
    "dtype: float64"
   ]
  },
  {
   "cell_type": "markdown",
   "id": "c8659919",
   "metadata": {
    "lines_to_next_cell": 0
   },
   "source": [
    "而对于DataFrame对象，事情就有点复杂了。你可能希望丢弃全NA或含有NA的行或列。dropna默认丢弃任何含有缺失值的行："
   ]
  },
  {
   "cell_type": "code",
   "execution_count": null,
   "id": "cb0b754b",
   "metadata": {},
   "outputs": [],
   "source": [
    "In [19]: data = pd.DataFrame([[1., 6.5, 3.], [1., NA, NA],\n",
    "   ....:                      [NA, NA, NA], [NA, 6.5, 3.]])\n",
    "\n",
    "In [20]: cleaned = data.dropna()\n",
    "\n",
    "In [21]: data\n",
    "Out[21]: \n",
    "     0    1    2\n",
    "0  1.0  6.5  3.0\n",
    "1  1.0  NaN  NaN\n",
    "2  NaN  NaN  NaN\n",
    "3  NaN  6.5  3.0\n",
    "\n",
    "In [22]: cleaned\n",
    "Out[22]: \n",
    "     0    1    2\n",
    "0  1.0  6.5  3.0"
   ]
  },
  {
   "cell_type": "markdown",
   "id": "947bcf78",
   "metadata": {
    "lines_to_next_cell": 0
   },
   "source": [
    "传入how='all'将只丢弃全为NA的那些行："
   ]
  },
  {
   "cell_type": "code",
   "execution_count": null,
   "id": "46c65376",
   "metadata": {},
   "outputs": [],
   "source": [
    "In [23]: data.dropna(how='all')\n",
    "Out[23]: \n",
    "     0    1    2\n",
    "0  1.0  6.5  3.0\n",
    "1  1.0  NaN  NaN\n",
    "3  NaN  6.5  3.0"
   ]
  },
  {
   "cell_type": "markdown",
   "id": "422f83d8",
   "metadata": {
    "lines_to_next_cell": 0
   },
   "source": [
    "用这种方式丢弃列，只需传入axis=1即可："
   ]
  },
  {
   "cell_type": "code",
   "execution_count": null,
   "id": "3f2d9e94",
   "metadata": {},
   "outputs": [],
   "source": [
    "In [24]: data[4] = NA\n",
    "\n",
    "In [25]: data\n",
    "Out[25]: \n",
    "     0    1    2   4\n",
    "0  1.0  6.5  3.0 NaN\n",
    "1  1.0  NaN  NaN NaN\n",
    "2  NaN  NaN  NaN NaN\n",
    "3  NaN  6.5  3.0 NaN\n",
    "\n",
    "In [26]: data.dropna(axis=1, how='all')\n",
    "Out[26]: \n",
    "     0    1    2\n",
    "0  1.0  6.5  3.0\n",
    "1  1.0  NaN  NaN\n",
    "2  NaN  NaN  NaN\n",
    "3  NaN  6.5  3.0"
   ]
  },
  {
   "cell_type": "markdown",
   "id": "974a7584",
   "metadata": {
    "lines_to_next_cell": 0
   },
   "source": [
    "另一个滤除DataFrame行的问题涉及时间序列数据。假设你只想留下一部分观测数据，可以用thresh参数实现此目的："
   ]
  },
  {
   "cell_type": "code",
   "execution_count": null,
   "id": "05a55800",
   "metadata": {},
   "outputs": [],
   "source": [
    "In [27]: df = pd.DataFrame(np.random.randn(7, 3))\n",
    "\n",
    "In [28]: df.iloc[:4, 1] = NA\n",
    "\n",
    "In [29]: df.iloc[:2, 2] = NA\n",
    "\n",
    "In [30]: df\n",
    "Out[30]: \n",
    "          0         1         2\n",
    "0 -0.204708       NaN       NaN\n",
    "1 -0.555730       NaN       NaN\n",
    "2  0.092908       NaN  0.769023\n",
    "3  1.246435       NaN -1.296221\n",
    "4  0.274992  0.228913  1.352917\n",
    "5  0.886429 -2.001637 -0.371843\n",
    "6  1.669025 -0.438570 -0.539741\n",
    "\n",
    "In [31]: df.dropna()\n",
    "Out[31]: \n",
    "          0         1         2\n",
    "4  0.274992  0.228913  1.352917\n",
    "5  0.886429 -2.001637 -0.371843\n",
    "6  1.669025 -0.438570 -0.539741\n",
    "\n",
    "In [32]: df.dropna(thresh=2)\n",
    "Out[32]: \n",
    "          0         1         2\n",
    "2  0.092908       NaN  0.769023\n",
    "3  1.246435       NaN -1.296221\n",
    "4  0.274992  0.228913  1.352917\n",
    "5  0.886429 -2.001637 -0.371843\n",
    "6  1.669025 -0.438570 -0.539741"
   ]
  },
  {
   "cell_type": "markdown",
   "id": "dd87bfe9",
   "metadata": {
    "lines_to_next_cell": 0
   },
   "source": [
    "## 填充缺失数据\n",
    "你可能不想滤除缺失数据（有可能会丢弃跟它有关的其他数据），而是希望通过其他方式填补那些“空洞”。对于大多数情况而言，fillna方法是最主要的函数。通过一个常数调用fillna就会将缺失值替换为那个常数值："
   ]
  },
  {
   "cell_type": "code",
   "execution_count": null,
   "id": "9e9d10ea",
   "metadata": {},
   "outputs": [],
   "source": [
    "In [33]: df.fillna(0)\n",
    "Out[33]: \n",
    "          0         1         2\n",
    "0 -0.204708  0.000000  0.000000\n",
    "1 -0.555730  0.000000  0.000000\n",
    "2  0.092908  0.000000  0.769023\n",
    "3  1.246435  0.000000 -1.296221\n",
    "4  0.274992  0.228913  1.352917\n",
    "5  0.886429 -2.001637 -0.371843\n",
    "6  1.669025 -0.438570 -0.539741"
   ]
  },
  {
   "cell_type": "markdown",
   "id": "9e76e021",
   "metadata": {
    "lines_to_next_cell": 0
   },
   "source": [
    "若是通过一个字典调用fillna，就可以实现对不同的列填充不同的值："
   ]
  },
  {
   "cell_type": "code",
   "execution_count": null,
   "id": "27272d4a",
   "metadata": {},
   "outputs": [],
   "source": [
    "In [34]: df.fillna({1: 0.5, 2: 0})\n",
    "Out[34]: \n",
    "          0         1         2\n",
    "0 -0.204708  0.500000  0.000000\n",
    "1 -0.555730  0.500000  0.000000\n",
    "2  0.092908  0.500000  0.769023\n",
    "3  1.246435  0.500000 -1.296221\n",
    "4  0.274992  0.228913  1.352917\n",
    "5  0.886429 -2.001637 -0.371843\n",
    "6  1.669025 -0.438570 -0.539741"
   ]
  },
  {
   "cell_type": "markdown",
   "id": "c8a14da1",
   "metadata": {
    "lines_to_next_cell": 0
   },
   "source": [
    "fillna默认会返回新对象，但也可以对现有对象进行就地修改："
   ]
  },
  {
   "cell_type": "code",
   "execution_count": null,
   "id": "c0bfc557",
   "metadata": {},
   "outputs": [],
   "source": [
    "In [35]: _ = df.fillna(0, inplace=True)\n",
    "\n",
    "In [36]: df\n",
    "Out[36]: \n",
    "          0         1         2\n",
    "0 -0.204708  0.000000  0.000000\n",
    "1 -0.555730  0.000000  0.000000\n",
    "2  0.092908  0.000000  0.769023\n",
    "3  1.246435  0.000000 -1.296221\n",
    "4  0.274992  0.228913  1.352917\n",
    "5  0.886429 -2.001637 -0.371843\n",
    "6  1.669025 -0.438570 -0.539741"
   ]
  },
  {
   "cell_type": "markdown",
   "id": "53b8f497",
   "metadata": {
    "lines_to_next_cell": 0
   },
   "source": [
    "对reindexing有效的那些插值方法也可用于fillna："
   ]
  },
  {
   "cell_type": "code",
   "execution_count": null,
   "id": "8a1736fe",
   "metadata": {},
   "outputs": [],
   "source": [
    "In [37]: df = pd.DataFrame(np.random.randn(6, 3))\n",
    "\n",
    "In [38]: df.iloc[2:, 1] = NA\n",
    "\n",
    "In [39]: df.iloc[4:, 2] = NA\n",
    "\n",
    "In [40]: df\n",
    "Out[40]: \n",
    "          0         1         2\n",
    "0  0.476985  3.248944 -1.021228\n",
    "1 -0.577087  0.124121  0.302614\n",
    "2  0.523772       NaN  1.343810\n",
    "3 -0.713544       NaN -2.370232\n",
    "4 -1.860761       NaN       NaN\n",
    "5 -1.265934       NaN       NaN\n",
    "\n",
    "In [41]: df.fillna(method='ffill')\n",
    "Out[41]: \n",
    "          0         1         2\n",
    "0  0.476985  3.248944 -1.021228\n",
    "1 -0.577087  0.124121  0.302614\n",
    "2  0.523772  0.124121  1.343810\n",
    "3 -0.713544  0.124121 -2.370232\n",
    "4 -1.860761  0.124121 -2.370232\n",
    "5 -1.265934  0.124121 -2.370232\n",
    "\n",
    "In [42]: df.fillna(method='ffill', limit=2)\n",
    "Out[42]: \n",
    "          0         1         2\n",
    "0  0.476985  3.248944 -1.021228\n",
    "1 -0.577087  0.124121  0.302614\n",
    "2  0.523772  0.124121  1.343810\n",
    "3 -0.713544  0.124121 -2.370232\n",
    "4 -1.860761       NaN -2.370232\n",
    "5 -1.265934       NaN -2.370232"
   ]
  },
  {
   "cell_type": "markdown",
   "id": "f72cb0e8",
   "metadata": {
    "lines_to_next_cell": 0
   },
   "source": [
    "只要有些创新，你就可以利用fillna实现许多别的功能。比如说，你可以传入Series的平均值或中位数："
   ]
  },
  {
   "cell_type": "code",
   "execution_count": null,
   "id": "7c817a40",
   "metadata": {
    "lines_to_next_cell": 0
   },
   "outputs": [],
   "source": [
    "In [43]: data = pd.Series([1., NA, 3.5, NA, 7])\n",
    "\n",
    "In [44]: data.fillna(data.mean())\n",
    "Out[44]: \n",
    "0    1.000000\n",
    "1    3.833333\n",
    "2    3.500000\n",
    "3    3.833333\n",
    "4    7.000000\n",
    "dtype: float64"
   ]
  },
  {
   "cell_type": "markdown",
   "id": "a4b34a86",
   "metadata": {
    "lines_to_next_cell": 0
   },
   "source": [
    "表7-2列出了fillna的参考。\n",
    "\n",
    "![](http://upload-images.jianshu.io/upload_images/7178691-0bf235386a64c3b5.png?imageMogr2/auto-orient/strip%7CimageView2/2/w/1240)\n",
    "\n",
    "![fillna函数参数](http://upload-images.jianshu.io/upload_images/7178691-4edd39e68f4dc530.png?imageMogr2/auto-orient/strip%7CimageView2/2/w/1240)\n",
    "\n",
    "# 7.2 数据转换\n",
    "本章到目前为止介绍的都是数据的重排。另一类重要操作则是过滤、清理以及其他的转换工作。\n",
    "\n",
    "## 移除重复数据\n",
    "\n",
    "DataFrame中出现重复行有多种原因。下面就是一个例子："
   ]
  },
  {
   "cell_type": "code",
   "execution_count": null,
   "id": "c5acb97c",
   "metadata": {},
   "outputs": [],
   "source": [
    "In [45]: data = pd.DataFrame({'k1': ['one', 'two'] * 3 + ['two'],\n",
    "   ....:                      'k2': [1, 1, 2, 3, 3, 4, 4]})\n",
    "\n",
    "In [46]: data\n",
    "Out[46]: \n",
    "    k1  k2\n",
    "0  one   1\n",
    "1  two   1\n",
    "2  one   2\n",
    "3  two   3\n",
    "4  one   3\n",
    "5  two   4\n",
    "6  two   4"
   ]
  },
  {
   "cell_type": "markdown",
   "id": "8375e931",
   "metadata": {
    "lines_to_next_cell": 0
   },
   "source": [
    "DataFrame的duplicated方法返回一个布尔型Series，表示各行是否是重复行（前面出现过的行）："
   ]
  },
  {
   "cell_type": "code",
   "execution_count": null,
   "id": "319dc647",
   "metadata": {},
   "outputs": [],
   "source": [
    "In [47]: data.duplicated()\n",
    "Out[47]: \n",
    "0    False\n",
    "1    False\n",
    "2    False\n",
    "3    False\n",
    "4    False\n",
    "5    False\n",
    "6     True\n",
    "dtype: bool"
   ]
  },
  {
   "cell_type": "markdown",
   "id": "1fc0b00e",
   "metadata": {
    "lines_to_next_cell": 0
   },
   "source": [
    "还有一个与此相关的drop_duplicates方法，它会返回一个DataFrame，重复的数组会标为False："
   ]
  },
  {
   "cell_type": "code",
   "execution_count": null,
   "id": "d77f2b14",
   "metadata": {},
   "outputs": [],
   "source": [
    "In [48]: data.drop_duplicates()\n",
    "Out[48]: \n",
    "    k1  k2\n",
    "0  one   1\n",
    "1  two   1\n",
    "2  one   2\n",
    "3  two   3\n",
    "4  one   3\n",
    "5  two   4"
   ]
  },
  {
   "cell_type": "markdown",
   "id": "8bcd6337",
   "metadata": {
    "lines_to_next_cell": 0
   },
   "source": [
    "这两个方法默认会判断全部列，你也可以指定部分列进行重复项判断。假设我们还有一列值，且只希望根据k1列过滤重复项："
   ]
  },
  {
   "cell_type": "code",
   "execution_count": null,
   "id": "53ea91ef",
   "metadata": {},
   "outputs": [],
   "source": [
    "In [49]: data['v1'] = range(7)\n",
    "\n",
    "In [50]: data.drop_duplicates(['k1'])\n",
    "Out[50]: \n",
    "    k1  k2  v1\n",
    "0  one   1   0\n",
    "1  two   1   1"
   ]
  },
  {
   "cell_type": "markdown",
   "id": "229acfed",
   "metadata": {
    "lines_to_next_cell": 0
   },
   "source": [
    "duplicated和drop_duplicates默认保留的是第一个出现的值组合。传入keep='last'则保留最后一个："
   ]
  },
  {
   "cell_type": "code",
   "execution_count": null,
   "id": "b5629d15",
   "metadata": {},
   "outputs": [],
   "source": [
    "In [51]: data.drop_duplicates(['k1', 'k2'], keep='last')\n",
    "Out[51]: \n",
    "    k1  k2  v1\n",
    "0  one   1   0\n",
    "1  two   1   1\n",
    "2  one   2   2\n",
    "3  two   3   3\n",
    "4  one   3   4\n",
    "6  two   4   6"
   ]
  },
  {
   "cell_type": "markdown",
   "id": "2160bccb",
   "metadata": {
    "lines_to_next_cell": 0
   },
   "source": [
    "## 利用函数或映射进行数据转换\n",
    "对于许多数据集，你可能希望根据数组、Series或DataFrame列中的值来实现转换工作。我们来看看下面这组有关肉类的数据："
   ]
  },
  {
   "cell_type": "code",
   "execution_count": null,
   "id": "68503035",
   "metadata": {},
   "outputs": [],
   "source": [
    "In [52]: data = pd.DataFrame({'food': ['bacon', 'pulled pork', 'bacon',\n",
    "   ....:                               'Pastrami', 'corned beef', 'Bacon',\n",
    "   ....:                               'pastrami', 'honey ham', 'nova lox'],\n",
    "   ....:                      'ounces': [4, 3, 12, 6, 7.5, 8, 3, 5, 6]})\n",
    "\n",
    "In [53]: data\n",
    "Out[53]: \n",
    "          food  ounces\n",
    "0        bacon     4.0\n",
    "1  pulled pork     3.0\n",
    "2        bacon    12.0\n",
    "3     Pastrami     6.0\n",
    "4  corned beef     7.5\n",
    "5        Bacon     8.0\n",
    "6     pastrami     3.0\n",
    "7    honey ham     5.0\n",
    "8     nova lox     6.0"
   ]
  },
  {
   "cell_type": "markdown",
   "id": "40cee329",
   "metadata": {
    "lines_to_next_cell": 0
   },
   "source": [
    "假设你想要添加一列表示该肉类食物来源的动物类型。我们先编写一个不同肉类到动物的映射："
   ]
  },
  {
   "cell_type": "code",
   "execution_count": null,
   "id": "3057ed55",
   "metadata": {},
   "outputs": [],
   "source": [
    "meat_to_animal = {\n",
    "  'bacon': 'pig',\n",
    "  'pulled pork': 'pig',\n",
    "  'pastrami': 'cow',\n",
    "  'corned beef': 'cow',\n",
    "  'honey ham': 'pig',\n",
    "  'nova lox': 'salmon'\n",
    "}"
   ]
  },
  {
   "cell_type": "markdown",
   "id": "42e33b45",
   "metadata": {
    "lines_to_next_cell": 0
   },
   "source": [
    "Series的map方法可以接受一个函数或含有映射关系的字典型对象，但是这里有一个小问题，即有些肉类的首字母大写了，而另一些则没有。因此，我们还需要使用Series的str.lower方法，将各个值转换为小写："
   ]
  },
  {
   "cell_type": "code",
   "execution_count": null,
   "id": "5057dd0e",
   "metadata": {},
   "outputs": [],
   "source": [
    "In [55]: lowercased = data['food'].str.lower()\n",
    "\n",
    "In [56]: lowercased\n",
    "Out[56]: \n",
    "0          bacon\n",
    "1    pulled pork\n",
    "2          bacon\n",
    "3       pastrami\n",
    "4    corned beef\n",
    "5          bacon\n",
    "6       pastrami\n",
    "7      honey ham\n",
    "8       nova lox\n",
    "Name: food, dtype: object\n",
    "\n",
    "In [57]: data['animal'] = lowercased.map(meat_to_animal)\n",
    "\n",
    "In [58]: data\n",
    "Out[58]: \n",
    "          food  ounces  animal\n",
    "0        bacon     4.0     pig\n",
    "1  pulled pork     3.0     pig\n",
    "2        bacon    12.0     pig\n",
    "3     Pastrami     6.0     cow\n",
    "4  corned beef     7.5     cow\n",
    "5        Bacon     8.0     pig\n",
    "6     pastrami     3.0     cow\n",
    "7    honey ham     5.0     pig\n",
    "8     nova lox     6.0  salmon"
   ]
  },
  {
   "cell_type": "markdown",
   "id": "27e61416",
   "metadata": {
    "lines_to_next_cell": 0
   },
   "source": [
    "我们也可以传入一个能够完成全部这些工作的函数："
   ]
  },
  {
   "cell_type": "code",
   "execution_count": null,
   "id": "a69b23de",
   "metadata": {},
   "outputs": [],
   "source": [
    "In [59]: data['food'].map(lambda x: meat_to_animal[x.lower()])\n",
    "Out[59]: \n",
    "0       pig\n",
    "1       pig\n",
    "2       pig\n",
    "3       cow\n",
    "4       cow\n",
    "5       pig\n",
    "6       cow\n",
    "7       pig\n",
    "8    salmon\n",
    "Name: food, dtype: object"
   ]
  },
  {
   "cell_type": "markdown",
   "id": "bb288a27",
   "metadata": {
    "lines_to_next_cell": 0
   },
   "source": [
    "使用map是一种实现元素级转换以及其他数据清理工作的便捷方式。\n",
    "\n",
    "## 替换值\n",
    "利用fillna方法填充缺失数据可以看做值替换的一种特殊情况。前面已经看到，map可用于修改对象的数据子集，而replace则提供了一种实现该功能的更简单、更灵活的方式。我们来看看下面这个Series："
   ]
  },
  {
   "cell_type": "code",
   "execution_count": null,
   "id": "6ce200da",
   "metadata": {},
   "outputs": [],
   "source": [
    "In [60]: data = pd.Series([1., -999., 2., -999., -1000., 3.])\n",
    "\n",
    "In [61]: data\n",
    "Out[61]: \n",
    "0       1.0\n",
    "1    -999.0\n",
    "2       2.0\n",
    "3    -999.0\n",
    "4   -1000.0\n",
    "5       3.0"
   ]
  },
  {
   "cell_type": "markdown",
   "id": "32e976d2",
   "metadata": {
    "lines_to_next_cell": 0
   },
   "source": [
    "-999这个值可能是一个表示缺失数据的标记值。要将其替换为pandas能够理解的NA值，我们可以利用replace来产生一个新的Series（除非传入inplace=True）："
   ]
  },
  {
   "cell_type": "code",
   "execution_count": null,
   "id": "3c7a21d8",
   "metadata": {},
   "outputs": [],
   "source": [
    "In [62]: data.replace(-999, np.nan)\n",
    "Out[62]: \n",
    "0       1.0\n",
    "1       NaN\n",
    "2       2.0\n",
    "3       NaN\n",
    "4   -1000.0\n",
    "5       3.0\n",
    "dtype: float64"
   ]
  },
  {
   "cell_type": "markdown",
   "id": "930cd832",
   "metadata": {
    "lines_to_next_cell": 0
   },
   "source": [
    "如果你希望一次性替换多个值，可以传入一个由待替换值组成的列表以及一个替换值：："
   ]
  },
  {
   "cell_type": "code",
   "execution_count": null,
   "id": "b21393fa",
   "metadata": {},
   "outputs": [],
   "source": [
    "In [63]: data.replace([-999, -1000], np.nan)\n",
    "Out[63]: \n",
    "0    1.0\n",
    "1    NaN\n",
    "2    2.0\n",
    "3    NaN\n",
    "4    NaN\n",
    "5    3.0\n",
    "dtype: float64"
   ]
  },
  {
   "cell_type": "markdown",
   "id": "48d47b66",
   "metadata": {
    "lines_to_next_cell": 0
   },
   "source": [
    "要让每个值有不同的替换值，可以传递一个替换列表："
   ]
  },
  {
   "cell_type": "code",
   "execution_count": null,
   "id": "174fdbfb",
   "metadata": {},
   "outputs": [],
   "source": [
    "In [64]: data.replace([-999, -1000], [np.nan, 0])\n",
    "Out[64]: \n",
    "0    1.0\n",
    "1    NaN\n",
    "2    2.0\n",
    "3    NaN\n",
    "4    0.0\n",
    "5    3.0\n",
    "dtype: float64"
   ]
  },
  {
   "cell_type": "markdown",
   "id": "8aab364c",
   "metadata": {
    "lines_to_next_cell": 0
   },
   "source": [
    "传入的参数也可以是字典："
   ]
  },
  {
   "cell_type": "code",
   "execution_count": null,
   "id": "9cc6d4aa",
   "metadata": {},
   "outputs": [],
   "source": [
    "In [65]: data.replace({-999: np.nan, -1000: 0})\n",
    "Out[65]: \n",
    "0    1.0\n",
    "1    NaN\n",
    "2    2.0\n",
    "3    NaN\n",
    "4    0.0\n",
    "5    3.0\n",
    "dtype: float64"
   ]
  },
  {
   "cell_type": "markdown",
   "id": "6a5872a5",
   "metadata": {
    "lines_to_next_cell": 0
   },
   "source": [
    ">笔记：data.replace方法与data.str.replace不同，后者做的是字符串的元素级替换。我们会在后面学习Series的字符串方法。\n",
    "\n",
    "## 重命名轴索引\n",
    "跟Series中的值一样，轴标签也可以通过函数或映射进行转换，从而得到一个新的不同标签的对象。轴还可以被就地修改，而无需新建一个数据结构。接下来看看下面这个简单的例子："
   ]
  },
  {
   "cell_type": "code",
   "execution_count": null,
   "id": "955cc5fe",
   "metadata": {},
   "outputs": [],
   "source": [
    "In [66]: data = pd.DataFrame(np.arange(12).reshape((3, 4)),\n",
    "   ....:                     index=['Ohio', 'Colorado', 'New York'],\n",
    "   ....:                     columns=['one', 'two', 'three', 'four'])"
   ]
  },
  {
   "cell_type": "markdown",
   "id": "276b95ff",
   "metadata": {
    "lines_to_next_cell": 0
   },
   "source": [
    "跟Series一样，轴索引也有一个map方法："
   ]
  },
  {
   "cell_type": "code",
   "execution_count": null,
   "id": "c6f8c369",
   "metadata": {},
   "outputs": [],
   "source": [
    "In [67]: transform = lambda x: x[:4].upper()\n",
    "\n",
    "In [68]: data.index.map(transform)\n",
    "Out[68]: Index(['OHIO', 'COLO', 'NEW '], dtype='object')"
   ]
  },
  {
   "cell_type": "markdown",
   "id": "2bff6d20",
   "metadata": {
    "lines_to_next_cell": 0
   },
   "source": [
    "你可以将其赋值给index，这样就可以对DataFrame进行就地修改："
   ]
  },
  {
   "cell_type": "code",
   "execution_count": null,
   "id": "47fdb735",
   "metadata": {},
   "outputs": [],
   "source": [
    "In [69]: data.index = data.index.map(transform)\n",
    "\n",
    "In [70]: data\n",
    "Out[70]:\n",
    "one  two  three  four\n",
    "OHIO    0    1      2     3\n",
    "COLO    4    5      6     7\n",
    "NEW     8    9     10    11"
   ]
  },
  {
   "cell_type": "markdown",
   "id": "9cff7582",
   "metadata": {
    "lines_to_next_cell": 0
   },
   "source": [
    "如果想要创建数据集的转换版（而不是修改原始数据），比较实用的方法是rename："
   ]
  },
  {
   "cell_type": "code",
   "execution_count": null,
   "id": "8120f75e",
   "metadata": {},
   "outputs": [],
   "source": [
    "In [71]: data.rename(index=str.title, columns=str.upper)\n",
    "Out[71]: \n",
    "      ONE  TWO  THREE  FOUR\n",
    "Ohio    0    1      2     3\n",
    "Colo    4    5      6     7\n",
    "New     8    9     10    11"
   ]
  },
  {
   "cell_type": "markdown",
   "id": "43264add",
   "metadata": {
    "lines_to_next_cell": 0
   },
   "source": [
    "特别说明一下，rename可以结合字典型对象实现对部分轴标签的更新："
   ]
  },
  {
   "cell_type": "code",
   "execution_count": null,
   "id": "47495a06",
   "metadata": {},
   "outputs": [],
   "source": [
    "In [72]: data.rename(index={'OHIO': 'INDIANA'},\n",
    "   ....:             columns={'three': 'peekaboo'})\n",
    "Out[72]:\n",
    "one  two  peekaboo  four\n",
    "INDIANA    0    1         2     3\n",
    "COLO       4    5         6     7\n",
    "NEW        8    9        10    11"
   ]
  },
  {
   "cell_type": "markdown",
   "id": "89c43386",
   "metadata": {
    "lines_to_next_cell": 0
   },
   "source": [
    "rename可以实现复制DataFrame并对其索引和列标签进行赋值。如果希望就地修改某个数据集，传入inplace=True即可："
   ]
  },
  {
   "cell_type": "code",
   "execution_count": null,
   "id": "4185e3e3",
   "metadata": {},
   "outputs": [],
   "source": [
    "In [73]: data.rename(index={'OHIO': 'INDIANA'}, inplace=True)\n",
    "\n",
    "In [74]: data\n",
    "Out[74]: \n",
    "         one  two  three  four\n",
    "INDIANA    0    1      2     3\n",
    "COLO       4    5      6     7\n",
    "NEW        8    9     10    11"
   ]
  },
  {
   "cell_type": "markdown",
   "id": "62b45fa5",
   "metadata": {
    "lines_to_next_cell": 0
   },
   "source": [
    "## 离散化和面元划分\n",
    "为了便于分析，连续数据常常被离散化或拆分为“面元”（bin）。假设有一组人员数据，而你希望将它们划分为不同的年龄组："
   ]
  },
  {
   "cell_type": "code",
   "execution_count": null,
   "id": "76af9c71",
   "metadata": {},
   "outputs": [],
   "source": [
    "In [75]: ages = [20, 22, 25, 27, 21, 23, 37, 31, 61, 45, 41, 32]"
   ]
  },
  {
   "cell_type": "markdown",
   "id": "f95b2fa3",
   "metadata": {
    "lines_to_next_cell": 0
   },
   "source": [
    "接下来将这些数据划分为“18到25”、“26到35”、“35到60”以及“60以上”几个面元。要实现该功能，你需要使用pandas的cut函数："
   ]
  },
  {
   "cell_type": "code",
   "execution_count": null,
   "id": "0fd49cee",
   "metadata": {},
   "outputs": [],
   "source": [
    "In [76]: bins = [18, 25, 35, 60, 100]\n",
    "\n",
    "In [77]: cats = pd.cut(ages, bins)\n",
    "\n",
    "In [78]: cats\n",
    "Out[78]: \n",
    "[(18, 25], (18, 25], (18, 25], (25, 35], (18, 25], ..., (25, 35], (60, 100], (35,60], (35, 60], (25, 35]]\n",
    "Length: 12\n",
    "Categories (4, interval[int64]): [(18, 25] < (25, 35] < (35, 60] < (60, 100]]"
   ]
  },
  {
   "cell_type": "markdown",
   "id": "139fc8a1",
   "metadata": {
    "lines_to_next_cell": 0
   },
   "source": [
    "pandas返回的是一个特殊的Categorical对象。结果展示了pandas.cut划分的面元。你可以将其看做一组表示面元名称的字符串。它的底层含有一个表示不同分类名称的类型数组，以及一个codes属性中的年龄数据的标签："
   ]
  },
  {
   "cell_type": "code",
   "execution_count": null,
   "id": "274e6df3",
   "metadata": {},
   "outputs": [],
   "source": [
    "In [79]: cats.codes\n",
    "Out[79]: array([0, 0, 0, 1, 0, 0, 2, 1, 3, 2, 2, 1], dtype=int8)\n",
    "\n",
    "In [80]: cats.categories\n",
    "Out[80]: \n",
    "IntervalIndex([(18, 25], (25, 35], (35, 60], (60, 100]]\n",
    "              closed='right',\n",
    "              dtype='interval[int64]')\n",
    "\n",
    "In [81]: pd.value_counts(cats)\n",
    "Out[81]: \n",
    "(18, 25]     5\n",
    "(35, 60]     3\n",
    "(25, 35]     3\n",
    "(60, 100]    1\n",
    "dtype: int64"
   ]
  },
  {
   "cell_type": "markdown",
   "id": "da760858",
   "metadata": {
    "lines_to_next_cell": 0
   },
   "source": [
    "pd.value_counts(cats)是pandas.cut结果的面元计数。\n",
    "\n",
    "跟“区间”的数学符号一样，圆括号表示开端，而方括号则表示闭端（包括）。哪边是闭端可以通过right=False进行修改："
   ]
  },
  {
   "cell_type": "code",
   "execution_count": null,
   "id": "ae3bd274",
   "metadata": {},
   "outputs": [],
   "source": [
    "In [82]: pd.cut(ages, [18, 26, 36, 61, 100], right=False)\n",
    "Out[82]: \n",
    "[[18, 26), [18, 26), [18, 26), [26, 36), [18, 26), ..., [26, 36), [61, 100), [36,\n",
    " 61), [36, 61), [26, 36)]\n",
    "Length: 12\n",
    "Categories (4, interval[int64]): [[18, 26) < [26, 36) < [36, 61) < [61, 100)]"
   ]
  },
  {
   "cell_type": "markdown",
   "id": "caaf7845",
   "metadata": {
    "lines_to_next_cell": 0
   },
   "source": [
    "你可 以通过传递一个列表或数组到labels，设置自己的面元名称："
   ]
  },
  {
   "cell_type": "code",
   "execution_count": null,
   "id": "0a126733",
   "metadata": {},
   "outputs": [],
   "source": [
    "In [83]: group_names = ['Youth', 'YoungAdult', 'MiddleAged', 'Senior']\n",
    "\n",
    "In [84]: pd.cut(ages, bins, labels=group_names)\n",
    "Out[84]: \n",
    "[Youth, Youth, Youth, YoungAdult, Youth, ..., YoungAdult, Senior, MiddleAged, Mid\n",
    "dleAged, YoungAdult]\n",
    "Length: 12\n",
    "Categories (4, object): [Youth < YoungAdult < MiddleAged < Senior]"
   ]
  },
  {
   "cell_type": "markdown",
   "id": "6f16a5f9",
   "metadata": {
    "lines_to_next_cell": 0
   },
   "source": [
    "如果向cut传入的是面元的数量而不是确切的面元边界，则它会根据数据的最小值和最大值计算等长面元。下面这个例子中，我们将一些均匀分布的数据分成四组："
   ]
  },
  {
   "cell_type": "code",
   "execution_count": null,
   "id": "e1287695",
   "metadata": {},
   "outputs": [],
   "source": [
    "In [85]: data = np.random.rand(20)\n",
    "\n",
    "In [86]: pd.cut(data, 4, precision=2)\n",
    "Out[86]: \n",
    "[(0.34, 0.55], (0.34, 0.55], (0.76, 0.97], (0.76, 0.97], (0.34, 0.55], ..., (0.34\n",
    ", 0.55], (0.34, 0.55], (0.55, 0.76], (0.34, 0.55], (0.12, 0.34]]\n",
    "Length: 20\n",
    "Categories (4, interval[float64]): [(0.12, 0.34] < (0.34, 0.55] < (0.55, 0.76] < \n",
    "(0.76, 0.97]]"
   ]
  },
  {
   "cell_type": "markdown",
   "id": "fc37cf3b",
   "metadata": {
    "lines_to_next_cell": 0
   },
   "source": [
    "选项precision=2，限定小数只有两位。\n",
    "\n",
    "qcut是一个非常类似于cut的函数，它可以根据样本分位数对数据进行面元划分。根据数据的分布情况，cut可能无法使各个面元中含有相同数量的数据点。而qcut由于使用的是样本分位数，因此可以得到大小基本相等的面元："
   ]
  },
  {
   "cell_type": "code",
   "execution_count": null,
   "id": "f32a3158",
   "metadata": {},
   "outputs": [],
   "source": [
    "In [87]: data = np.random.randn(1000)  # Normally distributed\n",
    "\n",
    "In [88]: cats = pd.qcut(data, 4)  # Cut into quartiles\n",
    "\n",
    "In [89]: cats\n",
    "Out[89]: \n",
    "[(-0.0265, 0.62], (0.62, 3.928], (-0.68, -0.0265], (0.62, 3.928], (-0.0265, 0.62]\n",
    ", ..., (-0.68, -0.0265], (-0.68, -0.0265], (-2.95, -0.68], (0.62, 3.928], (-0.68,\n",
    " -0.0265]]\n",
    "Length: 1000\n",
    "Categories (4, interval[float64]): [(-2.95, -0.68] < (-0.68, -0.0265] < (-0.0265,\n",
    " 0.62] <\n",
    "                                    (0.62, 3.928]]\n",
    "\n",
    "In [90]: pd.value_counts(cats)\n",
    "Out[90]:\n",
    "(0.62, 3.928]       250\n",
    "(-0.0265, 0.62]     250\n",
    "(-0.68, -0.0265]    250\n",
    "(-2.95, -0.68]      250\n",
    "dtype: int64"
   ]
  },
  {
   "cell_type": "markdown",
   "id": "7d5f66fd",
   "metadata": {
    "lines_to_next_cell": 0
   },
   "source": [
    "与cut类似，你也可以传递自定义的分位数（0到1之间的数值，包含端点）："
   ]
  },
  {
   "cell_type": "code",
   "execution_count": null,
   "id": "0962fb9d",
   "metadata": {},
   "outputs": [],
   "source": [
    "In [91]: pd.qcut(data, [0, 0.1, 0.5, 0.9, 1.])\n",
    "Out[91]: \n",
    "[(-0.0265, 1.286], (-0.0265, 1.286], (-1.187, -0.0265], (-0.0265, 1.286], (-0.026\n",
    "5, 1.286], ..., (-1.187, -0.0265], (-1.187, -0.0265], (-2.95, -1.187], (-0.0265, \n",
    "1.286], (-1.187, -0.0265]]\n",
    "Length: 1000\n",
    "Categories (4, interval[float64]): [(-2.95, -1.187] < (-1.187, -0.0265] < (-0.026\n",
    "5, 1.286] <\n",
    "                                    (1.286, 3.928]]"
   ]
  },
  {
   "cell_type": "markdown",
   "id": "f510589f",
   "metadata": {
    "lines_to_next_cell": 0
   },
   "source": [
    "本章稍后在讲解聚合和分组运算时会再次用到cut和qcut，因为这两个离散化函数对分位和分组分析非常重要。\n",
    "\n",
    "## 检测和过滤异常值\n",
    "过滤或变换异常值（outlier）在很大程度上就是运用数组运算。来看一个含有正态分布数据的DataFrame："
   ]
  },
  {
   "cell_type": "code",
   "execution_count": null,
   "id": "0bad55c4",
   "metadata": {},
   "outputs": [],
   "source": [
    "In [92]: data = pd.DataFrame(np.random.randn(1000, 4))\n",
    "\n",
    "In [93]: data.describe()\n",
    "Out[93]: \n",
    "                 0            1            2            3\n",
    "count  1000.000000  1000.000000  1000.000000  1000.000000\n",
    "mean      0.049091     0.026112    -0.002544    -0.051827\n",
    "std       0.996947     1.007458     0.995232     0.998311\n",
    "min      -3.645860    -3.184377    -3.745356    -3.428254\n",
    "25%      -0.599807    -0.612162    -0.687373    -0.747478\n",
    "50%       0.047101    -0.013609    -0.022158    -0.088274\n",
    "75%       0.756646     0.695298     0.699046     0.623331\n",
    "max       2.653656     3.525865     2.735527     3.366626"
   ]
  },
  {
   "cell_type": "markdown",
   "id": "a34aebdb",
   "metadata": {
    "lines_to_next_cell": 0
   },
   "source": [
    "假设你想要找出某列中绝对值大小超过3的值："
   ]
  },
  {
   "cell_type": "code",
   "execution_count": null,
   "id": "b414f72a",
   "metadata": {},
   "outputs": [],
   "source": [
    "In [94]: col = data[2]\n",
    "\n",
    "In [95]: col[np.abs(col) > 3]\n",
    "Out[95]: \n",
    "41    -3.399312\n",
    "136   -3.745356\n",
    "Name: 2, dtype: float64"
   ]
  },
  {
   "cell_type": "markdown",
   "id": "93304dcc",
   "metadata": {
    "lines_to_next_cell": 0
   },
   "source": [
    "要选出全部含有“超过3或－3的值”的行，你可以在布尔型DataFrame中使用any方法："
   ]
  },
  {
   "cell_type": "code",
   "execution_count": null,
   "id": "b8ea168c",
   "metadata": {},
   "outputs": [],
   "source": [
    "In [96]: data[(np.abs(data) > 3).any(1)]\n",
    "Out[96]: \n",
    "            0         1         2         3\n",
    "41   0.457246 -0.025907 -3.399312 -0.974657\n",
    "60   1.951312  3.260383  0.963301  1.201206\n",
    "136  0.508391 -0.196713 -3.745356 -1.520113\n",
    "235 -0.242459 -3.056990  1.918403 -0.578828\n",
    "258  0.682841  0.326045  0.425384 -3.428254\n",
    "322  1.179227 -3.184377  1.369891 -1.074833\n",
    "544 -3.548824  1.553205 -2.186301  1.277104\n",
    "635 -0.578093  0.193299  1.397822  3.366626\n",
    "782 -0.207434  3.525865  0.283070  0.544635\n",
    "803 -3.645860  0.255475 -0.549574 -1.907459"
   ]
  },
  {
   "cell_type": "markdown",
   "id": "94cd1610",
   "metadata": {
    "lines_to_next_cell": 0
   },
   "source": [
    "根据这些条件，就可以对值进行设置。下面的代码可以将值限制在区间－3到3以内："
   ]
  },
  {
   "cell_type": "code",
   "execution_count": null,
   "id": "30b8147c",
   "metadata": {},
   "outputs": [],
   "source": [
    "In [97]: data[np.abs(data) > 3] = np.sign(data) * 3\n",
    "\n",
    "In [98]: data.describe()\n",
    "Out[98]: \n",
    "                 0            1            2            3\n",
    "count  1000.000000  1000.000000  1000.000000  1000.000000\n",
    "mean      0.050286     0.025567    -0.001399    -0.051765\n",
    "std       0.992920     1.004214     0.991414     0.995761\n",
    "min      -3.000000    -3.000000    -3.000000    -3.000000\n",
    "25%      -0.599807    -0.612162    -0.687373    -0.747478\n",
    "50%       0.047101    -0.013609    -0.022158    -0.088274\n",
    "75%       0.756646     0.695298     0.699046     0.623331\n",
    "max       2.653656     3.000000     2.735527     3.000000"
   ]
  },
  {
   "cell_type": "markdown",
   "id": "0430105f",
   "metadata": {
    "lines_to_next_cell": 0
   },
   "source": [
    "根据数据的值是正还是负，np.sign(data)可以生成1和-1："
   ]
  },
  {
   "cell_type": "code",
   "execution_count": null,
   "id": "462e7e8c",
   "metadata": {},
   "outputs": [],
   "source": [
    "In [99]: np.sign(data).head()\n",
    "Out[99]: \n",
    "     0    1    2    3\n",
    "0 -1.0  1.0 -1.0  1.0\n",
    "1  1.0 -1.0  1.0 -1.0\n",
    "2  1.0  1.0  1.0 -1.0\n",
    "3 -1.0 -1.0  1.0 -1.0\n",
    "4 -1.0  1.0 -1.0 -1.0"
   ]
  },
  {
   "cell_type": "markdown",
   "id": "07c9ad05",
   "metadata": {
    "lines_to_next_cell": 0
   },
   "source": [
    "## 排列和随机采样\n",
    "利用numpy.random.permutation函数可以轻松实现对Series或DataFrame的列的排列工作（permuting，随机重排序）。通过需要排列的轴的长度调用permutation，可产生一个表示新顺序的整数数组："
   ]
  },
  {
   "cell_type": "code",
   "execution_count": null,
   "id": "4c35eebc",
   "metadata": {},
   "outputs": [],
   "source": [
    "In [100]: df = pd.DataFrame(np.arange(5 * 4).reshape((5, 4)))\n",
    "\n",
    "In [101]: sampler = np.random.permutation(5)\n",
    "\n",
    "In [102]: sampler\n",
    "Out[102]: array([3, 1, 4, 2, 0])"
   ]
  },
  {
   "cell_type": "markdown",
   "id": "27a3484a",
   "metadata": {
    "lines_to_next_cell": 0
   },
   "source": [
    "然后就可以在基于iloc的索引操作或take函数中使用该数组了："
   ]
  },
  {
   "cell_type": "code",
   "execution_count": null,
   "id": "ce87390b",
   "metadata": {},
   "outputs": [],
   "source": [
    "In [103]: df\n",
    "Out[103]: \n",
    "    0   1   2   3\n",
    "0   0   1   2   3\n",
    "1   4   5   6   7\n",
    "2   8   9  10  11\n",
    "3  12  13  14  15\n",
    "4  16  17  18  19\n",
    "\n",
    "In [104]: df.take(sampler)\n",
    "Out[104]: \n",
    "    0   1   2   3\n",
    "3  12  13  14  15\n",
    "1   4   5   6   7\n",
    "4  16  17  18  19\n",
    "2   8   9  10  11\n",
    "0   0   1   2   3"
   ]
  },
  {
   "cell_type": "markdown",
   "id": "2490c97c",
   "metadata": {
    "lines_to_next_cell": 0
   },
   "source": [
    "如果不想用替换的方式选取随机子集，可以在Series和DataFrame上使用sample方法："
   ]
  },
  {
   "cell_type": "code",
   "execution_count": null,
   "id": "d5ec0933",
   "metadata": {},
   "outputs": [],
   "source": [
    "In [105]: df.sample(n=3)\n",
    "Out[105]: \n",
    "    0   1   2   3\n",
    "3  12  13  14  15\n",
    "4  16  17  18  19\n",
    "2   8   9  10  11"
   ]
  },
  {
   "cell_type": "markdown",
   "id": "67705591",
   "metadata": {
    "lines_to_next_cell": 0
   },
   "source": [
    "要通过替换的方式产生样本（允许重复选择），可以传递replace=True到sample："
   ]
  },
  {
   "cell_type": "code",
   "execution_count": null,
   "id": "49852cc6",
   "metadata": {},
   "outputs": [],
   "source": [
    "In [106]: choices = pd.Series([5, 7, -1, 6, 4])\n",
    "\n",
    "In [107]: draws = choices.sample(n=10, replace=True)\n",
    "\n",
    "In [108]: draws\n",
    "Out[108]: \n",
    "4    4\n",
    "1    7\n",
    "4    4\n",
    "2   -1\n",
    "0    5\n",
    "3    6\n",
    "1    7\n",
    "4    4\n",
    "0    5\n",
    "4    4\n",
    "dtype: int64"
   ]
  },
  {
   "cell_type": "markdown",
   "id": "34a2a9ed",
   "metadata": {
    "lines_to_next_cell": 0
   },
   "source": [
    "## 计算指标/哑变量\n",
    "另一种常用于统计建模或机器学习的转换方式是：将分类变量（categorical variable）转换为“哑变量”或“指标矩阵”。\n",
    "\n",
    "如果DataFrame的某一列中含有k个不同的值，则可以派生出一个k列矩阵或DataFrame（其值全为1和0）。pandas有一个get_dummies函数可以实现该功能（其实自己动手做一个也不难）。使用之前的一个DataFrame例子："
   ]
  },
  {
   "cell_type": "code",
   "execution_count": null,
   "id": "4769312c",
   "metadata": {},
   "outputs": [],
   "source": [
    "In [109]: df = pd.DataFrame({'key': ['b', 'b', 'a', 'c', 'a', 'b'],\n",
    "   .....:                    'data1': range(6)})\n",
    "\n",
    "In [110]: pd.get_dummies(df['key'])\n",
    "Out[110]: \n",
    "   a  b  c\n",
    "0  0  1  0\n",
    "1  0  1  0\n",
    "2  1  0  0\n",
    "3  0  0  1\n",
    "4  1  0  0\n",
    "5  0  1  0"
   ]
  },
  {
   "cell_type": "markdown",
   "id": "504f5321",
   "metadata": {
    "lines_to_next_cell": 0
   },
   "source": [
    "有时候，你可能想给指标DataFrame的列加上一个前缀，以便能够跟其他数据进行合并。get_dummies的prefix参数可以实现该功能："
   ]
  },
  {
   "cell_type": "code",
   "execution_count": null,
   "id": "f61d63b2",
   "metadata": {},
   "outputs": [],
   "source": [
    "In [111]: dummies = pd.get_dummies(df['key'], prefix='key')\n",
    "\n",
    "In [112]: df_with_dummy = df[['data1']].join(dummies)\n",
    "\n",
    "In [113]: df_with_dummy\n",
    "Out[113]: \n",
    "   data1  key_a  key_b  key_c\n",
    "0      0      0      1      0\n",
    "1      1      0      1      0\n",
    "2      2      1      0      0\n",
    "3      3      0      0      1\n",
    "4      4      1      0      0\n",
    "5      5      0      1      0"
   ]
  },
  {
   "cell_type": "markdown",
   "id": "2332a67f",
   "metadata": {
    "lines_to_next_cell": 0
   },
   "source": [
    "如果DataFrame中的某行同属于多个分类，则事情就会有点复杂。看一下MovieLens 1M数据集，14章会更深入地研究它："
   ]
  },
  {
   "cell_type": "code",
   "execution_count": null,
   "id": "c58d51dc",
   "metadata": {},
   "outputs": [],
   "source": [
    "In [114]: mnames = ['movie_id', 'title', 'genres']\n",
    "\n",
    "In [115]: movies = pd.read_table('datasets/movielens/movies.dat', sep='::',\n",
    "   .....:                        header=None, names=mnames)\n",
    "\n",
    "In [116]: movies[:10]\n",
    "Out[116]: \n",
    "   movie_id                               title                        genres\n",
    "0         1                    Toy Story (1995)   Animation|Children's|Comedy\n",
    "1         2                      Jumanji (1995)  Adventure|Children's|Fantasy\n",
    "2         3             Grumpier Old Men (1995)                Comedy|Romance\n",
    "3         4            Waiting to Exhale (1995)                  Comedy|Drama\n",
    "4         5  Father of the Bride Part II (1995)                        Comedy\n",
    "5         6                         Heat (1995)         Action|Crime|Thriller\n",
    "6         7                      Sabrina (1995)                Comedy|Romance\n",
    "7         8                 Tom and Huck (1995)          Adventure|Children's\n",
    "8         9                 Sudden Death (1995)\n",
    "Action\n",
    "9        10                    GoldenEye (1995)     Action|Adventure|Thriller"
   ]
  },
  {
   "cell_type": "markdown",
   "id": "b96de6eb",
   "metadata": {
    "lines_to_next_cell": 0
   },
   "source": [
    "要为每个genre添加指标变量就需要做一些数据规整操作。首先，我们从数据集中抽取出不同的genre值："
   ]
  },
  {
   "cell_type": "code",
   "execution_count": null,
   "id": "33ae063a",
   "metadata": {},
   "outputs": [],
   "source": [
    "In [117]: all_genres = []\n",
    "\n",
    "In [118]: for x in movies.genres:\n",
    "   .....:     all_genres.extend(x.split('|'))\n",
    "\n",
    "In [119]: genres = pd.unique(all_genres)"
   ]
  },
  {
   "cell_type": "markdown",
   "id": "09bfd5f8",
   "metadata": {
    "lines_to_next_cell": 0
   },
   "source": [
    "现在有："
   ]
  },
  {
   "cell_type": "code",
   "execution_count": null,
   "id": "044134be",
   "metadata": {},
   "outputs": [],
   "source": [
    "In [120]: genres\n",
    "Out[120]: \n",
    "array(['Animation', \"Children's\", 'Comedy', 'Adventure', 'Fantasy',\n",
    "       'Romance', 'Drama', 'Action', 'Crime', 'Thriller','Horror',\n",
    "       'Sci-Fi', 'Documentary', 'War', 'Musical', 'Mystery', 'Film-Noir',\n",
    "       'Western'], dtype=object)"
   ]
  },
  {
   "cell_type": "markdown",
   "id": "2c094021",
   "metadata": {
    "lines_to_next_cell": 0
   },
   "source": [
    "构建指标DataFrame的方法之一是从一个全零DataFrame开始："
   ]
  },
  {
   "cell_type": "code",
   "execution_count": null,
   "id": "896d8a9a",
   "metadata": {},
   "outputs": [],
   "source": [
    "In [121]: zero_matrix = np.zeros((len(movies), len(genres)))\n",
    "\n",
    "In [122]: dummies = pd.DataFrame(zero_matrix, columns=genres)"
   ]
  },
  {
   "cell_type": "markdown",
   "id": "16411520",
   "metadata": {
    "lines_to_next_cell": 0
   },
   "source": [
    "现在，迭代每一部电影，并将dummies各行的条目设为1。要这么做，我们使用dummies.columns来计算每个类型的列索引："
   ]
  },
  {
   "cell_type": "code",
   "execution_count": null,
   "id": "d3a8208d",
   "metadata": {},
   "outputs": [],
   "source": [
    "In [123]: gen = movies.genres[0]\n",
    "\n",
    "In [124]: gen.split('|')\n",
    "Out[124]: ['Animation', \"Children's\", 'Comedy']\n",
    "\n",
    "In [125]: dummies.columns.get_indexer(gen.split('|'))\n",
    "Out[125]: array([0, 1, 2])"
   ]
  },
  {
   "cell_type": "markdown",
   "id": "2221dc82",
   "metadata": {
    "lines_to_next_cell": 0
   },
   "source": [
    "然后，根据索引，使用.iloc设定值："
   ]
  },
  {
   "cell_type": "code",
   "execution_count": null,
   "id": "6233d324",
   "metadata": {},
   "outputs": [],
   "source": [
    "In [126]: for i, gen in enumerate(movies.genres):\n",
    "   .....:     indices = dummies.columns.get_indexer(gen.split('|'))\n",
    "   .....:     dummies.iloc[i, indices] = 1\n",
    "   .....:"
   ]
  },
  {
   "cell_type": "markdown",
   "id": "d48e3025",
   "metadata": {
    "lines_to_next_cell": 0
   },
   "source": [
    "然后，和以前一样，再将其与movies合并起来："
   ]
  },
  {
   "cell_type": "code",
   "execution_count": null,
   "id": "3ea3acde",
   "metadata": {},
   "outputs": [],
   "source": [
    "In [127]: movies_windic = movies.join(dummies.add_prefix('Genre_'))\n",
    "\n",
    "In [128]: movies_windic.iloc[0]\n",
    "Out[128]: \n",
    "movie_id                                       1\n",
    "title                           Toy Story (1995)\n",
    "genres               Animation|Children's|Comedy\n",
    "Genre_Animation                                1\n",
    "Genre_Children's                               1\n",
    "Genre_Comedy                                   1\n",
    "Genre_Adventure                                0\n",
    "Genre_Fantasy                                  0\n",
    "Genre_Romance                                  0\n",
    "Genre_Drama                                    0\n",
    "                                ...             \n",
    "Genre_Crime                                    0\n",
    "Genre_Thriller                                 0\n",
    "Genre_Horror                                   0\n",
    "Genre_Sci-Fi                                   0\n",
    "Genre_Documentary                              0\n",
    "Genre_War                                      0\n",
    "Genre_Musical                                  0\n",
    "Genre_Mystery                                  0\n",
    "Genre_Film-Noir                                0\n",
    "Genre_Western                                  0\n",
    "Name: 0, Length: 21, dtype: object"
   ]
  },
  {
   "cell_type": "markdown",
   "id": "00d9ccfb",
   "metadata": {
    "lines_to_next_cell": 0
   },
   "source": [
    ">笔记：对于很大的数据，用这种方式构建多成员指标变量就会变得非常慢。最好使用更低级的函数，将其写入NumPy数组，然后结果包装在DataFrame中。\n",
    "\n",
    "一个对统计应用有用的秘诀是：结合get_dummies和诸如cut之类的离散化函数："
   ]
  },
  {
   "cell_type": "code",
   "execution_count": null,
   "id": "f22b009d",
   "metadata": {},
   "outputs": [],
   "source": [
    "In [129]: np.random.seed(12345)\n",
    "\n",
    "In [130]: values = np.random.rand(10)\n",
    "\n",
    "In [131]: values\n",
    "Out[131]: \n",
    "array([ 0.9296,  0.3164,  0.1839,  0.2046,  0.5677,  0.5955,  0.9645,\n",
    "        0.6532,  0.7489,  0.6536])\n",
    "\n",
    "In [132]: bins = [0, 0.2, 0.4, 0.6, 0.8, 1]\n",
    "\n",
    "In [133]: pd.get_dummies(pd.cut(values, bins))\n",
    "Out[133]: \n",
    "   (0.0, 0.2]  (0.2, 0.4]  (0.4, 0.6]  (0.6, 0.8]  (0.8, 1.0]\n",
    "0           0           0           0           0           1\n",
    "1           0           1           0           0           0\n",
    "2           1           0           0           0           0\n",
    "3           0           1           0           0           0\n",
    "4           0           0           1           0           0\n",
    "5           0           0           1           0           0\n",
    "6           0           0           0           0           1\n",
    "7           0           0           0           1           0\n",
    "8           0           0           0           1           0\n",
    "9           0           0           0           1           0"
   ]
  },
  {
   "cell_type": "markdown",
   "id": "dd5eab26",
   "metadata": {
    "lines_to_next_cell": 0
   },
   "source": [
    "我们用numpy.random.seed，使这个例子具有确定性。本书后面会介绍pandas.get_dummies。\n",
    "\n",
    "# 7.3 字符串操作\n",
    "\n",
    "Python能够成为流行的数据处理语言，部分原因是其简单易用的字符串和文本处理功能。大部分文本运算都直接做成了字符串对象的内置方法。对于更为复杂的模式匹配和文本操作，则可能需要用到正则表达式。pandas对此进行了加强，它使你能够对整组数据应用字符串表达式和正则表达式，而且能处理烦人的缺失数据。\n",
    "\n",
    "## 字符串对象方法\n",
    "\n",
    "对于许多字符串处理和脚本应用，内置的字符串方法已经能够满足要求了。例如，以逗号分隔的字符串可以用split拆分成数段："
   ]
  },
  {
   "cell_type": "code",
   "execution_count": null,
   "id": "ee314752",
   "metadata": {},
   "outputs": [],
   "source": [
    "In [134]: val = 'a,b,  guido'\n",
    "In [135]: val.split(',')\n",
    "Out[135]: ['a', 'b', '  guido']"
   ]
  },
  {
   "cell_type": "markdown",
   "id": "7126a8b3",
   "metadata": {
    "lines_to_next_cell": 0
   },
   "source": [
    "split常常与strip一起使用，以去除空白符（包括换行符）："
   ]
  },
  {
   "cell_type": "code",
   "execution_count": null,
   "id": "705cd92e",
   "metadata": {},
   "outputs": [],
   "source": [
    "In [136]: pieces = [x.strip() for x in val.split(',')]\n",
    "\n",
    "In [137]: pieces\n",
    "Out[137]: ['a', 'b', 'guido']"
   ]
  },
  {
   "cell_type": "markdown",
   "id": "8d2d64b9",
   "metadata": {
    "lines_to_next_cell": 0
   },
   "source": [
    "利用加法，可以将这些子字符串以双冒号分隔符的形式连接起来："
   ]
  },
  {
   "cell_type": "code",
   "execution_count": null,
   "id": "11fd0954",
   "metadata": {},
   "outputs": [],
   "source": [
    "In [138]: first, second, third = pieces\n",
    "\n",
    "In [139]: first + '::' + second + '::' + third\n",
    "Out[139]: 'a::b::guido'"
   ]
  },
  {
   "cell_type": "markdown",
   "id": "a9a2ddf3",
   "metadata": {
    "lines_to_next_cell": 0
   },
   "source": [
    "但这种方式并不是很实用。一种更快更符合Python风格的方式是，向字符串\"::\"的join方法传入一个列表或元组："
   ]
  },
  {
   "cell_type": "code",
   "execution_count": null,
   "id": "cbf3287d",
   "metadata": {},
   "outputs": [],
   "source": [
    "In [140]: '::'.join(pieces)\n",
    "Out[140]: 'a::b::guido'"
   ]
  },
  {
   "cell_type": "markdown",
   "id": "1d4e65ea",
   "metadata": {
    "lines_to_next_cell": 0
   },
   "source": [
    "其它方法关注的是子串定位。检测子串的最佳方式是利用Python的in关键字，还可以使用index和find："
   ]
  },
  {
   "cell_type": "code",
   "execution_count": null,
   "id": "e9335b36",
   "metadata": {},
   "outputs": [],
   "source": [
    "In [141]: 'guido' in val\n",
    "Out[141]: True\n",
    "\n",
    "In [142]: val.index(',')\n",
    "Out[142]: 1\n",
    "\n",
    "In [143]: val.find(':')\n",
    "Out[143]: -1"
   ]
  },
  {
   "cell_type": "markdown",
   "id": "3af4b53d",
   "metadata": {
    "lines_to_next_cell": 0
   },
   "source": [
    "注意find和index的区别：如果找不到字符串，index将会引发一个异常（而不是返回－1）："
   ]
  },
  {
   "cell_type": "code",
   "execution_count": null,
   "id": "b4b8cc15",
   "metadata": {},
   "outputs": [],
   "source": [
    "In [144]: val.index(':')\n",
    "---------------------------------------------------------------------------\n",
    "ValueError                                Traceback (most recent call last)\n",
    "<ipython-input-144-280f8b2856ce> in <module>()\n",
    "----> 1 val.index(':')\n",
    "ValueError: substring not found"
   ]
  },
  {
   "cell_type": "markdown",
   "id": "4de07659",
   "metadata": {
    "lines_to_next_cell": 0
   },
   "source": [
    "与此相关，count可以返回指定子串的出现次数："
   ]
  },
  {
   "cell_type": "code",
   "execution_count": null,
   "id": "ceba7fd8",
   "metadata": {},
   "outputs": [],
   "source": [
    "In [145]: val.count(',')\n",
    "Out[145]: 2"
   ]
  },
  {
   "cell_type": "markdown",
   "id": "6933d232",
   "metadata": {
    "lines_to_next_cell": 0
   },
   "source": [
    "replace用于将指定模式替换为另一个模式。通过传入空字符串，它也常常用于删除模式："
   ]
  },
  {
   "cell_type": "code",
   "execution_count": null,
   "id": "931470c9",
   "metadata": {},
   "outputs": [],
   "source": [
    "In [146]: val.replace(',', '::')\n",
    "Out[146]: 'a::b::  guido'\n",
    "\n",
    "In [147]: val.replace(',', '')\n",
    "Out[147]: 'ab  guido'"
   ]
  },
  {
   "cell_type": "markdown",
   "id": "e7a0cdec",
   "metadata": {
    "lines_to_next_cell": 0
   },
   "source": [
    "表7-3列出了Python内置的字符串方法。\n",
    "\n",
    "这些运算大部分都能使用正则表达式实现（马上就会看到）。\n",
    "\n",
    "![](http://upload-images.jianshu.io/upload_images/7178691-087fe67bf6db0701.png?imageMogr2/auto-orient/strip%7CimageView2/2/w/1240)\n",
    "\n",
    "![](http://upload-images.jianshu.io/upload_images/7178691-d1f0d4ed3e895016.png?imageMogr2/auto-orient/strip%7CimageView2/2/w/1240)\n",
    "\n",
    "casefold      将字符转换为小写，并将任何特定区域的变量字符组合转换成一个通用的可比较形式。\n",
    "\n",
    "## 正则表达式\n",
    "\n",
    "正则表达式提供了一种灵活的在文本中搜索或匹配（通常比前者复杂）字符串模式的方式。正则表达式，常称作regex，是根据正则表达式语言编写的字符串。Python内置的re模块负责对字符串应用正则表达式。我将通过一些例子说明其使用方法。\n",
    "\n",
    ">笔记：正则表达式的编写技巧可以自成一章，超出了本书的范围。从网上和其它书可以找到许多非常不错的教程和参考资料。\n",
    "\n",
    "re模块的函数可以分为三个大类：模式匹配、替换以及拆分。当然，它们之间是相辅相成的。一个regex描述了需要在文本中定位的一个模式，它可以用于许多目的。我们先来看一个简单的例子：假设我想要拆分一个字符串，分隔符为数量不定的一组空白符（制表符、空格、换行符等）。描述一个或多个空白符的regex是\\s+："
   ]
  },
  {
   "cell_type": "code",
   "execution_count": null,
   "id": "6dc5f825",
   "metadata": {},
   "outputs": [],
   "source": [
    "In [148]: import re\n",
    "\n",
    "In [149]: text = \"foo    bar\\t baz  \\tqux\"\n",
    "\n",
    "In [150]: re.split('\\s+', text)\n",
    "Out[150]: ['foo', 'bar', 'baz', 'qux']"
   ]
  },
  {
   "cell_type": "markdown",
   "id": "d8edb23c",
   "metadata": {
    "lines_to_next_cell": 0
   },
   "source": [
    "调用re.split('\\s+',text)时，正则表达式会先被编译，然后再在text上调用其split方法。你可以用re.compile自己编译regex以得到一个可重用的regex对象："
   ]
  },
  {
   "cell_type": "code",
   "execution_count": null,
   "id": "1b666a51",
   "metadata": {},
   "outputs": [],
   "source": [
    "In [151]: regex = re.compile('\\s+')\n",
    "\n",
    "In [152]: regex.split(text)\n",
    "Out[152]: ['foo', 'bar', 'baz', 'qux']"
   ]
  },
  {
   "cell_type": "markdown",
   "id": "f67cab2b",
   "metadata": {
    "lines_to_next_cell": 0
   },
   "source": [
    "如果只希望得到匹配regex的所有模式，则可以使用findall方法："
   ]
  },
  {
   "cell_type": "code",
   "execution_count": null,
   "id": "f51485bb",
   "metadata": {},
   "outputs": [],
   "source": [
    "In [153]: regex.findall(text)\n",
    "Out[153]: ['    ', '\\t ', '  \\t']"
   ]
  },
  {
   "cell_type": "markdown",
   "id": "ed77bf39",
   "metadata": {
    "lines_to_next_cell": 0
   },
   "source": [
    ">笔记：如果想避免正则表达式中不需要的转义（\\），则可以使用原始字符串字面量如r'C:\\x'（也可以编写其等价式'C:\\\\x'）。\n",
    "\n",
    "如果打算对许多字符串应用同一条正则表达式，强烈建议通过re.compile创建regex对象。这样将可以节省大量的CPU时间。\n",
    "\n",
    "match和search跟findall功能类似。findall返回的是字符串中所有的匹配项，而search则只返回第一个匹配项。match更加严格，它只匹配字符串的首部。来看一个小例子，假设我们有一段文本以及一条能够识别大部分电子邮件地址的正则表达式："
   ]
  },
  {
   "cell_type": "code",
   "execution_count": null,
   "id": "c62b5c97",
   "metadata": {},
   "outputs": [],
   "source": [
    "text = \"\"\"Dave dave@google.com\n",
    "Steve steve@gmail.com\n",
    "Rob rob@gmail.com\n",
    "Ryan ryan@yahoo.com\n",
    "\"\"\"\n",
    "pattern = r'[A-Z0-9._%+-]+@[A-Z0-9.-]+\\.[A-Z]{2,4}'\n",
    "\n",
    "# re.IGNORECASE makes the regex case-insensitive\n",
    "regex = re.compile(pattern, flags=re.IGNORECASE)"
   ]
  },
  {
   "cell_type": "markdown",
   "id": "f6bff92a",
   "metadata": {
    "lines_to_next_cell": 0
   },
   "source": [
    "对text使用findall将得到一组电子邮件地址："
   ]
  },
  {
   "cell_type": "code",
   "execution_count": null,
   "id": "b74722e8",
   "metadata": {},
   "outputs": [],
   "source": [
    "In [155]: regex.findall(text)\n",
    "Out[155]: \n",
    "['dave@google.com',\n",
    " 'steve@gmail.com',\n",
    " 'rob@gmail.com',\n",
    " 'ryan@yahoo.com']"
   ]
  },
  {
   "cell_type": "markdown",
   "id": "6bc2a280",
   "metadata": {
    "lines_to_next_cell": 0
   },
   "source": [
    "search返回的是文本中第一个电子邮件地址（以特殊的匹配项对象形式返回）。对于上面那个regex，匹配项对象只能告诉我们模式在原字符串中的起始和结束位置："
   ]
  },
  {
   "cell_type": "code",
   "execution_count": null,
   "id": "946ad263",
   "metadata": {},
   "outputs": [],
   "source": [
    "In [156]: m = regex.search(text)\n",
    "\n",
    "In [157]: m\n",
    "Out[157]: <_sre.SRE_Match object; span=(5, 20), match='dave@google.com'>\n",
    "\n",
    "In [158]: text[m.start():m.end()]\n",
    "Out[158]: 'dave@google.com'"
   ]
  },
  {
   "cell_type": "markdown",
   "id": "cf326266",
   "metadata": {
    "lines_to_next_cell": 0
   },
   "source": [
    "regex.match则将返回None，因为它只匹配出现在字符串开头的模式："
   ]
  },
  {
   "cell_type": "code",
   "execution_count": null,
   "id": "0ffa35b5",
   "metadata": {},
   "outputs": [],
   "source": [
    "In [159]: print(regex.match(text))\n",
    "None"
   ]
  },
  {
   "cell_type": "markdown",
   "id": "b00508bd",
   "metadata": {
    "lines_to_next_cell": 0
   },
   "source": [
    "相关的，sub方法可以将匹配到的模式替换为指定字符串，并返回所得到的新字符串："
   ]
  },
  {
   "cell_type": "code",
   "execution_count": null,
   "id": "78f026a9",
   "metadata": {},
   "outputs": [],
   "source": [
    "In [160]: print(regex.sub('REDACTED', text))\n",
    "Dave REDACTED\n",
    "Steve REDACTED\n",
    "Rob REDACTED\n",
    "Ryan REDACTED"
   ]
  },
  {
   "cell_type": "markdown",
   "id": "d0c8ef36",
   "metadata": {
    "lines_to_next_cell": 0
   },
   "source": [
    "假设你不仅想要找出电子邮件地址，还想将各个地址分成3个部分：用户名、域名以及域后缀。要实现此功能，只需将待分段的模式的各部分用圆括号包起来即可："
   ]
  },
  {
   "cell_type": "code",
   "execution_count": null,
   "id": "c8f9adbc",
   "metadata": {},
   "outputs": [],
   "source": [
    "In [161]: pattern = r'([A-Z0-9._%+-]+)@([A-Z0-9.-]+)\\.([A-Z]{2,4})'\n",
    "\n",
    "In [162]: regex = re.compile(pattern, flags=re.IGNORECASE)"
   ]
  },
  {
   "cell_type": "markdown",
   "id": "b08eb169",
   "metadata": {
    "lines_to_next_cell": 0
   },
   "source": [
    "由这种修改过的正则表达式所产生的匹配项对象，可以通过其groups方法返回一个由模式各段组成的元组："
   ]
  },
  {
   "cell_type": "code",
   "execution_count": null,
   "id": "7828e2b8",
   "metadata": {},
   "outputs": [],
   "source": [
    "In [163]: m = regex.match('wesm@bright.net')\n",
    "\n",
    "In [164]: m.groups()\n",
    "Out[164]: ('wesm', 'bright', 'net')"
   ]
  },
  {
   "cell_type": "markdown",
   "id": "cb7affdb",
   "metadata": {
    "lines_to_next_cell": 0
   },
   "source": [
    "对于带有分组功能的模式，findall会返回一个元组列表："
   ]
  },
  {
   "cell_type": "code",
   "execution_count": null,
   "id": "47cc8d90",
   "metadata": {},
   "outputs": [],
   "source": [
    "In [165]: regex.findall(text)\n",
    "Out[165]:\n",
    "[('dave', 'google', 'com'),\n",
    " ('steve', 'gmail', 'com'),\n",
    " ('rob', 'gmail', 'com'),\n",
    " ('ryan', 'yahoo', 'com')]"
   ]
  },
  {
   "cell_type": "markdown",
   "id": "12e3c087",
   "metadata": {
    "lines_to_next_cell": 0
   },
   "source": [
    "sub还能通过诸如\\1、\\2之类的特殊符号访问各匹配项中的分组。符号\\1对应第一个匹配的组，\\2对应第二个匹配的组，以此类推："
   ]
  },
  {
   "cell_type": "code",
   "execution_count": null,
   "id": "bc1d427c",
   "metadata": {},
   "outputs": [],
   "source": [
    "In [166]: print(regex.sub(r'Username: \\1, Domain: \\2, Suffix: \\3', text))\n",
    "Dave Username: dave, Domain: google, Suffix: com\n",
    "Steve Username: steve, Domain: gmail, Suffix: com\n",
    "Rob Username: rob, Domain: gmail, Suffix: com\n",
    "Ryan Username: ryan, Domain: yahoo, Suffix: com"
   ]
  },
  {
   "cell_type": "markdown",
   "id": "04db52b5",
   "metadata": {
    "lines_to_next_cell": 0
   },
   "source": [
    "Python中还有许多的正则表达式，但大部分都超出了本书的范围。表7-4是一个简要概括。\n",
    "\n",
    "![](http://upload-images.jianshu.io/upload_images/7178691-efbb80a793759fc0.png?imageMogr2/auto-orient/strip%7CimageView2/2/w/1240)\n",
    "\n",
    "## pandas的矢量化字符串函数\n",
    "\n",
    "清理待分析的散乱数据时，常常需要做一些字符串规整化工作。更为复杂的情况是，含有字符串的列有时还含有缺失数据："
   ]
  },
  {
   "cell_type": "code",
   "execution_count": null,
   "id": "a9ce1130",
   "metadata": {},
   "outputs": [],
   "source": [
    "In [167]: data = {'Dave': 'dave@google.com', 'Steve': 'steve@gmail.com',\n",
    "   .....:         'Rob': 'rob@gmail.com', 'Wes': np.nan}\n",
    "\n",
    "In [168]: data = pd.Series(data)\n",
    "\n",
    "In [169]: data\n",
    "Out[169]: \n",
    "Dave     dave@google.com\n",
    "Rob        rob@gmail.com\n",
    "Steve    steve@gmail.com\n",
    "Wes                  NaN\n",
    "dtype: object\n",
    "\n",
    "In [170]: data.isnull()\n",
    "Out[170]: \n",
    "Dave     False\n",
    "Rob      False\n",
    "Steve    False\n",
    "Wes       True\n",
    "dtype: bool"
   ]
  },
  {
   "cell_type": "markdown",
   "id": "2defc176",
   "metadata": {
    "lines_to_next_cell": 0
   },
   "source": [
    "通过data.map，所有字符串和正则表达式方法都能被应用于（传入lambda表达式或其他函数）各个值，但是如果存在NA（null）就会报错。为了解决这个问题，Series有一些能够跳过NA值的面向数组方法，进行字符串操作。通过Series的str属性即可访问这些方法。例如，我们可以通过str.contains检查各个电子邮件地址是否含有\"gmail\"："
   ]
  },
  {
   "cell_type": "code",
   "execution_count": null,
   "id": "62a8a57e",
   "metadata": {},
   "outputs": [],
   "source": [
    "In [171]: data.str.contains('gmail')\n",
    "Out[171]: \n",
    "Dave     False\n",
    "Rob       True\n",
    "Steve     True\n",
    "Wes        NaN\n",
    "dtype: object"
   ]
  },
  {
   "cell_type": "markdown",
   "id": "4358e31a",
   "metadata": {
    "lines_to_next_cell": 0
   },
   "source": [
    "也可以使用正则表达式，还可以加上任意re选项（如IGNORECASE）："
   ]
  },
  {
   "cell_type": "code",
   "execution_count": null,
   "id": "d9239e3d",
   "metadata": {},
   "outputs": [],
   "source": [
    "In [172]: pattern\n",
    "Out[172]: '([A-Z0-9._%+-]+)@([A-Z0-9.-]+)\\\\.([A-Z]{2,4})'\n",
    "\n",
    "In [173]: data.str.findall(pattern, flags=re.IGNORECASE)\n",
    "Out[173]: \n",
    "Dave     [(dave, google, com)]\n",
    "Rob        [(rob, gmail, com)]\n",
    "Steve    [(steve, gmail, com)]\n",
    "Wes                        NaN\n",
    "dtype: object"
   ]
  },
  {
   "cell_type": "markdown",
   "id": "eaf81bf0",
   "metadata": {
    "lines_to_next_cell": 0
   },
   "source": [
    "有两个办法可以实现矢量化的元素获取操作：要么使用str.get，要么在str属性上使用索引："
   ]
  },
  {
   "cell_type": "code",
   "execution_count": null,
   "id": "5f4668e4",
   "metadata": {},
   "outputs": [],
   "source": [
    "In [174]: matches = data.str.match(pattern, flags=re.IGNORECASE)\n",
    "\n",
    "In [175]: matches\n",
    "Out[175]: \n",
    "Dave     True\n",
    "Rob      True\n",
    "Steve    True\n",
    "Wes       NaN\n",
    "dtype: object"
   ]
  },
  {
   "cell_type": "markdown",
   "id": "c5fc0b0b",
   "metadata": {
    "lines_to_next_cell": 0
   },
   "source": [
    "要访问嵌入列表中的元素，我们可以传递索引到这两个函数中："
   ]
  },
  {
   "cell_type": "code",
   "execution_count": null,
   "id": "26743af6",
   "metadata": {},
   "outputs": [],
   "source": [
    "In [176]: matches.str.get(1)\n",
    "Out[176]: \n",
    "Dave    NaN\n",
    "Rob     NaN\n",
    "Steve   NaN\n",
    "Wes     NaN\n",
    "dtype: float64\n",
    "\n",
    "In [177]: matches.str[0]\n",
    "Out[177]: \n",
    "Dave    NaN\n",
    "Rob     NaN\n",
    "Steve   NaN\n",
    "Wes     NaN\n",
    "dtype: float64"
   ]
  },
  {
   "cell_type": "markdown",
   "id": "714fb809",
   "metadata": {
    "lines_to_next_cell": 0
   },
   "source": [
    "你可以利用这种方法对字符串进行截取："
   ]
  },
  {
   "cell_type": "code",
   "execution_count": null,
   "id": "9ed6b5de",
   "metadata": {},
   "outputs": [],
   "source": [
    "In [178]: data.str[:5]\n",
    "Out[178]: \n",
    "Dave     dave@\n",
    "Rob      rob@g\n",
    "Steve    steve\n",
    "Wes        NaN\n",
    "dtype: object"
   ]
  },
  {
   "cell_type": "markdown",
   "id": "03b17b3d",
   "metadata": {},
   "source": [
    "表7-5介绍了更多的pandas字符串方法。\n",
    "\n",
    "![表7-5 部分矢量化字符串方法](http://upload-images.jianshu.io/upload_images/7178691-a634364ed6d5d5c5.png?imageMogr2/auto-orient/strip%7CimageView2/2/w/1240)"
   ]
  },
  {
   "cell_type": "markdown",
   "id": "f990946a",
   "metadata": {},
   "source": [
    " # 7.4 总结\n",
    "\n",
    "高效的数据准备可以让你将更多的时间用于数据分析，花较少的时间用于准备工作，这样就可以极大地提高生产力。我们在本章中学习了许多工具，但覆盖并不全面。下一章，我们会学习pandas的聚合与分组。"
   ]
  }
 ],
 "metadata": {
  "jupytext": {
   "cell_metadata_filter": "-all",
   "main_language": "python",
   "notebook_metadata_filter": "-all"
  }
 },
 "nbformat": 4,
 "nbformat_minor": 5
}
