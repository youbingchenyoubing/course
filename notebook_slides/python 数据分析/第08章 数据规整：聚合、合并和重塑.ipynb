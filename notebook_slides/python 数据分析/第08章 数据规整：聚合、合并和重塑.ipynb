{
 "cells": [
  {
   "cell_type": "markdown",
   "id": "20a8cefb",
   "metadata": {
    "lines_to_next_cell": 0
   },
   "source": [
    "在许多应用中，数据可能分散在许多文件或数据库中，存储的形式也不利于分析。本章关注可以聚合、合并、重塑数据的方法。\n",
    "\n",
    "首先，我会介绍pandas的层次化索引，它广泛用于以上操作。然后，我深入介绍了一些特殊的数据操作。在第14章，你可以看到这些工具的多种应用。\n",
    "\n",
    "# 8.1 层次化索引\n",
    "\n",
    "层次化索引（hierarchical indexing）是pandas的一项重要功能，它使你能在一个轴上拥有多个（两个以上）索引级别。抽象点说，它使你能以低维度形式处理高维度数据。我们先来看一个简单的例子：创建一个Series，并用一个由列表或数组组成的列表作为索引："
   ]
  },
  {
   "cell_type": "code",
   "execution_count": null,
   "id": "1a7e78fb",
   "metadata": {},
   "outputs": [],
   "source": [
    "In [9]: data = pd.Series(np.random.randn(9),\n",
    "   ...:                  index=[['a', 'a', 'a', 'b', 'b', 'c', 'c', 'd', 'd'],\n",
    "   ...:                         [1, 2, 3, 1, 3, 1, 2, 2, 3]])\n",
    "\n",
    "In [10]: data\n",
    "Out[10]: \n",
    "a  1   -0.204708\n",
    "   2    0.478943\n",
    "   3   -0.519439\n",
    "b  1   -0.555730\n",
    "   3    1.965781\n",
    "c  1    1.393406\n",
    "   2    0.092908\n",
    "d  2    0.281746\n",
    "   3    0.769023\n",
    "dtype: float64"
   ]
  },
  {
   "cell_type": "markdown",
   "id": "f45381f7",
   "metadata": {
    "lines_to_next_cell": 0
   },
   "source": [
    "看到的结果是经过美化的带有MultiIndex索引的Series的格式。索引之间的“间隔”表示“直接使用上面的标签”："
   ]
  },
  {
   "cell_type": "code",
   "execution_count": null,
   "id": "e54f99c3",
   "metadata": {},
   "outputs": [],
   "source": [
    "In [11]: data.index\n",
    "Out[11]: \n",
    "MultiIndex(levels=[['a', 'b', 'c', 'd'], [1, 2, 3]],\n",
    "           labels=[[0, 0, 0, 1, 1, 2, 2, 3, 3], [0, 1, 2, 0, 2, 0, 1, 1, 2]])"
   ]
  },
  {
   "cell_type": "markdown",
   "id": "f514ec68",
   "metadata": {
    "lines_to_next_cell": 0
   },
   "source": [
    "对于一个层次化索引的对象，可以使用所谓的部分索引，使用它选取数据子集的操作更简单："
   ]
  },
  {
   "cell_type": "code",
   "execution_count": null,
   "id": "66890ba7",
   "metadata": {},
   "outputs": [],
   "source": [
    "In [12]: data['b']\n",
    "Out[12]: \n",
    "1   -0.555730\n",
    "3    1.965781\n",
    "dtype: float64\n",
    "\n",
    "In [13]: data['b':'c']\n",
    "Out[13]: \n",
    "b  1   -0.555730\n",
    "   3    1.965781\n",
    "c  1    1.393406\n",
    "   2    0.092908\n",
    "dtype: float64\n",
    "\n",
    "In [14]: data.loc[['b', 'd']]\n",
    "Out[14]: \n",
    "b  1   -0.555730\n",
    "   3    1.965781\n",
    "d  2    0.281746\n",
    "   3    0.769023\n",
    "dtype: float64"
   ]
  },
  {
   "cell_type": "markdown",
   "id": "0dd0f127",
   "metadata": {
    "lines_to_next_cell": 0
   },
   "source": [
    "有时甚至还可以在“内层”中进行选取："
   ]
  },
  {
   "cell_type": "code",
   "execution_count": null,
   "id": "c265dbee",
   "metadata": {},
   "outputs": [],
   "source": [
    "In [15]: data.loc[:, 2]\n",
    "Out[15]: \n",
    "a    0.478943\n",
    "c    0.092908\n",
    "d    0.281746\n",
    "dtype: float64"
   ]
  },
  {
   "cell_type": "markdown",
   "id": "370ebd40",
   "metadata": {
    "lines_to_next_cell": 0
   },
   "source": [
    "层次化索引在数据重塑和基于分组的操作（如透视表生成）中扮演着重要的角色。例如，可以通过unstack方法将这段数据重新安排到一个DataFrame中："
   ]
  },
  {
   "cell_type": "code",
   "execution_count": null,
   "id": "f626acd5",
   "metadata": {},
   "outputs": [],
   "source": [
    "In [16]: data.unstack()\n",
    "Out[16]: \n",
    "          1         2         3\n",
    "a -0.204708  0.478943 -0.519439\n",
    "b -0.555730       NaN  1.965781\n",
    "c  1.393406  0.092908       NaN\n",
    "d       NaN  0.281746  0.769023"
   ]
  },
  {
   "cell_type": "markdown",
   "id": "71d055ec",
   "metadata": {
    "lines_to_next_cell": 0
   },
   "source": [
    "unstack的逆运算是stack："
   ]
  },
  {
   "cell_type": "code",
   "execution_count": null,
   "id": "d41da646",
   "metadata": {},
   "outputs": [],
   "source": [
    "In [17]: data.unstack().stack()\n",
    "Out[17]: \n",
    "a  1   -0.204708\n",
    "   2    0.478943\n",
    "   3   -0.519439\n",
    "b  1   -0.555730\n",
    "   3    1.965781\n",
    "c  1    1.393406\n",
    "   2    0.092908\n",
    "d  2    0.281746\n",
    "   3    0.769023\n",
    "dtype: float64"
   ]
  },
  {
   "cell_type": "markdown",
   "id": "62225b1d",
   "metadata": {
    "lines_to_next_cell": 0
   },
   "source": [
    "stack和unstack将在本章后面详细讲解。\n",
    "\n",
    "对于一个DataFrame，每条轴都可以有分层索引："
   ]
  },
  {
   "cell_type": "code",
   "execution_count": null,
   "id": "4b1a3341",
   "metadata": {},
   "outputs": [],
   "source": [
    "In [18]: frame = pd.DataFrame(np.arange(12).reshape((4, 3)),\n",
    "   ....:                      index=[['a', 'a', 'b', 'b'], [1, 2, 1, 2]],\n",
    "   ....:                      columns=[['Ohio', 'Ohio', 'Colorado'],\n",
    "   ....:                               ['Green', 'Red', 'Green']])\n",
    "\n",
    "In [19]: frame\n",
    "Out[19]: \n",
    "     Ohio     Colorado\n",
    "    Green Red    Green\n",
    "a 1     0   1        2\n",
    "  2     3   4        5\n",
    "b 1     6   7        8\n",
    "  2     9  10       11"
   ]
  },
  {
   "cell_type": "markdown",
   "id": "eba42edf",
   "metadata": {
    "lines_to_next_cell": 0
   },
   "source": [
    "各层都可以有名字（可以是字符串，也可以是别的Python对象）。如果指定了名称，它们就会显示在控制台输出中："
   ]
  },
  {
   "cell_type": "code",
   "execution_count": null,
   "id": "7351ec61",
   "metadata": {},
   "outputs": [],
   "source": [
    "In [20]: frame.index.names = ['key1', 'key2']\n",
    "\n",
    "In [21]: frame.columns.names = ['state', 'color']\n",
    "\n",
    "In [22]: frame\n",
    "Out[22]: \n",
    "state      Ohio     Colorado\n",
    "color     Green Red    Green\n",
    "key1 key2                   \n",
    "a    1        0   1        2\n",
    "     2        3   4        5\n",
    "b    1        6   7        8\n",
    "     2        9  10       11"
   ]
  },
  {
   "cell_type": "markdown",
   "id": "f3a70e00",
   "metadata": {
    "lines_to_next_cell": 0
   },
   "source": [
    ">注意：小心区分索引名state、color与行标签。\n",
    "\n",
    "有了部分列索引，因此可以轻松选取列分组："
   ]
  },
  {
   "cell_type": "code",
   "execution_count": null,
   "id": "16e55c5f",
   "metadata": {},
   "outputs": [],
   "source": [
    "In [23]: frame['Ohio']\n",
    "Out[23]: \n",
    "color      Green  Red\n",
    "key1 key2            \n",
    "a    1         0    1\n",
    "     2         3    4\n",
    "b    1         6    7\n",
    "     2         9   10"
   ]
  },
  {
   "cell_type": "markdown",
   "id": "e26565b5",
   "metadata": {
    "lines_to_next_cell": 0
   },
   "source": [
    "可以单独创建MultiIndex然后复用。上面那个DataFrame中的（带有分级名称）列可以这样创建："
   ]
  },
  {
   "cell_type": "code",
   "execution_count": null,
   "id": "59ee8f9b",
   "metadata": {},
   "outputs": [],
   "source": [
    "MultiIndex.from_arrays([['Ohio', 'Ohio', 'Colorado'], ['Green', 'Red', 'Green']],\n",
    "                       names=['state', 'color'])"
   ]
  },
  {
   "cell_type": "markdown",
   "id": "348b8556",
   "metadata": {
    "lines_to_next_cell": 0
   },
   "source": [
    "## 重排与分级排序\n",
    "\n",
    "有时，你需要重新调整某条轴上各级别的顺序，或根据指定级别上的值对数据进行排序。swaplevel接受两个级别编号或名称，并返回一个互换了级别的新对象（但数据不会发生变化）："
   ]
  },
  {
   "cell_type": "code",
   "execution_count": null,
   "id": "db711c94",
   "metadata": {},
   "outputs": [],
   "source": [
    "In [24]: frame.swaplevel('key1', 'key2')\n",
    "Out[24]: \n",
    "state      Ohio     Colorado\n",
    "color     Green Red    Green\n",
    "key2 key1                   \n",
    "1    a        0   1        2\n",
    "2    a        3   4        5\n",
    "1    b        6   7        8\n",
    "2    b        9  10       11"
   ]
  },
  {
   "cell_type": "markdown",
   "id": "f090231b",
   "metadata": {
    "lines_to_next_cell": 0
   },
   "source": [
    "而sort_index则根据单个级别中的值对数据进行排序。交换级别时，常常也会用到sort_index，这样最终结果就是按照指定顺序进行字母排序了："
   ]
  },
  {
   "cell_type": "code",
   "execution_count": null,
   "id": "b2c121f5",
   "metadata": {},
   "outputs": [],
   "source": [
    "In [25]: frame.sort_index(level=1)\n",
    "Out[25]: \n",
    "state      Ohio     Colorado\n",
    "color     Green Red    Green\n",
    "key1 key2                   \n",
    "a    1        0   1        2\n",
    "b    1        6   7        8\n",
    "a    2        3   4        5\n",
    "b    2        9  10       11\n",
    "\n",
    "In [26]: frame.swaplevel(0, 1).sort_index(level=0)\n",
    "Out[26]: \n",
    "state      Ohio     Colorado\n",
    "color     Green Red    Green\n",
    "key2 key1                   \n",
    "1    a        0   1        2\n",
    "     b        6   7        8\n",
    "2    a        3   4        5\n",
    "     b        9  10       11"
   ]
  },
  {
   "cell_type": "markdown",
   "id": "29f8c0dd",
   "metadata": {
    "lines_to_next_cell": 0
   },
   "source": [
    "## 根据级别汇总统计\n",
    "\n",
    "许多对DataFrame和Series的描述和汇总统计都有一个level选项，它用于指定在某条轴上求和的级别。再以上面那个DataFrame为例，我们可以根据行或列上的级别来进行求和："
   ]
  },
  {
   "cell_type": "code",
   "execution_count": null,
   "id": "2469b2d9",
   "metadata": {},
   "outputs": [],
   "source": [
    "In [27]: frame.sum(level='key2')\n",
    "Out[27]: \n",
    "state  Ohio     Colorado\n",
    "color Green Red    Green\n",
    "key2                    \n",
    "1         6   8       10\n",
    "2        12  14       16\n",
    "\n",
    "In [28]: frame.sum(level='color', axis=1)\n",
    "Out[28]: \n",
    "color      Green  Red\n",
    "key1 key2            \n",
    "a    1         2    1\n",
    "     2         8    4\n",
    "b    1        14    7\n",
    "     2        20   10"
   ]
  },
  {
   "cell_type": "markdown",
   "id": "51f496d9",
   "metadata": {
    "lines_to_next_cell": 0
   },
   "source": [
    "这其实是利用了pandas的groupby功能，本书稍后将对其进行详细讲解。\n",
    "\n",
    "## 使用DataFrame的列进行索引\n",
    "\n",
    "人们经常想要将DataFrame的一个或多个列当做行索引来用，或者可能希望将行索引变成DataFrame的列。以下面这个DataFrame为例："
   ]
  },
  {
   "cell_type": "code",
   "execution_count": null,
   "id": "98751114",
   "metadata": {},
   "outputs": [],
   "source": [
    "In [29]: frame = pd.DataFrame({'a': range(7), 'b': range(7, 0, -1),\n",
    "   ....:                       'c': ['one', 'one', 'one', 'two', 'two',\n",
    "   ....:                             'two', 'two'],\n",
    "   ....:                       'd': [0, 1, 2, 0, 1, 2, 3]})\n",
    "\n",
    "In [30]: frame\n",
    "Out[30]: \n",
    "   a  b    c  d\n",
    "0  0  7  one  0\n",
    "1  1  6  one  1\n",
    "2  2  5  one  2\n",
    "3  3  4  two  0\n",
    "4  4  3  two  1\n",
    "5  5  2  two  2\n",
    "6  6  1  two  3"
   ]
  },
  {
   "cell_type": "markdown",
   "id": "78511128",
   "metadata": {
    "lines_to_next_cell": 0
   },
   "source": [
    "DataFrame的set_index函数会将其一个或多个列转换为行索引，并创建一个新的DataFrame："
   ]
  },
  {
   "cell_type": "code",
   "execution_count": null,
   "id": "e8901316",
   "metadata": {},
   "outputs": [],
   "source": [
    "In [31]: frame2 = frame.set_index(['c', 'd'])\n",
    "\n",
    "In [32]: frame2\n",
    "Out[32]: \n",
    "       a  b\n",
    "c   d      \n",
    "one 0  0  7\n",
    "    1  1  6\n",
    "    2  2  5\n",
    "two 0  3  4\n",
    "    1  4  3\n",
    "    2  5  2\n",
    "    3  6  1"
   ]
  },
  {
   "cell_type": "markdown",
   "id": "f5b942f3",
   "metadata": {
    "lines_to_next_cell": 0
   },
   "source": [
    "默认情况下，那些列会从DataFrame中移除，但也可以将其保留下来："
   ]
  },
  {
   "cell_type": "code",
   "execution_count": null,
   "id": "7b5952d6",
   "metadata": {},
   "outputs": [],
   "source": [
    "In [33]: frame.set_index(['c', 'd'], drop=False)\n",
    "Out[33]: \n",
    "       a  b    c  d\n",
    "c   d              \n",
    "one 0  0  7  one  0\n",
    "    1  1  6  one  1\n",
    "    2  2  5  one  2\n",
    "two 0  3  4  two  0\n",
    "    1  4  3  two  1\n",
    "    2  5  2  two  2\n",
    "    3  6  1  two  3"
   ]
  },
  {
   "cell_type": "markdown",
   "id": "9b53ab85",
   "metadata": {
    "lines_to_next_cell": 0
   },
   "source": [
    "reset_index的功能跟set_index刚好相反，层次化索引的级别会被转移到列里面："
   ]
  },
  {
   "cell_type": "code",
   "execution_count": null,
   "id": "74644b33",
   "metadata": {},
   "outputs": [],
   "source": [
    "In [34]: frame2.reset_index()\n",
    "Out[34]:\n",
    "c  d  a  b\n",
    "0  one  0  0  7\n",
    "1  one  1  1  6\n",
    "2  one  2  2  5\n",
    "3  two  0  3  4\n",
    "4  two  1  4  3\n",
    "5  two  2  5  2\n",
    "6  two  3  6  1"
   ]
  },
  {
   "cell_type": "markdown",
   "id": "bdc979b3",
   "metadata": {
    "lines_to_next_cell": 0
   },
   "source": [
    "# 8.2 合并数据集\n",
    "\n",
    "pandas对象中的数据可以通过一些方式进行合并：\n",
    "\n",
    "- pandas.merge可根据一个或多个键将不同DataFrame中的行连接起来。SQL或其他关系型数据库的用户对此应该会比较熟悉，因为它实现的就是数据库的join操作。\n",
    "- pandas.concat可以沿着一条轴将多个对象堆叠到一起。\n",
    "- 实例方法combine_first可以将重复数据拼接在一起，用一个对象中的值填充另一个对象中的缺失值。\n",
    "\n",
    "我将分别对它们进行讲解，并给出一些例子。本书剩余部分的示例中将经常用到它们。\n",
    "\n",
    "##数据库风格的DataFrame合并\n",
    "\n",
    "数据集的合并（merge）或连接（join）运算是通过一个或多个键将行连接起来的。这些运算是关系型数据库（基于SQL）的核心。pandas的merge函数是对数据应用这些算法的主要切入点。\n",
    "\n",
    "以一个简单的例子开始："
   ]
  },
  {
   "cell_type": "code",
   "execution_count": null,
   "id": "dd075610",
   "metadata": {},
   "outputs": [],
   "source": [
    "In [35]: df1 = pd.DataFrame({'key': ['b', 'b', 'a', 'c', 'a', 'a', 'b'],\n",
    "   ....:                     'data1': range(7)})\n",
    "\n",
    "In [36]: df2 = pd.DataFrame({'key': ['a', 'b', 'd'],\n",
    "   ....:                     'data2': range(3)})\n",
    "\n",
    "In [37]: df1\n",
    "Out[37]: \n",
    "   data1 key\n",
    "0      0   b\n",
    "1      1   b\n",
    "2      2   a\n",
    "3      3   c\n",
    "4      4   a\n",
    "5      5   a\n",
    "6      6   b\n",
    "\n",
    "In [38]: df2\n",
    "Out[38]: \n",
    "   data2 key\n",
    "0      0   a\n",
    "1      1   b\n",
    "2      2   d"
   ]
  },
  {
   "cell_type": "markdown",
   "id": "f9b4d0cd",
   "metadata": {
    "lines_to_next_cell": 0
   },
   "source": [
    "这是一种多对一的合并。df1中的数据有多个被标记为a和b的行，而df2中key列的每个值则仅对应一行。对这些对象调用merge即可得到："
   ]
  },
  {
   "cell_type": "code",
   "execution_count": null,
   "id": "45fe142e",
   "metadata": {},
   "outputs": [],
   "source": [
    "In [39]: pd.merge(df1, df2)\n",
    "Out[39]: \n",
    "   data1 key  data2\n",
    "0      0   b      1\n",
    "1      1   b      1\n",
    "2      6   b      1\n",
    "3      2   a      0\n",
    "4      4   a      0\n",
    "5      5   a      0"
   ]
  },
  {
   "cell_type": "markdown",
   "id": "c1ce6b61",
   "metadata": {
    "lines_to_next_cell": 0
   },
   "source": [
    "注意，我并没有指明要用哪个列进行连接。如果没有指定，merge就会将重叠列的列名当做键。不过，最好明确指定一下："
   ]
  },
  {
   "cell_type": "code",
   "execution_count": null,
   "id": "a593e43f",
   "metadata": {},
   "outputs": [],
   "source": [
    "In [40]: pd.merge(df1, df2, on='key')\n",
    "Out[40]: \n",
    "   data1 key  data2\n",
    "0      0   b      1\n",
    "1      1   b      1\n",
    "2      6   b      1\n",
    "3      2   a      0\n",
    "4      4   a      0\n",
    "5      5   a      0"
   ]
  },
  {
   "cell_type": "markdown",
   "id": "ff210a6e",
   "metadata": {
    "lines_to_next_cell": 0
   },
   "source": [
    "如果两个对象的列名不同，也可以分别进行指定："
   ]
  },
  {
   "cell_type": "code",
   "execution_count": null,
   "id": "3a6f853a",
   "metadata": {},
   "outputs": [],
   "source": [
    "In [41]: df3 = pd.DataFrame({'lkey': ['b', 'b', 'a', 'c', 'a', 'a', 'b'],\n",
    "   ....:                     'data1': range(7)})\n",
    "\n",
    "In [42]: df4 = pd.DataFrame({'rkey': ['a', 'b', 'd'],\n",
    "   ....:                     'data2': range(3)})\n",
    "\n",
    "In [43]: pd.merge(df3, df4, left_on='lkey', right_on='rkey')\n",
    "Out[43]: \n",
    "   data1 lkey  data2 rkey\n",
    "0      0    b      1    b\n",
    "1      1    b      1    b\n",
    "2      6    b      1    b\n",
    "3      2    a      0    a\n",
    "4      4    a      0    a\n",
    "5      5    a      0    a"
   ]
  },
  {
   "cell_type": "markdown",
   "id": "6b5c8d8d",
   "metadata": {
    "lines_to_next_cell": 0
   },
   "source": [
    "可能你已经注意到了，结果里面c和d以及与之相关的数据消失了。默认情况下，merge做的是“内连接”；结果中的键是交集。其他方式还有\"left\"、\"right\"以及\"outer\"。外连接求取的是键的并集，组合了左连接和右连接的效果："
   ]
  },
  {
   "cell_type": "code",
   "execution_count": null,
   "id": "a06c19aa",
   "metadata": {},
   "outputs": [],
   "source": [
    "In [44]: pd.merge(df1, df2, how='outer')\n",
    "Out[44]: \n",
    "   data1 key  data2\n",
    "0    0.0   b    1.0\n",
    "1    1.0   b    1.0\n",
    "2    6.0   b    1.0\n",
    "3    2.0   a    0.0\n",
    "4    4.0   a    0.0\n",
    "5    5.0   a    0.0\n",
    "6    3.0   c    NaN\n",
    "7    NaN   d    2.0"
   ]
  },
  {
   "cell_type": "markdown",
   "id": "993ba505",
   "metadata": {},
   "source": [
    "表8-1对这些选项进行了总结。\n",
    "\n",
    "![表8-1 不同的连接类型](http://upload-images.jianshu.io/upload_images/7178691-e49b3341f4a3c90e.png?imageMogr2/auto-orient/strip%7CimageView2/2/w/1240)"
   ]
  },
  {
   "cell_type": "markdown",
   "id": "5ec4cfc1",
   "metadata": {
    "lines_to_next_cell": 0
   },
   "source": [
    "多对多的合并有些不直观。看下面的例子："
   ]
  },
  {
   "cell_type": "code",
   "execution_count": null,
   "id": "fc2b2ed3",
   "metadata": {},
   "outputs": [],
   "source": [
    "In [45]: df1 = pd.DataFrame({'key': ['b', 'b', 'a', 'c', 'a', 'b'],\n",
    "   ....:                     'data1': range(6)})\n",
    "\n",
    "In [46]: df2 = pd.DataFrame({'key': ['a', 'b', 'a', 'b', 'd'],\n",
    "   ....:                     'data2': range(5)})\n",
    "\n",
    "In [47]: df1\n",
    "Out[47]: \n",
    "   data1 key\n",
    "0      0   b\n",
    "1      1   b\n",
    "2      2   a\n",
    "3      3   c\n",
    "4      4   a\n",
    "5      5   b\n",
    "\n",
    "In [48]: df2\n",
    "Out[48]: \n",
    "   data2 key\n",
    "0      0   a\n",
    "1      1   b\n",
    "2      2   a\n",
    "3      3   b\n",
    "4      4   d\n",
    "\n",
    "In [49]: pd.merge(df1, df2, on='key', how='left')\n",
    "Out[49]: \n",
    "    data1 key  data2\n",
    "0       0   b    1.0\n",
    "1       0   b    3.0\n",
    "2       1   b    1.0\n",
    "3       1   b    3.0\n",
    "4       2   a    0.0\n",
    "5       2   a    2.0\n",
    "6       3   c    NaN\n",
    "7       4   a    0.0\n",
    "8       4   a    2.0\n",
    "9       5   b    1.0\n",
    "10      5   b    3.0"
   ]
  },
  {
   "cell_type": "markdown",
   "id": "4644c62f",
   "metadata": {
    "lines_to_next_cell": 0
   },
   "source": [
    "多对多连接产生的是行的笛卡尔积。由于左边的DataFrame有3个\"b\"行，右边的有2个，所以最终结果中就有6个\"b\"行。连接方式只影响出现在结果中的不同的键的值："
   ]
  },
  {
   "cell_type": "code",
   "execution_count": null,
   "id": "18ade934",
   "metadata": {},
   "outputs": [],
   "source": [
    "In [50]: pd.merge(df1, df2, how='inner')\n",
    "Out[50]: \n",
    "   data1 key  data2\n",
    "0      0   b      1\n",
    "1      0   b      3\n",
    "2      1   b      1\n",
    "3      1   b      3\n",
    "4      5   b      1\n",
    "5      5   b      3\n",
    "6      2   a      0\n",
    "7      2   a      2\n",
    "8      4   a      0\n",
    "9      4   a      2"
   ]
  },
  {
   "cell_type": "markdown",
   "id": "17c71044",
   "metadata": {
    "lines_to_next_cell": 0
   },
   "source": [
    "要根据多个键进行合并，传入一个由列名组成的列表即可："
   ]
  },
  {
   "cell_type": "code",
   "execution_count": null,
   "id": "f46c30ea",
   "metadata": {},
   "outputs": [],
   "source": [
    "In [51]: left = pd.DataFrame({'key1': ['foo', 'foo', 'bar'],\n",
    "   ....:                      'key2': ['one', 'two', 'one'],\n",
    "   ....:                      'lval': [1, 2, 3]})\n",
    "\n",
    "In [52]: right = pd.DataFrame({'key1': ['foo', 'foo', 'bar', 'bar'],\n",
    "   ....:                       'key2': ['one', 'one', 'one', 'two'],\n",
    "   ....:                       'rval': [4, 5, 6, 7]})\n",
    "\n",
    "In [53]: pd.merge(left, right, on=['key1', 'key2'], how='outer')\n",
    "Out[53]: \n",
    "  key1 key2  lval  rval\n",
    "0  foo  one   1.0   4.0\n",
    "1  foo  one   1.0   5.0\n",
    "2  foo  two   2.0   NaN\n",
    "3  bar  one   3.0   6.0\n",
    "4  bar  two   NaN   7.0"
   ]
  },
  {
   "cell_type": "markdown",
   "id": "a18701eb",
   "metadata": {
    "lines_to_next_cell": 0
   },
   "source": [
    "结果中会出现哪些键组合取决于所选的合并方式，你可以这样来理解：多个键形成一系列元组，并将其当做单个连接键（当然，实际上并不是这么回事）。\n",
    "\n",
    ">注意：在进行列－列连接时，DataFrame对象中的索引会被丢弃。\n",
    "\n",
    "对于合并运算需要考虑的最后一个问题是对重复列名的处理。虽然你可以手工处理列名重叠的问题（查看前面介绍的重命名轴标签），但merge有一个更实用的suffixes选项，用于指定附加到左右两个DataFrame对象的重叠列名上的字符串："
   ]
  },
  {
   "cell_type": "code",
   "execution_count": null,
   "id": "9fac2da4",
   "metadata": {},
   "outputs": [],
   "source": [
    "In [54]: pd.merge(left, right, on='key1')\n",
    "Out[54]: \n",
    "  key1 key2_x  lval key2_y  rval\n",
    "0  foo    one     1    one     4\n",
    "1  foo    one     1    one     5\n",
    "2  foo    two     2    one     4\n",
    "3  foo    two     2    one     5\n",
    "4  bar    one     3    one     6\n",
    "5  bar    one     3    two     7\n",
    "\n",
    "In [55]: pd.merge(left, right, on='key1', suffixes=('_left', '_right'))\n",
    "Out[55]: \n",
    "  key1 key2_left  lval key2_right  rval\n",
    "0  foo       one     1        one     4\n",
    "1  foo       one     1        one     5\n",
    "2  foo       two     2        one     4\n",
    "3  foo       two     2        one     5\n",
    "4  bar       one     3        one     6\n",
    "5  bar       one     3        two     7"
   ]
  },
  {
   "cell_type": "markdown",
   "id": "8c8f35cb",
   "metadata": {
    "lines_to_next_cell": 0
   },
   "source": [
    "merge的参数请参见表8-2。使用DataFrame的行索引合并是下一节的主题。\n",
    "\n",
    "表8-2 merge函数的参数\n",
    "\n",
    "![](http://upload-images.jianshu.io/upload_images/7178691-35ca716a4f1b8475.png?imageMogr2/auto-orient/strip%7CimageView2/2/w/1240)\n",
    "\n",
    "![](http://upload-images.jianshu.io/upload_images/7178691-c86672e733ceccd9.png?imageMogr2/auto-orient/strip%7CimageView2/2/w/1240)\n",
    "\n",
    "indicator 添加特殊的列_merge，它可以指明每个行的来源，它的值有left_only、right_only或both，根据每行的合并数据的来源。\n",
    "\n",
    "## 索引上的合并\n",
    "\n",
    "有时候，DataFrame中的连接键位于其索引中。在这种情况下，你可以传入left_index=True或right_index=True（或两个都传）以说明索引应该被用作连接键："
   ]
  },
  {
   "cell_type": "code",
   "execution_count": null,
   "id": "518fb003",
   "metadata": {},
   "outputs": [],
   "source": [
    "In [56]: left1 = pd.DataFrame({'key': ['a', 'b', 'a', 'a', 'b', 'c'],\n",
    "   ....:                       'value': range(6)})\n",
    "\n",
    "In [57]: right1 = pd.DataFrame({'group_val': [3.5, 7]}, index=['a', 'b'])\n",
    "\n",
    "In [58]: left1\n",
    "Out[58]:\n",
    "\n",
    "  key  value\n",
    "0   a      0\n",
    "1   b      1\n",
    "2   a      2\n",
    "3   a      3\n",
    "4   b      4\n",
    "5   c      5\n",
    "\n",
    "In [59]: right1\n",
    "Out[59]: \n",
    "   group_val\n",
    "a        3.5\n",
    "b        7.0\n",
    "\n",
    "In [60]: pd.merge(left1, right1, left_on='key', right_index=True)\n",
    "Out[60]: \n",
    "  key  value  group_val\n",
    "0   a      0        3.5\n",
    "2   a      2        3.5\n",
    "3   a      3        3.5\n",
    "1   b      1        7.0\n",
    "4   b      4        7.0"
   ]
  },
  {
   "cell_type": "markdown",
   "id": "62c5e091",
   "metadata": {
    "lines_to_next_cell": 0
   },
   "source": [
    "由于默认的merge方法是求取连接键的交集，因此你可以通过外连接的方式得到它们的并集："
   ]
  },
  {
   "cell_type": "code",
   "execution_count": null,
   "id": "2a2d4ac8",
   "metadata": {},
   "outputs": [],
   "source": [
    "In [61]: pd.merge(left1, right1, left_on='key', right_index=True, how='outer')\n",
    "Out[61]: \n",
    "  key  value  group_val\n",
    "0   a      0        3.5\n",
    "2   a      2        3.5\n",
    "3   a      3        3.5\n",
    "1   b      1        7.0\n",
    "4   b      4        7.0\n",
    "5   c      5        NaN"
   ]
  },
  {
   "cell_type": "markdown",
   "id": "1db17e96",
   "metadata": {
    "lines_to_next_cell": 0
   },
   "source": [
    "对于层次化索引的数据，事情就有点复杂了，因为索引的合并默认是多键合并："
   ]
  },
  {
   "cell_type": "code",
   "execution_count": null,
   "id": "e73f5983",
   "metadata": {},
   "outputs": [],
   "source": [
    "In [62]: lefth = pd.DataFrame({'key1': ['Ohio', 'Ohio', 'Ohio',\n",
    "   ....:                                'Nevada', 'Nevada'],\n",
    "   ....:                       'key2': [2000, 2001, 2002, 2001, 2002],\n",
    "   ....:                       'data': np.arange(5.)})\n",
    "\n",
    "In [63]: righth = pd.DataFrame(np.arange(12).reshape((6, 2)),\n",
    "   ....:                       index=[['Nevada', 'Nevada', 'Ohio', 'Ohio',\n",
    "   ....:                               'Ohio', 'Ohio'],\n",
    "   ....:                              [2001, 2000, 2000, 2000, 2001, 2002]],\n",
    "   ....:                       columns=['event1', 'event2'])\n",
    "\n",
    "In [64]: lefth\n",
    "Out[64]: \n",
    "   data    key1  key2\n",
    "0   0.0    Ohio  2000\n",
    "1   1.0    Ohio  2001\n",
    "2   2.0    Ohio  2002\n",
    "3   3.0  Nevada  2001\n",
    "4   4.0  Nevada  2002\n",
    "\n",
    "In [65]: righth\n",
    "Out[65]: \n",
    "             event1  event2\n",
    "Nevada 2001       0       1\n",
    "       2000       2       3\n",
    "Ohio   2000       4       5\n",
    "       2000       6       7\n",
    "       2001       8       9\n",
    "       2002      10      11"
   ]
  },
  {
   "cell_type": "markdown",
   "id": "b4f80a9c",
   "metadata": {
    "lines_to_next_cell": 0
   },
   "source": [
    "这种情况下，你必须以列表的形式指明用作合并键的多个列（注意用how='outer'对重复索引值的处理）："
   ]
  },
  {
   "cell_type": "code",
   "execution_count": null,
   "id": "c1511425",
   "metadata": {},
   "outputs": [],
   "source": [
    "In [66]: pd.merge(lefth, righth, left_on=['key1', 'key2'], right_index=True)\n",
    "Out[66]: \n",
    "   data    key1  key2  event1  event2\n",
    "0   0.0    Ohio  2000       4       5\n",
    "0   0.0    Ohio  2000       6       7\n",
    "1   1.0    Ohio  2001       8       9\n",
    "2   2.0    Ohio  2002      10      11\n",
    "3   3.0  Nevada  2001       0       1\n",
    "\n",
    "In [67]: pd.merge(lefth, righth, left_on=['key1', 'key2'],\n",
    "   ....:          right_index=True, how='outer')\n",
    "Out[67]: \n",
    "   data    key1  key2  event1  event2\n",
    "0   0.0    Ohio  2000     4.0     5.0\n",
    "0   0.0    Ohio  2000     6.0     7.0\n",
    "1   1.0    Ohio  2001     8.0     9.0\n",
    "2   2.0    Ohio  2002    10.0    11.0\n",
    "3   3.0  Nevada  2001     0.0     1.0\n",
    "4   4.0  Nevada  2002     NaN     NaN\n",
    "4   NaN  Nevada  2000     2.0     3.0"
   ]
  },
  {
   "cell_type": "markdown",
   "id": "bedc5db4",
   "metadata": {
    "lines_to_next_cell": 0
   },
   "source": [
    "同时使用合并双方的索引也没问题："
   ]
  },
  {
   "cell_type": "code",
   "execution_count": null,
   "id": "03fddf9c",
   "metadata": {},
   "outputs": [],
   "source": [
    "In [68]: left2 = pd.DataFrame([[1., 2.], [3., 4.], [5., 6.]],\n",
    "   ....:                      index=['a', 'c', 'e'],\n",
    "   ....:                      columns=['Ohio', 'Nevada'])\n",
    "\n",
    "In [69]: right2 = pd.DataFrame([[7., 8.], [9., 10.], [11., 12.], [13, 14]],\n",
    "   ....:                       index=['b', 'c', 'd', 'e'],\n",
    "   ....:                       columns=['Missouri', 'Alabama'])\n",
    "\n",
    "In [70]: left2\n",
    "Out[70]: \n",
    "   Ohio  Nevada\n",
    "a   1.0     2.0\n",
    "c   3.0     4.0\n",
    "e   5.0     6.0\n",
    "\n",
    "In [71]: right2\n",
    "Out[71]: \n",
    "   Missouri  Alabama\n",
    "b       7.0      8.0\n",
    "c       9.0     10.0\n",
    "d      11.0     12.0\n",
    "e      13.0     14.0\n",
    "\n",
    "In [72]: pd.merge(left2, right2, how='outer', left_index=True, right_index=True)\n",
    "Out[72]: \n",
    "   Ohio  Nevada  Missouri  Alabama\n",
    "a   1.0     2.0       NaN      NaN\n",
    "b   NaN     NaN       7.0      8.0\n",
    "c   3.0     4.0       9.0     10.0\n",
    "d   NaN     NaN      11.0     12.0\n",
    "e   5.0     6.0      13.0     14.0"
   ]
  },
  {
   "cell_type": "markdown",
   "id": "eadb5328",
   "metadata": {
    "lines_to_next_cell": 0
   },
   "source": [
    "DataFrame还有一个便捷的join实例方法，它能更为方便地实现按索引合并。它还可用于合并多个带有相同或相似索引的DataFrame对象，但要求没有重叠的列。在上面那个例子中，我们可以编写："
   ]
  },
  {
   "cell_type": "code",
   "execution_count": null,
   "id": "7b401fa4",
   "metadata": {},
   "outputs": [],
   "source": [
    "In [73]: left2.join(right2, how='outer')\n",
    "Out[73]: \n",
    "   Ohio  Nevada  Missouri  Alabama\n",
    "a   1.0     2.0       NaN      NaN\n",
    "b   NaN     NaN       7.0      8.0\n",
    "c   3.0     4.0       9.0     10.0\n",
    "d   NaN     NaN      11.0     12.0\n",
    "e   5.0     6.0      13.0     14.0"
   ]
  },
  {
   "cell_type": "markdown",
   "id": "c025dbfb",
   "metadata": {
    "lines_to_next_cell": 0
   },
   "source": [
    "因为一些历史版本的遗留原因，DataFrame的join方法默认使用的是左连接，保留左边表的行索引。它还支持在调用的DataFrame的列上，连接传递的DataFrame索引："
   ]
  },
  {
   "cell_type": "code",
   "execution_count": null,
   "id": "6d980749",
   "metadata": {},
   "outputs": [],
   "source": [
    "In [74]: left1.join(right1, on='key')\n",
    "Out[74]: \n",
    "  key  value  group_val\n",
    "0   a      0        3.5\n",
    "1   b      1        7.0\n",
    "2   a      2        3.5\n",
    "3   a      3        3.5\n",
    "4   b      4        7.0\n",
    "5   c      5        NaN"
   ]
  },
  {
   "cell_type": "markdown",
   "id": "45677291",
   "metadata": {
    "lines_to_next_cell": 0
   },
   "source": [
    "最后，对于简单的索引合并，你还可以向join传入一组DataFrame，下一节会介绍更为通用的concat函数，也能实现此功能："
   ]
  },
  {
   "cell_type": "code",
   "execution_count": null,
   "id": "9cc47929",
   "metadata": {},
   "outputs": [],
   "source": [
    "In [75]: another = pd.DataFrame([[7., 8.], [9., 10.], [11., 12.], [16., 17.]],\n",
    "   ....:                        index=['a', 'c', 'e', 'f'],\n",
    "   ....:                        columns=['New York',\n",
    "'Oregon'])\n",
    "\n",
    "In [76]: another\n",
    "Out[76]: \n",
    "   New York  Oregon\n",
    "a       7.0     8.0\n",
    "c       9.0    10.0\n",
    "e      11.0    12.0\n",
    "f      16.0    17.0\n",
    "\n",
    "In [77]: left2.join([right2, another])\n",
    "Out[77]: \n",
    "   Ohio  Nevada  Missouri  Alabama  New York  Oregon\n",
    "a   1.0     2.0       NaN      NaN       7.0     8.0\n",
    "c   3.0     4.0       9.0     10.0       9.0    10.0\n",
    "e   5.0     6.0      13.0     14.0      11.0    12.0\n",
    "\n",
    "In [78]: left2.join([right2, another], how='outer')\n",
    "Out[78]: \n",
    "   Ohio  Nevada  Missouri  Alabama  New York  Oregon\n",
    "a   1.0     2.0       NaN      NaN       7.0     8.0\n",
    "b   NaN     NaN       7.0      8.0       NaN     NaN\n",
    "c   3.0     4.0       9.0     10.0       9.0    10.0\n",
    "d   NaN     NaN      11.0     12.0       NaN     NaN\n",
    "e   5.0     6.0      13.0     14.0      11.0    12.0\n",
    "f   NaN     NaN       NaN      NaN      16.0    17.0"
   ]
  },
  {
   "cell_type": "markdown",
   "id": "abb7ec07",
   "metadata": {
    "lines_to_next_cell": 0
   },
   "source": [
    "## 轴向连接\n",
    "\n",
    "另一种数据合并运算也被称作连接（concatenation）、绑定（binding）或堆叠（stacking）。NumPy的concatenation函数可以用NumPy数组来做："
   ]
  },
  {
   "cell_type": "code",
   "execution_count": null,
   "id": "da8ee2c9",
   "metadata": {},
   "outputs": [],
   "source": [
    "In [79]: arr = np.arange(12).reshape((3, 4))\n",
    "\n",
    "In [80]: arr\n",
    "Out[80]: \n",
    "array([[ 0,  1,  2,  3],\n",
    "       [ 4,  5,  6,  7],\n",
    "       [ 8,  9, 10, 11]])\n",
    "\n",
    "In [81]: np.concatenate([arr, arr], axis=1)\n",
    "Out[81]: \n",
    "array([[ 0,  1,  2,  3,  0,  1,  2,  3],\n",
    "       [ 4,  5,  6,  7,  4,  5,  6,  7],\n",
    "       [ 8,  9, 10, 11,  8,  9, 10, 11]])"
   ]
  },
  {
   "cell_type": "markdown",
   "id": "b2dba681",
   "metadata": {
    "lines_to_next_cell": 0
   },
   "source": [
    "对于pandas对象（如Series和DataFrame），带有标签的轴使你能够进一步推广数组的连接运算。具体点说，你还需要考虑以下这些东西：\n",
    "\n",
    "- 如果对象在其它轴上的索引不同，我们应该合并这些轴的不同元素还是只使用交集？\n",
    "- 连接的数据集是否需要在结果对象中可识别？\n",
    "- 连接轴中保存的数据是否需要保留？许多情况下，DataFrame默认的整数标签最好在连接时删掉。\n",
    "\n",
    "pandas的concat函数提供了一种能够解决这些问题的可靠方式。我将给出一些例子来讲解其使用方式。假设有三个没有重叠索引的Series："
   ]
  },
  {
   "cell_type": "code",
   "execution_count": null,
   "id": "91cb082c",
   "metadata": {},
   "outputs": [],
   "source": [
    "In [82]: s1 = pd.Series([0, 1], index=['a', 'b'])\n",
    "\n",
    "In [83]: s2 = pd.Series([2, 3, 4], index=['c', 'd', 'e'])\n",
    "\n",
    "In [84]: s3 = pd.Series([5, 6], index=['f', 'g'])"
   ]
  },
  {
   "cell_type": "markdown",
   "id": "9522973b",
   "metadata": {
    "lines_to_next_cell": 0
   },
   "source": [
    "对这些对象调用concat可以将值和索引粘合在一起："
   ]
  },
  {
   "cell_type": "code",
   "execution_count": null,
   "id": "234e8489",
   "metadata": {},
   "outputs": [],
   "source": [
    "In [85]: pd.concat([s1, s2, s3])\n",
    "Out[85]: \n",
    "a    0\n",
    "b    1\n",
    "c    2\n",
    "d    3\n",
    "e    4\n",
    "f    5\n",
    "g    6\n",
    "dtype: int64"
   ]
  },
  {
   "cell_type": "markdown",
   "id": "7f59a600",
   "metadata": {
    "lines_to_next_cell": 0
   },
   "source": [
    "默认情况下，concat是在axis=0上工作的，最终产生一个新的Series。如果传入axis=1，则结果就会变成一个DataFrame（axis=1是列）："
   ]
  },
  {
   "cell_type": "code",
   "execution_count": null,
   "id": "5c7ac67e",
   "metadata": {},
   "outputs": [],
   "source": [
    "In [86]: pd.concat([s1, s2, s3], axis=1)\n",
    "Out[86]: \n",
    "     0    1    2\n",
    "a  0.0  NaN  NaN\n",
    "b  1.0  NaN  NaN\n",
    "c  NaN  2.0  NaN\n",
    "d  NaN  3.0  NaN\n",
    "e  NaN  4.0  NaN\n",
    "f  NaN  NaN  5.0\n",
    "g  NaN  NaN  6.0"
   ]
  },
  {
   "cell_type": "markdown",
   "id": "f27e3075",
   "metadata": {
    "lines_to_next_cell": 0
   },
   "source": [
    "这种情况下，另外的轴上没有重叠，从索引的有序并集（外连接）上就可以看出来。传入join='inner'即可得到它们的交集："
   ]
  },
  {
   "cell_type": "code",
   "execution_count": null,
   "id": "7fe97d28",
   "metadata": {},
   "outputs": [],
   "source": [
    "In [87]: s4 = pd.concat([s1, s3])\n",
    "\n",
    "In [88]: s4\n",
    "Out[88]: \n",
    "a    0\n",
    "b    1\n",
    "f    5\n",
    "g    6\n",
    "dtype: int64\n",
    "\n",
    "In [89]: pd.concat([s1, s4], axis=1)\n",
    "Out[89]: \n",
    "     0  1\n",
    "a  0.0  0\n",
    "b  1.0  1\n",
    "f  NaN  5\n",
    "g  NaN  6\n",
    "\n",
    "In [90]: pd.concat([s1, s4], axis=1, join='inner')\n",
    "Out[90]: \n",
    "   0  1\n",
    "a  0  0\n",
    "b  1  1"
   ]
  },
  {
   "cell_type": "markdown",
   "id": "b1dbf2e9",
   "metadata": {
    "lines_to_next_cell": 0
   },
   "source": [
    "在这个例子中，f和g标签消失了，是因为使用的是join='inner'选项。\n",
    "\n",
    "你可以通过join_axes指定要在其它轴上使用的索引："
   ]
  },
  {
   "cell_type": "code",
   "execution_count": null,
   "id": "3ab24453",
   "metadata": {},
   "outputs": [],
   "source": [
    "In [91]: pd.concat([s1, s4], axis=1, join_axes=[['a', 'c', 'b', 'e']])\n",
    "Out[91]: \n",
    "     0    1\n",
    "a  0.0  0.0\n",
    "c  NaN  NaN\n",
    "b  1.0  1.0\n",
    "e  NaN  NaN"
   ]
  },
  {
   "cell_type": "markdown",
   "id": "f87fba48",
   "metadata": {
    "lines_to_next_cell": 0
   },
   "source": [
    "不过有个问题，参与连接的片段在结果中区分不开。假设你想要在连接轴上创建一个层次化索引。使用keys参数即可达到这个目的："
   ]
  },
  {
   "cell_type": "code",
   "execution_count": null,
   "id": "6ecc21f2",
   "metadata": {},
   "outputs": [],
   "source": [
    "In [92]: result = pd.concat([s1, s1, s3], keys=['one','two', 'three'])\n",
    "\n",
    "In [93]: result\n",
    "Out[93]: \n",
    "one    a    0\n",
    "       b    1\n",
    "two    a    0\n",
    "       b    1\n",
    "three  f    5\n",
    "       g    6\n",
    "dtype: int64\n",
    "\n",
    "In [94]: result.unstack()\n",
    "Out[94]: \n",
    "         a    b    f    g\n",
    "one    0.0  1.0  NaN  NaN\n",
    "two    0.0  1.0  NaN  NaN\n",
    "three  NaN  NaN  5.0  6.0"
   ]
  },
  {
   "cell_type": "markdown",
   "id": "fed974f5",
   "metadata": {
    "lines_to_next_cell": 0
   },
   "source": [
    "如果沿着axis=1对Series进行合并，则keys就会成为DataFrame的列头："
   ]
  },
  {
   "cell_type": "code",
   "execution_count": null,
   "id": "1e03b72e",
   "metadata": {},
   "outputs": [],
   "source": [
    "In [95]: pd.concat([s1, s2, s3], axis=1, keys=['one','two', 'three'])\n",
    "Out[95]: \n",
    "   one  two  three\n",
    "a  0.0  NaN    NaN\n",
    "b  1.0  NaN    NaN\n",
    "c  NaN  2.0    NaN\n",
    "d  NaN  3.0    NaN\n",
    "e  NaN  4.0    NaN\n",
    "f  NaN  NaN    5.0\n",
    "g  NaN  NaN    6.0"
   ]
  },
  {
   "cell_type": "markdown",
   "id": "e4d496e0",
   "metadata": {
    "lines_to_next_cell": 0
   },
   "source": [
    "同样的逻辑也适用于DataFrame对象："
   ]
  },
  {
   "cell_type": "code",
   "execution_count": null,
   "id": "dfa96a98",
   "metadata": {},
   "outputs": [],
   "source": [
    "In [96]: df1 = pd.DataFrame(np.arange(6).reshape(3, 2), index=['a', 'b', 'c'],\n",
    "   ....:                    columns=['one', 'two'])\n",
    "\n",
    "In [97]: df2 = pd.DataFrame(5 + np.arange(4).reshape(2, 2), index=['a', 'c'],\n",
    "   ....:                    columns=['three', 'four'])\n",
    "\n",
    "In [98]: df1\n",
    "Out[98]: \n",
    "   one  two\n",
    "a    0    1\n",
    "b    2    3\n",
    "c    4    5\n",
    "\n",
    "In [99]: df2\n",
    "Out[99]: \n",
    "   three  four\n",
    "a      5     6\n",
    "c      7     8\n",
    "\n",
    "In [100]: pd.concat([df1, df2], axis=1, keys=['level1', 'level2'])\n",
    "Out[100]: \n",
    "  level1     level2     \n",
    "     one two  three four\n",
    "a      0   1    5.0  6.0\n",
    "b      2   3    NaN  NaN\n",
    "c      4   5    7.0  8.0"
   ]
  },
  {
   "cell_type": "markdown",
   "id": "1198c26b",
   "metadata": {
    "lines_to_next_cell": 0
   },
   "source": [
    "如果传入的不是列表而是一个字典，则字典的键就会被当做keys选项的值："
   ]
  },
  {
   "cell_type": "code",
   "execution_count": null,
   "id": "ce5e5606",
   "metadata": {},
   "outputs": [],
   "source": [
    "In [101]: pd.concat({'level1': df1, 'level2': df2}, axis=1)\n",
    "\n",
    "Out[101]: \n",
    "  level1     level2     \n",
    "     one two  three four\n",
    "a      0   1    5.0  6.0\n",
    "b      2   3    NaN  NaN\n",
    "c      4   5    7.0  8.0"
   ]
  },
  {
   "cell_type": "markdown",
   "id": "8fe0b6f4",
   "metadata": {
    "lines_to_next_cell": 0
   },
   "source": [
    "此外还有两个用于管理层次化索引创建方式的参数（参见表8-3）。举个例子，我们可以用names参数命名创建的轴级别："
   ]
  },
  {
   "cell_type": "code",
   "execution_count": null,
   "id": "a9bdde15",
   "metadata": {},
   "outputs": [],
   "source": [
    "In [102]: pd.concat([df1, df2], axis=1, keys=['level1', 'level2'],\n",
    "   .....:           names=['upper', 'lower'])\n",
    "Out[102]: \n",
    "upper level1     level2     \n",
    "lower    one two  three four\n",
    "a          0   1    5.0  6.0\n",
    "b          2   3    NaN  NaN\n",
    "c          4   5    7.0  8.0"
   ]
  },
  {
   "cell_type": "markdown",
   "id": "ecfb7c38",
   "metadata": {
    "lines_to_next_cell": 0
   },
   "source": [
    "最后一个关于DataFrame的问题是，DataFrame的行索引不包含任何相关数据："
   ]
  },
  {
   "cell_type": "code",
   "execution_count": null,
   "id": "621080fb",
   "metadata": {},
   "outputs": [],
   "source": [
    "In [103]: df1 = pd.DataFrame(np.random.randn(3, 4), columns=['a', 'b', 'c', 'd'])\n",
    "\n",
    "In [104]: df2 = pd.DataFrame(np.random.randn(2, 3), columns=['b', 'd', 'a'])\n",
    "\n",
    "In [105]: df1\n",
    "Out[105]: \n",
    "          a         b         c         d\n",
    "0  1.246435  1.007189 -1.296221  0.274992\n",
    "1  0.228913  1.352917  0.886429 -2.001637\n",
    "2 -0.371843  1.669025 -0.438570 -0.539741\n",
    "\n",
    "In [106]: df2\n",
    "Out[106]: \n",
    "          b         d         a\n",
    "0  0.476985  3.248944 -1.021228\n",
    "1 -0.577087  0.124121  0.302614"
   ]
  },
  {
   "cell_type": "markdown",
   "id": "de5b2192",
   "metadata": {
    "lines_to_next_cell": 0
   },
   "source": [
    "在这种情况下，传入ignore_index=True即可："
   ]
  },
  {
   "cell_type": "code",
   "execution_count": null,
   "id": "db3f535c",
   "metadata": {},
   "outputs": [],
   "source": [
    "In [107]: pd.concat([df1, df2], ignore_index=True)\n",
    "Out[107]: \n",
    "          a         b         c         d\n",
    "0  1.246435  1.007189 -1.296221  0.274992\n",
    "1  0.228913  1.352917  0.886429 -2.001637\n",
    "2 -0.371843  1.669025 -0.438570 -0.539741\n",
    "3 -1.021228  0.476985       NaN  3.248944\n",
    "4  0.302614 -0.577087       NaN  0.124121"
   ]
  },
  {
   "cell_type": "markdown",
   "id": "3b1e0b2d",
   "metadata": {
    "lines_to_next_cell": 0
   },
   "source": [
    "![表8-3 concat函数的参数](http://upload-images.jianshu.io/upload_images/7178691-339436563b519415.png?imageMogr2/auto-orient/strip%7CimageView2/2/w/1240)\n",
    "\n",
    "## 合并重叠数据\n",
    "\n",
    "还有一种数据组合问题不能用简单的合并（merge）或连接（concatenation）运算来处理。比如说，你可能有索引全部或部分重叠的两个数据集。举个有启发性的例子，我们使用NumPy的where函数，它表示一种等价于面向数组的if-else："
   ]
  },
  {
   "cell_type": "code",
   "execution_count": null,
   "id": "96c0354f",
   "metadata": {},
   "outputs": [],
   "source": [
    "In [108]: a = pd.Series([np.nan, 2.5, np.nan, 3.5, 4.5, np.nan],\n",
    "   .....:               index=['f', 'e', 'd', 'c', 'b', 'a'])\n",
    "\n",
    "In [109]: b = pd.Series(np.arange(len(a), dtype=np.float64),\n",
    "   .....:               index=['f', 'e', 'd', 'c', 'b', 'a'])\n",
    "\n",
    "In [110]: b[-1] = np.nan\n",
    "\n",
    "In [111]: a\n",
    "Out[111]: \n",
    "f    NaN\n",
    "e    2.5\n",
    "d    NaN\n",
    "c    3.5\n",
    "b    4.5\n",
    "a    NaN\n",
    "dtype: float64\n",
    "\n",
    "In [112]: b\n",
    "Out[112]: \n",
    "f    0.0\n",
    "e    1.0\n",
    "d    2.0\n",
    "c    3.0\n",
    "b    4.0\n",
    "a    NaN\n",
    "dtype: float64\n",
    "\n",
    "In [113]: np.where(pd.isnull(a), b, a)\n",
    "Out[113]: array([ 0. ,  2.5,  2. ,  3.5,  4.5,  nan])"
   ]
  },
  {
   "cell_type": "markdown",
   "id": "e0fdcfbf",
   "metadata": {
    "lines_to_next_cell": 0
   },
   "source": [
    "Series有一个combine_first方法，实现的也是一样的功能，还带有pandas的数据对齐："
   ]
  },
  {
   "cell_type": "code",
   "execution_count": null,
   "id": "1a4020de",
   "metadata": {},
   "outputs": [],
   "source": [
    "In [114]: b[:-2].combine_first(a[2:])\n",
    "Out[114]: \n",
    "a    NaN\n",
    "b    4.5\n",
    "c    3.0\n",
    "d    2.0\n",
    "e    1.0\n",
    "f    0.0\n",
    "dtype: float64"
   ]
  },
  {
   "cell_type": "markdown",
   "id": "788ceb3d",
   "metadata": {
    "lines_to_next_cell": 0
   },
   "source": [
    "对于DataFrame，combine_first自然也会在列上做同样的事情，因此你可以将其看做：用传递对象中的数据为调用对象的缺失数据“打补丁”："
   ]
  },
  {
   "cell_type": "code",
   "execution_count": null,
   "id": "ff57237b",
   "metadata": {},
   "outputs": [],
   "source": [
    "In [115]: df1 = pd.DataFrame({'a': [1., np.nan, 5., np.nan],\n",
    "   .....:                     'b': [np.nan, 2., np.nan, 6.],\n",
    "   .....:                     'c': range(2, 18, 4)})\n",
    "\n",
    "In [116]: df2 = pd.DataFrame({'a': [5., 4., np.nan, 3., 7.],\n",
    "   .....:                     'b': [np.nan, 3., 4., 6., 8.]})\n",
    "\n",
    "In [117]: df1\n",
    "Out[117]: \n",
    "     a    b   c\n",
    "0  1.0  NaN   2\n",
    "1  NaN  2.0   6\n",
    "2  5.0  NaN  10\n",
    "3  NaN  6.0  14\n",
    "\n",
    "In [118]: df2\n",
    "Out[118]: \n",
    "     a    b\n",
    "0  5.0  NaN\n",
    "1  4.0  3.0\n",
    "2  NaN  4.0\n",
    "3  3.0  6.0\n",
    "4  7.0  8.0\n",
    "\n",
    "In [119]: df1.combine_first(df2)\n",
    "Out[119]: \n",
    "     a    b     c\n",
    "0  1.0  NaN   2.0\n",
    "1  4.0  2.0   6.0\n",
    "2  5.0  4.0  10.0\n",
    "3  3.0  6.0  14.0\n",
    "4  7.0  8.0   NaN"
   ]
  },
  {
   "cell_type": "markdown",
   "id": "5be1bb8d",
   "metadata": {
    "lines_to_next_cell": 0
   },
   "source": [
    "# 8.3 重塑和轴向旋转\n",
    "\n",
    "有许多用于重新排列表格型数据的基础运算。这些函数也称作重塑（reshape）或轴向旋转（pivot）运算。\n",
    "\n",
    "## 重塑层次化索引\n",
    "\n",
    "层次化索引为DataFrame数据的重排任务提供了一种具有良好一致性的方式。主要功能有二：\n",
    "\n",
    "- stack：将数据的列“旋转”为行。\n",
    "- unstack：将数据的行“旋转”为列。\n",
    "\n",
    "我将通过一系列的范例来讲解这些操作。接下来看一个简单的DataFrame，其中的行列索引均为字符串数组："
   ]
  },
  {
   "cell_type": "code",
   "execution_count": null,
   "id": "1b287a94",
   "metadata": {},
   "outputs": [],
   "source": [
    "In [120]: data = pd.DataFrame(np.arange(6).reshape((2, 3)),\n",
    "   .....:                     index=pd.Index(['Ohio','Colorado'], name='state'),\n",
    "   .....:                     columns=pd.Index(['one', 'two', 'three'],\n",
    "   .....:                     name='number'))\n",
    "\n",
    "In [121]: data\n",
    "Out[121]: \n",
    "number    one  two  three\n",
    "state                    \n",
    "Ohio        0    1      2\n",
    "Colorado    3    4      5"
   ]
  },
  {
   "cell_type": "markdown",
   "id": "6f22db02",
   "metadata": {
    "lines_to_next_cell": 0
   },
   "source": [
    "对该数据使用stack方法即可将列转换为行，得到一个Series："
   ]
  },
  {
   "cell_type": "code",
   "execution_count": null,
   "id": "def5d124",
   "metadata": {},
   "outputs": [],
   "source": [
    "In [122]: result = data.stack()\n",
    "\n",
    "In [123]: result\n",
    "Out[123]: \n",
    "state     number\n",
    "Ohio      one       0\n",
    "          two       1\n",
    "          three     2\n",
    "Colorado  one       3\n",
    "          two       4\n",
    "          three     5\n",
    "dtype: int64"
   ]
  },
  {
   "cell_type": "markdown",
   "id": "d3e6b02b",
   "metadata": {
    "lines_to_next_cell": 0
   },
   "source": [
    "对于一个层次化索引的Series，你可以用unstack将其重排为一个DataFrame："
   ]
  },
  {
   "cell_type": "code",
   "execution_count": null,
   "id": "054b4f44",
   "metadata": {},
   "outputs": [],
   "source": [
    "In [124]: result.unstack()\n",
    "Out[124]: \n",
    "number    one  two  three\n",
    "state                    \n",
    "Ohio        0    1      2\n",
    "Colorado    3    4      5"
   ]
  },
  {
   "cell_type": "markdown",
   "id": "3d7fea40",
   "metadata": {
    "lines_to_next_cell": 0
   },
   "source": [
    "默认情况下，unstack操作的是最内层（stack也是如此）。传入分层级别的编号或名称即可对其它级别进行unstack操作："
   ]
  },
  {
   "cell_type": "code",
   "execution_count": null,
   "id": "b046f0d6",
   "metadata": {},
   "outputs": [],
   "source": [
    "In [125]: result.unstack(0)\n",
    "Out[125]: \n",
    "state   Ohio  Colorado\n",
    "number                \n",
    "one        0         3\n",
    "two        1         4\n",
    "three      2         5\n",
    "\n",
    "In [126]: result.unstack('state')\n",
    "Out[126]: \n",
    "state   Ohio  Colorado\n",
    "number                \n",
    "one        0         3\n",
    "two        1         4\n",
    "three      2         5"
   ]
  },
  {
   "cell_type": "markdown",
   "id": "fc282e40",
   "metadata": {
    "lines_to_next_cell": 0
   },
   "source": [
    "如果不是所有的级别值都能在各分组中找到的话，则unstack操作可能会引入缺失数据："
   ]
  },
  {
   "cell_type": "code",
   "execution_count": null,
   "id": "ebe0125c",
   "metadata": {},
   "outputs": [],
   "source": [
    "In [127]: s1 = pd.Series([0, 1, 2, 3], index=['a', 'b', 'c', 'd'])\n",
    "\n",
    "In [128]: s2 = pd.Series([4, 5, 6], index=['c', 'd', 'e'])\n",
    "\n",
    "In [129]: data2 = pd.concat([s1, s2], keys=['one', 'two'])\n",
    "\n",
    "In [130]: data2\n",
    "Out[130]: \n",
    "one  a    0\n",
    "     b    1\n",
    "     c    2\n",
    "     d    3\n",
    "two  c    4\n",
    "     d    5\n",
    "     e    6\n",
    "dtype: int64\n",
    "\n",
    "In [131]: data2.unstack()\n",
    "Out[131]: \n",
    "       a    b    c    d    e\n",
    "one  0.0  1.0  2.0  3.0  NaN\n",
    "two  NaN  NaN  4.0  5.0  6.0"
   ]
  },
  {
   "cell_type": "markdown",
   "id": "554bcf25",
   "metadata": {
    "lines_to_next_cell": 0
   },
   "source": [
    "stack默认会滤除缺失数据，因此该运算是可逆的："
   ]
  },
  {
   "cell_type": "code",
   "execution_count": null,
   "id": "55eb2152",
   "metadata": {},
   "outputs": [],
   "source": [
    "In [132]: data2.unstack()\n",
    "Out[132]: \n",
    "       a    b    c    d    e\n",
    "one  0.0  1.0  2.0  3.0  NaN\n",
    "two  NaN  NaN  4.0  5.0  6.0\n",
    "\n",
    "In [133]: data2.unstack().stack()\n",
    "Out[133]: \n",
    "one  a    0.0\n",
    "     b    1.0\n",
    "     c    2.0\n",
    "     d    3.0\n",
    "two  c    4.0\n",
    "     d    5.0\n",
    "     e    6.0\n",
    "dtype: float64\n",
    "\n",
    "In [134]: data2.unstack().stack(dropna=False)\n",
    "Out[134]: \n",
    "one  a    0.0\n",
    "     b    1.0\n",
    "     c    2.0\n",
    "     d    3.0\n",
    "     e    NaN\n",
    "two  a    NaN\n",
    "     b    NaN\n",
    "     c    4.0\n",
    "     d    5.0\n",
    "     e    6.0\n",
    "dtype: float64"
   ]
  },
  {
   "cell_type": "markdown",
   "id": "d19ea711",
   "metadata": {
    "lines_to_next_cell": 0
   },
   "source": [
    "在对DataFrame进行unstack操作时，作为旋转轴的级别将会成为结果中的最低级别："
   ]
  },
  {
   "cell_type": "code",
   "execution_count": null,
   "id": "a0e839f5",
   "metadata": {},
   "outputs": [],
   "source": [
    "In [135]: df = pd.DataFrame({'left': result, 'right': result + 5},\n",
    "   .....:                   columns=pd.Index(['left', 'right'], name='side'))\n",
    "\n",
    "In [136]: df\n",
    "Out[136]: \n",
    "side             left  right\n",
    "state    number             \n",
    "Ohio     one        0      5\n",
    "         two        1      6\n",
    "         three      2      7\n",
    "Colorado one        3      8\n",
    "         two        4      9\n",
    "         three      5     10\n",
    "\n",
    "In [137]: df.unstack('state')\n",
    "Out[137]: \n",
    "side   left          right\n",
    "state  Ohio Colorado  Ohio Colorado\n",
    "number                             \n",
    "one       0        3     5        8\n",
    "two       1        4     6        9\n",
    "three     2        5     7       10"
   ]
  },
  {
   "cell_type": "markdown",
   "id": "5a4b43a4",
   "metadata": {
    "lines_to_next_cell": 0
   },
   "source": [
    "当调用stack，我们可以指明轴的名字："
   ]
  },
  {
   "cell_type": "code",
   "execution_count": null,
   "id": "9cb9dd95",
   "metadata": {},
   "outputs": [],
   "source": [
    "In [138]: df.unstack('state').stack('side')\n",
    "Out[138]: \n",
    "state         Colorado  Ohio\n",
    "number side                 \n",
    "one    left          3     0\n",
    "       right         8     5\n",
    "two    left          4     1\n",
    "       right         9     6\n",
    "three  left          5     2\n",
    "       right        10     7"
   ]
  },
  {
   "cell_type": "markdown",
   "id": "5c915ab0",
   "metadata": {
    "lines_to_next_cell": 0
   },
   "source": [
    "## 将“长格式”旋转为“宽格式”\n",
    "\n",
    "多个时间序列数据通常是以所谓的“长格式”（long）或“堆叠格式”（stacked）存储在数据库和CSV中的。我们先加载一些示例数据，做一些时间序列规整和数据清洗："
   ]
  },
  {
   "cell_type": "code",
   "execution_count": null,
   "id": "20ecd6b6",
   "metadata": {},
   "outputs": [],
   "source": [
    "In [139]: data = pd.read_csv('examples/macrodata.csv')\n",
    "\n",
    "In [140]: data.head()\n",
    "Out[140]: \n",
    "     year  quarter   realgdp  realcons  realinv  realgovt  realdpi    cpi  \\\n",
    "0  1959.0      1.0  2710.349    1707.4  286.898   470.045   1886.9  28.98   \n",
    "1  1959.0      2.0  2778.801    1733.7  310.859   481.301   1919.7  29.15   \n",
    "2  1959.0      3.0  2775.488    1751.8  289.226   491.260   1916.4  29.35   \n",
    "3  1959.0      4.0  2785.204    1753.7  299.356   484.052   1931.3  29.37   \n",
    "4  1960.0      1.0  2847.699    1770.5  331.722   462.199   1955.5  29.54   \n",
    "      m1  tbilrate  unemp      pop  infl  realint  \n",
    "0  139.7      2.82    5.8  177.146  0.00     0.00\n",
    "1  141.7      3.08    5.1  177.830  2.34     0.74  \n",
    "2  140.5      3.82    5.3  178.657  2.74     1.09  \n",
    "3  140.0      4.33    5.6  179.386  0.27     4.06  \n",
    "4  139.6      3.50    5.2  180.007  2.31     1.19  \n",
    "\n",
    "In [141]: periods = pd.PeriodIndex(year=data.year, quarter=data.quarter,\n",
    "   .....:                          name='date')\n",
    "\n",
    "In [142]: columns = pd.Index(['realgdp', 'infl', 'unemp'], name='item')\n",
    "\n",
    "In [143]: data = data.reindex(columns=columns)\n",
    "\n",
    "In [144]: data.index = periods.to_timestamp('D', 'end')\n",
    "\n",
    "In [145]: ldata = data.stack().reset_index().rename(columns={0: 'value'})"
   ]
  },
  {
   "cell_type": "markdown",
   "id": "982d96a8",
   "metadata": {
    "lines_to_next_cell": 0
   },
   "source": [
    "这就是多个时间序列（或者其它带有两个或多个键的可观察数据，这里，我们的键是date和item）的长格式。表中的每行代表一次观察。\n",
    "\n",
    "关系型数据库（如MySQL）中的数据经常都是这样存储的，因为固定架构（即列名和数据类型）有一个好处：随着表中数据的添加，item列中的值的种类能够增加。在前面的例子中，date和item通常就是主键（用关系型数据库的说法），不仅提供了关系完整性，而且提供了更为简单的查询支持。有的情况下，使用这样的数据会很麻烦，你可能会更喜欢DataFrame，不同的item值分别形成一列，date列中的时间戳则用作索引。DataFrame的pivot方法完全可以实现这个转换："
   ]
  },
  {
   "cell_type": "code",
   "execution_count": null,
   "id": "c387c442",
   "metadata": {},
   "outputs": [],
   "source": [
    "In [147]: pivoted = ldata.pivot('date', 'item', 'value')\n",
    "\n",
    "In [148]: pivoted\n",
    "Out[148]: \n",
    "item        infl    realgdp  unemp\n",
    "date                              \n",
    "1959-03-31  0.00   2710.349    5.8\n",
    "1959-06-30  2.34   2778.801    5.1\n",
    "1959-09-30  2.74   2775.488    5.3\n",
    "1959-12-31  0.27   2785.204    5.6\n",
    "1960-03-31  2.31   2847.699    5.2\n",
    "1960-06-30  0.14   2834.390    5.2\n",
    "1960-09-30  2.70   2839.022    5.6\n",
    "1960-12-31  1.21   2802.616    6.3\n",
    "1961-03-31 -0.40   2819.264    6.8\n",
    "1961-06-30  1.47   2872.005    7.0\n",
    "...          ...        ...    ...\n",
    "2007-06-30  2.75  13203.977    4.5\n",
    "2007-09-30  3.45  13321.109    4.7\n",
    "2007-12-31  6.38  13391.249    4.8\n",
    "2008-03-31  2.82  13366.865    4.9\n",
    "2008-06-30  8.53  13415.266    5.4\n",
    "2008-09-30 -3.16  13324.600    6.0\n",
    "2008-12-31 -8.79  13141.920    6.9\n",
    "2009-03-31  0.94  12925.410    8.1\n",
    "2009-06-30  3.37  12901.504    9.2\n",
    "2009-09-30  3.56  12990.341    9.6\n",
    "[203 rows x 3 columns]"
   ]
  },
  {
   "cell_type": "markdown",
   "id": "55c91193",
   "metadata": {
    "lines_to_next_cell": 0
   },
   "source": [
    "前两个传递的值分别用作行和列索引，最后一个可选值则是用于填充DataFrame的数据列。假设有两个需要同时重塑的数据列："
   ]
  },
  {
   "cell_type": "code",
   "execution_count": null,
   "id": "3bb83d99",
   "metadata": {},
   "outputs": [],
   "source": [
    "In [149]: ldata['value2'] = np.random.randn(len(ldata))\n",
    "\n",
    "In [150]: ldata[:10]\n",
    "Out[150]: \n",
    "        date     item     value    value2\n",
    "0 1959-03-31  realgdp  2710.349  0.523772\n",
    "1 1959-03-31     infl     0.000  0.000940\n",
    "2 1959-03-31    unemp     5.800  1.343810\n",
    "3 1959-06-30  realgdp  2778.801 -0.713544\n",
    "4 1959-06-30     infl     2.340 -0.831154\n",
    "5 1959-06-30    unemp     5.100 -2.370232\n",
    "6 1959-09-30  realgdp  2775.488 -1.860761\n",
    "7 1959-09-30     infl     2.740 -0.860757\n",
    "8 1959-09-30    unemp     5.300  0.560145\n",
    "9 1959-12-31  realgdp  2785.204 -1.265934"
   ]
  },
  {
   "cell_type": "markdown",
   "id": "18db8891",
   "metadata": {
    "lines_to_next_cell": 0
   },
   "source": [
    "如果忽略最后一个参数，得到的DataFrame就会带有层次化的列："
   ]
  },
  {
   "cell_type": "code",
   "execution_count": null,
   "id": "3efb79e8",
   "metadata": {},
   "outputs": [],
   "source": [
    "In [151]: pivoted = ldata.pivot('date', 'item')\n",
    "\n",
    "In [152]: pivoted[:5]\n",
    "Out[152]: \n",
    "           value                    value2                    \n",
    "item        infl   realgdp unemp      infl   realgdp     unemp\n",
    "date                                                          \n",
    "1959-03-31  0.00  2710.349   5.8  0.000940  0.523772  1.343810\n",
    "1959-06-30  2.34  2778.801   5.1 -0.831154 -0.713544 -2.370232\n",
    "1959-09-30  2.74  2775.488   5.3 -0.860757 -1.860761  0.560145\n",
    "1959-12-31  0.27  2785.204   5.6  0.119827 -1.265934 -1.063512\n",
    "1960-03-31  2.31  2847.699   5.2 -2.359419  0.332883 -0.199543\n",
    "\n",
    "In [153]: pivoted['value'][:5]\n",
    "Out[153]: \n",
    "item        infl   realgdp  unemp\n",
    "date                             \n",
    "1959-03-31  0.00  2710.349    5.8\n",
    "1959-06-30  2.34  2778.801    5.1\n",
    "1959-09-30  2.74  2775.488    5.3\n",
    "1959-12-31  0.27  2785.204    5.6\n",
    "1960-03-31  2.31  2847.699    5.2"
   ]
  },
  {
   "cell_type": "markdown",
   "id": "26b112c5",
   "metadata": {
    "lines_to_next_cell": 0
   },
   "source": [
    "注意，pivot其实就是用set_index创建层次化索引，再用unstack重塑："
   ]
  },
  {
   "cell_type": "code",
   "execution_count": null,
   "id": "c1c4681c",
   "metadata": {},
   "outputs": [],
   "source": [
    "In [154]: unstacked = ldata.set_index(['date', 'item']).unstack('item')\n",
    "\n",
    "In [155]: unstacked[:7]\n",
    "Out[155]: \n",
    "           value                    value2                    \n",
    "item        infl   realgdp unemp      infl   realgdp     unemp\n",
    "date                                                          \n",
    "1959-03-31  0.00  2710.349   5.8  0.000940  0.523772  1.343810\n",
    "1959-06-30  2.34  2778.801   5.1 -0.831154 -0.713544 -2.370232\n",
    "1959-09-30  2.74  2775.488   5.3 -0.860757 -1.860761  0.560145\n",
    "1959-12-31  0.27  2785.204   5.6  0.119827 -1.265934 -1.063512\n",
    "1960-03-31  2.31  2847.699   5.2 -2.359419  0.332883 -0.199543\n",
    "1960-06-30  0.14  2834.390   5.2 -0.970736 -1.541996 -1.307030\n",
    "1960-09-30  2.70  2839.022   5.6  0.377984  0.286350 -0.753887"
   ]
  },
  {
   "cell_type": "markdown",
   "id": "282f095e",
   "metadata": {
    "lines_to_next_cell": 0
   },
   "source": [
    "## 将“宽格式”旋转为“长格式”\n",
    "\n",
    "旋转DataFrame的逆运算是pandas.melt。它不是将一列转换到多个新的DataFrame，而是合并多个列成为一个，产生一个比输入长的DataFrame。看一个例子："
   ]
  },
  {
   "cell_type": "code",
   "execution_count": null,
   "id": "aa2cfd0d",
   "metadata": {},
   "outputs": [],
   "source": [
    "In [157]: df = pd.DataFrame({'key': ['foo', 'bar', 'baz'],\n",
    "   .....:                    'A': [1, 2, 3],\n",
    "   .....:                    'B': [4, 5, 6],\n",
    "   .....:                    'C': [7, 8, 9]})\n",
    "\n",
    "In [158]: df\n",
    "Out[158]: \n",
    "   A  B  C  key\n",
    "0  1  4  7  foo\n",
    "1  2  5  8  bar\n",
    "2  3  6  9  baz"
   ]
  },
  {
   "cell_type": "markdown",
   "id": "13b9f075",
   "metadata": {
    "lines_to_next_cell": 0
   },
   "source": [
    "key列可能是分组指标，其它的列是数据值。当使用pandas.melt，我们必须指明哪些列是分组指标。下面使用key作为唯一的分组指标："
   ]
  },
  {
   "cell_type": "code",
   "execution_count": null,
   "id": "dfe4983c",
   "metadata": {},
   "outputs": [],
   "source": [
    "In [159]: melted = pd.melt(df, ['key'])\n",
    "\n",
    "In [160]: melted\n",
    "Out[160]: \n",
    "   key variable  value\n",
    "0  foo        A      1\n",
    "1  bar        A      2\n",
    "2  baz        A      3\n",
    "3  foo        B      4\n",
    "4  bar        B      5\n",
    "5  baz        B      6\n",
    "6  foo        C      7\n",
    "7  bar        C      8\n",
    "8  baz        C      9"
   ]
  },
  {
   "cell_type": "markdown",
   "id": "7c9c8e86",
   "metadata": {
    "lines_to_next_cell": 0
   },
   "source": [
    "使用pivot，可以重塑回原来的样子："
   ]
  },
  {
   "cell_type": "code",
   "execution_count": null,
   "id": "8d0aef38",
   "metadata": {},
   "outputs": [],
   "source": [
    "In [161]: reshaped = melted.pivot('key', 'variable', 'value')\n",
    "\n",
    "In [162]: reshaped\n",
    "Out[162]: \n",
    "variable  A  B  C\n",
    "key              \n",
    "bar       2  5  8\n",
    "baz       3  6  9\n",
    "foo       1  4  7"
   ]
  },
  {
   "cell_type": "markdown",
   "id": "e74e82bd",
   "metadata": {
    "lines_to_next_cell": 0
   },
   "source": [
    "因为pivot的结果从列创建了一个索引，用作行标签，我们可以使用reset_index将数据移回列："
   ]
  },
  {
   "cell_type": "code",
   "execution_count": null,
   "id": "4381dd97",
   "metadata": {},
   "outputs": [],
   "source": [
    "In [163]: reshaped.reset_index()\n",
    "Out[163]: \n",
    "variable  key  A  B  C\n",
    "0         bar  2  5  8\n",
    "1         baz  3  6  9\n",
    "2         foo  1  4  7"
   ]
  },
  {
   "cell_type": "markdown",
   "id": "08b1d435",
   "metadata": {
    "lines_to_next_cell": 0
   },
   "source": [
    "你还可以指定列的子集，作为值的列："
   ]
  },
  {
   "cell_type": "code",
   "execution_count": null,
   "id": "519ded3f",
   "metadata": {},
   "outputs": [],
   "source": [
    "In [164]: pd.melt(df, id_vars=['key'], value_vars=['A', 'B'])\n",
    "Out[164]: \n",
    "   key variable  value\n",
    "0  foo        A      1\n",
    "1  bar        A      2\n",
    "2  baz        A      3\n",
    "3  foo        B      4\n",
    "4  bar        B      5\n",
    "5  baz        B      6"
   ]
  },
  {
   "cell_type": "markdown",
   "id": "ae97b891",
   "metadata": {
    "lines_to_next_cell": 0
   },
   "source": [
    "pandas.melt也可以不用分组指标："
   ]
  },
  {
   "cell_type": "code",
   "execution_count": null,
   "id": "24bb6956",
   "metadata": {},
   "outputs": [],
   "source": [
    "In [165]: pd.melt(df, value_vars=['A', 'B', 'C'])\n",
    "Out[165]: \n",
    "  variable  value\n",
    "0        A      1\n",
    "1        A      2\n",
    "2        A      3\n",
    "3        B      4\n",
    "4        B      5\n",
    "5        B      6\n",
    "6        C      7\n",
    "7        C      8\n",
    "8        C      9\n",
    "\n",
    "In [166]: pd.melt(df, value_vars=['key', 'A', 'B'])\n",
    "Out[166]: \n",
    "  variable value\n",
    "0      key   foo\n",
    "1      key   bar\n",
    "2      key   baz\n",
    "3        A     1\n",
    "4        A     2\n",
    "5        A     3\n",
    "6        B     4\n",
    "7        B     5\n",
    "8        B     6"
   ]
  },
  {
   "cell_type": "markdown",
   "id": "4b5f12eb",
   "metadata": {},
   "source": [
    "#8.4 总结\n",
    "\n",
    "现在你已经掌握了pandas数据导入、清洗、重塑，我们可以进一步学习matplotlib数据可视化。我们在稍后会回到pandas，学习更高级的分析。"
   ]
  }
 ],
 "metadata": {
  "jupytext": {
   "cell_metadata_filter": "-all",
   "main_language": "python",
   "notebook_metadata_filter": "-all"
  }
 },
 "nbformat": 4,
 "nbformat_minor": 5
}
