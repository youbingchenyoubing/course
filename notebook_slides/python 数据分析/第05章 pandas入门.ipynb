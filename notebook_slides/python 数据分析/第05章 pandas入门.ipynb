{
 "cells": [
  {
   "cell_type": "markdown",
   "id": "867a4851",
   "metadata": {
    "lines_to_next_cell": 0
   },
   "source": [
    "pandas是本书后续内容的首选库。它含有使数据清洗和分析工作变得更快更简单的数据结构和操作工具。pandas经常和其它工具一同使用，如数值计算工具NumPy和SciPy，分析库statsmodels和scikit-learn，和数据可视化库matplotlib。pandas是基于NumPy数组构建的，特别是基于数组的函数和不使用for循环的数据处理。\n",
    "\n",
    "虽然pandas采用了大量的NumPy编码风格，但二者最大的不同是pandas是专门为处理表格和混杂数据设计的。而NumPy更适合处理统一的数值数组数据。\n",
    "\n",
    "自从2010年pandas开源以来，pandas逐渐成长为一个非常大的库，应用于许多真实案例。开发者社区已经有了800个独立的贡献者，他们在解决日常数据问题的同时为这个项目提供贡献。\n",
    "\n",
    "在本书后续部分中，我将使用下面这样的pandas引入约定："
   ]
  },
  {
   "cell_type": "code",
   "execution_count": null,
   "id": "f9ae6194",
   "metadata": {},
   "outputs": [],
   "source": [
    "In [1]: import pandas as pd"
   ]
  },
  {
   "cell_type": "markdown",
   "id": "62d52f8b",
   "metadata": {
    "lines_to_next_cell": 0
   },
   "source": [
    "因此，只要你在代码中看到pd.，就得想到这是pandas。因为Series和DataFrame用的次数非常多，所以将其引入本地命名空间中会更方便："
   ]
  },
  {
   "cell_type": "code",
   "execution_count": null,
   "id": "71e05ddc",
   "metadata": {},
   "outputs": [],
   "source": [
    "In [2]: from pandas import Series, DataFrame"
   ]
  },
  {
   "cell_type": "markdown",
   "id": "2bd81f65",
   "metadata": {
    "lines_to_next_cell": 0
   },
   "source": [
    "# 5.1 pandas的数据结构介绍\n",
    "要使用pandas，你首先就得熟悉它的两个主要数据结构：Series和DataFrame。虽然它们并不能解决所有问题，但它们为大多数应用提供了一种可靠的、易于使用的基础。\n",
    "\n",
    "## Series\n",
    "Series是一种类似于一维数组的对象，它由一组数据（各种NumPy数据类型）以及一组与之相关的数据标签（即索引）组成。仅由一组数据即可产生最简单的Series："
   ]
  },
  {
   "cell_type": "code",
   "execution_count": null,
   "id": "23898fe4",
   "metadata": {},
   "outputs": [],
   "source": [
    "In [11]: obj = pd.Series([4, 7, -5, 3])\n",
    "\n",
    "In [12]: obj\n",
    "Out[12]: \n",
    "0    4\n",
    "1    7\n",
    "2   -5\n",
    "3    3\n",
    "dtype: int64"
   ]
  },
  {
   "cell_type": "markdown",
   "id": "4b8441ca",
   "metadata": {
    "lines_to_next_cell": 0
   },
   "source": [
    "Series的字符串表现形式为：索引在左边，值在右边。由于我们没有为数据指定索引，于是会自动创建一个0到N-1（N为数据的长度）的整数型索引。你可以通过Series 的values和index属性获取其数组表示形式和索引对象："
   ]
  },
  {
   "cell_type": "code",
   "execution_count": null,
   "id": "5a9c9433",
   "metadata": {},
   "outputs": [],
   "source": [
    "In [13]: obj.values\n",
    "Out[13]: array([ 4,  7, -5,  3])\n",
    "\n",
    "In [14]: obj.index  # like range(4)\n",
    "Out[14]: RangeIndex(start=0, stop=4, step=1)"
   ]
  },
  {
   "cell_type": "markdown",
   "id": "1c30171b",
   "metadata": {
    "lines_to_next_cell": 0
   },
   "source": [
    "通常，我们希望所创建的Series带有一个可以对各个数据点进行标记的索引："
   ]
  },
  {
   "cell_type": "code",
   "execution_count": null,
   "id": "490f6586",
   "metadata": {},
   "outputs": [],
   "source": [
    "In [15]: obj2 = pd.Series([4, 7, -5, 3], index=['d', 'b', 'a', 'c'])\n",
    "\n",
    "In [16]: obj2\n",
    "Out[16]: \n",
    "d    4\n",
    "b    7\n",
    "a   -5\n",
    "c    3\n",
    "dtype: int64\n",
    "\n",
    "In [17]: obj2.index\n",
    "Out[17]: Index(['d', 'b', 'a', 'c'], dtype='object')"
   ]
  },
  {
   "cell_type": "markdown",
   "id": "0f1ad2c0",
   "metadata": {
    "lines_to_next_cell": 0
   },
   "source": [
    "与普通NumPy数组相比，你可以通过索引的方式选取Series中的单个或一组值："
   ]
  },
  {
   "cell_type": "code",
   "execution_count": null,
   "id": "8b4278f1",
   "metadata": {},
   "outputs": [],
   "source": [
    "In [18]: obj2['a']\n",
    "Out[18]: -5\n",
    "\n",
    "In [19]: obj2['d'] = 6\n",
    "\n",
    "In [20]: obj2[['c', 'a', 'd']]\n",
    "Out[20]: \n",
    "c    3\n",
    "a   -5\n",
    "d    6\n",
    "dtype: int64"
   ]
  },
  {
   "cell_type": "markdown",
   "id": "8d3d1556",
   "metadata": {
    "lines_to_next_cell": 0
   },
   "source": [
    "['c', 'a', 'd']是索引列表，即使它包含的是字符串而不是整数。\n",
    "\n",
    "使用NumPy函数或类似NumPy的运算（如根据布尔型数组进行过滤、标量乘法、应用数学函数等）都会保留索引值的链接："
   ]
  },
  {
   "cell_type": "code",
   "execution_count": null,
   "id": "17d2f821",
   "metadata": {},
   "outputs": [],
   "source": [
    "In [21]: obj2[obj2 > 0]\n",
    "Out[21]: \n",
    "d    6\n",
    "b    7\n",
    "c    3\n",
    "dtype: int64\n",
    "\n",
    "In [22]: obj2 * 2\n",
    "Out[22]:\n",
    "d    12\n",
    "b    14\n",
    "a   -10\n",
    "c     6\n",
    "dtype: int64\n",
    "\n",
    "In [23]: np.exp(obj2)\n",
    "Out[23]: \n",
    "d     403.428793\n",
    "b    1096.633158\n",
    "a       0.006738\n",
    "c      20.085537\n",
    "dtype: float64"
   ]
  },
  {
   "cell_type": "markdown",
   "id": "4984cb3c",
   "metadata": {
    "lines_to_next_cell": 0
   },
   "source": [
    "还可以将Series看成是一个定长的有序字典，因为它是索引值到数据值的一个映射。它可以用在许多原本需要字典参数的函数中："
   ]
  },
  {
   "cell_type": "code",
   "execution_count": null,
   "id": "dfb1501b",
   "metadata": {},
   "outputs": [],
   "source": [
    "In [24]: 'b' in obj2\n",
    "Out[24]: True\n",
    "\n",
    "In [25]: 'e' in obj2\n",
    "Out[25]: False"
   ]
  },
  {
   "cell_type": "markdown",
   "id": "ad7de526",
   "metadata": {
    "lines_to_next_cell": 0
   },
   "source": [
    "如果数据被存放在一个Python字典中，也可以直接通过这个字典来创建Series："
   ]
  },
  {
   "cell_type": "code",
   "execution_count": null,
   "id": "5a5d3983",
   "metadata": {},
   "outputs": [],
   "source": [
    "In [26]: sdata = {'Ohio': 35000, 'Texas': 71000, 'Oregon': 16000, 'Utah': 5000}\n",
    "\n",
    "In [27]: obj3 = pd.Series(sdata)\n",
    "\n",
    "In [28]: obj3\n",
    "Out[28]: \n",
    "Ohio      35000\n",
    "Oregon    16000\n",
    "Texas     71000\n",
    "Utah       5000\n",
    "dtype: int64"
   ]
  },
  {
   "cell_type": "markdown",
   "id": "2594b7da",
   "metadata": {
    "lines_to_next_cell": 0
   },
   "source": [
    "如果只传入一个字典，则结果Series中的索引就是原字典的键（有序排列）。你可以传入排好序的字典的键以改变顺序："
   ]
  },
  {
   "cell_type": "code",
   "execution_count": null,
   "id": "be815ea6",
   "metadata": {},
   "outputs": [],
   "source": [
    "In [29]: states = ['California', 'Ohio', 'Oregon', 'Texas']\n",
    "\n",
    "In [30]: obj4 = pd.Series(sdata, index=states)\n",
    "\n",
    "In [31]: obj4\n",
    "Out[31]: \n",
    "California        NaN\n",
    "Ohio          35000.0\n",
    "Oregon        16000.0\n",
    "Texas         71000.0\n",
    "dtype: float64"
   ]
  },
  {
   "cell_type": "markdown",
   "id": "d06f0326",
   "metadata": {
    "lines_to_next_cell": 0
   },
   "source": [
    "在这个例子中，sdata中跟states索引相匹配的那3个值会被找出来并放到相应的位置上，但由于\"California\"所对应的sdata值找不到，所以其结果就为NaN（即“非数字”（not a number），在pandas中，它用于表示缺失或NA值）。因为‘Utah’不在states中，它被从结果中除去。\n",
    "\n",
    "我将使用缺失（missing）或NA表示缺失数据。pandas的isnull和notnull函数可用于检测缺失数据："
   ]
  },
  {
   "cell_type": "code",
   "execution_count": null,
   "id": "806a1c6b",
   "metadata": {},
   "outputs": [],
   "source": [
    "In [32]: pd.isnull(obj4)\n",
    "Out[32]: \n",
    "California     True\n",
    "Ohio          False\n",
    "Oregon        False\n",
    "Texas         False\n",
    "dtype: bool\n",
    "\n",
    "In [33]: pd.notnull(obj4)\n",
    "Out[33]: \n",
    "California    False\n",
    "Ohio           True\n",
    "Oregon         True\n",
    "Texas          True\n",
    "dtype: bool"
   ]
  },
  {
   "cell_type": "markdown",
   "id": "0341fffd",
   "metadata": {
    "lines_to_next_cell": 0
   },
   "source": [
    "Series也有类似的实例方法："
   ]
  },
  {
   "cell_type": "code",
   "execution_count": null,
   "id": "beb2bb17",
   "metadata": {},
   "outputs": [],
   "source": [
    "In [34]: obj4.isnull()\n",
    "Out[34]: \n",
    "California     True\n",
    "Ohio          False\n",
    "Oregon        False\n",
    "Texas         False\n",
    "dtype: bool"
   ]
  },
  {
   "cell_type": "markdown",
   "id": "badda414",
   "metadata": {
    "lines_to_next_cell": 0
   },
   "source": [
    "我将在第7章详细讲解如何处理缺失数据。\n",
    "\n",
    "对于许多应用而言，Series最重要的一个功能是，它会根据运算的索引标签自动对齐数据："
   ]
  },
  {
   "cell_type": "code",
   "execution_count": null,
   "id": "8b6947ad",
   "metadata": {},
   "outputs": [],
   "source": [
    "In [35]: obj3\n",
    "Out[35]: \n",
    "Ohio      35000\n",
    "Oregon    16000\n",
    "Texas     71000\n",
    "Utah       5000\n",
    "dtype: int64\n",
    "\n",
    "In [36]: obj4\n",
    "Out[36]: \n",
    "California        NaN\n",
    "Ohio          35000.0\n",
    "Oregon        16000.0\n",
    "Texas         71000.0\n",
    "dtype: float64\n",
    "\n",
    "In [37]: obj3 + obj4\n",
    "Out[37]: \n",
    "California         NaN\n",
    "Ohio           70000.0\n",
    "Oregon         32000.0\n",
    "Texas         142000.0\n",
    "Utah               NaN\n",
    "dtype: float64"
   ]
  },
  {
   "cell_type": "markdown",
   "id": "d517d9c6",
   "metadata": {
    "lines_to_next_cell": 0
   },
   "source": [
    "数据对齐功能将在后面详细讲解。如果你使用过数据库，你可以认为是类似join的操作。\n",
    "\n",
    "Series对象本身及其索引都有一个name属性，该属性跟pandas其他的关键功能关系非常密切："
   ]
  },
  {
   "cell_type": "code",
   "execution_count": null,
   "id": "db7fd639",
   "metadata": {},
   "outputs": [],
   "source": [
    "In [38]: obj4.name = 'population'\n",
    "\n",
    "In [39]: obj4.index.name = 'state'\n",
    "\n",
    "In [40]: obj4\n",
    "Out[40]: \n",
    "state\n",
    "California        NaN\n",
    "Ohio          35000.0\n",
    "Oregon        16000.0\n",
    "Texas         71000.0\n",
    "Name: population, dtype: float64"
   ]
  },
  {
   "cell_type": "markdown",
   "id": "a70dde31",
   "metadata": {
    "lines_to_next_cell": 0
   },
   "source": [
    "Series的索引可以通过赋值的方式就地修改："
   ]
  },
  {
   "cell_type": "code",
   "execution_count": null,
   "id": "77f2f3f7",
   "metadata": {},
   "outputs": [],
   "source": [
    "In [41]: obj\n",
    "Out[41]: \n",
    "0    4\n",
    "1    7\n",
    "2   -5\n",
    "3    3\n",
    "dtype: int64\n",
    "\n",
    "In [42]: obj.index = ['Bob', 'Steve', 'Jeff', 'Ryan']\n",
    "\n",
    "In [43]: obj\n",
    "Out[43]: \n",
    "Bob      4\n",
    "Steve    7\n",
    "Jeff    -5\n",
    "Ryan     3\n",
    "dtype: int64"
   ]
  },
  {
   "cell_type": "markdown",
   "id": "16db97bd",
   "metadata": {
    "lines_to_next_cell": 0
   },
   "source": [
    "## DataFrame\n",
    "DataFrame是一个表格型的数据结构，它含有一组有序的列，每列可以是不同的值类型（数值、字符串、布尔值等）。DataFrame既有行索引也有列索引，它可以被看做由Series组成的字典（共用同一个索引）。DataFrame中的数据是以一个或多个二维块存放的（而不是列表、字典或别的一维数据结构）。有关DataFrame内部的技术细节远远超出了本书所讨论的范围。\n",
    "\n",
    ">笔记：虽然DataFrame是以二维结构保存数据的，但你仍然可以轻松地将其表示为更高维度的数据（层次化索引的表格型结构，这是pandas中许多高级数据处理功能的关键要素，我们会在第8章讨论这个问题）。\n",
    "\n",
    "建DataFrame的办法有很多，最常用的一种是直接传入一个由等长列表或NumPy数组组成的字典："
   ]
  },
  {
   "cell_type": "code",
   "execution_count": null,
   "id": "dc533430",
   "metadata": {},
   "outputs": [],
   "source": [
    "data = {'state': ['Ohio', 'Ohio', 'Ohio', 'Nevada', 'Nevada', 'Nevada'],\n",
    "        'year': [2000, 2001, 2002, 2001, 2002, 2003],\n",
    "        'pop': [1.5, 1.7, 3.6, 2.4, 2.9, 3.2]}\n",
    "frame = pd.DataFrame(data)"
   ]
  },
  {
   "cell_type": "markdown",
   "id": "e6948d6f",
   "metadata": {
    "lines_to_next_cell": 0
   },
   "source": [
    "结果DataFrame会自动加上索引（跟Series一样），且全部列会被有序排列："
   ]
  },
  {
   "cell_type": "code",
   "execution_count": null,
   "id": "92a344e1",
   "metadata": {},
   "outputs": [],
   "source": [
    "In [45]: frame\n",
    "Out[45]: \n",
    "   pop   state  year\n",
    "0  1.5    Ohio  2000\n",
    "1  1.7    Ohio  2001\n",
    "2  3.6    Ohio  2002\n",
    "3  2.4  Nevada  2001\n",
    "4  2.9  Nevada  2002\n",
    "5  3.2  Nevada  2003"
   ]
  },
  {
   "cell_type": "markdown",
   "id": "f2e57b26",
   "metadata": {
    "lines_to_next_cell": 0
   },
   "source": [
    "如果你使用的是Jupyter notebook，pandas DataFrame对象会以对浏览器友好的HTML表格的方式呈现。\n",
    "\n",
    "对于特别大的DataFrame，head方法会选取前五行："
   ]
  },
  {
   "cell_type": "code",
   "execution_count": null,
   "id": "eb24ad76",
   "metadata": {},
   "outputs": [],
   "source": [
    "In [46]: frame.head()\n",
    "Out[46]: \n",
    "   pop   state  year\n",
    "0  1.5    Ohio  2000\n",
    "1  1.7    Ohio  2001\n",
    "2  3.6    Ohio  2002\n",
    "3  2.4  Nevada  2001\n",
    "4  2.9  Nevada  2002"
   ]
  },
  {
   "cell_type": "markdown",
   "id": "2784da6c",
   "metadata": {
    "lines_to_next_cell": 0
   },
   "source": [
    "如果指定了列序列，则DataFrame的列就会按照指定顺序进行排列："
   ]
  },
  {
   "cell_type": "code",
   "execution_count": null,
   "id": "cdf65f68",
   "metadata": {},
   "outputs": [],
   "source": [
    "In [47]: pd.DataFrame(data, columns=['year', 'state', 'pop'])\n",
    "Out[47]: \n",
    "   year   state  pop\n",
    "0  2000    Ohio  1.5\n",
    "1  2001    Ohio  1.7\n",
    "2  2002    Ohio  3.6\n",
    "3  2001  Nevada  2.4\n",
    "4  2002  Nevada  2.9\n",
    "5  2003  Nevada  3.2"
   ]
  },
  {
   "cell_type": "markdown",
   "id": "edcda402",
   "metadata": {
    "lines_to_next_cell": 0
   },
   "source": [
    "如果传入的列在数据中找不到，就会在结果中产生缺失值："
   ]
  },
  {
   "cell_type": "code",
   "execution_count": null,
   "id": "6113c09d",
   "metadata": {},
   "outputs": [],
   "source": [
    "In [48]: frame2 = pd.DataFrame(data, columns=['year', 'state', 'pop', 'debt'],\n",
    "   ....:                       index=['one', 'two', 'three', 'four',\n",
    "   ....:                              'five', 'six'])\n",
    "\n",
    "In [49]: frame2\n",
    "Out[49]: \n",
    "       year   state  pop debt\n",
    "one    2000    Ohio  1.5  NaN\n",
    "two    2001    Ohio  1.7  NaN\n",
    "three  2002    Ohio  3.6  NaN\n",
    "four   2001  Nevada  2.4  NaN\n",
    "five   2002  Nevada  2.9  NaN\n",
    "six    2003  Nevada  3.2  NaN\n",
    "\n",
    "In [50]: frame2.columns\n",
    "Out[50]: Index(['year', 'state', 'pop', 'debt'], dtype='object')"
   ]
  },
  {
   "cell_type": "markdown",
   "id": "e6506c11",
   "metadata": {
    "lines_to_next_cell": 0
   },
   "source": [
    "通过类似字典标记的方式或属性的方式，可以将DataFrame的列获取为一个Series："
   ]
  },
  {
   "cell_type": "code",
   "execution_count": null,
   "id": "6765e3c7",
   "metadata": {},
   "outputs": [],
   "source": [
    "In [51]: frame2['state']\n",
    "Out[51]: \n",
    "one        Ohio\n",
    "two        Ohio\n",
    "three      Ohio\n",
    "four     Nevada\n",
    "five     Nevada\n",
    "six      Nevada\n",
    "Name: state, dtype: object\n",
    "\n",
    "In [52]: frame2.year\n",
    "Out[52]: \n",
    "one      2000\n",
    "two      2001\n",
    "three    2002\n",
    "four     2001\n",
    "five     2002\n",
    "six      2003\n",
    "Name: year, dtype: int64"
   ]
  },
  {
   "cell_type": "markdown",
   "id": "3126cc06",
   "metadata": {
    "lines_to_next_cell": 0
   },
   "source": [
    ">笔记：IPython提供了类似属性的访问（即frame2.year）和tab补全。\n",
    "frame2[column]适用于任何列的名，但是frame2.column只有在列名是一个合理的Python变量名时才适用。\n",
    "\n",
    "注意，返回的Series拥有原DataFrame相同的索引，且其name属性也已经被相应地设置好了。\n",
    "\n",
    "行也可以通过位置或名称的方式进行获取，比如用loc属性（稍后将对此进行详细讲解）："
   ]
  },
  {
   "cell_type": "code",
   "execution_count": null,
   "id": "5002e058",
   "metadata": {},
   "outputs": [],
   "source": [
    "In [53]: frame2.loc['three']\n",
    "Out[53]: \n",
    "year     2002\n",
    "state    Ohio\n",
    "pop       3.6\n",
    "debt      NaN\n",
    "Name: three, dtype: object"
   ]
  },
  {
   "cell_type": "markdown",
   "id": "79735b34",
   "metadata": {
    "lines_to_next_cell": 0
   },
   "source": [
    "列可以通过赋值的方式进行修改。例如，我们可以给那个空的\"debt\"列赋上一个标量值或一组值："
   ]
  },
  {
   "cell_type": "code",
   "execution_count": null,
   "id": "6c424733",
   "metadata": {},
   "outputs": [],
   "source": [
    "In [54]: frame2['debt'] = 16.5\n",
    "\n",
    "In [55]: frame2\n",
    "Out[55]: \n",
    "       year   state  pop  debt\n",
    "one    2000    Ohio  1.5  16.5\n",
    "two    2001    Ohio  1.7  16.5\n",
    "three  2002    Ohio  3.6  16.5\n",
    "four   2001  Nevada  2.4  16.5\n",
    "five   2002  Nevada  2.9  16.5\n",
    "six    2003  Nevada  3.2  16.5\n",
    "\n",
    "In [56]: frame2['debt'] = np.arange(6.)\n",
    "\n",
    "In [57]: frame2\n",
    "Out[57]: \n",
    "       year   state  pop  debt\n",
    "one    2000    Ohio  1.5   0.0\n",
    "two    2001    Ohio  1.7   1.0\n",
    "three  2002    Ohio  3.6   2.0\n",
    "four   2001  Nevada  2.4   3.0\n",
    "five   2002  Nevada  2.9   4.0\n",
    "six    2003  Nevada  3.2   5.0"
   ]
  },
  {
   "cell_type": "markdown",
   "id": "8e3c11e8",
   "metadata": {
    "lines_to_next_cell": 0
   },
   "source": [
    "将列表或数组赋值给某个列时，其长度必须跟DataFrame的长度相匹配。如果赋值的是一个Series，就会精确匹配DataFrame的索引，所有的空位都将被填上缺失值："
   ]
  },
  {
   "cell_type": "code",
   "execution_count": null,
   "id": "b6bfa3f3",
   "metadata": {},
   "outputs": [],
   "source": [
    "In [58]: val = pd.Series([-1.2, -1.5, -1.7], index=['two', 'four', 'five'])\n",
    "\n",
    "In [59]: frame2['debt'] = val\n",
    "\n",
    "In [60]: frame2\n",
    "Out[60]: \n",
    "       year   state  pop  debt\n",
    "one    2000    Ohio  1.5   NaN\n",
    "two    2001    Ohio  1.7  -1.2\n",
    "three  2002    Ohio  3.6   NaN\n",
    "four   2001  Nevada  2.4  -1.5\n",
    "five   2002  Nevada  2.9  -1.7\n",
    "six    2003  Nevada  3.2   NaN"
   ]
  },
  {
   "cell_type": "markdown",
   "id": "f994ce73",
   "metadata": {
    "lines_to_next_cell": 0
   },
   "source": [
    "为不存在的列赋值会创建出一个新列。关键字del用于删除列。\n",
    "\n",
    "作为del的例子，我先添加一个新的布尔值的列，state是否为'Ohio'："
   ]
  },
  {
   "cell_type": "code",
   "execution_count": null,
   "id": "c9e32914",
   "metadata": {},
   "outputs": [],
   "source": [
    "In [61]: frame2['eastern'] = frame2.state == 'Ohio'\n",
    "\n",
    "In [62]: frame2\n",
    "Out[62]: \n",
    "       year   state  pop  debt  eastern\n",
    "one    2000    Ohio  1.5   NaN     True\n",
    "two    2001    Ohio  1.7  -1.2     True\n",
    "three  2002    Ohio  3.6   NaN     True\n",
    "four   2001  Nevada  2.4  -1.5    False\n",
    "five   2002  Nevada  2.9  -1.7    False\n",
    "six    2003  Nevada  3.2   NaN    False"
   ]
  },
  {
   "cell_type": "markdown",
   "id": "0931a05f",
   "metadata": {
    "lines_to_next_cell": 0
   },
   "source": [
    ">注意：不能用frame2.eastern创建新的列。\n",
    "\n",
    "del方法可以用来删除这列："
   ]
  },
  {
   "cell_type": "code",
   "execution_count": null,
   "id": "504cffdf",
   "metadata": {},
   "outputs": [],
   "source": [
    "In [63]: del frame2['eastern']\n",
    "\n",
    "In [64]: frame2.columns\n",
    "Out[64]: Index(['year', 'state', 'pop', 'debt'], dtype='object')"
   ]
  },
  {
   "cell_type": "markdown",
   "id": "a9e761d9",
   "metadata": {
    "lines_to_next_cell": 0
   },
   "source": [
    ">注意：通过索引方式返回的列只是相应数据的视图而已，并不是副本。因此，对返回的Series所做的任何就地修改全都会反映到源DataFrame上。通过Series的copy方法即可指定复制列。\n",
    "\n",
    "另一种常见的数据形式是嵌套字典："
   ]
  },
  {
   "cell_type": "code",
   "execution_count": null,
   "id": "d31990c8",
   "metadata": {},
   "outputs": [],
   "source": [
    "In [65]: pop = {'Nevada': {2001: 2.4, 2002: 2.9},\n",
    "....:        'Ohio': {2000: 1.5, 2001: 1.7, 2002: 3.6}}"
   ]
  },
  {
   "cell_type": "markdown",
   "id": "4b2df619",
   "metadata": {
    "lines_to_next_cell": 0
   },
   "source": [
    "如果嵌套字典传给DataFrame，pandas就会被解释为：外层字典的键作为列，内层键则作为行索引："
   ]
  },
  {
   "cell_type": "code",
   "execution_count": null,
   "id": "d731d7a9",
   "metadata": {},
   "outputs": [],
   "source": [
    "In [66]: frame3 = pd.DataFrame(pop)\n",
    "\n",
    "In [67]: frame3\n",
    "Out[67]: \n",
    "      Nevada  Ohio\n",
    "2000     NaN   1.5\n",
    "2001     2.4   1.7\n",
    "2002     2.9   3.6"
   ]
  },
  {
   "cell_type": "markdown",
   "id": "ff190a34",
   "metadata": {
    "lines_to_next_cell": 0
   },
   "source": [
    "你也可以使用类似NumPy数组的方法，对DataFrame进行转置（交换行和列）："
   ]
  },
  {
   "cell_type": "code",
   "execution_count": null,
   "id": "7fc3024f",
   "metadata": {},
   "outputs": [],
   "source": [
    "In [68]: frame3.T\n",
    "Out[68]: \n",
    "        2000  2001  2002\n",
    "Nevada   NaN   2.4   2.9\n",
    "Ohio     1.5   1.7   3.6"
   ]
  },
  {
   "cell_type": "markdown",
   "id": "2d3dd3b7",
   "metadata": {
    "lines_to_next_cell": 0
   },
   "source": [
    "内层字典的键会被合并、排序以形成最终的索引。如果明确指定了索引，则不会这样："
   ]
  },
  {
   "cell_type": "code",
   "execution_count": null,
   "id": "a92096c7",
   "metadata": {},
   "outputs": [],
   "source": [
    "In [69]: pd.DataFrame(pop, index=[2001, 2002, 2003])\n",
    "Out[69]: \n",
    "      Nevada  Ohio\n",
    "2001     2.4   1.7\n",
    "2002     2.9   3.6\n",
    "2003     NaN   NaN"
   ]
  },
  {
   "cell_type": "markdown",
   "id": "74ee4849",
   "metadata": {
    "lines_to_next_cell": 0
   },
   "source": [
    "由Series组成的字典差不多也是一样的用法："
   ]
  },
  {
   "cell_type": "code",
   "execution_count": null,
   "id": "3c89e43d",
   "metadata": {},
   "outputs": [],
   "source": [
    "In [70]: pdata = {'Ohio': frame3['Ohio'][:-1],\n",
    "....:          'Nevada': frame3['Nevada'][:2]}\n",
    "\n",
    "In [71]: pd.DataFrame(pdata)\n",
    "Out[71]: \n",
    "      Nevada  Ohio\n",
    "2000     NaN   1.5\n",
    "2001     2.4   1.7"
   ]
  },
  {
   "cell_type": "markdown",
   "id": "9b7f89db",
   "metadata": {
    "lines_to_next_cell": 0
   },
   "source": [
    "表5-1列出了DataFrame构造函数所能接受的各种数据。\n",
    "\n",
    "![](./figures/t5-1.png)\n",
    "\n",
    "如果设置了DataFrame的index和columns的name属性，则这些信息也会被显示出来："
   ]
  },
  {
   "cell_type": "code",
   "execution_count": null,
   "id": "c478c9a6",
   "metadata": {},
   "outputs": [],
   "source": [
    "In [72]: frame3.index.name = 'year'; frame3.columns.name = 'state'\n",
    "\n",
    "In [73]: frame3\n",
    "Out[73]: \n",
    "state  Nevada  Ohio\n",
    "year\n",
    "2000      NaN   1.5\n",
    "2001      2.4   1.7\n",
    "2002      2.9   3.6"
   ]
  },
  {
   "cell_type": "markdown",
   "id": "3afcd2da",
   "metadata": {
    "lines_to_next_cell": 0
   },
   "source": [
    "跟Series一样，values属性也会以二维ndarray的形式返回DataFrame中的数据："
   ]
  },
  {
   "cell_type": "code",
   "execution_count": null,
   "id": "915626e5",
   "metadata": {},
   "outputs": [],
   "source": [
    "In [74]: frame3.values\n",
    "Out[74]: \n",
    "array([[ nan,  1.5],\n",
    "       [ 2.4,  1.7],\n",
    "       [ 2.9,  3.6]])"
   ]
  },
  {
   "cell_type": "markdown",
   "id": "6fcb4a1b",
   "metadata": {
    "lines_to_next_cell": 0
   },
   "source": [
    "如果DataFrame各列的数据类型不同，则值数组的dtype就会选用能兼容所有列的数据类型："
   ]
  },
  {
   "cell_type": "code",
   "execution_count": null,
   "id": "57e0e087",
   "metadata": {},
   "outputs": [],
   "source": [
    "In [75]: frame2.values\n",
    "Out[75]:\n",
    "array([[2000, 'Ohio', 1.5, nan],\n",
    "       [2001, 'Ohio', 1.7, -1.2],\n",
    "       [2002, 'Ohio', 3.6, nan],\n",
    "       [2001, 'Nevada', 2.4, -1.5],\n",
    "       [2002, 'Nevada', 2.9, -1.7],\n",
    "       [2003, 'Nevada', 3.2, nan]], dtype=object)"
   ]
  },
  {
   "cell_type": "markdown",
   "id": "7f36ee40",
   "metadata": {
    "lines_to_next_cell": 0
   },
   "source": [
    "## 索引对象\n",
    "pandas的索引对象负责管理轴标签和其他元数据（比如轴名称等）。构建Series或DataFrame时，所用到的任何数组或其他序列的标签都会被转换成一个Index："
   ]
  },
  {
   "cell_type": "code",
   "execution_count": null,
   "id": "eb38c87b",
   "metadata": {},
   "outputs": [],
   "source": [
    "In [76]: obj = pd.Series(range(3), index=['a', 'b', 'c'])\n",
    "\n",
    "In [77]: index = obj.index\n",
    "\n",
    "In [78]: index\n",
    "Out[78]: Index(['a', 'b', 'c'], dtype='object')\n",
    "\n",
    "In [79]: index[1:]\n",
    "Out[79]: Index(['b', 'c'], dtype='object')"
   ]
  },
  {
   "cell_type": "markdown",
   "id": "6b1fc7c1",
   "metadata": {
    "lines_to_next_cell": 0
   },
   "source": [
    "Index对象是不可变的，因此用户不能对其进行修改："
   ]
  },
  {
   "cell_type": "code",
   "execution_count": null,
   "id": "c44beb65",
   "metadata": {},
   "outputs": [],
   "source": [
    "index[1] = 'd'  # TypeError"
   ]
  },
  {
   "cell_type": "markdown",
   "id": "30a6bc68",
   "metadata": {
    "lines_to_next_cell": 0
   },
   "source": [
    "不可变可以使Index对象在多个数据结构之间安全共享："
   ]
  },
  {
   "cell_type": "code",
   "execution_count": null,
   "id": "292c569e",
   "metadata": {},
   "outputs": [],
   "source": [
    "In [80]: labels = pd.Index(np.arange(3))\n",
    "\n",
    "In [81]: labels\n",
    "Out[81]: Int64Index([0, 1, 2], dtype='int64')\n",
    "\n",
    "In [82]: obj2 = pd.Series([1.5, -2.5, 0], index=labels)\n",
    "\n",
    "In [83]: obj2\n",
    "Out[83]: \n",
    "0    1.5\n",
    "1   -2.5\n",
    "2    0.0\n",
    "dtype: float64\n",
    "\n",
    "In [84]: obj2.index is labels\n",
    "Out[84]: True"
   ]
  },
  {
   "cell_type": "markdown",
   "id": "5ff5d265",
   "metadata": {
    "lines_to_next_cell": 0
   },
   "source": [
    ">注意：虽然用户不需要经常使用Index的功能，但是因为一些操作会生成包含被索引化的数据，理解它们的工作原理是很重要的。\n",
    "\n",
    "除了类似于数组，Index的功能也类似一个固定大小的集合："
   ]
  },
  {
   "cell_type": "code",
   "execution_count": null,
   "id": "a72def66",
   "metadata": {},
   "outputs": [],
   "source": [
    "In [85]: frame3\n",
    "Out[85]: \n",
    "state  Nevada  Ohio\n",
    "year               \n",
    "2000      NaN   1.5\n",
    "2001      2.4   1.7\n",
    "2002      2.9   3.6\n",
    "In [86]: frame3.columns\n",
    "Out[86]: Index(['Nevada', 'Ohio'], dtype='object', name='state')\n",
    "\n",
    "In [87]: 'Ohio' in frame3.columns\n",
    "Out[87]: True\n",
    "\n",
    "In [88]: 2003 in frame3.index\n",
    "Out[88]: False"
   ]
  },
  {
   "cell_type": "markdown",
   "id": "dc17a2e1",
   "metadata": {
    "lines_to_next_cell": 0
   },
   "source": [
    "与python的集合不同，pandas的Index可以包含重复的标签："
   ]
  },
  {
   "cell_type": "code",
   "execution_count": null,
   "id": "dc12ca08",
   "metadata": {},
   "outputs": [],
   "source": [
    "In [89]: dup_labels = pd.Index(['foo', 'foo', 'bar', 'bar'])\n",
    "\n",
    "In [90]: dup_labels\n",
    "Out[90]: Index(['foo', 'foo', 'bar', 'bar'], dtype='object')"
   ]
  },
  {
   "cell_type": "markdown",
   "id": "7639d7ed",
   "metadata": {
    "lines_to_next_cell": 0
   },
   "source": [
    "选择重复的标签，会显示所有的结果。\n",
    "\n",
    "每个索引都有一些方法和属性，它们可用于设置逻辑并回答有关该索引所包含的数据的常见问题。表5-2列出了这些函数。\n",
    "\n",
    "![](./figures/t5-2.png)\n",
    "\n",
    "# 5.2 基本功能\n",
    "本节中，我将介绍操作Series和DataFrame中的数据的基本手段。后续章节将更加深入地挖掘pandas在数据分析和处理方面的功能。本书不是pandas库的详尽文档，主要关注的是最重要的功能，那些不大常用的内容（也就是那些更深奥的内容）就交给你自己去摸索吧。\n",
    "\n",
    "## 重新索引\n",
    "pandas对象的一个重要方法是reindex，其作用是创建一个新对象，它的数据符合新的索引。看下面的例子："
   ]
  },
  {
   "cell_type": "code",
   "execution_count": null,
   "id": "10f54c16",
   "metadata": {},
   "outputs": [],
   "source": [
    "In [91]: obj = pd.Series([4.5, 7.2, -5.3, 3.6], index=['d', 'b', 'a', 'c'])\n",
    "\n",
    "In [92]: obj\n",
    "Out[92]: \n",
    "d    4.5\n",
    "b    7.2\n",
    "a   -5.3\n",
    "c    3.6\n",
    "dtype: float64"
   ]
  },
  {
   "cell_type": "markdown",
   "id": "5b064917",
   "metadata": {
    "lines_to_next_cell": 0
   },
   "source": [
    "用该Series的reindex将会根据新索引进行重排。如果某个索引值当前不存在，就引入缺失值："
   ]
  },
  {
   "cell_type": "code",
   "execution_count": null,
   "id": "5be8ef7f",
   "metadata": {},
   "outputs": [],
   "source": [
    "In [93]: obj2 = obj.reindex(['a', 'b', 'c', 'd', 'e'])\n",
    "\n",
    "In [94]: obj2\n",
    "Out[94]: \n",
    "a   -5.3\n",
    "b    7.2\n",
    "c    3.6\n",
    "d    4.5\n",
    "e    NaN\n",
    "dtype: float64"
   ]
  },
  {
   "cell_type": "markdown",
   "id": "94374949",
   "metadata": {
    "lines_to_next_cell": 0
   },
   "source": [
    "对于时间序列这样的有序数据，重新索引时可能需要做一些插值处理。method选项即可达到此目的，例如，使用ffill可以实现前向值填充："
   ]
  },
  {
   "cell_type": "code",
   "execution_count": null,
   "id": "67598388",
   "metadata": {},
   "outputs": [],
   "source": [
    "In [95]: obj3 = pd.Series(['blue', 'purple', 'yellow'], index=[0, 2, 4])\n",
    "\n",
    "In [96]: obj3\n",
    "Out[96]: \n",
    "0      blue\n",
    "2    purple\n",
    "4    yellow\n",
    "dtype: object\n",
    "\n",
    "In [97]: obj3.reindex(range(6), method='ffill')\n",
    "Out[97]: \n",
    "0      blue\n",
    "1      blue\n",
    "2    purple\n",
    "3    purple\n",
    "4    yellow\n",
    "5    yellow\n",
    "dtype: object"
   ]
  },
  {
   "cell_type": "markdown",
   "id": "f4e08a6e",
   "metadata": {
    "lines_to_next_cell": 0
   },
   "source": [
    "借助DataFrame，reindex可以修改（行）索引和列。只传递一个序列时，会重新索引结果的行："
   ]
  },
  {
   "cell_type": "code",
   "execution_count": null,
   "id": "5f8dde64",
   "metadata": {},
   "outputs": [],
   "source": [
    "In [98]: frame = pd.DataFrame(np.arange(9).reshape((3, 3)),\n",
    "   ....:                      index=['a', 'c', 'd'],\n",
    "   ....:                      columns=['Ohio', 'Texas', 'California'])\n",
    "\n",
    "In [99]: frame\n",
    "Out[99]: \n",
    "   Ohio  Texas  California\n",
    "a     0      1           2\n",
    "c     3      4           5\n",
    "d     6      7           8\n",
    "\n",
    "In [100]: frame2 = frame.reindex(['a', 'b', 'c', 'd'])\n",
    "\n",
    "In [101]: frame2\n",
    "Out[101]: \n",
    "   Ohio  Texas  California\n",
    "a   0.0    1.0         2.0\n",
    "b   NaN    NaN         NaN\n",
    "c   3.0    4.0         5.0\n",
    "d   6.0    7.0         8.0"
   ]
  },
  {
   "cell_type": "markdown",
   "id": "e500bea8",
   "metadata": {
    "lines_to_next_cell": 0
   },
   "source": [
    "列可以用columns关键字重新索引："
   ]
  },
  {
   "cell_type": "code",
   "execution_count": null,
   "id": "dbb81488",
   "metadata": {},
   "outputs": [],
   "source": [
    "In [102]: states = ['Texas', 'Utah', 'California']\n",
    "\n",
    "In [103]: frame.reindex(columns=states)\n",
    "Out[103]: \n",
    "   Texas  Utah  California\n",
    "a      1   NaN           2\n",
    "c      4   NaN           5\n",
    "d      7   NaN           8"
   ]
  },
  {
   "cell_type": "markdown",
   "id": "9c978ca0",
   "metadata": {
    "lines_to_next_cell": 0
   },
   "source": [
    "表5-3列出了reindex函数的各参数及说明。\n",
    "\n",
    "![](./figures/t5-3.png)\n",
    "\n",
    "## 丢弃指定轴上的项\n",
    "丢弃某条轴上的一个或多个项很简单，只要有一个索引数组或列表即可。由于需要执行一些数据整理和集合逻辑，所以drop方法返回的是一个在指定轴上删除了指定值的新对象："
   ]
  },
  {
   "cell_type": "code",
   "execution_count": null,
   "id": "10bb5d9e",
   "metadata": {},
   "outputs": [],
   "source": [
    "In [105]: obj = pd.Series(np.arange(5.), index=['a', 'b', 'c', 'd', 'e'])\n",
    "\n",
    "In [106]: obj\n",
    "Out[106]: \n",
    "a    0.0\n",
    "b    1.0\n",
    "c    2.0\n",
    "d    3.0\n",
    "e    4.0\n",
    "dtype: float64\n",
    "\n",
    "In [107]: new_obj = obj.drop('c')\n",
    "\n",
    "In [108]: new_obj\n",
    "Out[108]: \n",
    "a    0.0\n",
    "b    1.0\n",
    "d    3.0\n",
    "e    4.0\n",
    "dtype: float64\n",
    "\n",
    "In [109]: obj.drop(['d', 'c'])\n",
    "Out[109]: \n",
    "a    0.0\n",
    "b    1.0\n",
    "e    4.0\n",
    "dtype: float64"
   ]
  },
  {
   "cell_type": "markdown",
   "id": "9fe65b8b",
   "metadata": {
    "lines_to_next_cell": 0
   },
   "source": [
    "对于DataFrame，可以删除任意轴上的索引值。为了演示，先新建一个DataFrame例子："
   ]
  },
  {
   "cell_type": "code",
   "execution_count": null,
   "id": "52415558",
   "metadata": {},
   "outputs": [],
   "source": [
    "In [110]: data = pd.DataFrame(np.arange(16).reshape((4, 4)),\n",
    "   .....:                     index=['Ohio', 'Colorado', 'Utah', 'New York'],\n",
    "   .....:                     columns=['one', 'two', 'three', 'four'])\n",
    "\n",
    "In [111]: data\n",
    "Out[111]: \n",
    "          one  two  three  four\n",
    "Ohio        0    1      2     3\n",
    "Colorado    4    5      6     7\n",
    "Utah        8    9     10    11\n",
    "New York   12   13     14    15"
   ]
  },
  {
   "cell_type": "markdown",
   "id": "89d9c009",
   "metadata": {
    "lines_to_next_cell": 0
   },
   "source": [
    "用标签序列调用drop会从行标签（axis 0）删除值："
   ]
  },
  {
   "cell_type": "code",
   "execution_count": null,
   "id": "1ad606d5",
   "metadata": {},
   "outputs": [],
   "source": [
    "In [112]: data.drop(['Colorado', 'Ohio'])\n",
    "Out[112]: \n",
    "          one  two  three  four\n",
    "Utah        8    9     10    11\n",
    "New York   12   13     14    15"
   ]
  },
  {
   "cell_type": "markdown",
   "id": "39aeb800",
   "metadata": {
    "lines_to_next_cell": 0
   },
   "source": [
    "通过传递axis=1或axis='columns'可以删除列的值："
   ]
  },
  {
   "cell_type": "code",
   "execution_count": null,
   "id": "611fec47",
   "metadata": {},
   "outputs": [],
   "source": [
    "In [113]: data.drop('two', axis=1)\n",
    "Out[113]: \n",
    "          one  three  four\n",
    "Ohio        0      2     3\n",
    "Colorado    4      6     7\n",
    "Utah        8     10    11\n",
    "New York   12     14    15\n",
    "\n",
    "In [114]: data.drop(['two', 'four'], axis='columns')\n",
    "Out[114]: \n",
    "          one  three\n",
    "Ohio        0      2\n",
    "Colorado    4      6\n",
    "Utah        8     10\n",
    "New York   12     14"
   ]
  },
  {
   "cell_type": "markdown",
   "id": "582aaf16",
   "metadata": {
    "lines_to_next_cell": 0
   },
   "source": [
    "许多函数，如drop，会修改Series或DataFrame的大小或形状，可以就地修改对象，不会返回新的对象："
   ]
  },
  {
   "cell_type": "code",
   "execution_count": null,
   "id": "2236e718",
   "metadata": {},
   "outputs": [],
   "source": [
    "In [115]: obj.drop('c', inplace=True)\n",
    "\n",
    "In [116]: obj\n",
    "Out[116]: \n",
    "a    0.0\n",
    "b    1.0\n",
    "d    3.0\n",
    "e    4.0\n",
    "dtype: float64"
   ]
  },
  {
   "cell_type": "markdown",
   "id": "38fec434",
   "metadata": {
    "lines_to_next_cell": 0
   },
   "source": [
    "小心使用inplace，它会销毁所有被删除的数据。\n",
    "\n",
    "## 索引、选取和过滤\n",
    "Series索引（obj[...]）的工作方式类似于NumPy数组的索引，只不过Series的索引值不只是整数。下面是几个例子："
   ]
  },
  {
   "cell_type": "code",
   "execution_count": null,
   "id": "db515d91",
   "metadata": {},
   "outputs": [],
   "source": [
    "In [117]: obj = pd.Series(np.arange(4.), index=['a', 'b', 'c', 'd'])\n",
    "\n",
    "In [118]: obj\n",
    "Out[118]: \n",
    "a    0.0\n",
    "b    1.0\n",
    "c    2.0\n",
    "d    3.0\n",
    "dtype: float64\n",
    "\n",
    "In [119]: obj['b']\n",
    "Out[119]: 1.0\n",
    "\n",
    "In [120]: obj[1]\n",
    "Out[120]: 1.0\n",
    "\n",
    "In [121]: obj[2:4]\n",
    "Out[121]: \n",
    "c    2.0\n",
    "d    3.0\n",
    "dtype: float64\n",
    "\n",
    "In [122]: obj[['b', 'a', 'd']]\n",
    "Out[122]:\n",
    "b    1.0\n",
    "a    0.0\n",
    "d    3.0\n",
    "dtype: float64\n",
    "\n",
    "In [123]: obj[[1, 3]]\n",
    "Out[123]: \n",
    "b    1.0\n",
    "d    3.0\n",
    "dtype: float64\n",
    "\n",
    "In [124]: obj[obj < 2]\n",
    "Out[124]: \n",
    "a    0.0\n",
    "b    1.0\n",
    "dtype: float64"
   ]
  },
  {
   "cell_type": "markdown",
   "id": "4abead84",
   "metadata": {
    "lines_to_next_cell": 0
   },
   "source": [
    "利用标签的切片运算与普通的Python切片运算不同，其末端是包含的："
   ]
  },
  {
   "cell_type": "code",
   "execution_count": null,
   "id": "61200f0c",
   "metadata": {},
   "outputs": [],
   "source": [
    "In [125]: obj['b':'c']\n",
    "Out[125]:\n",
    "b    1.0\n",
    "c    2.0\n",
    "dtype: float64"
   ]
  },
  {
   "cell_type": "markdown",
   "id": "e7180e1d",
   "metadata": {
    "lines_to_next_cell": 0
   },
   "source": [
    "用切片可以对Series的相应部分进行设置："
   ]
  },
  {
   "cell_type": "code",
   "execution_count": null,
   "id": "1689ad9b",
   "metadata": {},
   "outputs": [],
   "source": [
    "In [126]: obj['b':'c'] = 5\n",
    "\n",
    "In [127]: obj\n",
    "Out[127]: \n",
    "a    0.0\n",
    "b    5.0\n",
    "c    5.0\n",
    "d    3.0\n",
    "dtype: float64"
   ]
  },
  {
   "cell_type": "markdown",
   "id": "abd0d301",
   "metadata": {
    "lines_to_next_cell": 0
   },
   "source": [
    "用一个值或序列对DataFrame进行索引其实就是获取一个或多个列："
   ]
  },
  {
   "cell_type": "code",
   "execution_count": null,
   "id": "cb53eae8",
   "metadata": {},
   "outputs": [],
   "source": [
    "In [128]: data = pd.DataFrame(np.arange(16).reshape((4, 4)),\n",
    "   .....:                     index=['Ohio', 'Colorado', 'Utah', 'New York'],\n",
    "   .....:                     columns=['one', 'two', 'three', 'four'])\n",
    "\n",
    "In [129]: data\n",
    "Out[129]: \n",
    "          one  two  three  four\n",
    "Ohio        0    1      2     3\n",
    "Colorado    4    5      6     7\n",
    "Utah        8    9     10    11\n",
    "New York   12   13     14    15\n",
    "\n",
    "In [130]: data['two']\n",
    "Out[130]: \n",
    "Ohio         1\n",
    "Colorado     5\n",
    "Utah         9\n",
    "New York    13\n",
    "Name: two, dtype: int64\n",
    "\n",
    "In [131]: data[['three', 'one']]\n",
    "Out[131]: \n",
    "          three  one\n",
    "Ohio          2    0\n",
    "Colorado      6    4\n",
    "Utah         10    8\n",
    "New York     14   12"
   ]
  },
  {
   "cell_type": "markdown",
   "id": "0d3fe564",
   "metadata": {
    "lines_to_next_cell": 0
   },
   "source": [
    "这种索引方式有几个特殊的情况。首先通过切片或布尔型数组选取数据："
   ]
  },
  {
   "cell_type": "code",
   "execution_count": null,
   "id": "7169d921",
   "metadata": {},
   "outputs": [],
   "source": [
    "In [132]: data[:2]\n",
    "Out[132]: \n",
    "          one  two  three  four\n",
    "Ohio        0    1      2     3\n",
    "Colorado    4    5      6     7\n",
    "\n",
    "In [133]: data[data['three'] > 5]\n",
    "Out[133]: \n",
    "          one  two  three  four\n",
    "Colorado    4    5      6     7\n",
    "Utah        8    9     10    11\n",
    "New York   12   13     14    15"
   ]
  },
  {
   "cell_type": "markdown",
   "id": "1e91a3d7",
   "metadata": {
    "lines_to_next_cell": 0
   },
   "source": [
    "选取行的语法data[:2]十分方便。向[ ]传递单一的元素或列表，就可选择列。\n",
    "\n",
    "另一种用法是通过布尔型DataFrame（比如下面这个由标量比较运算得出的）进行索引："
   ]
  },
  {
   "cell_type": "code",
   "execution_count": null,
   "id": "26190a5d",
   "metadata": {},
   "outputs": [],
   "source": [
    "In [134]: data < 5\n",
    "Out[134]: \n",
    "            one    two  three   four\n",
    "Ohio       True   True   True   True\n",
    "Colorado   True  False  False  False\n",
    "Utah      False  False  False  False\n",
    "New York  False  False  False  False\n",
    "\n",
    "In [135]: data[data < 5] = 0\n",
    "\n",
    "In [136]: data\n",
    "Out[136]: \n",
    "          one  two  three  four\n",
    "Ohio        0    0      0     0\n",
    "Colorado    0    5      6     7\n",
    "Utah        8    9     10    11\n",
    "New York   12   13     14    15"
   ]
  },
  {
   "cell_type": "markdown",
   "id": "20810ab3",
   "metadata": {
    "lines_to_next_cell": 0
   },
   "source": [
    "这使得DataFrame的语法与NumPy二维数组的语法很像。\n",
    "\n",
    "## 用loc和iloc进行选取\n",
    "对于DataFrame的行的标签索引，我引入了特殊的标签运算符loc和iloc。它们可以让你用类似NumPy的标记，使用轴标签（loc）或整数索引（iloc），从DataFrame选择行和列的子集。\n",
    "\n",
    "作为一个初步示例，让我们通过标签选择一行和多列："
   ]
  },
  {
   "cell_type": "code",
   "execution_count": null,
   "id": "7499fedb",
   "metadata": {},
   "outputs": [],
   "source": [
    "In [137]: data.loc['Colorado', ['two', 'three']]\n",
    "Out[137]: \n",
    "two      5\n",
    "three    6\n",
    "Name: Colorado, dtype: int64"
   ]
  },
  {
   "cell_type": "markdown",
   "id": "8d7b4de1",
   "metadata": {
    "lines_to_next_cell": 0
   },
   "source": [
    "然后用iloc和整数进行选取："
   ]
  },
  {
   "cell_type": "code",
   "execution_count": null,
   "id": "a3de630a",
   "metadata": {},
   "outputs": [],
   "source": [
    "In [138]: data.iloc[2, [3, 0, 1]]\n",
    "Out[138]: \n",
    "four    11\n",
    "one      8\n",
    "two      9\n",
    "Name: Utah, dtype: int64\n",
    "\n",
    "In [139]: data.iloc[2]\n",
    "Out[139]: \n",
    "one       8\n",
    "two       9\n",
    "three    10\n",
    "four     11\n",
    "Name: Utah, dtype: int64\n",
    "\n",
    "In [140]: data.iloc[[1, 2], [3, 0, 1]]\n",
    "Out[140]: \n",
    "          four  one  two\n",
    "Colorado     7    0    5\n",
    "Utah        11    8    9"
   ]
  },
  {
   "cell_type": "markdown",
   "id": "1c7d9ca8",
   "metadata": {
    "lines_to_next_cell": 0
   },
   "source": [
    "这两个索引函数也适用于一个标签或多个标签的切片："
   ]
  },
  {
   "cell_type": "code",
   "execution_count": null,
   "id": "b5a0628e",
   "metadata": {},
   "outputs": [],
   "source": [
    "In [141]: data.loc[:'Utah', 'two']\n",
    "Out[141]: \n",
    "Ohio        0\n",
    "Colorado    5\n",
    "Utah        9\n",
    "Name: two, dtype: int64\n",
    "\n",
    "In [142]: data.iloc[:, :3][data.three > 5]\n",
    "Out[142]: \n",
    "          one  two  three\n",
    "Colorado    0    5      6\n",
    "Utah        8    9     10\n",
    "New York   12   13     14"
   ]
  },
  {
   "cell_type": "markdown",
   "id": "14f052e6",
   "metadata": {
    "lines_to_next_cell": 0
   },
   "source": [
    "所以，在pandas中，有多个方法可以选取和重新组合数据。对于DataFrame，表5-4进行了总结。后面会看到，还有更多的方法进行层级化索引。\n",
    "\n",
    ">笔记：在一开始设计pandas时，我觉得用frame[:, col]选取列过于繁琐（也容易出错），因为列的选择是非常常见的操作。我做了些取舍，将花式索引的功能（标签和整数）放到了ix运算符中。在实践中，这会导致许多边缘情况，数据的轴标签是整数，所以pandas团队决定创造loc和iloc运算符分别处理严格基于标签和整数的索引。\n",
    "ix运算符仍然可用，但并不推荐。\n",
    "\n",
    "![表5-4 DataFrame的索引选项](./figures/t5-4.png)\n",
    "\n",
    "## 整数索引\n",
    "处理整数索引的pandas对象常常难住新手，因为它与Python内置的列表和元组的索引语法不同。例如，你可能不认为下面的代码会出错："
   ]
  },
  {
   "cell_type": "code",
   "execution_count": null,
   "id": "ef1ebf00",
   "metadata": {},
   "outputs": [],
   "source": [
    "ser = pd.Series(np.arange(3.))\n",
    "ser\n",
    "ser[-1]"
   ]
  },
  {
   "cell_type": "markdown",
   "id": "54211c4a",
   "metadata": {
    "lines_to_next_cell": 0
   },
   "source": [
    "这里，pandas可以勉强进行整数索引，但是会导致小bug。我们有包含0,1,2的索引，但是引入用户想要的东西（基于标签或位置的索引）很难："
   ]
  },
  {
   "cell_type": "code",
   "execution_count": null,
   "id": "a85c836f",
   "metadata": {},
   "outputs": [],
   "source": [
    "In [144]: ser\n",
    "Out[144]: \n",
    "0    0.0\n",
    "1    1.0\n",
    "2    2.0\n",
    "dtype: float64"
   ]
  },
  {
   "cell_type": "markdown",
   "id": "c00f5962",
   "metadata": {
    "lines_to_next_cell": 0
   },
   "source": [
    "另外，对于非整数索引，不会产生歧义："
   ]
  },
  {
   "cell_type": "code",
   "execution_count": null,
   "id": "58a25299",
   "metadata": {},
   "outputs": [],
   "source": [
    "In [145]: ser2 = pd.Series(np.arange(3.), index=['a', 'b', 'c'])\n",
    "\n",
    "In [146]: ser2[-1]\n",
    "Out[146]: 2.0"
   ]
  },
  {
   "cell_type": "markdown",
   "id": "102e50f0",
   "metadata": {
    "lines_to_next_cell": 0
   },
   "source": [
    "为了进行统一，如果轴索引含有整数，数据选取总会使用标签。为了更准确，请使用loc（标签）或iloc（整数）："
   ]
  },
  {
   "cell_type": "code",
   "execution_count": null,
   "id": "b67af0c4",
   "metadata": {},
   "outputs": [],
   "source": [
    "In [147]: ser[:1]\n",
    "Out[147]: \n",
    "0    0.0\n",
    "dtype: float64\n",
    "\n",
    "In [148]: ser.loc[:1]\n",
    "Out[148]: \n",
    "0    0.0\n",
    "1    1.0\n",
    "dtype: float64\n",
    "\n",
    "In [149]: ser.iloc[:1]\n",
    "Out[149]: \n",
    "0    0.0\n",
    "dtype: float64"
   ]
  },
  {
   "cell_type": "markdown",
   "id": "f0872e5b",
   "metadata": {
    "lines_to_next_cell": 0
   },
   "source": [
    "## 算术运算和数据对齐\n",
    "pandas最重要的一个功能是，它可以对不同索引的对象进行算术运算。在将对象相加时，如果存在不同的索引对，则结果的索引就是该索引对的并集。对于有数据库经验的用户，这就像在索引标签上进行自动外连接。看一个简单的例子："
   ]
  },
  {
   "cell_type": "code",
   "execution_count": null,
   "id": "6c05841d",
   "metadata": {},
   "outputs": [],
   "source": [
    "In [150]: s1 = pd.Series([7.3, -2.5, 3.4, 1.5], index=['a', 'c', 'd', 'e'])\n",
    "\n",
    "In [151]: s2 = pd.Series([-2.1, 3.6, -1.5, 4, 3.1],\n",
    "   .....:                index=['a', 'c', 'e', 'f', 'g'])\n",
    "\n",
    "In [152]: s1\n",
    "Out[152]: \n",
    "a    7.3\n",
    "c   -2.5\n",
    "d    3.4\n",
    "e    1.5\n",
    "dtype: float64\n",
    "\n",
    "In [153]: s2\n",
    "Out[153]: \n",
    "a   -2.1\n",
    "c    3.6\n",
    "e   -1.5\n",
    "f    4.0\n",
    "g    3.1\n",
    "dtype: float64"
   ]
  },
  {
   "cell_type": "markdown",
   "id": "93257c3d",
   "metadata": {
    "lines_to_next_cell": 0
   },
   "source": [
    "将它们相加就会产生："
   ]
  },
  {
   "cell_type": "code",
   "execution_count": null,
   "id": "c5c44f69",
   "metadata": {},
   "outputs": [],
   "source": [
    "In [154]: s1 + s2\n",
    "Out[154]: \n",
    "a    5.2\n",
    "c    1.1\n",
    "d    NaN\n",
    "e    0.0\n",
    "f    NaN\n",
    "g    NaN\n",
    "dtype: float64"
   ]
  },
  {
   "cell_type": "markdown",
   "id": "5fad6679",
   "metadata": {
    "lines_to_next_cell": 0
   },
   "source": [
    "自动的数据对齐操作在不重叠的索引处引入了NA值。缺失值会在算术运算过程中传播。\n",
    "\n",
    "对于DataFrame，对齐操作会同时发生在行和列上："
   ]
  },
  {
   "cell_type": "code",
   "execution_count": null,
   "id": "14a28c5f",
   "metadata": {},
   "outputs": [],
   "source": [
    "In [155]: df1 = pd.DataFrame(np.arange(9.).reshape((3, 3)), columns=list('bcd'),\n",
    "   .....:                    index=['Ohio', 'Texas', 'Colorado'])\n",
    "\n",
    "In [156]: df2 = pd.DataFrame(np.arange(12.).reshape((4, 3)), columns=list('bde'),\n",
    "   .....:                    index=['Utah', 'Ohio', 'Texas', 'Oregon'])\n",
    "\n",
    "In [157]: df1\n",
    "Out[157]: \n",
    "            b    c    d\n",
    "Ohio      0.0  1.0  2.0\n",
    "Texas     3.0  4.0  5.0\n",
    "Colorado  6.0  7.0  8.0\n",
    "\n",
    "In [158]: df2\n",
    "Out[158]: \n",
    "          b     d     e\n",
    "Utah    0.0   1.0   2.0\n",
    "Ohio    3.0   4.0   5.0\n",
    "Texas   6.0   7.0   8.0\n",
    "Oregon  9.0  10.0  11.0"
   ]
  },
  {
   "cell_type": "markdown",
   "id": "e4bbfecb",
   "metadata": {
    "lines_to_next_cell": 0
   },
   "source": [
    "把它们相加后将会返回一个新的DataFrame，其索引和列为原来那两个DataFrame的并集："
   ]
  },
  {
   "cell_type": "code",
   "execution_count": null,
   "id": "f4dc1660",
   "metadata": {},
   "outputs": [],
   "source": [
    "In [159]: df1 + df2\n",
    "Out[159]: \n",
    "            b   c     d   e\n",
    "Colorado  NaN NaN   NaN NaN\n",
    "Ohio      3.0 NaN   6.0 NaN\n",
    "Oregon    NaN NaN   NaN NaN\n",
    "Texas     9.0 NaN  12.0 NaN\n",
    "Utah      NaN NaN   NaN NaN"
   ]
  },
  {
   "cell_type": "markdown",
   "id": "28335296",
   "metadata": {
    "lines_to_next_cell": 0
   },
   "source": [
    "因为'c'和'e'列均不在两个DataFrame对象中，在结果中以缺省值呈现。行也是同样。\n",
    "\n",
    "如果DataFrame对象相加，没有共用的列或行标签，结果都会是空："
   ]
  },
  {
   "cell_type": "code",
   "execution_count": null,
   "id": "40bebd62",
   "metadata": {},
   "outputs": [],
   "source": [
    "In [160]: df1 = pd.DataFrame({'A': [1, 2]})\n",
    "\n",
    "In [161]: df2 = pd.DataFrame({'B': [3, 4]})\n",
    "\n",
    "In [162]: df1\n",
    "Out[162]: \n",
    "   A\n",
    "0  1\n",
    "1  2\n",
    "\n",
    "In [163]: df2\n",
    "Out[163]: \n",
    "   B\n",
    "0  3\n",
    "1  4\n",
    "\n",
    "In [164]: df1 - df2\n",
    "Out[164]: \n",
    "    A   B\n",
    "0 NaN NaN\n",
    "1 NaN NaN"
   ]
  },
  {
   "cell_type": "markdown",
   "id": "d07d7873",
   "metadata": {
    "lines_to_next_cell": 0
   },
   "source": [
    "## 在算术方法中填充值\n",
    "在对不同索引的对象进行算术运算时，你可能希望当一个对象中某个轴标签在另一个对象中找不到时填充一个特殊值（比如0）："
   ]
  },
  {
   "cell_type": "code",
   "execution_count": null,
   "id": "cdc55978",
   "metadata": {},
   "outputs": [],
   "source": [
    "In [165]: df1 = pd.DataFrame(np.arange(12.).reshape((3, 4)),\n",
    "   .....:                    columns=list('abcd'))\n",
    "\n",
    "In [166]: df2 = pd.DataFrame(np.arange(20.).reshape((4, 5)),\n",
    "   .....:                    columns=list('abcde'))\n",
    "\n",
    "In [167]: df2.loc[1, 'b'] = np.nan\n",
    "\n",
    "In [168]: df1\n",
    "Out[168]: \n",
    "     a    b     c     d\n",
    "0  0.0  1.0   2.0   3.0\n",
    "1  4.0  5.0   6.0   7.0\n",
    "2  8.0  9.0  10.0  11.0\n",
    "\n",
    "In [169]: df2\n",
    "Out[169]: \n",
    "      a     b     c     d     e\n",
    "0   0.0   1.0   2.0   3.0   4.0\n",
    "1   5.0   NaN   7.0   8.0   9.0\n",
    "2  10.0  11.0  12.0  13.0  14.0\n",
    "3  15.0  16.0  17.0  18.0  19.0"
   ]
  },
  {
   "cell_type": "markdown",
   "id": "f8ae89bd",
   "metadata": {
    "lines_to_next_cell": 0
   },
   "source": [
    "将它们相加时，没有重叠的位置就会产生NA值："
   ]
  },
  {
   "cell_type": "code",
   "execution_count": null,
   "id": "30b1fda0",
   "metadata": {},
   "outputs": [],
   "source": [
    "In [170]: df1 + df2\n",
    "Out[170]: \n",
    "      a     b     c     d   e\n",
    "0   0.0   2.0   4.0   6.0 NaN\n",
    "1   9.0   NaN  13.0  15.0 NaN\n",
    "2  18.0  20.0  22.0  24.0 NaN\n",
    "3   NaN   NaN   NaN   NaN NaN"
   ]
  },
  {
   "cell_type": "markdown",
   "id": "61fa00ef",
   "metadata": {
    "lines_to_next_cell": 0
   },
   "source": [
    "使用df1的add方法，传入df2以及一个fill_value参数："
   ]
  },
  {
   "cell_type": "code",
   "execution_count": null,
   "id": "db937875",
   "metadata": {},
   "outputs": [],
   "source": [
    "In [171]: df1.add(df2, fill_value=0)\n",
    "Out[171]: \n",
    "      a     b     c     d     e\n",
    "0   0.0   2.0   4.0   6.0   4.0\n",
    "1   9.0   5.0  13.0  15.0   9.0\n",
    "2  18.0  20.0  22.0  24.0  14.0\n",
    "3  15.0  16.0  17.0  18.0  19.0"
   ]
  },
  {
   "cell_type": "markdown",
   "id": "986f2123",
   "metadata": {
    "lines_to_next_cell": 0
   },
   "source": [
    "表5-5列出了Series和DataFrame的算术方法。它们每个都有一个副本，以字母r开头，它会翻转参数。因此这两个语句是等价的："
   ]
  },
  {
   "cell_type": "code",
   "execution_count": null,
   "id": "536d7fa7",
   "metadata": {},
   "outputs": [],
   "source": [
    "In [172]: 1 / df1\n",
    "Out[172]: \n",
    "          a         b         c         d\n",
    "0       inf  1.000000  0.500000  0.333333\n",
    "1  0.250000  0.200000  0.166667  0.142857\n",
    "2  0.125000  0.111111  0.100000  0.090909\n",
    "\n",
    "In [173]: df1.rdiv(1)\n",
    "Out[173]: \n",
    "          a         b         c         d\n",
    "0       inf  1.000000  0.500000  0.333333\n",
    "1  0.250000  0.200000  0.166667  0.142857\n",
    "2  0.125000  0.111111  0.100000  0.090909"
   ]
  },
  {
   "cell_type": "markdown",
   "id": "ae27f45f",
   "metadata": {
    "lines_to_next_cell": 0
   },
   "source": [
    "![表5-5 灵活的算术方法](./figures/t5-5.png)\n",
    "\n",
    "与此类似，在对Series或DataFrame重新索引时，也可以指定一个填充值："
   ]
  },
  {
   "cell_type": "code",
   "execution_count": null,
   "id": "63ac925c",
   "metadata": {},
   "outputs": [],
   "source": [
    "In [174]: df1.reindex(columns=df2.columns, fill_value=0)\n",
    "Out[174]: \n",
    "     a    b     c     d  e\n",
    "0  0.0  1.0   2.0   3.0  0\n",
    "1  4.0  5.0   6.0   7.0  0\n",
    "2  8.0  9.0  10.0  11.0  0"
   ]
  },
  {
   "cell_type": "markdown",
   "id": "90ef90ab",
   "metadata": {
    "lines_to_next_cell": 0
   },
   "source": [
    "## DataFrame和Series之间的运算\n",
    "跟不同维度的NumPy数组一样，DataFrame和Series之间算术运算也是有明确规定的。先来看一个具有启发性的例子，计算一个二维数组与其某行之间的差："
   ]
  },
  {
   "cell_type": "code",
   "execution_count": null,
   "id": "894407dc",
   "metadata": {},
   "outputs": [],
   "source": [
    "In [175]: arr = np.arange(12.).reshape((3, 4))\n",
    "\n",
    "In [176]: arr\n",
    "Out[176]: \n",
    "array([[  0.,   1.,   2.,   3.],\n",
    "       [  4.,   5.,   6.,   7.],\n",
    "       [  8.,   9.,  10.,  11.]])\n",
    "\n",
    "In [177]: arr[0]\n",
    "Out[177]: array([ 0.,  1.,  2.,  3.])\n",
    "\n",
    "In [178]: arr - arr[0]\n",
    "Out[178]: \n",
    "array([[ 0.,  0.,  0.,  0.],\n",
    "       [ 4.,  4.,  4.,  4.],\n",
    "       [ 8.,  8.,  8.,  8.]])"
   ]
  },
  {
   "cell_type": "markdown",
   "id": "b8530d39",
   "metadata": {
    "lines_to_next_cell": 0
   },
   "source": [
    "当我们从arr减去arr[0]，每一行都会执行这个操作。这就叫做广播（broadcasting），附录A将对此进行详细讲解。DataFrame和Series之间的运算差不多也是如此："
   ]
  },
  {
   "cell_type": "code",
   "execution_count": null,
   "id": "737313ab",
   "metadata": {},
   "outputs": [],
   "source": [
    "In [179]: frame = pd.DataFrame(np.arange(12.).reshape((4, 3)),\n",
    "   .....:                      columns=list('bde'),\n",
    "   .....:                      index=['Utah', 'Ohio', 'Texas', 'Oregon'])\n",
    "\n",
    "In [180]: series = frame.iloc[0]\n",
    "\n",
    "In [181]: frame\n",
    "Out[181]: \n",
    "          b     d     e\n",
    "Utah    0.0   1.0   2.0\n",
    "Ohio    3.0   4.0   5.0\n",
    "Texas   6.0   7.0   8.0\n",
    "Oregon  9.0  10.0  11.0\n",
    "\n",
    "In [182]: series\n",
    "Out[182]: \n",
    "b    0.0\n",
    "d    1.0\n",
    "e    2.0\n",
    "Name: Utah, dtype: float64"
   ]
  },
  {
   "cell_type": "markdown",
   "id": "bbc164e6",
   "metadata": {
    "lines_to_next_cell": 0
   },
   "source": [
    "默认情况下，DataFrame和Series之间的算术运算会将Series的索引匹配到DataFrame的列，然后沿着行一直向下广播："
   ]
  },
  {
   "cell_type": "code",
   "execution_count": null,
   "id": "22c553c0",
   "metadata": {},
   "outputs": [],
   "source": [
    "In [183]: frame - series\n",
    "Out[183]: \n",
    "          b    d    e\n",
    "Utah    0.0  0.0  0.0\n",
    "Ohio    3.0  3.0  3.0\n",
    "Texas   6.0  6.0  6.0\n",
    "Oregon  9.0  9.0  9.0"
   ]
  },
  {
   "cell_type": "markdown",
   "id": "2d158ad2",
   "metadata": {
    "lines_to_next_cell": 0
   },
   "source": [
    "如果某个索引值在DataFrame的列或Series的索引中找不到，则参与运算的两个对象就会被重新索引以形成并集："
   ]
  },
  {
   "cell_type": "code",
   "execution_count": null,
   "id": "33f0fdd0",
   "metadata": {},
   "outputs": [],
   "source": [
    "In [184]: series2 = pd.Series(range(3), index=['b', 'e', 'f'])\n",
    "\n",
    "In [185]: frame + series2\n",
    "Out[185]: \n",
    "          b   d     e   f\n",
    "Utah    0.0 NaN   3.0 NaN\n",
    "Ohio    3.0 NaN   6.0 NaN\n",
    "Texas   6.0 NaN   9.0 NaN\n",
    "Oregon  9.0 NaN  12.0 NaN"
   ]
  },
  {
   "cell_type": "markdown",
   "id": "84f26d56",
   "metadata": {
    "lines_to_next_cell": 0
   },
   "source": [
    "如果你希望匹配行且在列上广播，则必须使用算术运算方法。例如："
   ]
  },
  {
   "cell_type": "code",
   "execution_count": null,
   "id": "d7adafe1",
   "metadata": {},
   "outputs": [],
   "source": [
    "In [186]: series3 = frame['d']\n",
    "\n",
    "In [187]: frame\n",
    "Out[187]: \n",
    "          b     d     e\n",
    "Utah    0.0   1.0   2.0\n",
    "Ohio    3.0   4.0   5.0\n",
    "Texas   6.0   7.0   8.0\n",
    "Oregon  9.0  10.0  11.0\n",
    "\n",
    "In [188]: series3\n",
    "Out[188]: \n",
    "Utah       1.0\n",
    "Ohio       4.0\n",
    "Texas      7.0\n",
    "Oregon    10.0\n",
    "Name: d, dtype: float64\n",
    "\n",
    "In [189]: frame.sub(series3, axis='index')\n",
    "Out[189]: \n",
    "          b    d    e\n",
    "Utah   -1.0  0.0  1.0\n",
    "Ohio   -1.0  0.0  1.0\n",
    "Texas  -1.0  0.0  1.0\n",
    "Oregon -1.0  0.0  1.0"
   ]
  },
  {
   "cell_type": "markdown",
   "id": "167fb933",
   "metadata": {
    "lines_to_next_cell": 0
   },
   "source": [
    "传入的轴号就是希望匹配的轴。在本例中，我们的目的是匹配DataFrame的行索引（axis='index' or axis=0）并进行广播。\n",
    "\n",
    "## 函数应用和映射\n",
    "NumPy的ufuncs（元素级数组方法）也可用于操作pandas对象："
   ]
  },
  {
   "cell_type": "code",
   "execution_count": null,
   "id": "118eabdc",
   "metadata": {},
   "outputs": [],
   "source": [
    "In [190]: frame = pd.DataFrame(np.random.randn(4, 3), columns=list('bde'),\n",
    "   .....:                      index=['Utah', 'Ohio', 'Texas', 'Oregon'])\n",
    "\n",
    "In [191]: frame\n",
    "Out[191]: \n",
    "               b         d         e\n",
    "Utah   -0.204708  0.478943 -0.519439\n",
    "Ohio   -0.555730  1.965781  1.393406\n",
    "Texas   0.092908  0.281746  0.769023\n",
    "Oregon  1.246435  1.007189 -1.296221\n",
    "\n",
    "In [192]: np.abs(frame)\n",
    "Out[192]: \n",
    "               b         d         e\n",
    "Utah    0.204708  0.478943  0.519439\n",
    "Ohio    0.555730  1.965781  1.393406\n",
    "Texas   0.092908  0.281746  0.769023\n",
    "Oregon  1.246435  1.007189  1.296221"
   ]
  },
  {
   "cell_type": "markdown",
   "id": "69c15de0",
   "metadata": {
    "lines_to_next_cell": 0
   },
   "source": [
    "另一个常见的操作是，将函数应用到由各列或行所形成的一维数组上。DataFrame的apply方法即可实现此功能："
   ]
  },
  {
   "cell_type": "code",
   "execution_count": null,
   "id": "3c3ca82a",
   "metadata": {},
   "outputs": [],
   "source": [
    "In [193]: f = lambda x: x.max() - x.min()\n",
    "\n",
    "In [194]: frame.apply(f)\n",
    "Out[194]: \n",
    "b    1.802165\n",
    "d    1.684034\n",
    "e    2.689627\n",
    "dtype: float64"
   ]
  },
  {
   "cell_type": "markdown",
   "id": "a8c558db",
   "metadata": {
    "lines_to_next_cell": 0
   },
   "source": [
    "这里的函数f，计算了一个Series的最大值和最小值的差，在frame的每列都执行了一次。结果是一个Series，使用frame的列作为索引。\n",
    "\n",
    "如果传递axis='columns'到apply，这个函数会在每行执行："
   ]
  },
  {
   "cell_type": "code",
   "execution_count": null,
   "id": "1b6630c8",
   "metadata": {},
   "outputs": [],
   "source": [
    "In [195]: frame.apply(f, axis='columns')\n",
    "Out[195]:\n",
    "Utah      0.998382\n",
    "Ohio      2.521511\n",
    "Texas     0.676115\n",
    "Oregon    2.542656\n",
    "dtype: float64"
   ]
  },
  {
   "cell_type": "markdown",
   "id": "d02428dc",
   "metadata": {
    "lines_to_next_cell": 0
   },
   "source": [
    "许多最为常见的数组统计功能都被实现成DataFrame的方法（如sum和mean），因此无需使用apply方法。\n",
    "\n",
    "传递到apply的函数不是必须返回一个标量，还可以返回由多个值组成的Series："
   ]
  },
  {
   "cell_type": "code",
   "execution_count": null,
   "id": "b9ad123f",
   "metadata": {},
   "outputs": [],
   "source": [
    "In [196]: def f(x):\n",
    "   .....:     return pd.Series([x.min(), x.max()], index=['min', 'max'])\n",
    "\n",
    "In [197]: frame.apply(f)\n",
    "Out[197]: \n",
    "            b         d         e\n",
    "min -0.555730  0.281746 -1.296221\n",
    "max  1.246435  1.965781  1.393406"
   ]
  },
  {
   "cell_type": "markdown",
   "id": "789cb11a",
   "metadata": {
    "lines_to_next_cell": 0
   },
   "source": [
    "元素级的Python函数也是可以用的。假如你想得到frame中各个浮点值的格式化字符串，使用applymap即可："
   ]
  },
  {
   "cell_type": "code",
   "execution_count": null,
   "id": "cd13d8f6",
   "metadata": {},
   "outputs": [],
   "source": [
    "In [198]: format = lambda x: '%.2f' % x\n",
    "\n",
    "In [199]: frame.applymap(format)\n",
    "Out[199]: \n",
    "            b     d      e\n",
    "Utah    -0.20  0.48  -0.52\n",
    "Ohio    -0.56  1.97   1.39\n",
    "Texas    0.09  0.28   0.77\n",
    "Oregon   1.25  1.01  -1.30"
   ]
  },
  {
   "cell_type": "markdown",
   "id": "4e639b56",
   "metadata": {
    "lines_to_next_cell": 0
   },
   "source": [
    "之所以叫做applymap，是因为Series有一个用于应用元素级函数的map方法："
   ]
  },
  {
   "cell_type": "code",
   "execution_count": null,
   "id": "b1b69b43",
   "metadata": {},
   "outputs": [],
   "source": [
    "In [200]: frame['e'].map(format)\n",
    "Out[200]: \n",
    "Utah      -0.52\n",
    "Ohio       1.39\n",
    "Texas      0.77\n",
    "Oregon    -1.30\n",
    "Name: e, dtype: object"
   ]
  },
  {
   "cell_type": "markdown",
   "id": "36a9b21e",
   "metadata": {
    "lines_to_next_cell": 0
   },
   "source": [
    "## 排序和排名\n",
    "根据条件对数据集排序（sorting）也是一种重要的内置运算。要对行或列索引进行排序（按字典顺序），可使用sort_index方法，它将返回一个已排序的新对象："
   ]
  },
  {
   "cell_type": "code",
   "execution_count": null,
   "id": "d9d08faf",
   "metadata": {},
   "outputs": [],
   "source": [
    "In [201]: obj = pd.Series(range(4), index=['d', 'a', 'b', 'c'])\n",
    "\n",
    "In [202]: obj.sort_index()\n",
    "Out[202]:\n",
    "a    1\n",
    "b    2\n",
    "c    3\n",
    "d    0\n",
    "dtype: int64"
   ]
  },
  {
   "cell_type": "markdown",
   "id": "a96dfe29",
   "metadata": {
    "lines_to_next_cell": 0
   },
   "source": [
    "对于DataFrame，则可以根据任意一个轴上的索引进行排序："
   ]
  },
  {
   "cell_type": "code",
   "execution_count": null,
   "id": "afc2b194",
   "metadata": {},
   "outputs": [],
   "source": [
    "In [203]: frame = pd.DataFrame(np.arange(8).reshape((2, 4)),\n",
    "   .....:                      index=['three', 'one'],\n",
    "   .....:                      columns=['d', 'a', 'b', 'c'])\n",
    "\n",
    "In [204]: frame.sort_index()\n",
    "Out[204]: \n",
    "       d  a  b  c\n",
    "one    4  5  6  7\n",
    "three  0  1  2  3\n",
    "\n",
    "In [205]: frame.sort_index(axis=1)\n",
    "Out[205]:\n",
    "       a  b  c  d\n",
    "three  1  2  3  0\n",
    "one    5  6  7  4"
   ]
  },
  {
   "cell_type": "markdown",
   "id": "51c6fe2d",
   "metadata": {
    "lines_to_next_cell": 0
   },
   "source": [
    "数据默认是按升序排序的，但也可以降序排序："
   ]
  },
  {
   "cell_type": "code",
   "execution_count": null,
   "id": "8a6db75c",
   "metadata": {},
   "outputs": [],
   "source": [
    "In [206]: frame.sort_index(axis=1, ascending=False)\n",
    "Out[206]: \n",
    "       d  c  b  a\n",
    "three  0  3  2  1\n",
    "one    4  7  6  5"
   ]
  },
  {
   "cell_type": "markdown",
   "id": "1cce28c3",
   "metadata": {
    "lines_to_next_cell": 0
   },
   "source": [
    "若要按值对Series进行排序，可使用其sort_values方法："
   ]
  },
  {
   "cell_type": "code",
   "execution_count": null,
   "id": "4ae80c75",
   "metadata": {},
   "outputs": [],
   "source": [
    "In [207]: obj = pd.Series([4, 7, -3, 2])\n",
    "\n",
    "In [208]: obj.sort_values()\n",
    "Out[208]: \n",
    "2   -3\n",
    "3    2\n",
    "0    4\n",
    "1    7\n",
    "dtype: int64"
   ]
  },
  {
   "cell_type": "markdown",
   "id": "75c30890",
   "metadata": {
    "lines_to_next_cell": 0
   },
   "source": [
    "在排序时，任何缺失值默认都会被放到Series的末尾："
   ]
  },
  {
   "cell_type": "code",
   "execution_count": null,
   "id": "870893d5",
   "metadata": {},
   "outputs": [],
   "source": [
    "In [209]: obj = pd.Series([4, np.nan, 7, np.nan, -3, 2])\n",
    "\n",
    "In [210]: obj.sort_values()\n",
    "Out[210]: \n",
    "4   -3.0\n",
    "5    2.0\n",
    "0    4.0\n",
    "2    7.0\n",
    "1    NaN\n",
    "3    NaN\n",
    "dtype: float64"
   ]
  },
  {
   "cell_type": "markdown",
   "id": "73474d32",
   "metadata": {
    "lines_to_next_cell": 0
   },
   "source": [
    "当排序一个DataFrame时，你可能希望根据一个或多个列中的值进行排序。将一个或多个列的名字传递给sort_values的by选项即可达到该目的："
   ]
  },
  {
   "cell_type": "code",
   "execution_count": null,
   "id": "86238773",
   "metadata": {},
   "outputs": [],
   "source": [
    "In [211]: frame = pd.DataFrame({'b': [4, 7, -3, 2], 'a': [0, 1, 0, 1]})\n",
    "\n",
    "In [212]: frame\n",
    "Out[212]: \n",
    "   a  b\n",
    "0  0  4\n",
    "1  1  7\n",
    "2  0 -3\n",
    "3  1  2\n",
    "\n",
    "In [213]: frame.sort_values(by='b')\n",
    "Out[213]: \n",
    "   a  b\n",
    "2  0 -3\n",
    "3  1  2\n",
    "0  0  4\n",
    "1  1  7"
   ]
  },
  {
   "cell_type": "markdown",
   "id": "f70b5a2a",
   "metadata": {
    "lines_to_next_cell": 0
   },
   "source": [
    "要根据多个列进行排序，传入名称的列表即可："
   ]
  },
  {
   "cell_type": "code",
   "execution_count": null,
   "id": "cb601c0a",
   "metadata": {},
   "outputs": [],
   "source": [
    "In [214]: frame.sort_values(by=['a', 'b'])\n",
    "Out[214]: \n",
    "   a  b\n",
    "2  0 -3\n",
    "0  0  4\n",
    "3  1  2\n",
    "1  1  7"
   ]
  },
  {
   "cell_type": "markdown",
   "id": "0066cb99",
   "metadata": {
    "lines_to_next_cell": 0
   },
   "source": [
    "排名会从1开始一直到数组中有效数据的数量。接下来介绍Series和DataFrame的rank方法。默认情况下，rank是通过“为各组分配一个平均排名”的方式破坏平级关系的："
   ]
  },
  {
   "cell_type": "code",
   "execution_count": null,
   "id": "3bf9c08d",
   "metadata": {},
   "outputs": [],
   "source": [
    "In [215]: obj = pd.Series([7, -5, 7, 4, 2, 0, 4])\n",
    "In [216]: obj.rank()\n",
    "Out[216]: \n",
    "0    6.5\n",
    "1    1.0\n",
    "2    6.5\n",
    "3    4.5\n",
    "4    3.0\n",
    "5    2.0\n",
    "6    4.5\n",
    "dtype: float64"
   ]
  },
  {
   "cell_type": "markdown",
   "id": "662d1c77",
   "metadata": {
    "lines_to_next_cell": 0
   },
   "source": [
    "也可以根据值在原数据中出现的顺序给出排名："
   ]
  },
  {
   "cell_type": "code",
   "execution_count": null,
   "id": "b0201f9b",
   "metadata": {},
   "outputs": [],
   "source": [
    "In [217]: obj.rank(method='first')\n",
    "Out[217]: \n",
    "0    6.0\n",
    "1    1.0\n",
    "2    7.0\n",
    "3    4.0\n",
    "4    3.0\n",
    "5    2.0\n",
    "6    5.0\n",
    "dtype: float64"
   ]
  },
  {
   "cell_type": "markdown",
   "id": "f1302b4f",
   "metadata": {
    "lines_to_next_cell": 0
   },
   "source": [
    "这里，条目0和2没有使用平均排名6.5，它们被设成了6和7，因为数据中标签0位于标签2的前面。\n",
    "\n",
    "你也可以按降序进行排名："
   ]
  },
  {
   "cell_type": "code",
   "execution_count": null,
   "id": "19d36836",
   "metadata": {},
   "outputs": [],
   "source": [
    "# Assign tie values the maximum rank in the group\n",
    "In [218]: obj.rank(ascending=False, method='max')\n",
    "Out[218]: \n",
    "0    2.0\n",
    "1    7.0\n",
    "2    2.0\n",
    "3    4.0\n",
    "4    5.0\n",
    "5    6.0\n",
    "6    4.0\n",
    "dtype: float64"
   ]
  },
  {
   "cell_type": "markdown",
   "id": "2510213f",
   "metadata": {
    "lines_to_next_cell": 0
   },
   "source": [
    "表5-6列出了所有用于破坏平级关系的method选项。DataFrame可以在行或列上计算排名："
   ]
  },
  {
   "cell_type": "code",
   "execution_count": null,
   "id": "e5f12760",
   "metadata": {},
   "outputs": [],
   "source": [
    "In [219]: frame = pd.DataFrame({'b': [4.3, 7, -3, 2], 'a': [0, 1, 0, 1],\n",
    "   .....:                       'c': [-2, 5, 8, -2.5]})\n",
    "\n",
    "In [220]: frame\n",
    "Out[220]: \n",
    "   a    b    c\n",
    "0  0  4.3 -2.0\n",
    "1  1  7.0  5.0\n",
    "2  0 -3.0  8.0\n",
    "3  1  2.0 -2.5\n",
    "\n",
    "In [221]: frame.rank(axis='columns')\n",
    "Out[221]: \n",
    "     a    b    c\n",
    "0  2.0  3.0  1.0\n",
    "1  1.0  3.0  2.0\n",
    "2  2.0  1.0  3.0\n",
    "3  2.0  3.0  1.0"
   ]
  },
  {
   "cell_type": "markdown",
   "id": "200b84c8",
   "metadata": {
    "lines_to_next_cell": 0
   },
   "source": [
    "![表5-6 排名时用于破坏平级关系的方法](./figures/t5-6.png)\n",
    "\n",
    "## 带有重复标签的轴索引\n",
    "直到目前为止，我所介绍的所有范例都有着唯一的轴标签（索引值）。虽然许多pandas函数（如reindex）都要求标签唯一，但这并不是强制性的。我们来看看下面这个简单的带有重复索引值的Series："
   ]
  },
  {
   "cell_type": "code",
   "execution_count": null,
   "id": "ef2be18e",
   "metadata": {},
   "outputs": [],
   "source": [
    "In [222]: obj = pd.Series(range(5), index=['a', 'a', 'b', 'b', 'c'])\n",
    "\n",
    "In [223]: obj\n",
    "Out[223]: \n",
    "a    0\n",
    "a    1\n",
    "b    2\n",
    "b    3\n",
    "c    4\n",
    "dtype: int64"
   ]
  },
  {
   "cell_type": "markdown",
   "id": "de03bb14",
   "metadata": {
    "lines_to_next_cell": 0
   },
   "source": [
    "索引的is_unique属性可以告诉你它的值是否是唯一的："
   ]
  },
  {
   "cell_type": "code",
   "execution_count": null,
   "id": "6cd83877",
   "metadata": {},
   "outputs": [],
   "source": [
    "In [224]: obj.index.is_unique\n",
    "Out[224]: False"
   ]
  },
  {
   "cell_type": "markdown",
   "id": "e39c0378",
   "metadata": {
    "lines_to_next_cell": 0
   },
   "source": [
    "对于带有重复值的索引，数据选取的行为将会有些不同。如果某个索引对应多个值，则返回一个Series；而对应单个值的，则返回一个标量值："
   ]
  },
  {
   "cell_type": "code",
   "execution_count": null,
   "id": "4efb013a",
   "metadata": {},
   "outputs": [],
   "source": [
    "In [225]: obj['a']\n",
    "Out[225]: \n",
    "a    0\n",
    "a    1\n",
    "dtype: int64\n",
    "\n",
    "In [226]: obj['c']\n",
    "Out[226]: 4"
   ]
  },
  {
   "cell_type": "markdown",
   "id": "1f3506e1",
   "metadata": {
    "lines_to_next_cell": 0
   },
   "source": [
    "这样会使代码变复杂，因为索引的输出类型会根据标签是否有重复发生变化。\n",
    "\n",
    "对DataFrame的行进行索引时也是如此："
   ]
  },
  {
   "cell_type": "code",
   "execution_count": null,
   "id": "7633dba6",
   "metadata": {},
   "outputs": [],
   "source": [
    "In [227]: df = pd.DataFrame(np.random.randn(4, 3), index=['a', 'a', 'b', 'b'])\n",
    "\n",
    "In [228]: df\n",
    "Out[228]: \n",
    "          0         1         2\n",
    "a  0.274992  0.228913  1.352917\n",
    "a  0.886429 -2.001637 -0.371843\n",
    "b  1.669025 -0.438570 -0.539741\n",
    "b  0.476985  3.248944 -1.021228\n",
    "\n",
    "In [229]: df.loc['b']\n",
    "Out[229]: \n",
    "          0         1         2\n",
    "b  1.669025 -0.438570 -0.539741\n",
    "b  0.476985  3.248944 -1.021228"
   ]
  },
  {
   "cell_type": "markdown",
   "id": "2cd8d2bb",
   "metadata": {
    "lines_to_next_cell": 0
   },
   "source": [
    "# 5.3 汇总和计算描述统计\n",
    "pandas对象拥有一组常用的数学和统计方法。它们大部分都属于约简和汇总统计，用于从Series中提取单个值（如sum或mean）或从DataFrame的行或列中提取一个Series。跟对应的NumPy数组方法相比，它们都是基于没有缺失数据的假设而构建的。看一个简单的DataFrame："
   ]
  },
  {
   "cell_type": "code",
   "execution_count": null,
   "id": "b95e45d3",
   "metadata": {},
   "outputs": [],
   "source": [
    "In [230]: df = pd.DataFrame([[1.4, np.nan], [7.1, -4.5],\n",
    "   .....:                    [np.nan, np.nan], [0.75, -1.3]],\n",
    "   .....:                   index=['a', 'b', 'c', 'd'],\n",
    "   .....:                   columns=['one', 'two'])\n",
    "\n",
    "In [231]: df\n",
    "Out[231]: \n",
    "    one  two\n",
    "a  1.40  NaN\n",
    "b  7.10 -4.5\n",
    "c   NaN  NaN\n",
    "d  0.75 -1.3"
   ]
  },
  {
   "cell_type": "markdown",
   "id": "eed8fc82",
   "metadata": {
    "lines_to_next_cell": 0
   },
   "source": [
    "调用DataFrame的sum方法将会返回一个含有列的和的Series："
   ]
  },
  {
   "cell_type": "code",
   "execution_count": null,
   "id": "c8e8817d",
   "metadata": {},
   "outputs": [],
   "source": [
    "In [232]: df.sum()\n",
    "Out[232]: \n",
    "one    9.25\n",
    "two   -5.80\n",
    "dtype: float64"
   ]
  },
  {
   "cell_type": "markdown",
   "id": "9dff7ef1",
   "metadata": {
    "lines_to_next_cell": 0
   },
   "source": [
    "传入axis='columns'或axis=1将会按行进行求和运算："
   ]
  },
  {
   "cell_type": "code",
   "execution_count": null,
   "id": "2502c2fd",
   "metadata": {},
   "outputs": [],
   "source": [
    "In [233]: df.sum(axis=1)\n",
    "Out[233]:\n",
    "a    1.40\n",
    "b    2.60\n",
    "c     NaN\n",
    "d   -0.55"
   ]
  },
  {
   "cell_type": "markdown",
   "id": "095bcf20",
   "metadata": {
    "lines_to_next_cell": 0
   },
   "source": [
    "NA值会自动被排除，除非整个切片（这里指的是行或列）都是NA。通过skipna选项可以禁用该功能："
   ]
  },
  {
   "cell_type": "code",
   "execution_count": null,
   "id": "4843d4c2",
   "metadata": {},
   "outputs": [],
   "source": [
    "In [234]: df.mean(axis='columns', skipna=False)\n",
    "Out[234]: \n",
    "a      NaN\n",
    "b    1.300\n",
    "c      NaN\n",
    "d   -0.275\n",
    "dtype: float64"
   ]
  },
  {
   "cell_type": "markdown",
   "id": "b781b9c9",
   "metadata": {
    "lines_to_next_cell": 0
   },
   "source": [
    "表5-7列出了这些约简方法的常用选项。\n",
    "\n",
    "![](./figures/5-7.png)\n",
    "\n",
    "有些方法（如idxmin和idxmax）返回的是间接统计（比如达到最小值或最大值的索引）："
   ]
  },
  {
   "cell_type": "code",
   "execution_count": null,
   "id": "7b36924b",
   "metadata": {},
   "outputs": [],
   "source": [
    "In [235]: df.idxmax()\n",
    "Out[235]: \n",
    "one    b\n",
    "two    d\n",
    "dtype: object"
   ]
  },
  {
   "cell_type": "markdown",
   "id": "1b8f1ccc",
   "metadata": {
    "lines_to_next_cell": 0
   },
   "source": [
    "另一些方法则是累计型的："
   ]
  },
  {
   "cell_type": "code",
   "execution_count": null,
   "id": "2fb10b65",
   "metadata": {},
   "outputs": [],
   "source": [
    "In [236]: df.cumsum()\n",
    "Out[236]: \n",
    "    one  two\n",
    "a  1.40  NaN\n",
    "b  8.50 -4.5\n",
    "c   NaN  NaN\n",
    "d  9.25 -5.8"
   ]
  },
  {
   "cell_type": "markdown",
   "id": "0e368365",
   "metadata": {
    "lines_to_next_cell": 0
   },
   "source": [
    "还有一种方法，它既不是约简型也不是累计型。describe就是一个例子，它用于一次性产生多个汇总统计："
   ]
  },
  {
   "cell_type": "code",
   "execution_count": null,
   "id": "d6feb2c7",
   "metadata": {},
   "outputs": [],
   "source": [
    "In [237]: df.describe()\n",
    "Out[237]: \n",
    "            one       two\n",
    "count  3.000000  2.000000\n",
    "mean   3.083333 -2.900000\n",
    "std    3.493685  2.262742\n",
    "min    0.750000 -4.500000\n",
    "25%    1.075000 -3.700000\n",
    "50%    1.400000 -2.900000\n",
    "75%    4.250000 -2.100000\n",
    "max    7.100000 -1.300000"
   ]
  },
  {
   "cell_type": "markdown",
   "id": "7ba26937",
   "metadata": {
    "lines_to_next_cell": 0
   },
   "source": [
    "对于非数值型数据，describe会产生另外一种汇总统计："
   ]
  },
  {
   "cell_type": "code",
   "execution_count": null,
   "id": "6ab6c09e",
   "metadata": {},
   "outputs": [],
   "source": [
    "In [238]: obj = pd.Series(['a', 'a', 'b', 'c'] * 4)\n",
    "\n",
    "In [239]: obj.describe()\n",
    "Out[239]: \n",
    "count     16\n",
    "unique     3\n",
    "top        a\n",
    "freq       8\n",
    "dtype: object"
   ]
  },
  {
   "cell_type": "markdown",
   "id": "cd81e886",
   "metadata": {
    "lines_to_next_cell": 0
   },
   "source": [
    "表5-8列出了所有与描述统计相关的方法。\n",
    "\n",
    "![](./figures/t5-8.png)\n",
    "\n",
    "## 相关系数与协方差\n",
    "有些汇总统计（如相关系数和协方差）是通过参数对计算出来的。我们来看几个DataFrame，它们的数据来自Yahoo!Finance的股票价格和成交量，使用的是pandas-datareader包（可以用conda或pip安装）："
   ]
  },
  {
   "cell_type": "code",
   "execution_count": null,
   "id": "b3a3a4bd",
   "metadata": {},
   "outputs": [],
   "source": [
    "conda install pandas-datareader"
   ]
  },
  {
   "cell_type": "markdown",
   "id": "c8e9c495",
   "metadata": {
    "lines_to_next_cell": 0
   },
   "source": [
    "我使用pandas_datareader模块下载了一些股票数据："
   ]
  },
  {
   "cell_type": "code",
   "execution_count": null,
   "id": "8b5dd039",
   "metadata": {},
   "outputs": [],
   "source": [
    "import pandas_datareader.data as web\n",
    "all_data = {ticker: web.get_data_yahoo(ticker)\n",
    "            for ticker in ['AAPL', 'IBM', 'MSFT', 'GOOG']}\n",
    "\n",
    "price = pd.DataFrame({ticker: data['Adj Close']\n",
    "                     for ticker, data in all_data.items()})\n",
    "volume = pd.DataFrame({ticker: data['Volume']\n",
    "                      for ticker, data in all_data.items()})"
   ]
  },
  {
   "cell_type": "markdown",
   "id": "9e1ce0bd",
   "metadata": {
    "lines_to_next_cell": 0
   },
   "source": [
    ">注意：此时Yahoo! Finance已经不存在了，因为2017年Yahoo!被Verizon收购了。参阅pandas-datareader文档，可以学习最新的功能。\n",
    "\n",
    "现在计算价格的百分数变化，时间序列的操作会在第11章介绍："
   ]
  },
  {
   "cell_type": "code",
   "execution_count": null,
   "id": "0ea5efce",
   "metadata": {},
   "outputs": [],
   "source": [
    "In [242]: returns = price.pct_change()\n",
    "\n",
    "In [243]: returns.tail()\n",
    "Out[243]: \n",
    "                AAPL      GOOG       IBM      MSFT\n",
    "Date                                              \n",
    "2016-10-17 -0.000680  0.001837  0.002072 -0.003483\n",
    "2016-10-18 -0.000681  0.019616 -0.026168  0.007690\n",
    "2016-10-19 -0.002979  0.007846  0.003583 -0.002255\n",
    "2016-10-20 -0.000512 -0.005652  0.001719 -0.004867\n",
    "2016-10-21 -0.003930  0.003011 -0.012474  0.042096"
   ]
  },
  {
   "cell_type": "markdown",
   "id": "1605049e",
   "metadata": {
    "lines_to_next_cell": 0
   },
   "source": [
    "Series的corr方法用于计算两个Series中重叠的、非NA的、按索引对齐的值的相关系数。与此类似，cov用于计算协方差："
   ]
  },
  {
   "cell_type": "code",
   "execution_count": null,
   "id": "41345a38",
   "metadata": {},
   "outputs": [],
   "source": [
    "In [244]: returns['MSFT'].corr(returns['IBM'])\n",
    "Out[244]: 0.49976361144151144\n",
    "\n",
    "In [245]: returns['MSFT'].cov(returns['IBM'])\n",
    "Out[245]: 8.8706554797035462e-05"
   ]
  },
  {
   "cell_type": "markdown",
   "id": "eaf01cee",
   "metadata": {
    "lines_to_next_cell": 0
   },
   "source": [
    "因为MSTF是一个合理的Python属性，我们还可以用更简洁的语法选择列："
   ]
  },
  {
   "cell_type": "code",
   "execution_count": null,
   "id": "763e3332",
   "metadata": {},
   "outputs": [],
   "source": [
    "In [246]: returns.MSFT.corr(returns.IBM)\n",
    "Out[246]: 0.49976361144151144"
   ]
  },
  {
   "cell_type": "markdown",
   "id": "c48b93ec",
   "metadata": {
    "lines_to_next_cell": 0
   },
   "source": [
    "另一方面，DataFrame的corr和cov方法将以DataFrame的形式分别返回完整的相关系数或协方差矩阵："
   ]
  },
  {
   "cell_type": "code",
   "execution_count": null,
   "id": "811f20bc",
   "metadata": {},
   "outputs": [],
   "source": [
    "In [247]: returns.corr()\n",
    "Out[247]: \n",
    "          AAPL      GOOG       IBM      MSFT\n",
    "AAPL  1.000000  0.407919  0.386817  0.389695\n",
    "GOOG  0.407919  1.000000  0.405099  0.465919\n",
    "IBM   0.386817  0.405099  1.000000  0.499764\n",
    "MSFT  0.389695  0.465919  0.499764  1.000000\n",
    "\n",
    "In [248]: returns.cov()\n",
    "Out[248]: \n",
    "          AAPL      GOOG       IBM      MSFT\n",
    "AAPL  0.000277  0.000107  0.000078  0.000095\n",
    "GOOG  0.000107  0.000251  0.000078  0.000108\n",
    "IBM   0.000078  0.000078  0.000146  0.000089\n",
    "MSFT  0.000095  0.000108  0.000089  0.000215"
   ]
  },
  {
   "cell_type": "markdown",
   "id": "6aa7deff",
   "metadata": {
    "lines_to_next_cell": 0
   },
   "source": [
    "利用DataFrame的corrwith方法，你可以计算其列或行跟另一个Series或DataFrame之间的相关系数。传入一个Series将会返回一个相关系数值Series（针对各列进行计算）："
   ]
  },
  {
   "cell_type": "code",
   "execution_count": null,
   "id": "816c6704",
   "metadata": {},
   "outputs": [],
   "source": [
    "In [249]: returns.corrwith(returns.IBM)\n",
    "Out[249]: \n",
    "AAPL    0.386817\n",
    "GOOG    0.405099\n",
    "IBM     1.000000\n",
    "MSFT    0.499764\n",
    "dtype: float64"
   ]
  },
  {
   "cell_type": "markdown",
   "id": "f036b825",
   "metadata": {
    "lines_to_next_cell": 0
   },
   "source": [
    "传入一个DataFrame则会计算按列名配对的相关系数。这里，我计算百分比变化与成交量的相关系数："
   ]
  },
  {
   "cell_type": "code",
   "execution_count": null,
   "id": "351ff32f",
   "metadata": {},
   "outputs": [],
   "source": [
    "In [250]: returns.corrwith(volume)\n",
    "Out[250]: \n",
    "AAPL   -0.075565\n",
    "GOOG   -0.007067\n",
    "IBM    -0.204849\n",
    "MSFT   -0.092950\n",
    "dtype: float64"
   ]
  },
  {
   "cell_type": "markdown",
   "id": "fb630792",
   "metadata": {
    "lines_to_next_cell": 0
   },
   "source": [
    "传入axis='columns'即可按行进行计算。无论如何，在计算相关系数之前，所有的数据项都会按标签对齐。\n",
    "\n",
    "## 唯一值、值计数以及成员资格\n",
    "还有一类方法可以从一维Series的值中抽取信息。看下面的例子："
   ]
  },
  {
   "cell_type": "code",
   "execution_count": null,
   "id": "1564e36f",
   "metadata": {},
   "outputs": [],
   "source": [
    "In [251]: obj = pd.Series(['c', 'a', 'd', 'a', 'a', 'b', 'b', 'c', 'c'])"
   ]
  },
  {
   "cell_type": "markdown",
   "id": "61c96f0a",
   "metadata": {
    "lines_to_next_cell": 0
   },
   "source": [
    "第一个函数是unique，它可以得到Series中的唯一值数组："
   ]
  },
  {
   "cell_type": "code",
   "execution_count": null,
   "id": "90b8b74c",
   "metadata": {},
   "outputs": [],
   "source": [
    "In [252]: uniques = obj.unique()\n",
    "\n",
    "In [253]: uniques\n",
    "Out[253]: array(['c', 'a', 'd', 'b'], dtype=object)"
   ]
  },
  {
   "cell_type": "markdown",
   "id": "ebecb786",
   "metadata": {
    "lines_to_next_cell": 0
   },
   "source": [
    "返回的唯一值是未排序的，如果需要的话，可以对结果再次进行排序（uniques.sort()）。相似的，value_counts用于计算一个Series中各值出现的频率："
   ]
  },
  {
   "cell_type": "code",
   "execution_count": null,
   "id": "717558e1",
   "metadata": {},
   "outputs": [],
   "source": [
    "In [254]: obj.value_counts()\n",
    "Out[254]: \n",
    "c    3\n",
    "a    3\n",
    "b    2\n",
    "d    1\n",
    "dtype: int64"
   ]
  },
  {
   "cell_type": "markdown",
   "id": "a3dcd17c",
   "metadata": {
    "lines_to_next_cell": 0
   },
   "source": [
    "为了便于查看，结果Series是按值频率降序排列的。value_counts还是一个顶级pandas方法，可用于任何数组或序列："
   ]
  },
  {
   "cell_type": "code",
   "execution_count": null,
   "id": "72fd799a",
   "metadata": {},
   "outputs": [],
   "source": [
    "In [255]: pd.value_counts(obj.values, sort=False)\n",
    "Out[255]: \n",
    "a    3\n",
    "b    2\n",
    "c    3\n",
    "d    1\n",
    "dtype: int64"
   ]
  },
  {
   "cell_type": "markdown",
   "id": "4738df61",
   "metadata": {
    "lines_to_next_cell": 0
   },
   "source": [
    "isin用于判断矢量化集合的成员资格，可用于过滤Series中或DataFrame列中数据的子集："
   ]
  },
  {
   "cell_type": "code",
   "execution_count": null,
   "id": "1e7969ea",
   "metadata": {},
   "outputs": [],
   "source": [
    "In [256]: obj\n",
    "Out[256]: \n",
    "0    c\n",
    "1    a\n",
    "2    d\n",
    "3    a\n",
    "4    a\n",
    "5    b\n",
    "6    b\n",
    "7    c\n",
    "8    c\n",
    "dtype: object\n",
    "\n",
    "In [257]: mask = obj.isin(['b', 'c'])\n",
    "\n",
    "In [258]: mask\n",
    "Out[258]: \n",
    "0     True\n",
    "1    False\n",
    "2    False\n",
    "3    False\n",
    "4    False\n",
    "5     True\n",
    "6     True\n",
    "7     True\n",
    "8     True\n",
    "dtype: bool\n",
    "\n",
    "In [259]: obj[mask]\n",
    "Out[259]: \n",
    "0    c\n",
    "5    b\n",
    "6    b\n",
    "7    c\n",
    "8    c\n",
    "dtype: object"
   ]
  },
  {
   "cell_type": "markdown",
   "id": "fd092887",
   "metadata": {
    "lines_to_next_cell": 0
   },
   "source": [
    "与isin类似的是Index.get_indexer方法，它可以给你一个索引数组，从可能包含重复值的数组到另一个不同值的数组："
   ]
  },
  {
   "cell_type": "code",
   "execution_count": null,
   "id": "3b2531a0",
   "metadata": {},
   "outputs": [],
   "source": [
    "In [260]: to_match = pd.Series(['c', 'a', 'b', 'b', 'c', 'a'])\n",
    "\n",
    "In [261]: unique_vals = pd.Series(['c', 'b', 'a'])\n",
    "\n",
    "In [262]: pd.Index(unique_vals).get_indexer(to_match)\n",
    "Out[262]: array([0, 2, 1, 1, 0, 2])"
   ]
  },
  {
   "cell_type": "markdown",
   "id": "3ba8a45a",
   "metadata": {
    "lines_to_next_cell": 0
   },
   "source": [
    "表5-9给出了这几个方法的一些参考信息。\n",
    "\n",
    "![表5-9 唯一值、值计数、成员资格方法](./figures/t5-9.png)\n",
    "\n",
    "有时，你可能希望得到DataFrame中多个相关列的一张柱状图。例如："
   ]
  },
  {
   "cell_type": "code",
   "execution_count": null,
   "id": "c399e590",
   "metadata": {},
   "outputs": [],
   "source": [
    "In [263]: data = pd.DataFrame({'Qu1': [1, 3, 4, 3, 4],\n",
    "   .....:                      'Qu2': [2, 3, 1, 2, 3],\n",
    "   .....:                      'Qu3': [1, 5, 2, 4, 4]})\n",
    "\n",
    "In [264]: data\n",
    "Out[264]: \n",
    "   Qu1  Qu2  Qu3\n",
    "0    1    2    1\n",
    "1    3    3    5\n",
    "2    4    1    2\n",
    "3    3    2    4\n",
    "4    4    3    4"
   ]
  },
  {
   "cell_type": "markdown",
   "id": "2a5ba22e",
   "metadata": {
    "lines_to_next_cell": 0
   },
   "source": [
    "将pandas.value_counts传给该DataFrame的apply函数，就会出现："
   ]
  },
  {
   "cell_type": "code",
   "execution_count": null,
   "id": "9726877d",
   "metadata": {},
   "outputs": [],
   "source": [
    "In [265]: result = data.apply(pd.value_counts).fillna(0)\n",
    "\n",
    "In [266]: result\n",
    "Out[266]: \n",
    "   Qu1  Qu2  Qu3\n",
    "1  1.0  1.0  1.0\n",
    "2  0.0  2.0  1.0\n",
    "3  2.0  2.0  0.0\n",
    "4  2.0  0.0  2.0\n",
    "5  0.0  0.0  1.0"
   ]
  },
  {
   "cell_type": "markdown",
   "id": "c0b55b5e",
   "metadata": {},
   "source": [
    "这里，结果中的行标签是所有列的唯一值。后面的频率值是每个列中这些值的相应计数。\n",
    "\n",
    "# 5.4 总结\n",
    "在下一章，我们将讨论用pandas读取（或加载）和写入数据集的工具。\n",
    "\n",
    "之后，我们将更深入地研究使用pandas进行数据清洗、规整、分析和可视化工具。"
   ]
  }
 ],
 "metadata": {
  "jupytext": {
   "cell_metadata_filter": "-all",
   "main_language": "python",
   "notebook_metadata_filter": "-all"
  },
  "kernelspec": {
   "display_name": "Python 3 (ipykernel)",
   "language": "python",
   "name": "python3"
  },
  "language_info": {
   "codemirror_mode": {
    "name": "ipython",
    "version": 3
   },
   "file_extension": ".py",
   "mimetype": "text/x-python",
   "name": "python",
   "nbconvert_exporter": "python",
   "pygments_lexer": "ipython3",
   "version": "3.11.3"
  }
 },
 "nbformat": 4,
 "nbformat_minor": 5
}
