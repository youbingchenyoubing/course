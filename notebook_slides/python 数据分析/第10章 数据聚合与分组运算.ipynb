{
 "cells": [
  {
   "cell_type": "markdown",
   "id": "15670f86",
   "metadata": {},
   "source": [
    "对数据集进行分组并对各组应用一个函数（无论是聚合还是转换），通常是数据分析工作中的重要环节。在将数据集加载、融合、准备好之后，通常就是计算分组统计或生成透视表。pandas提供了一个灵活高效的gruopby功能，它使你能以一种自然的方式对数据集进行切片、切块、摘要等操作。\n",
    "\n",
    "关系型数据库和SQL（Structured Query Language，结构化查询语言）能够如此流行的原因之一就是其能够方便地对数据进行连接、过滤、转换和聚合。但是，像SQL这样的查询语言所能执行的分组运算的种类很有限。在本章中你将会看到，由于Python和pandas强大的表达能力，我们可以执行复杂得多的分组运算（利用任何可以接受pandas对象或NumPy数组的函数）。在本章中，你将会学到：\n",
    "\n",
    "- 使用一个或多个键（形式可以是函数、数组或DataFrame列名）分割pandas对象。\n",
    "- 计算分组的概述统计，比如数量、平均值或标准差，或是用户定义的函数。\n",
    "- 应用组内转换或其他运算，如规格化、线性回归、排名或选取子集等。\n",
    "- 计算透视表或交叉表。\n",
    "- 执行分位数分析以及其它统计分组分析。\n",
    "\n",
    ">笔记：对时间序列数据的聚合（groupby的特殊用法之一）也称作重采样（resampling），本书将在第11章中单独对其进行讲解。\n",
    "\n",
    "# 10.1 GroupBy机制\n",
    "\n",
    "Hadley Wickham（许多热门R语言包的作者）创造了一个用于表示分组运算的术语\"split-apply-combine\"（拆分－应用－合并）。第一个阶段，pandas对象（无论是Series、DataFrame还是其他的）中的数据会根据你所提供的一个或多个键被拆分（split）为多组。拆分操作是在对象的特定轴上执行的。例如，DataFrame可以在其行（axis=0）或列（axis=1）上进行分组。然后，将一个函数应用（apply）到各个分组并产生一个新值。最后，所有这些函数的执行结果会被合并（combine）到最终的结果对象中。结果对象的形式一般取决于数据上所执行的操作。图10-1大致说明了一个简单的分组聚合过程。\n",
    "\n",
    "![图10-1 分组聚合演示](http://upload-images.jianshu.io/upload_images/7178691-e5c671e09ecf94be.png?imageMogr2/auto-orient/strip%7CimageView2/2/w/1240)\n",
    "\n",
    "分组键可以有多种形式，且类型不必相同：\n",
    "\n",
    "- 列表或数组，其长度与待分组的轴一样。\n",
    "- 表示DataFrame某个列名的值。\n",
    "- 字典或Series，给出待分组轴上的值与分组名之间的对应关系。\n",
    "- 函数，用于处理轴索引或索引中的各个标签。\n",
    "\n",
    "注意，后三种都只是快捷方式而已，其最终目的仍然是产生一组用于拆分对象的值。如果觉得这些东西看起来很抽象，不用担心，我将在本章中给出大量有关于此的示例。首先来看看下面这个非常简单的表格型数据集（以DataFrame的形式）："
   ]
  },
  {
   "cell_type": "code",
   "execution_count": null,
   "id": "b53dd8d6",
   "metadata": {},
   "outputs": [],
   "source": [
    "In [10]: df = pd.DataFrame({'key1' : ['a', 'a', 'b', 'b', 'a'],\n",
    "   ....:                    'key2' : ['one', 'two', 'one', 'two', 'one'],\n",
    "   ....:                    'data1' : np.random.randn(5),\n",
    "   ....:                    'data2' : np.random.randn(5)})\n",
    "\n",
    "In [11]: df\n",
    "Out[11]: \n",
    "      data1     data2 key1 key2\n",
    "0 -0.204708  1.393406    a  one\n",
    "1  0.478943  0.092908    a  two\n",
    "2 -0.519439  0.281746    b  one\n",
    "3 -0.555730  0.769023    b  two\n",
    "4  1.965781  1.246435    a  one"
   ]
  },
  {
   "cell_type": "markdown",
   "id": "a9b0d8f9",
   "metadata": {
    "lines_to_next_cell": 0
   },
   "source": [
    "假设你想要按key1进行分组，并计算data1列的平均值。实现该功能的方式有很多，而我们这里要用的是：访问data1，并根据key1调用groupby："
   ]
  },
  {
   "cell_type": "code",
   "execution_count": null,
   "id": "5ff2549a",
   "metadata": {},
   "outputs": [],
   "source": [
    "In [12]: grouped = df['data1'].groupby(df['key1'])\n",
    "\n",
    "In [13]: grouped\n",
    "Out[13]: <pandas.core.groupby.SeriesGroupBy object at 0x7faa31537390>"
   ]
  },
  {
   "cell_type": "markdown",
   "id": "137e3977",
   "metadata": {
    "lines_to_next_cell": 0
   },
   "source": [
    "变量grouped是一个GroupBy对象。它实际上还没有进行任何计算，只是含有一些有关分组键df['key1']的中间数据而已。换句话说，该对象已经有了接下来对各分组执行运算所需的一切信息。例如，我们可以调用GroupBy的mean方法来计算分组平均值："
   ]
  },
  {
   "cell_type": "code",
   "execution_count": null,
   "id": "fefb6e5e",
   "metadata": {},
   "outputs": [],
   "source": [
    "In [14]: grouped.mean()\n",
    "Out[14]: \n",
    "key1\n",
    "a    0.746672\n",
    "b   -0.537585\n",
    "Name: data1, dtype: float64"
   ]
  },
  {
   "cell_type": "markdown",
   "id": "49b3e0cf",
   "metadata": {
    "lines_to_next_cell": 0
   },
   "source": [
    "稍后我将详细讲解.mean()的调用过程。这里最重要的是，数据（Series）根据分组键进行了聚合，产生了一个新的Series，其索引为key1列中的唯一值。之所以结果中索引的名称为key1，是因为原始DataFrame的列df['key1']就叫这个名字。\n",
    "\n",
    "如果我们一次传入多个数组的列表，就会得到不同的结果："
   ]
  },
  {
   "cell_type": "code",
   "execution_count": null,
   "id": "2b6b5d82",
   "metadata": {},
   "outputs": [],
   "source": [
    "In [15]: means = df['data1'].groupby([df['key1'], df['key2']]).mean()\n",
    "\n",
    "In [16]: means\n",
    "Out[16]: \n",
    "key1  key2\n",
    "a     one     0.880536\n",
    "      two     0.478943\n",
    "b     one    -0.519439\n",
    "      two    -0.555730\n",
    "Name: data1, dtype: float64"
   ]
  },
  {
   "cell_type": "markdown",
   "id": "f78da962",
   "metadata": {
    "lines_to_next_cell": 0
   },
   "source": [
    "这里，我通过两个键对数据进行了分组，得到的Series具有一个层次化索引（由唯一的键对组成）："
   ]
  },
  {
   "cell_type": "code",
   "execution_count": null,
   "id": "e0c6386d",
   "metadata": {},
   "outputs": [],
   "source": [
    "In [17]: means.unstack()\n",
    "Out[17]: \n",
    "key2       one       two\n",
    "key1                    \n",
    "a     0.880536  0.478943\n",
    "b    -0.519439 -0.555730"
   ]
  },
  {
   "cell_type": "markdown",
   "id": "2b387328",
   "metadata": {
    "lines_to_next_cell": 0
   },
   "source": [
    "在这个例子中，分组键均为Series。实际上，分组键可以是任何长度适当的数组："
   ]
  },
  {
   "cell_type": "code",
   "execution_count": null,
   "id": "da3cbb55",
   "metadata": {},
   "outputs": [],
   "source": [
    "In [18]: states = np.array(['Ohio', 'California', 'California', 'Ohio', 'Ohio'])\n",
    "\n",
    "In [19]: years = np.array([2005, 2005, 2006, 2005, 2006])\n",
    "\n",
    "In [20]: df['data1'].groupby([states, years]).mean()\n",
    "Out[20]: \n",
    "California  2005    0.478943\n",
    "            2006   -0.519439\n",
    "Ohio        2005   -0.380219\n",
    "            2006    1.965781\n",
    "Name: data1, dtype: float64"
   ]
  },
  {
   "cell_type": "markdown",
   "id": "569c5b8b",
   "metadata": {
    "lines_to_next_cell": 0
   },
   "source": [
    "通常，分组信息就位于相同的要处理DataFrame中。这里，你还可以将列名（可以是字符串、数字或其他Python对象）用作分组键："
   ]
  },
  {
   "cell_type": "code",
   "execution_count": null,
   "id": "16349041",
   "metadata": {},
   "outputs": [],
   "source": [
    "In [21]: df.groupby('key1').mean()\n",
    "Out[21]: \n",
    "         data1     data2\n",
    "key1\n",
    "a     0.746672  0.910916\n",
    "b    -0.537585  0.525384\n",
    "\n",
    "In [22]: df.groupby(['key1', 'key2']).mean()\n",
    "Out[22]: \n",
    "              data1     data2\n",
    "key1 key2                    \n",
    "a    one   0.880536  1.319920\n",
    "     two   0.478943  0.092908\n",
    "b    one  -0.519439  0.281746\n",
    "     two  -0.555730  0.769023"
   ]
  },
  {
   "cell_type": "markdown",
   "id": "d7fe1006",
   "metadata": {
    "lines_to_next_cell": 0
   },
   "source": [
    "你可能已经注意到了，第一个例子在执行df.groupby('key1').mean()时，结果中没有key2列。这是因为df['key2']不是数值数据（俗称“麻烦列”），所以被从结果中排除了。默认情况下，所有数值列都会被聚合，虽然有时可能会被过滤为一个子集，稍后就会碰到。\n",
    "\n",
    "无论你准备拿groupby做什么，都有可能会用到GroupBy的size方法，它可以返回一个含有分组大小的Series："
   ]
  },
  {
   "cell_type": "code",
   "execution_count": null,
   "id": "983b095c",
   "metadata": {},
   "outputs": [],
   "source": [
    "In [23]: df.groupby(['key1', 'key2']).size()\n",
    "Out[23]: \n",
    "key1  key2\n",
    "a     one     2\n",
    "      two     1\n",
    "b     one     1\n",
    "      two     1\n",
    "dtype: int64"
   ]
  },
  {
   "cell_type": "markdown",
   "id": "566d0ac7",
   "metadata": {
    "lines_to_next_cell": 0
   },
   "source": [
    "注意，任何分组关键词中的缺失值，都会被从结果中除去。\n",
    "\n",
    "## 对分组进行迭代\n",
    "GroupBy对象支持迭代，可以产生一组二元元组（由分组名和数据块组成）。看下面的例子："
   ]
  },
  {
   "cell_type": "code",
   "execution_count": null,
   "id": "730bef2c",
   "metadata": {},
   "outputs": [],
   "source": [
    "In [24]: for name, group in df.groupby('key1'):\n",
    "   ....:     print(name)\n",
    "   ....:     print(group)\n",
    "   ....:\n",
    "a\n",
    "      data1     data2 key1 key2\n",
    "0 -0.204708  1.393406    a  one\n",
    "1  0.478943  0.092908    a  two\n",
    "4  1.965781  1.246435    a  one\n",
    "b\n",
    "      data1     data2 key1 key2\n",
    "2 -0.519439  0.281746    b  one\n",
    "3 -0.555730  0.769023    b  two"
   ]
  },
  {
   "cell_type": "markdown",
   "id": "48855e05",
   "metadata": {
    "lines_to_next_cell": 0
   },
   "source": [
    "对于多重键的情况，元组的第一个元素将会是由键值组成的元组："
   ]
  },
  {
   "cell_type": "code",
   "execution_count": null,
   "id": "e4553de0",
   "metadata": {},
   "outputs": [],
   "source": [
    "In [25]: for (k1, k2), group in df.groupby(['key1', 'key2']):\n",
    "   ....:     print((k1, k2))\n",
    "   ....:     print(group)\n",
    "   ....:\n",
    "('a', 'one')\n",
    "      data1     data2 key1 key2\n",
    "0 -0.204708  1.393406    a  one\n",
    "4  1.965781  1.246435    a  one\n",
    "('a', 'two')\n",
    "      data1     data2 key1 key2\n",
    "1  0.478943  0.092908    a  two\n",
    "('b', 'one')\n",
    "      data1     data2 key1 key2\n",
    "2 -0.519439  0.281746    b  one\n",
    "('b', 'two')\n",
    "     data1     data2 key1 key2\n",
    "3 -0.55573  0.769023    b  two"
   ]
  },
  {
   "cell_type": "markdown",
   "id": "4c09962d",
   "metadata": {
    "lines_to_next_cell": 0
   },
   "source": [
    "当然，你可以对这些数据片段做任何操作。有一个你可能会觉得有用的运算：将这些数据片段做成一个字典："
   ]
  },
  {
   "cell_type": "code",
   "execution_count": null,
   "id": "d4e0b6c4",
   "metadata": {},
   "outputs": [],
   "source": [
    "In [26]: pieces = dict(list(df.groupby('key1')))\n",
    "\n",
    "In [27]: pieces['b']\n",
    "Out[27]: \n",
    "      data1     data2 key1 key2\n",
    "2 -0.519439  0.281746    b  one\n",
    "3 -0.555730  0.769023    b  two"
   ]
  },
  {
   "cell_type": "markdown",
   "id": "dfa2a299",
   "metadata": {
    "lines_to_next_cell": 0
   },
   "source": [
    "groupby默认是在axis=0上进行分组的，通过设置也可以在其他任何轴上进行分组。拿上面例子中的df来说，我们可以根据dtype对列进行分组："
   ]
  },
  {
   "cell_type": "code",
   "execution_count": null,
   "id": "c0484e97",
   "metadata": {},
   "outputs": [],
   "source": [
    "In [28]: df.dtypes\n",
    "Out[28]: \n",
    "data1    float64\n",
    "data2    float64\n",
    "key1      object\n",
    "key2      object\n",
    "dtype: object\n",
    "\n",
    "In [29]: grouped = df.groupby(df.dtypes, axis=1)"
   ]
  },
  {
   "cell_type": "markdown",
   "id": "8bc7e051",
   "metadata": {
    "lines_to_next_cell": 0
   },
   "source": [
    "可以如下打印分组："
   ]
  },
  {
   "cell_type": "code",
   "execution_count": null,
   "id": "384bb371",
   "metadata": {},
   "outputs": [],
   "source": [
    "In [30]: for dtype, group in grouped:\n",
    "   ....:     print(dtype)\n",
    "   ....:     print(group)\n",
    "   ....:\n",
    "float64\n",
    "      data1     data2\n",
    "0 -0.204708  1.393406\n",
    "1  0.478943  0.092908\n",
    "2 -0.519439  0.281746\n",
    "3 -0.555730  0.769023\n",
    "4  1.965781  1.246435\n",
    "object\n",
    "  key1 key2\n",
    "0    a  one\n",
    "1    a  two\n",
    "2    b  one\n",
    "3    b  two\n",
    "4    a  one"
   ]
  },
  {
   "cell_type": "markdown",
   "id": "e2aa7f5c",
   "metadata": {
    "lines_to_next_cell": 0
   },
   "source": [
    "## 选取一列或列的子集\n",
    "对于由DataFrame产生的GroupBy对象，如果用一个（单个字符串）或一组（字符串数组）列名对其进行索引，就能实现选取部分列进行聚合的目的。也就是说："
   ]
  },
  {
   "cell_type": "code",
   "execution_count": null,
   "id": "fe4f751a",
   "metadata": {},
   "outputs": [],
   "source": [
    "df.groupby('key1')['data1']\n",
    "df.groupby('key1')[['data2']]"
   ]
  },
  {
   "cell_type": "markdown",
   "id": "2c1fb6c6",
   "metadata": {
    "lines_to_next_cell": 0
   },
   "source": [
    "是以下代码的语法糖："
   ]
  },
  {
   "cell_type": "code",
   "execution_count": null,
   "id": "3ef51de4",
   "metadata": {},
   "outputs": [],
   "source": [
    "df['data1'].groupby(df['key1'])\n",
    "df[['data2']].groupby(df['key1'])"
   ]
  },
  {
   "cell_type": "markdown",
   "id": "bfeb8f1d",
   "metadata": {
    "lines_to_next_cell": 0
   },
   "source": [
    "尤其对于大数据集，很可能只需要对部分列进行聚合。例如，在前面那个数据集中，如果只需计算data2列的平均值并以DataFrame形式得到结果，可以这样写："
   ]
  },
  {
   "cell_type": "code",
   "execution_count": null,
   "id": "69aa22d1",
   "metadata": {},
   "outputs": [],
   "source": [
    "In [31]: df.groupby(['key1', 'key2'])[['data2']].mean()\n",
    "Out[31]: \n",
    "              data2\n",
    "key1 key2          \n",
    "a    one   1.319920\n",
    "     two   0.092908\n",
    "b    one   0.281746\n",
    "     two   0.769023"
   ]
  },
  {
   "cell_type": "markdown",
   "id": "ce3253b6",
   "metadata": {
    "lines_to_next_cell": 0
   },
   "source": [
    "这种索引操作所返回的对象是一个已分组的DataFrame（如果传入的是列表或数组）或已分组的Series（如果传入的是标量形式的单个列名）："
   ]
  },
  {
   "cell_type": "code",
   "execution_count": null,
   "id": "29bd1b2f",
   "metadata": {},
   "outputs": [],
   "source": [
    "In [32]: s_grouped = df.groupby(['key1', 'key2'])['data2']\n",
    "\n",
    "In [33]: s_grouped\n",
    "Out[33]: <pandas.core.groupby.SeriesGroupBy object at 0x7faa30c78da0>\n",
    "\n",
    "In [34]: s_grouped.mean()\n",
    "Out[34]: \n",
    "key1  key2\n",
    "a     one     1.319920\n",
    "      two     0.092908\n",
    "b     one     0.281746\n",
    "      two     0.769023\n",
    "Name: data2, dtype: float64"
   ]
  },
  {
   "cell_type": "markdown",
   "id": "5baa66f1",
   "metadata": {
    "lines_to_next_cell": 0
   },
   "source": [
    "##通过字典或Series进行分组\n",
    "除数组以外，分组信息还可以其他形式存在。来看另一个示例DataFrame："
   ]
  },
  {
   "cell_type": "code",
   "execution_count": null,
   "id": "d44a7bd5",
   "metadata": {},
   "outputs": [],
   "source": [
    "In [35]: people = pd.DataFrame(np.random.randn(5, 5),\n",
    "   ....:                       columns=['a', 'b', 'c', 'd', 'e'],\n",
    "   ....:                       index=['Joe', 'Steve', 'Wes', 'Jim', 'Travis'])\n",
    "\n",
    "In [36]: people.iloc[2:3, [1, 2]] = np.nan # Add a few NA values\n",
    "\n",
    "In [37]: people\n",
    "Out[37]: \n",
    "               a         b         c         d         e\n",
    "Joe     1.007189 -1.296221  0.274992  0.228913  1.352917\n",
    "Steve   0.886429 -2.001637 -0.371843  1.669025 -0.438570\n",
    "Wes    -0.539741       NaN       NaN -1.021228 -0.577087\n",
    "Jim     0.124121  0.302614  0.523772  0.000940  1.343810\n",
    "Travis -0.713544 -0.831154 -2.370232 -1.860761 -0.860757"
   ]
  },
  {
   "cell_type": "markdown",
   "id": "f62f5b42",
   "metadata": {
    "lines_to_next_cell": 0
   },
   "source": [
    "现在，假设已知列的分组关系，并希望根据分组计算列的和："
   ]
  },
  {
   "cell_type": "code",
   "execution_count": null,
   "id": "4660525a",
   "metadata": {},
   "outputs": [],
   "source": [
    "In [38]: mapping = {'a': 'red', 'b': 'red', 'c': 'blue',\n",
    "   ....:            'd': 'blue', 'e': 'red', 'f' : 'orange'}"
   ]
  },
  {
   "cell_type": "markdown",
   "id": "8d0f14f7",
   "metadata": {
    "lines_to_next_cell": 0
   },
   "source": [
    "现在，你可以将这个字典传给groupby，来构造数组，但我们可以直接传递字典（我包含了键“f”来强调，存在未使用的分组键是可以的）："
   ]
  },
  {
   "cell_type": "code",
   "execution_count": null,
   "id": "4d764d81",
   "metadata": {},
   "outputs": [],
   "source": [
    "In [39]: by_column = people.groupby(mapping, axis=1)\n",
    "\n",
    "In [40]: by_column.sum()\n",
    "Out[40]: \n",
    "            blue       red\n",
    "Joe     0.503905  1.063885\n",
    "Steve   1.297183 -1.553778\n",
    "Wes    -1.021228 -1.116829\n",
    "Jim     0.524712  1.770545\n",
    "Travis -4.230992 -2.405455"
   ]
  },
  {
   "cell_type": "markdown",
   "id": "aed68f44",
   "metadata": {
    "lines_to_next_cell": 0
   },
   "source": [
    "Series也有同样的功能，它可以被看做一个固定大小的映射："
   ]
  },
  {
   "cell_type": "code",
   "execution_count": null,
   "id": "81a88bca",
   "metadata": {},
   "outputs": [],
   "source": [
    "In [41]: map_series = pd.Series(mapping)\n",
    "\n",
    "In [42]: map_series\n",
    "Out[42]: \n",
    "a       red\n",
    "b       red\n",
    "c      blue\n",
    "d      blue\n",
    "e       red\n",
    "f    orange\n",
    "dtype: object\n",
    "\n",
    "In [43]: people.groupby(map_series, axis=1).count()\n",
    "Out[43]: \n",
    "        blue  red\n",
    "Joe        2    3\n",
    "Steve      2    3\n",
    "Wes        1    2\n",
    "Jim        2    3\n",
    "Travis     2    3"
   ]
  },
  {
   "cell_type": "markdown",
   "id": "8067f4e0",
   "metadata": {
    "lines_to_next_cell": 0
   },
   "source": [
    "##通过函数进行分组\n",
    "比起使用字典或Series，使用Python函数是一种更原生的方法定义分组映射。任何被当做分组键的函数都会在各个索引值上被调用一次，其返回值就会被用作分组名称。具体点说，以上一小节的示例DataFrame为例，其索引值为人的名字。你可以计算一个字符串长度的数组，更简单的方法是传入len函数："
   ]
  },
  {
   "cell_type": "code",
   "execution_count": null,
   "id": "dbb3dbf8",
   "metadata": {},
   "outputs": [],
   "source": [
    "In [44]: people.groupby(len).sum()\n",
    "Out[44]: \n",
    "          a         b         c         d         e\n",
    "3  0.591569 -0.993608  0.798764 -0.791374  2.119639\n",
    "5  0.886429 -2.001637 -0.371843  1.669025 -0.438570\n",
    "6 -0.713544 -0.831154 -2.370232 -1.860761 -0.860757"
   ]
  },
  {
   "cell_type": "markdown",
   "id": "f6bfabd2",
   "metadata": {
    "lines_to_next_cell": 0
   },
   "source": [
    "将函数跟数组、列表、字典、Series混合使用也不是问题，因为任何东西在内部都会被转换为数组："
   ]
  },
  {
   "cell_type": "code",
   "execution_count": null,
   "id": "75e76430",
   "metadata": {},
   "outputs": [],
   "source": [
    "In [45]: key_list = ['one', 'one', 'one', 'two', 'two']\n",
    "\n",
    "In [46]: people.groupby([len, key_list]).min()\n",
    "Out[46]: \n",
    "              a         b         c         d         e\n",
    "3 one -0.539741 -1.296221  0.274992 -1.021228 -0.577087\n",
    "  two  0.124121  0.302614  0.523772  0.000940  1.343810\n",
    "5 one  0.886429 -2.001637 -0.371843  1.669025 -0.438570\n",
    "6 two -0.713544 -0.831154 -2.370232 -1.860761 -0.860757"
   ]
  },
  {
   "cell_type": "markdown",
   "id": "371b7a10",
   "metadata": {
    "lines_to_next_cell": 0
   },
   "source": [
    "## 根据索引级别分组\n",
    "层次化索引数据集最方便的地方就在于它能够根据轴索引的一个级别进行聚合："
   ]
  },
  {
   "cell_type": "code",
   "execution_count": null,
   "id": "1ce048f6",
   "metadata": {},
   "outputs": [],
   "source": [
    "In [47]: columns = pd.MultiIndex.from_arrays([['US', 'US', 'US', 'JP', 'JP'],\n",
    "   ....:                                     [1, 3, 5, 1, 3]],\n",
    "   ....:                                     names=['cty', 'tenor'])\n",
    "\n",
    "In [48]: hier_df = pd.DataFrame(np.random.randn(4, 5), columns=columns)\n",
    "\n",
    "In [49]: hier_df\n",
    "Out[49]: \n",
    "cty          US                            JP          \n",
    "tenor         1         3         5         1         3\n",
    "0      0.560145 -1.265934  0.119827 -1.063512  0.332883\n",
    "1     -2.359419 -0.199543 -1.541996 -0.970736 -1.307030\n",
    "2      0.286350  0.377984 -0.753887  0.331286  1.349742\n",
    "3      0.069877  0.246674 -0.011862  1.004812  1.327195"
   ]
  },
  {
   "cell_type": "markdown",
   "id": "c7a6d466",
   "metadata": {
    "lines_to_next_cell": 0
   },
   "source": [
    "要根据级别分组，使用level关键字传递级别序号或名字："
   ]
  },
  {
   "cell_type": "code",
   "execution_count": null,
   "id": "4e341fb7",
   "metadata": {},
   "outputs": [],
   "source": [
    "In [50]: hier_df.groupby(level='cty', axis=1).count()\n",
    "Out[50]: \n",
    "cty  JP  US\n",
    "0     2   3\n",
    "1     2   3\n",
    "2     2   3\n",
    "3     2   3"
   ]
  },
  {
   "cell_type": "markdown",
   "id": "7abb8e38",
   "metadata": {},
   "source": [
    "# 10.2 数据聚合\n",
    "\n",
    "聚合指的是任何能够从数组产生标量值的数据转换过程。之前的例子已经用过一些，比如mean、count、min以及sum等。你可能想知道在GroupBy对象上调用mean()时究竟发生了什么。许多常见的聚合运算（如表10-1所示）都有进行优化。然而，除了这些方法，你还可以使用其它的。"
   ]
  },
  {
   "cell_type": "markdown",
   "id": "a5029b1f",
   "metadata": {
    "lines_to_next_cell": 0
   },
   "source": [
    "![表10-1 经过优化的groupby方法](http://upload-images.jianshu.io/upload_images/7178691-ba8de524e08b1b6f.png?imageMogr2/auto-orient/strip%7CimageView2/2/w/1240)\n",
    "\n",
    "你可以使用自己发明的聚合运算，还可以调用分组对象上已经定义好的任何方法。例如，quantile可以计算Series或DataFrame列的样本分位数。\n",
    "\n",
    "虽然quantile并没有明确地实现于GroupBy，但它是一个Series方法，所以这里是能用的。实际上，GroupBy会高效地对Series进行切片，然后对各片调用piece.quantile(0.9)，最后将这些结果组装成最终结果："
   ]
  },
  {
   "cell_type": "code",
   "execution_count": null,
   "id": "f2a551ea",
   "metadata": {},
   "outputs": [],
   "source": [
    "In [51]: df\n",
    "Out[51]: \n",
    "      data1     data2 key1 key2\n",
    "0 -0.204708  1.393406    a  one\n",
    "1  0.478943  0.092908    a  two\n",
    "2 -0.519439  0.281746    b  one\n",
    "3 -0.555730  0.769023    b  two\n",
    "4  1.965781  1.246435    a  one\n",
    "\n",
    "In [52]: grouped = df.groupby('key1')\n",
    "\n",
    "In [53]: grouped['data1'].quantile(0.9)\n",
    "Out[53]: \n",
    "key1\n",
    "a    1.668413\n",
    "b   -0.523068\n",
    "Name: data1, dtype: float64"
   ]
  },
  {
   "cell_type": "markdown",
   "id": "e1fa57df",
   "metadata": {
    "lines_to_next_cell": 0
   },
   "source": [
    "如果要使用你自己的聚合函数，只需将其传入aggregate或agg方法即可："
   ]
  },
  {
   "cell_type": "code",
   "execution_count": null,
   "id": "ddc38318",
   "metadata": {},
   "outputs": [],
   "source": [
    "In [54]: def peak_to_peak(arr):\n",
    "   ....:     return arr.max() - arr.min()\n",
    "In [55]: grouped.agg(peak_to_peak)\n",
    "Out[55]: \n",
    "         data1     data2\n",
    "key1                    \n",
    "a     2.170488  1.300498\n",
    "b     0.036292  0.487276"
   ]
  },
  {
   "cell_type": "markdown",
   "id": "8b11ef4c",
   "metadata": {
    "lines_to_next_cell": 0
   },
   "source": [
    "你可能注意到注意，有些方法（如describe）也是可以用在这里的，即使严格来讲，它们并非聚合运算："
   ]
  },
  {
   "cell_type": "code",
   "execution_count": null,
   "id": "e1f803e0",
   "metadata": {},
   "outputs": [],
   "source": [
    "In [56]: grouped.describe()\n",
    "Out[56]: \n",
    "     data1                                                              \\\n",
    "     count      mean       std       min       25%       50%       75%   \n",
    "key1                                                                     \n",
    "a      3.0  0.746672  1.109736 -0.204708  0.137118  0.478943  1.222362   \n",
    "b      2.0 -0.537585  0.025662 -0.555730 -0.546657 -0.537585 -0.528512   \n",
    "               data2                                                    \\\n",
    "max count      mean       std       min       25%       50%   \n",
    "key1                                                                     \n",
    "a     1.965781   3.0  0.910916  0.712217  0.092908  0.669671  1.246435   \n",
    "b    -0.519439   2.0  0.525384  0.344556  0.281746  0.403565  0.525384   \n",
    "                          \n",
    "           75%       max  \n",
    "key1                      \n",
    "a     1.319920  1.393406  \n",
    "b     0.647203  0.769023"
   ]
  },
  {
   "cell_type": "markdown",
   "id": "f5c5f744",
   "metadata": {
    "lines_to_next_cell": 0
   },
   "source": [
    "在后面的10.3节，我将详细说明这到底是怎么回事。\n",
    "\n",
    ">笔记：自定义聚合函数要比表10-1中那些经过优化的函数慢得多。这是因为在构造中间分组数据块时存在非常大的开销（函数调用、数据重排等）。\n",
    "\n",
    "## 面向列的多函数应用\n",
    " \n",
    "回到前面小费的例子。使用read_csv导入数据之后，我们添加了一个小费百分比的列tip_pct："
   ]
  },
  {
   "cell_type": "code",
   "execution_count": null,
   "id": "e847a788",
   "metadata": {},
   "outputs": [],
   "source": [
    "In [57]: tips = pd.read_csv('examples/tips.csv')\n",
    "\n",
    "# Add tip percentage of total bill\n",
    "In [58]: tips['tip_pct'] = tips['tip'] / tips['total_bill']\n",
    "\n",
    "In [59]: tips[:6]\n",
    "Out[59]: \n",
    "   total_bill   tip smoker  day    time  size   tip_pct\n",
    "0       16.99  1.01     No  Sun  Dinner     2  0.059447\n",
    "1       10.34  1.66     No  Sun  Dinner     3  0.160542\n",
    "2       21.01  3.50     No  Sun  Dinner     3  0.166587\n",
    "3       23.68  3.31     No  Sun  Dinner     2  0.139780\n",
    "4       24.59  3.61     No  Sun  Dinner     4  0.146808\n",
    "5       25.29  4.71     No  Sun  Dinner     4  0.186240"
   ]
  },
  {
   "cell_type": "markdown",
   "id": "5a1e1c72",
   "metadata": {},
   "source": [
    "你已经看到，对Series或DataFrame列的聚合运算其实就是使用aggregate（使用自定义函数）或调用诸如mean、std之类的方法。然而，你可能希望对不同的列使用不同的聚合函数，或一次应用多个函数。其实这也好办，我将通过一些示例来进行讲解。首先，我根据天和smoker对tips进行分组："
   ]
  },
  {
   "cell_type": "code",
   "execution_count": null,
   "id": "d7fdf17e",
   "metadata": {},
   "outputs": [],
   "source": [
    "In [60]: grouped = tips.groupby(['day', 'smoker'])"
   ]
  },
  {
   "cell_type": "markdown",
   "id": "fa4f14ed",
   "metadata": {},
   "source": [
    "注意，对于表10-1中的那些描述统计，可以将函数名以字符串的形式传入："
   ]
  },
  {
   "cell_type": "code",
   "execution_count": null,
   "id": "cfeaff3e",
   "metadata": {},
   "outputs": [],
   "source": [
    "In [61]: grouped_pct = grouped['tip_pct']\n",
    "\n",
    "In [62]: grouped_pct.agg('mean')\n",
    "Out[62]: \n",
    "day   smoker\n",
    "Fri   No        0.151650\n",
    "      Yes       0.174783\n",
    "Sat   No        0.158048\n",
    "      Yes       0.147906\n",
    "Sun   No        0.160113\n",
    "      Yes       0.187250\n",
    "Thur  No        0.160298\n",
    "      Yes       0.163863\n",
    "Name: tip_pct, dtype: float64"
   ]
  },
  {
   "cell_type": "markdown",
   "id": "eb31aeef",
   "metadata": {},
   "source": [
    "如果传入一组函数或函数名，得到的DataFrame的列就会以相应的函数命名："
   ]
  },
  {
   "cell_type": "code",
   "execution_count": null,
   "id": "350a3f56",
   "metadata": {},
   "outputs": [],
   "source": [
    "In [63]: grouped_pct.agg(['mean', 'std', peak_to_peak])\n",
    "Out[63]: \n",
    "                 mean       std  peak_to_peak\n",
    "day  smoker                                  \n",
    "Fri  No      0.151650  0.028123      0.067349\n",
    "     Yes     0.174783  0.051293      0.159925\n",
    "Sat  No      0.158048  0.039767      0.235193\n",
    "     Yes     0.147906  0.061375      0.290095\n",
    "Sun  No      0.160113  0.042347      0.193226\n",
    "     Yes     0.187250  0.154134      0.644685\n",
    "Thur No      0.160298  0.038774      0.193350\n",
    "     Yes     0.163863  0.039389      0.151240"
   ]
  },
  {
   "cell_type": "markdown",
   "id": "4639fa7a",
   "metadata": {},
   "source": [
    "这里，我们传递了一组聚合函数进行聚合，独立对数据分组进行评估。\n",
    "\n",
    "你并非一定要接受GroupBy自动给出的那些列名，特别是lambda函数，它们的名称是'<lambda>'，这样的辨识度就很低了（通过函数的__name__属性看看就知道了）。因此，如果传入的是一个由(name,function)元组组成的列表，则各元组的第一个元素就会被用作DataFrame的列名（可以将这种二元元组列表看做一个有序映射）："
   ]
  },
  {
   "cell_type": "code",
   "execution_count": null,
   "id": "28e7bed4",
   "metadata": {},
   "outputs": [],
   "source": [
    "In [64]: grouped_pct.agg([('foo', 'mean'), ('bar', np.std)])\n",
    "Out[64]: \n",
    "                  foo       bar\n",
    "day  smoker                    \n",
    "Fri  No      0.151650  0.028123\n",
    "     Yes     0.174783  0.051293\n",
    "Sat  No      0.158048  0.039767\n",
    "     Yes     0.147906  0.061375\n",
    "Sun  No      0.160113  0.042347\n",
    "     Yes     0.187250  0.154134\n",
    "Thur No      0.160298  0.038774\n",
    "     Yes     0.163863  0.039389"
   ]
  },
  {
   "cell_type": "markdown",
   "id": "b810c244",
   "metadata": {},
   "source": [
    "对于DataFrame，你还有更多选择，你可以定义一组应用于全部列的一组函数，或不同的列应用不同的函数。假设我们想要对tip_pct和total_bill列计算三个统计信息："
   ]
  },
  {
   "cell_type": "code",
   "execution_count": null,
   "id": "e05ec192",
   "metadata": {},
   "outputs": [],
   "source": [
    "In [65]: functions = ['count', 'mean', 'max']\n",
    "\n",
    "In [66]: result = grouped['tip_pct', 'total_bill'].agg(functions)\n",
    "\n",
    "In [67]: result\n",
    "Out[67]: \n",
    "            tip_pct                     total_bill                  \n",
    "              count      mean       max      count       mean    max\n",
    "day  smoker                                                         \n",
    "Fri  No           4  0.151650  0.187735          4  18.420000  22.75\n",
    "     Yes         15  0.174783  0.263480         15  16.813333  40.17\n",
    "Sat  No          45  0.158048  0.291990         45  19.661778  48.33\n",
    "     Yes         42  0.147906  0.325733         42  21.276667  50.81\n",
    "Sun  No          57  0.160113  0.252672         57  20.506667  48.17\n",
    "     Yes         19  0.187250  0.710345         19  24.120000  45.35\n",
    "Thur No          45  0.160298  0.266312         45  17.113111  41.19\n",
    "     Yes         17  0.163863  0.241255         17  19.190588  43.11"
   ]
  },
  {
   "cell_type": "markdown",
   "id": "a874c181",
   "metadata": {},
   "source": [
    "如你所见，结果DataFrame拥有层次化的列，这相当于分别对各列进行聚合，然后用concat将结果组装到一起，使用列名用作keys参数："
   ]
  },
  {
   "cell_type": "code",
   "execution_count": null,
   "id": "bae5d590",
   "metadata": {},
   "outputs": [],
   "source": [
    "In [68]: result['tip_pct']\n",
    "Out[68]: \n",
    "             count      mean       max\n",
    "day  smoker                           \n",
    "Fri  No          4  0.151650  0.187735\n",
    "     Yes        15  0.174783  0.263480\n",
    "Sat  No         45  0.158048  0.291990\n",
    "     Yes        42  0.147906  0.325733\n",
    "Sun  No         57  0.160113  0.252672\n",
    "     Yes        19  0.187250  0.710345\n",
    "Thur No         45  0.160298  0.266312\n",
    "     Yes        17  0.163863  0.241255"
   ]
  },
  {
   "cell_type": "markdown",
   "id": "b90a3dd8",
   "metadata": {},
   "source": [
    "跟前面一样，这里也可以传入带有自定义名称的一组元组："
   ]
  },
  {
   "cell_type": "code",
   "execution_count": null,
   "id": "d936ccda",
   "metadata": {},
   "outputs": [],
   "source": [
    "In [69]: ftuples = [('Durchschnitt', 'mean'),('Abweichung', np.var)]\n",
    "\n",
    "In [70]: grouped['tip_pct', 'total_bill'].agg(ftuples)\n",
    "Out[70]: \n",
    "                 tip_pct              total_bill            \n",
    "            Durchschnitt Abweichung Durchschnitt  Abweichung\n",
    "day  smoker                                                 \n",
    "Fri  No         0.151650   0.000791    18.420000   25.596333\n",
    "     Yes        0.174783   0.002631    16.813333   82.562438\n",
    "Sat  No         0.158048   0.001581    19.661778   79.908965\n",
    "     Yes        0.147906   0.003767    21.276667  101.387535\n",
    "Sun  No         0.160113   0.001793    20.506667   66.099980\n",
    "     Yes        0.187250   0.023757    24.120000  109.046044\n",
    "Thur No         0.160298   0.001503    17.113111   59.625081\n",
    "     Yes        0.163863   0.001551    19.190588   69.808518"
   ]
  },
  {
   "cell_type": "markdown",
   "id": "cdc28dad",
   "metadata": {},
   "source": [
    "现在，假设你想要对一个列或不同的列应用不同的函数。具体的办法是向agg传入一个从列名映射到函数的字典："
   ]
  },
  {
   "cell_type": "code",
   "execution_count": null,
   "id": "97d10ddf",
   "metadata": {},
   "outputs": [],
   "source": [
    "In [71]: grouped.agg({'tip' : np.max, 'size' : 'sum'})\n",
    "Out[71]: \n",
    "               tip  size\n",
    "day  smoker             \n",
    "Fri  No       3.50     9\n",
    "     Yes      4.73    31\n",
    "Sat  No       9.00   115\n",
    "     Yes     10.00   104\n",
    "Sun  No       6.00   167\n",
    "     Yes      6.50    49\n",
    "Thur No       6.70   112\n",
    "     Yes      5.00    40\n",
    "\n",
    "In [72]: grouped.agg({'tip_pct' : ['min', 'max', 'mean', 'std'],\n",
    "   ....:              'size' : 'sum'})\n",
    "Out[72]: \n",
    "              tip_pct                               size\n",
    "                  min       max      mean       std  sum\n",
    "day  smoker                                             \n",
    "Fri  No      0.120385  0.187735  0.151650  0.028123    9\n",
    "     Yes     0.103555  0.263480  0.174783  0.051293   31\n",
    "Sat  No      0.056797  0.291990  0.158048  0.039767  115\n",
    "     Yes     0.035638  0.325733  0.147906  0.061375  104\n",
    "Sun  No      0.059447  0.252672  0.160113  0.042347  167\n",
    "     Yes     0.065660  0.710345  0.187250  0.154134   49\n",
    "Thur No      0.072961  0.266312  0.160298  0.038774  112\n",
    "     Yes     0.090014  0.241255  0.163863  0.039389   40"
   ]
  },
  {
   "cell_type": "markdown",
   "id": "16aaae81",
   "metadata": {},
   "source": [
    "只有将多个函数应用到至少一列时，DataFrame才会拥有层次化的列。\n",
    "\n",
    "## 以“没有行索引”的形式返回聚合数据\n",
    "\n",
    "到目前为止，所有示例中的聚合数据都有由唯一的分组键组成的索引（可能还是层次化的）。由于并不总是需要如此，所以你可以向groupby传入as_index=False以禁用该功能："
   ]
  },
  {
   "cell_type": "code",
   "execution_count": null,
   "id": "8791a8c2",
   "metadata": {},
   "outputs": [],
   "source": [
    "In [73]: tips.groupby(['day', 'smoker'], as_index=False).mean()\n",
    "Out[73]: \n",
    "    day smoker  total_bill       tip      size   tip_pct\n",
    "0   Fri     No   18.420000  2.812500  2.250000  0.151650\n",
    "1   Fri    Yes   16.813333  2.714000  2.066667  0.174783\n",
    "2   Sat     No   19.661778  3.102889  2.555556  0.158048\n",
    "3   Sat    Yes   21.276667  2.875476  2.476190  0.147906\n",
    "4   Sun     No   20.506667  3.167895  2.929825  0.160113\n",
    "5   Sun    Yes   24.120000  3.516842  2.578947  0.187250\n",
    "6  Thur     No   17.113111  2.673778  2.488889  0.160298\n",
    "7  Thur    Yes   19.190588  3.030000  2.352941  0.163863"
   ]
  },
  {
   "cell_type": "markdown",
   "id": "cd230d80",
   "metadata": {
    "lines_to_next_cell": 0
   },
   "source": [
    "当然，对结果调用reset_index也能得到这种形式的结果。使用as_index=False方法可以避免一些不必要的计算。\n",
    "\n",
    "# 10.3 apply：一般性的“拆分－应用－合并”\n",
    "\n",
    "最通用的GroupBy方法是apply，本节剩余部分将重点讲解它。如图10-2所示，apply会将待处理的对象拆分成多个片段，然后对各片段调用传入的函数，最后尝试将各片段组合到一起。\n",
    "\n",
    "![图10-2 分组聚合示例](http://upload-images.jianshu.io/upload_images/7178691-7e8bb217f599b4ae.png?imageMogr2/auto-orient/strip%7CimageView2/2/w/1240)\n",
    "\n",
    "回到之前那个小费数据集，假设你想要根据分组选出最高的5个tip_pct值。首先，编写一个选取指定列具有最大值的行的函数："
   ]
  },
  {
   "cell_type": "code",
   "execution_count": null,
   "id": "e3de39fe",
   "metadata": {},
   "outputs": [],
   "source": [
    "In [74]: def top(df, n=5, column='tip_pct'):\n",
    "   ....:     return df.sort_values(by=column)[-n:]\n",
    "\n",
    "In [75]: top(tips, n=6)\n",
    "Out[75]: \n",
    "     total_bill   tip smoker  day    time  size   tip_pct\n",
    "109       14.31  4.00    Yes  Sat  Dinner     2  0.279525\n",
    "183       23.17  6.50    Yes  Sun  Dinner     4  0.280535\n",
    "232       11.61  3.39     No  Sat  Dinner     2  0.291990\n",
    "67         3.07  1.00    Yes  Sat  Dinner     1  0.325733\n",
    "178        9.60  4.00    Yes  Sun  Dinner     2  0.416667\n",
    "172        7.25  5.15    Yes  Sun  Dinner     2  0.710345"
   ]
  },
  {
   "cell_type": "markdown",
   "id": "5b4edaa9",
   "metadata": {
    "lines_to_next_cell": 0
   },
   "source": [
    "现在，如果对smoker分组并用该函数调用apply，就会得到："
   ]
  },
  {
   "cell_type": "code",
   "execution_count": null,
   "id": "fd16b10c",
   "metadata": {},
   "outputs": [],
   "source": [
    "In [76]: tips.groupby('smoker').apply(top)\n",
    "Out[76]: \n",
    "            total_bill   tip smoker   day    time  size   tip_pct\n",
    "smoker                                                           \n",
    "No     88        24.71  5.85     No  Thur   Lunch     2  0.236746\n",
    "       185       20.69  5.00     No   Sun  Dinner     5  0.241663\n",
    "       51        10.29  2.60     No   Sun  Dinner     2  0.252672\n",
    "       149        7.51  2.00     No  Thur   Lunch     2  0.266312\n",
    "       232       11.61  3.39     No   Sat  Dinner     2  0.291990\n",
    "Yes    109       14.31  4.00    Yes   Sat  Dinner     2  0.279525\n",
    "       183       23.17  6.50    Yes   Sun  Dinner     4  0.280535\n",
    "       67         3.07  1.00    Yes   Sat  Dinner     1  0.325733\n",
    "       178        9.60  4.00    Yes   Sun  Dinner     2  0.416667\n",
    "       172        7.25  5.15    Yes   Sun  Dinner     2  0.710345"
   ]
  },
  {
   "cell_type": "markdown",
   "id": "16a09766",
   "metadata": {
    "lines_to_next_cell": 0
   },
   "source": [
    "这里发生了什么？top函数在DataFrame的各个片段上调用，然后结果由pandas.concat组装到一起，并以分组名称进行了标记。于是，最终结果就有了一个层次化索引，其内层索引值来自原DataFrame。\n",
    "\n",
    "如果传给apply的函数能够接受其他参数或关键字，则可以将这些内容放在函数名后面一并传入："
   ]
  },
  {
   "cell_type": "code",
   "execution_count": null,
   "id": "6ac5b2b9",
   "metadata": {},
   "outputs": [],
   "source": [
    "In [77]: tips.groupby(['smoker', 'day']).apply(top, n=1, column='total_bill')\n",
    "Out[77]: \n",
    "                 total_bill    tip smoker   day    time  size   tip_pct\n",
    "smoker day                                                             \n",
    "No     Fri  94        22.75   3.25     No   Fri  Dinner     2  0.142857\n",
    "       Sat  212       48.33   9.00     No   Sat  Dinner     4  0.186220\n",
    "       Sun  156       48.17   5.00     No   Sun  Dinner     6  0.103799\n",
    "       Thur 142       41.19   5.00     No  Thur   Lunch     5  0.121389\n",
    "Yes    Fri  95        40.17   4.73    Yes   Fri  Dinner     4  0.117750\n",
    "       Sat  170       50.81  10.00    Yes   Sat  Dinner     3  0.196812\n",
    "       Sun  182       45.35   3.50    Yes   Sun  Dinner     3  0.077178\n",
    "       Thur 197       43.11   5.00    Yes  Thur   Lunch     4  0.115982"
   ]
  },
  {
   "cell_type": "markdown",
   "id": "f22d63c8",
   "metadata": {
    "lines_to_next_cell": 0
   },
   "source": [
    ">笔记：除这些基本用法之外，能否充分发挥apply的威力很大程度上取决于你的创造力。传入的那个函数能做什么全由你说了算，它只需返回一个pandas对象或标量值即可。本章后续部分的示例主要用于讲解如何利用groupby解决各种各样的问题。\n",
    "\n",
    "可能你已经想起来了，之前我在GroupBy对象上调用过describe："
   ]
  },
  {
   "cell_type": "code",
   "execution_count": null,
   "id": "c291137d",
   "metadata": {},
   "outputs": [],
   "source": [
    "In [78]: result = tips.groupby('smoker')['tip_pct'].describe()\n",
    "\n",
    "In [79]: result\n",
    "Out[79]: \n",
    "        count      mean       std       min       25%       50%       75%  \\\n",
    "smoker                                                                      \n",
    "No      151.0  0.159328  0.039910  0.056797  0.136906  0.155625  0.185014   \n",
    "Yes      93.0  0.163196  0.085119  0.035638  0.106771  0.153846  0.195059   \n",
    "             max  \n",
    "smoker\n",
    "\n",
    "No      0.291990  \n",
    "Yes     0.710345  \n",
    "\n",
    "In [80]: result.unstack('smoker')\n",
    "Out[80]: \n",
    "       smoker\n",
    "count  No        151.000000\n",
    "       Yes        93.000000\n",
    "mean   No          0.159328\n",
    "       Yes         0.163196\n",
    "std    No          0.039910\n",
    "       Yes         0.085119\n",
    "min    No          0.056797\n",
    "       Yes         0.035638\n",
    "25%    No          0.136906\n",
    "       Yes         0.106771\n",
    "50%    No          0.155625\n",
    "       Yes         0.153846\n",
    "75%    No          0.185014\n",
    "       Yes         0.195059\n",
    "max    No          0.291990\n",
    "       Yes         0.710345\n",
    "dtype: float64"
   ]
  },
  {
   "cell_type": "markdown",
   "id": "6f9ad8f2",
   "metadata": {
    "lines_to_next_cell": 0
   },
   "source": [
    "在GroupBy中，当你调用诸如describe之类的方法时，实际上只是应用了下面两条代码的快捷方式而已："
   ]
  },
  {
   "cell_type": "code",
   "execution_count": null,
   "id": "36f43ae8",
   "metadata": {},
   "outputs": [],
   "source": [
    "f = lambda x: x.describe()\n",
    "grouped.apply(f)"
   ]
  },
  {
   "cell_type": "markdown",
   "id": "0149ec6f",
   "metadata": {
    "lines_to_next_cell": 0
   },
   "source": [
    "## 禁止分组键\n",
    "\n",
    "从上面的例子中可以看出，分组键会跟原始对象的索引共同构成结果对象中的层次化索引。将group_keys=False传入groupby即可禁止该效果："
   ]
  },
  {
   "cell_type": "code",
   "execution_count": null,
   "id": "517c749c",
   "metadata": {},
   "outputs": [],
   "source": [
    "In [81]: tips.groupby('smoker', group_keys=False).apply(top)\n",
    "Out[81]: \n",
    "     total_bill   tip smoker   day    time  size   tip_pct\n",
    "88        24.71  5.85     No  Thur   Lunch     2  0.236746\n",
    "185       20.69  5.00     No   Sun  Dinner     5  0.241663\n",
    "51        10.29  2.60     No   Sun  Dinner     2  0.252672\n",
    "149        7.51  2.00     No  Thur   Lunch     2  0.266312\n",
    "232       11.61  3.39     No   Sat  Dinner     2  0.291990\n",
    "109       14.31  4.00    Yes   Sat  Dinner     2  0.279525\n",
    "183       23.17  6.50    Yes   Sun  Dinner     4  0.280535\n",
    "67         3.07  1.00    Yes   Sat  Dinner     1  0.325733\n",
    "178        9.60  4.00    Yes   Sun  Dinner     2  0.416667\n",
    "172        7.25  5.15    Yes   Sun  Dinner     2  0.710345"
   ]
  },
  {
   "cell_type": "markdown",
   "id": "ef640dcf",
   "metadata": {
    "lines_to_next_cell": 0
   },
   "source": [
    "## 分位数和桶分析\n",
    "\n",
    "我曾在第8章中讲过，pandas有一些能根据指定面元或样本分位数将数据拆分成多块的工具（比如cut和qcut）。将这些函数跟groupby结合起来，就能非常轻松地实现对数据集的桶（bucket）或分位数（quantile）分析了。以下面这个简单的随机数据集为例，我们利用cut将其装入长度相等的桶中："
   ]
  },
  {
   "cell_type": "code",
   "execution_count": null,
   "id": "9de10012",
   "metadata": {},
   "outputs": [],
   "source": [
    "In [82]: frame = pd.DataFrame({'data1': np.random.randn(1000),\n",
    "   ....:                       'data2': np.random.randn(1000)})\n",
    "\n",
    "In [83]: quartiles = pd.cut(frame.data1, 4)\n",
    "\n",
    "In [84]: quartiles[:10]\n",
    "Out[84]: \n",
    "0     (-1.23, 0.489]\n",
    "1    (-2.956, -1.23]\n",
    "2     (-1.23, 0.489]\n",
    "3     (0.489, 2.208]\n",
    "4     (-1.23, 0.489]\n",
    "5     (0.489, 2.208]\n",
    "6     (-1.23, 0.489]\n",
    "7     (-1.23, 0.489]\n",
    "8     (0.489, 2.208]\n",
    "9     (0.489, 2.208]\n",
    "Name: data1, dtype: category\n",
    "Categories (4, interval[float64]): [(-2.956, -1.23] < (-1.23, 0.489] < (0.489, 2.\n",
    "208] < (2.208, 3.928]]"
   ]
  },
  {
   "cell_type": "markdown",
   "id": "f6b0465d",
   "metadata": {
    "lines_to_next_cell": 0
   },
   "source": [
    "由cut返回的Categorical对象可直接传递到groupby。因此，我们可以像下面这样对data2列做一些统计计算："
   ]
  },
  {
   "cell_type": "code",
   "execution_count": null,
   "id": "03a1ebc1",
   "metadata": {},
   "outputs": [],
   "source": [
    "In [85]: def get_stats(group):\n",
    "   ....:     return {'min': group.min(), 'max': group.max(),\n",
    "   ....:             'count': group.count(), 'mean': group.mean()}\n",
    "\n",
    "In [86]: grouped = frame.data2.groupby(quartiles)\n",
    "\n",
    "In [87]: grouped.apply(get_stats).unstack()\n",
    "Out[87]: \n",
    "                 count       max      mean       min\n",
    "data1                                               \n",
    "(-2.956, -1.23]   95.0  1.670835 -0.039521 -3.399312\n",
    "(-1.23, 0.489]   598.0  3.260383 -0.002051 -2.989741\n",
    "(0.489, 2.208]   297.0  2.954439  0.081822 -3.745356\n",
    "(2.208, 3.928]    10.0  1.765640  0.024750 -1.929776"
   ]
  },
  {
   "cell_type": "markdown",
   "id": "ff8616a9",
   "metadata": {
    "lines_to_next_cell": 0
   },
   "source": [
    "这些都是长度相等的桶。要根据样本分位数得到大小相等的桶，使用qcut即可。传入labels=False即可只获取分位数的编号："
   ]
  },
  {
   "cell_type": "code",
   "execution_count": null,
   "id": "c5fca6b7",
   "metadata": {},
   "outputs": [],
   "source": [
    "# Return quantile numbers\n",
    "In [88]: grouping = pd.qcut(frame.data1, 10, labels=False)\n",
    "\n",
    "In [89]: grouped = frame.data2.groupby(grouping)\n",
    "\n",
    "In [90]: grouped.apply(get_stats).unstack()\n",
    "Out[90]: \n",
    "       count       max      mean       min\n",
    "data1                                     \n",
    "0      100.0  1.670835 -0.049902 -3.399312\n",
    "1      100.0  2.628441  0.030989 -1.950098\n",
    "2      100.0  2.527939 -0.067179 -2.925113\n",
    "3      100.0  3.260383  0.065713 -2.315555\n",
    "4      100.0  2.074345 -0.111653 -2.047939\n",
    "5      100.0  2.184810  0.052130 -2.989741\n",
    "6      100.0  2.458842 -0.021489 -2.223506\n",
    "7      100.0  2.954439 -0.026459 -3.056990\n",
    "8      100.0  2.735527  0.103406 -3.745356\n",
    "9      100.0  2.377020  0.220122 -2.064111"
   ]
  },
  {
   "cell_type": "markdown",
   "id": "1c16e686",
   "metadata": {
    "lines_to_next_cell": 0
   },
   "source": [
    "我们会在第12章详细讲解pandas的Categorical类型。\n",
    "\n",
    "## 示例：用特定于分组的值填充缺失值\n",
    "\n",
    "对于缺失数据的清理工作，有时你会用dropna将其替换掉，而有时则可能会希望用一个固定值或由数据集本身所衍生出来的值去填充NA值。这时就得使用fillna这个工具了。在下面这个例子中，我用平均值去填充NA值："
   ]
  },
  {
   "cell_type": "code",
   "execution_count": null,
   "id": "06dc2c64",
   "metadata": {},
   "outputs": [],
   "source": [
    "In [91]: s = pd.Series(np.random.randn(6))\n",
    "\n",
    "In [92]: s[::2] = np.nan\n",
    "\n",
    "In [93]: s\n",
    "Out[93]: \n",
    "0         NaN\n",
    "1   -0.125921\n",
    "2         NaN\n",
    "3   -0.884475\n",
    "4         NaN\n",
    "5    0.227290\n",
    "dtype: float64\n",
    "\n",
    "In [94]: s.fillna(s.mean())\n",
    "Out[94]: \n",
    "0   -0.261035\n",
    "1   -0.125921\n",
    "2   -0.261035\n",
    "3   -0.884475\n",
    "4   -0.261035\n",
    "5    0.227290\n",
    "dtype: float64"
   ]
  },
  {
   "cell_type": "markdown",
   "id": "64bbb6b4",
   "metadata": {
    "lines_to_next_cell": 0
   },
   "source": [
    "假设你需要对不同的分组填充不同的值。一种方法是将数据分组，并使用apply和一个能够对各数据块调用fillna的函数即可。下面是一些有关美国几个州的示例数据，这些州又被分为东部和西部："
   ]
  },
  {
   "cell_type": "code",
   "execution_count": null,
   "id": "3469f49b",
   "metadata": {},
   "outputs": [],
   "source": [
    "In [95]: states = ['Ohio', 'New York', 'Vermont', 'Florida',\n",
    "   ....:           'Oregon', 'Nevada', 'California', 'Idaho']\n",
    "\n",
    "In [96]: group_key = ['East'] * 4 + ['West'] * 4\n",
    "\n",
    "In [97]: data = pd.Series(np.random.randn(8), index=states)\n",
    "\n",
    "In [98]: data\n",
    "Out[98]: \n",
    "Ohio          0.922264\n",
    "New York     -2.153545\n",
    "Vermont      -0.365757\n",
    "Florida      -0.375842\n",
    "Oregon        0.329939\n",
    "Nevada        0.981994\n",
    "California    1.105913\n",
    "Idaho        -1.613716\n",
    "dtype: float64"
   ]
  },
  {
   "cell_type": "markdown",
   "id": "be5af30e",
   "metadata": {
    "lines_to_next_cell": 0
   },
   "source": [
    "['East'] * 4产生了一个列表，包括了['East']中元素的四个拷贝。将这些列表串联起来。\n",
    "\n",
    "将一些值设为缺失："
   ]
  },
  {
   "cell_type": "code",
   "execution_count": null,
   "id": "70f75954",
   "metadata": {},
   "outputs": [],
   "source": [
    "In [99]: data[['Vermont', 'Nevada', 'Idaho']] = np.nan\n",
    "\n",
    "In [100]: data\n",
    "Out[100]: \n",
    "Ohio          0.922264\n",
    "New York     -2.153545\n",
    "Vermont            NaN\n",
    "Florida      -0.375842\n",
    "Oregon        0.329939\n",
    "Nevada             NaN\n",
    "California    1.105913\n",
    "Idaho              NaN\n",
    "dtype: float64\n",
    "\n",
    "In [101]: data.groupby(group_key).mean()\n",
    "Out[101]: \n",
    "East   -0.535707\n",
    "West    0.717926\n",
    "dtype: float64"
   ]
  },
  {
   "cell_type": "markdown",
   "id": "18477fa9",
   "metadata": {
    "lines_to_next_cell": 0
   },
   "source": [
    "我们可以用分组平均值去填充NA值:"
   ]
  },
  {
   "cell_type": "code",
   "execution_count": null,
   "id": "ab1e87de",
   "metadata": {},
   "outputs": [],
   "source": [
    "In [102]: fill_mean = lambda g: g.fillna(g.mean())\n",
    "\n",
    "In [103]: data.groupby(group_key).apply(fill_mean)\n",
    "Out[103]: \n",
    "Ohio          0.922264\n",
    "New York     -2.153545\n",
    "Vermont      -0.535707\n",
    "Florida      -0.375842\n",
    "Oregon        0.329939\n",
    "Nevada        0.717926\n",
    "California    1.105913\n",
    "Idaho         0.717926\n",
    "dtype: float64"
   ]
  },
  {
   "cell_type": "markdown",
   "id": "d614ebb8",
   "metadata": {
    "lines_to_next_cell": 0
   },
   "source": [
    "另外，也可以在代码中预定义各组的填充值。由于分组具有一个name属性，所以我们可以拿来用一下："
   ]
  },
  {
   "cell_type": "code",
   "execution_count": null,
   "id": "3288e8ec",
   "metadata": {},
   "outputs": [],
   "source": [
    "In [104]: fill_values = {'East': 0.5, 'West': -1}\n",
    "\n",
    "In [105]: fill_func = lambda g: g.fillna(fill_values[g.name])\n",
    "\n",
    "In [106]: data.groupby(group_key).apply(fill_func)\n",
    "Out[106]: \n",
    "Ohio          0.922264\n",
    "New York     -2.153545\n",
    "Vermont       0.500000\n",
    "Florida      -0.375842\n",
    "Oregon        0.329939\n",
    "Nevada       -1.000000\n",
    "California    1.105913\n",
    "Idaho        -1.000000\n",
    "dtype: float64"
   ]
  },
  {
   "cell_type": "markdown",
   "id": "e61a7a0e",
   "metadata": {
    "lines_to_next_cell": 0
   },
   "source": [
    "## 示例：随机采样和排列\n",
    "\n",
    "假设你想要从一个大数据集中随机抽取（进行替换或不替换）样本以进行蒙特卡罗模拟（Monte Carlo simulation）或其他分析工作。“抽取”的方式有很多，这里使用的方法是对Series使用sample方法："
   ]
  },
  {
   "cell_type": "code",
   "execution_count": null,
   "id": "f89c5868",
   "metadata": {},
   "outputs": [],
   "source": [
    "# Hearts, Spades, Clubs, Diamonds\n",
    "suits = ['H', 'S', 'C', 'D']\n",
    "card_val = (list(range(1, 11)) + [10] * 3) * 4\n",
    "base_names = ['A'] + list(range(2, 11)) + ['J', 'K', 'Q']\n",
    "cards = []\n",
    "for suit in ['H', 'S', 'C', 'D']:\n",
    "    cards.extend(str(num) + suit for num in base_names)\n",
    "\n",
    "deck = pd.Series(card_val, index=cards)"
   ]
  },
  {
   "cell_type": "markdown",
   "id": "86c6d3f8",
   "metadata": {
    "lines_to_next_cell": 0
   },
   "source": [
    "现在我有了一个长度为52的Series，其索引包括牌名，值则是21点或其他游戏中用于计分的点数（为了简单起见，我当A的点数为1）："
   ]
  },
  {
   "cell_type": "code",
   "execution_count": null,
   "id": "483fd9f3",
   "metadata": {},
   "outputs": [],
   "source": [
    "In [108]: deck[:13]\n",
    "Out[108]: \n",
    "AH      1\n",
    "2H      2\n",
    "3H      3\n",
    "4H      4\n",
    "5H      5\n",
    "6H      6\n",
    "7H      7\n",
    "8H      8\n",
    "9H      9\n",
    "10H    10\n",
    "JH     10\n",
    "KH     10\n",
    "QH     10\n",
    "dtype: int64"
   ]
  },
  {
   "cell_type": "markdown",
   "id": "8604d77f",
   "metadata": {
    "lines_to_next_cell": 0
   },
   "source": [
    "现在，根据我上面所讲的，从整副牌中抽出5张，代码如下："
   ]
  },
  {
   "cell_type": "code",
   "execution_count": null,
   "id": "aef0cfbe",
   "metadata": {},
   "outputs": [],
   "source": [
    "In [109]: def draw(deck, n=5):\n",
    "   .....:     return deck.sample(n)\n",
    "\n",
    "In [110]: draw(deck)\n",
    "Out[110]: \n",
    "AD     1\n",
    "8C     8\n",
    "5H     5\n",
    "KC    10\n",
    "2C     2\n",
    "dtype: int64"
   ]
  },
  {
   "cell_type": "markdown",
   "id": "0746a138",
   "metadata": {
    "lines_to_next_cell": 0
   },
   "source": [
    "假设你想要从每种花色中随机抽取两张牌。由于花色是牌名的最后一个字符，所以我们可以据此进行分组，并使用apply："
   ]
  },
  {
   "cell_type": "code",
   "execution_count": null,
   "id": "de2bdf13",
   "metadata": {},
   "outputs": [],
   "source": [
    "In [111]: get_suit = lambda card: card[-1] # last letter is suit\n",
    "\n",
    "In [112]: deck.groupby(get_suit).apply(draw, n=2)\n",
    "Out[112]: \n",
    "C  2C     2\n",
    "   3C     3\n",
    "D  KD    10\n",
    "   8D     8\n",
    "H  KH    10\n",
    "   3H     3\n",
    "S  2S     2\n",
    "   4S     4\n",
    "dtype: int64"
   ]
  },
  {
   "cell_type": "markdown",
   "id": "2c9c8de0",
   "metadata": {
    "lines_to_next_cell": 0
   },
   "source": [
    "或者，也可以这样写："
   ]
  },
  {
   "cell_type": "code",
   "execution_count": null,
   "id": "a63a7c01",
   "metadata": {},
   "outputs": [],
   "source": [
    "In [113]: deck.groupby(get_suit, group_keys=False).apply(draw, n=2)\n",
    "Out[113]: \n",
    "KC    10\n",
    "JC    10\n",
    "AD     1\n",
    "5D     5\n",
    "5H     5\n",
    "6H     6\n",
    "7S     7\n",
    "KS    10\n",
    "dtype: int64"
   ]
  },
  {
   "cell_type": "markdown",
   "id": "556ab759",
   "metadata": {
    "lines_to_next_cell": 0
   },
   "source": [
    "## 示例：分组加权平均数和相关系数\n",
    "\n",
    "根据groupby的“拆分－应用－合并”范式，可以进行DataFrame的列与列之间或两个Series之间的运算（比如分组加权平均）。以下面这个数据集为例，它含有分组键、值以及一些权重值："
   ]
  },
  {
   "cell_type": "code",
   "execution_count": null,
   "id": "85931e6c",
   "metadata": {},
   "outputs": [],
   "source": [
    "In [114]: df = pd.DataFrame({'category': ['a', 'a', 'a', 'a',\n",
    "   .....:                                 'b', 'b', 'b', 'b'],\n",
    "   .....:                    'data': np.random.randn(8),\n",
    "   .....:                    'weights': np.random.rand(8)})\n",
    "\n",
    "In [115]: df\n",
    "Out[115]: \n",
    "  category      data   weights\n",
    "0        a  1.561587  0.957515\n",
    "1        a  1.219984  0.347267\n",
    "2        a -0.482239  0.581362\n",
    "3        a  0.315667  0.217091\n",
    "4        b -0.047852  0.894406\n",
    "5        b -0.454145  0.918564\n",
    "6        b -0.556774  0.277825\n",
    "7        b  0.253321  0.955905"
   ]
  },
  {
   "cell_type": "markdown",
   "id": "8cc9e5c9",
   "metadata": {
    "lines_to_next_cell": 0
   },
   "source": [
    "然后可以利用category计算分组加权平均数："
   ]
  },
  {
   "cell_type": "code",
   "execution_count": null,
   "id": "6a2b13e1",
   "metadata": {},
   "outputs": [],
   "source": [
    "In [116]: grouped = df.groupby('category')\n",
    "\n",
    "In [117]: get_wavg = lambda g: np.average(g['data'], weights=g['weights'])\n",
    "\n",
    "In [118]: grouped.apply(get_wavg)\n",
    "Out[118]:\n",
    "category\n",
    "a    0.811643\n",
    "b   -0.122262\n",
    "dtype: float64"
   ]
  },
  {
   "cell_type": "markdown",
   "id": "016a0e36",
   "metadata": {
    "lines_to_next_cell": 0
   },
   "source": [
    "另一个例子，考虑一个来自Yahoo!Finance的数据集，其中含有几只股票和标准普尔500指数（符号SPX）的收盘价："
   ]
  },
  {
   "cell_type": "code",
   "execution_count": null,
   "id": "07185815",
   "metadata": {},
   "outputs": [],
   "source": [
    "In [119]: close_px = pd.read_csv('examples/stock_px_2.csv', parse_dates=True,\n",
    "   .....:                        index_col=0)\n",
    "\n",
    "In [120]: close_px.info()\n",
    "<class 'pandas.core.frame.DataFrame'>\n",
    "DatetimeIndex: 2214 entries, 2003-01-02 to 2011-10-14\n",
    "Data columns (total 4 columns):\n",
    "AAPL    2214 non-null float64\n",
    "MSFT    2214 non-null float64\n",
    "XOM     2214 non-null float64\n",
    "SPX     2214 non-null float64\n",
    "dtypes: float64(4)\n",
    "memory usage: 86.5 KB\n",
    "\n",
    "In [121]: close_px[-4:]\n",
    "Out[121]: \n",
    "              AAPL   MSFT    XOM      SPX\n",
    "2011-10-11  400.29  27.00  76.27  1195.54\n",
    "2011-10-12  402.19  26.96  77.16  1207.25\n",
    "2011-10-13  408.43  27.18  76.37  1203.66\n",
    "2011-10-14  422.00  27.27  78.11  1224.58"
   ]
  },
  {
   "cell_type": "markdown",
   "id": "751c3611",
   "metadata": {
    "lines_to_next_cell": 0
   },
   "source": [
    "来做一个比较有趣的任务：计算一个由日收益率（通过百分数变化计算）与SPX之间的年度相关系数组成的DataFrame。下面是一个实现办法，我们先创建一个函数，用它计算每列和SPX列的成对相关系数："
   ]
  },
  {
   "cell_type": "code",
   "execution_count": null,
   "id": "0ca1c081",
   "metadata": {},
   "outputs": [],
   "source": [
    "In [122]: spx_corr = lambda x: x.corrwith(x['SPX'])"
   ]
  },
  {
   "cell_type": "markdown",
   "id": "edb5bae2",
   "metadata": {
    "lines_to_next_cell": 0
   },
   "source": [
    "接下来，我们使用pct_change计算close_px的百分比变化："
   ]
  },
  {
   "cell_type": "code",
   "execution_count": null,
   "id": "81b2dc1a",
   "metadata": {},
   "outputs": [],
   "source": [
    "In [123]: rets = close_px.pct_change().dropna()"
   ]
  },
  {
   "cell_type": "markdown",
   "id": "4b3288dc",
   "metadata": {
    "lines_to_next_cell": 0
   },
   "source": [
    "最后，我们用年对百分比变化进行分组，可以用一个一行的函数，从每行的标签返回每个datetime标签的year属性："
   ]
  },
  {
   "cell_type": "code",
   "execution_count": null,
   "id": "94df7abf",
   "metadata": {},
   "outputs": [],
   "source": [
    "In [124]: get_year = lambda x: x.year\n",
    "\n",
    "In [125]: by_year = rets.groupby(get_year)\n",
    "\n",
    "In [126]: by_year.apply(spx_corr)\n",
    "Out[126]: \n",
    "          AAPL      MSFT       XOM  SPX\n",
    "2003  0.541124  0.745174  0.661265  1.0\n",
    "2004  0.374283  0.588531  0.557742  1.0\n",
    "2005  0.467540  0.562374  0.631010  1.0\n",
    "2006  0.428267  0.406126  0.518514  1.0\n",
    "2007  0.508118  0.658770  0.786264  1.0\n",
    "2008  0.681434  0.804626  0.828303  1.0\n",
    "2009  0.707103  0.654902  0.797921  1.0\n",
    "2010  0.710105  0.730118  0.839057  1.0\n",
    "2011  0.691931  0.800996  0.859975  1.0"
   ]
  },
  {
   "cell_type": "markdown",
   "id": "19a68ded",
   "metadata": {
    "lines_to_next_cell": 0
   },
   "source": [
    "当然，你还可以计算列与列之间的相关系数。这里，我们计算Apple和Microsoft的年相关系数："
   ]
  },
  {
   "cell_type": "code",
   "execution_count": null,
   "id": "e33e55a7",
   "metadata": {},
   "outputs": [],
   "source": [
    "In [127]: by_year.apply(lambda g: g['AAPL'].corr(g['MSFT']))\n",
    "Out[127]: \n",
    "2003    0.480868\n",
    "2004    0.259024\n",
    "2005    0.300093\n",
    "2006    0.161735\n",
    "2007    0.417738\n",
    "2008    0.611901\n",
    "2009    0.432738\n",
    "2010    0.571946\n",
    "2011    0.581987\n",
    "dtype: float64"
   ]
  },
  {
   "cell_type": "markdown",
   "id": "9568604d",
   "metadata": {
    "lines_to_next_cell": 0
   },
   "source": [
    "## 示例：组级别的线性回归\n",
    "\n",
    "顺着上一个例子继续，你可以用groupby执行更为复杂的分组统计分析，只要函数返回的是pandas对象或标量值即可。例如，我可以定义下面这个regress函数（利用statsmodels计量经济学库）对各数据块执行普通最小二乘法（Ordinary Least Squares，OLS）回归："
   ]
  },
  {
   "cell_type": "code",
   "execution_count": null,
   "id": "d9196618",
   "metadata": {},
   "outputs": [],
   "source": [
    "import statsmodels.api as sm\n",
    "def regress(data, yvar, xvars):\n",
    "    Y = data[yvar]\n",
    "    X = data[xvars]\n",
    "    X['intercept'] = 1.\n",
    "    result = sm.OLS(Y, X).fit()\n",
    "    return result.params"
   ]
  },
  {
   "cell_type": "markdown",
   "id": "e5305119",
   "metadata": {
    "lines_to_next_cell": 0
   },
   "source": [
    "现在，为了按年计算AAPL对SPX收益率的线性回归，执行："
   ]
  },
  {
   "cell_type": "code",
   "execution_count": null,
   "id": "018265ac",
   "metadata": {},
   "outputs": [],
   "source": [
    "In [129]: by_year.apply(regress, 'AAPL', ['SPX'])\n",
    "Out[129]: \n",
    "           SPX  intercept\n",
    "2003  1.195406   0.000710\n",
    "2004  1.363463   0.004201\n",
    "2005  1.766415   0.003246\n",
    "2006  1.645496   0.000080\n",
    "2007  1.198761   0.003438\n",
    "2008  0.968016  -0.001110\n",
    "2009  0.879103   0.002954\n",
    "2010  1.052608   0.001261\n",
    "2011  0.806605   0.001514"
   ]
  },
  {
   "cell_type": "markdown",
   "id": "c76ad702",
   "metadata": {
    "lines_to_next_cell": 0
   },
   "source": [
    "# 10.4 透视表和交叉表\n",
    "\n",
    "透视表（pivot table）是各种电子表格程序和其他数据分析软件中一种常见的数据汇总工具。它根据一个或多个键对数据进行聚合，并根据行和列上的分组键将数据分配到各个矩形区域中。在Python和pandas中，可以通过本章所介绍的groupby功能以及（能够利用层次化索引的）重塑运算制作透视表。DataFrame有一个pivot_table方法，此外还有一个顶级的pandas.pivot_table函数。除能为groupby提供便利之外，pivot_table还可以添加分项小计，也叫做margins。\n",
    "\n",
    "回到小费数据集，假设我想要根据day和smoker计算分组平均数（pivot_table的默认聚合类型），并将day和smoker放到行上："
   ]
  },
  {
   "cell_type": "code",
   "execution_count": null,
   "id": "3752f902",
   "metadata": {},
   "outputs": [],
   "source": [
    "In [130]: tips.pivot_table(index=['day', 'smoker'])\n",
    "Out[130]: \n",
    "                 size       tip   tip_pct  total_bill\n",
    "day  smoker                                          \n",
    "Fri  No      2.250000  2.812500  0.151650   18.420000\n",
    "     Yes     2.066667  2.714000  0.174783   16.813333\n",
    "Sat  No      2.555556  3.102889  0.158048   19.661778\n",
    "     Yes     2.476190  2.875476  0.147906   21.276667\n",
    "Sun  No      2.929825  3.167895  0.160113   20.506667\n",
    "     Yes     2.578947  3.516842  0.187250   24.120000\n",
    "Thur No      2.488889  2.673778  0.160298   17.113111\n",
    "     Yes     2.352941  3.030000  0.163863   19.190588"
   ]
  },
  {
   "cell_type": "markdown",
   "id": "cdefd008",
   "metadata": {
    "lines_to_next_cell": 0
   },
   "source": [
    "可以用groupby直接来做。现在，假设我们只想聚合tip_pct和size，而且想根据time进行分组。我将smoker放到列上，把day放到行上："
   ]
  },
  {
   "cell_type": "code",
   "execution_count": null,
   "id": "3dbc2717",
   "metadata": {},
   "outputs": [],
   "source": [
    "In [131]: tips.pivot_table(['tip_pct', 'size'], index=['time', 'day'],\n",
    "   .....:                  columns='smoker')\n",
    "Out[131]: \n",
    "                 size             tip_pct          \n",
    "smoker             No       Yes        No       Yes\n",
    "time   day                                         \n",
    "Dinner Fri   2.000000  2.222222  0.139622  0.165347\n",
    "       Sat   2.555556  2.476190  0.158048  0.147906\n",
    "       Sun   2.929825  2.578947  0.160113  0.187250\n",
    "       Thur  2.000000       NaN  0.159744       NaN\n",
    "Lunch  Fri   3.000000  1.833333  0.187735  0.188937\n",
    "       Thur  2.500000  2.352941  0.160311  0.163863"
   ]
  },
  {
   "cell_type": "markdown",
   "id": "43908ef7",
   "metadata": {
    "lines_to_next_cell": 0
   },
   "source": [
    "还可以对这个表作进一步的处理，传入margins=True添加分项小计。这将会添加标签为All的行和列，其值对应于单个等级中所有数据的分组统计："
   ]
  },
  {
   "cell_type": "code",
   "execution_count": null,
   "id": "32434f49",
   "metadata": {},
   "outputs": [],
   "source": [
    "In [132]: tips.pivot_table(['tip_pct', 'size'], index=['time', 'day'],\n",
    "   .....:                  columns='smoker', margins=True)\n",
    "Out[132]: \n",
    "                 size                       tip_pct                    \n",
    "smoker             No       Yes       All        No       Yes       All\n",
    "time   day                                                             \n",
    "Dinner Fri   2.000000  2.222222  2.166667  0.139622  0.165347  0.158916\n",
    "       Sat   2.555556  2.476190  2.517241  0.158048  0.147906  0.153152\n",
    "       Sun   2.929825  2.578947  2.842105  0.160113  0.187250  0.166897\n",
    "       Thur  2.000000       NaN  2.000000  0.159744       NaN  0.159744\n",
    "Lunch  Fri   3.000000  1.833333  2.000000  0.187735  0.188937  0.188765\n",
    "       Thur  2.500000  2.352941  2.459016  0.160311  0.163863  0.161301\n",
    "All          2.668874  2.408602  2.569672  0.159328  0.163196  0.160803"
   ]
  },
  {
   "cell_type": "markdown",
   "id": "a6569523",
   "metadata": {
    "lines_to_next_cell": 0
   },
   "source": [
    "这里，All值为平均数：不单独考虑烟民与非烟民（All列），不单独考虑行分组两个级别中的任何单项（All行）。\n",
    "\n",
    "要使用其他的聚合函数，将其传给aggfunc即可。例如，使用count或len可以得到有关分组大小的交叉表（计数或频率）："
   ]
  },
  {
   "cell_type": "code",
   "execution_count": null,
   "id": "b373ecc7",
   "metadata": {},
   "outputs": [],
   "source": [
    "In [133]: tips.pivot_table('tip_pct', index=['time', 'smoker'], columns='day',\n",
    "   .....:                  aggfunc=len, margins=True)\n",
    "Out[133]: \n",
    "day             Fri   Sat   Sun  Thur    All\n",
    "time   smoker                               \n",
    "Dinner No       3.0  45.0  57.0   1.0  106.0\n",
    "       Yes      9.0  42.0  19.0   NaN   70.0\n",
    "Lunch  No       1.0   NaN   NaN  44.0   45.0\n",
    "       Yes      6.0   NaN   NaN  17.0   23.0\n",
    "All            19.0  87.0  76.0  62.0  244.0"
   ]
  },
  {
   "cell_type": "markdown",
   "id": "bae96efc",
   "metadata": {
    "lines_to_next_cell": 0
   },
   "source": [
    "如果存在空的组合（也就是NA），你可能会希望设置一个fill_value："
   ]
  },
  {
   "cell_type": "code",
   "execution_count": null,
   "id": "d671128d",
   "metadata": {},
   "outputs": [],
   "source": [
    "In [134]: tips.pivot_table('tip_pct', index=['time', 'size', 'smoker'],\n",
    "   .....:                  columns='day', aggfunc='mean', fill_value=0)\n",
    "Out[134]: \n",
    "day                      Fri       Sat       Sun      Thur\n",
    "time   size smoker                                        \n",
    "Dinner 1    No      0.000000  0.137931  0.000000  0.000000\n",
    "            Yes     0.000000  0.325733  0.000000  0.000000\n",
    "       2    No      0.139622  0.162705  0.168859  0.159744\n",
    "            Yes     0.171297  0.148668  0.207893  0.000000\n",
    "       3    No      0.000000  0.154661  0.152663  0.000000\n",
    "            Yes     0.000000  0.144995  0.152660  0.000000\n",
    "       4    No      0.000000  0.150096  0.148143  0.000000\n",
    "            Yes     0.117750  0.124515  0.193370  0.000000\n",
    "       5    No      0.000000  0.000000  0.206928  0.000000\n",
    "Yes     0.000000  0.106572  0.065660  0.000000\n",
    "...                      ...       ...       ...       ...\n",
    "Lunch  1    No      0.000000  0.000000  0.000000  0.181728\n",
    "            Yes     0.223776  0.000000  0.000000  0.000000\n",
    "       2    No      0.000000  0.000000  0.000000  0.166005\n",
    "            Yes     0.181969  0.000000  0.000000  0.158843\n",
    "       3    No      0.187735  0.000000  0.000000  0.084246\n",
    "            Yes     0.000000  0.000000  0.000000  0.204952\n",
    "       4    No      0.000000  0.000000  0.000000  0.138919\n",
    "            Yes     0.000000  0.000000  0.000000  0.155410\n",
    "       5    No      0.000000  0.000000  0.000000  0.121389\n",
    "       6    No      0.000000  0.000000  0.000000  0.173706\n",
    "[21 rows x 4 columns]"
   ]
  },
  {
   "cell_type": "markdown",
   "id": "50f0bd48",
   "metadata": {
    "lines_to_next_cell": 0
   },
   "source": [
    "pivot_table的参数说明请参见表10-2。\n",
    "\n",
    "![表10-2 pivot_table的选项](http://upload-images.jianshu.io/upload_images/7178691-c9e01844c4803a42.png?imageMogr2/auto-orient/strip%7CimageView2/2/w/1240)\n",
    "\n",
    "## 交叉表：crosstab\n",
    "\n",
    "交叉表（cross-tabulation，简称crosstab）是一种用于计算分组频率的特殊透视表。看下面的例子："
   ]
  },
  {
   "cell_type": "code",
   "execution_count": null,
   "id": "801ead71",
   "metadata": {},
   "outputs": [],
   "source": [
    "In [138]: data\n",
    "Out[138]:\n",
    "   Sample Nationality    Handedness\n",
    "0       1         USA  Right-handed\n",
    "1       2       Japan   Left-handed\n",
    "2       3         USA  Right-handed\n",
    "3       4       Japan  Right-handed\n",
    "4       5       Japan   Left-handed\n",
    "5       6       Japan  Right-handed\n",
    "6       7         USA  Right-handed\n",
    "7       8         USA   Left-handed\n",
    "8       9       Japan  Right-handed\n",
    "9      10         USA  Right-handed"
   ]
  },
  {
   "cell_type": "markdown",
   "id": "e9e9e5a1",
   "metadata": {
    "lines_to_next_cell": 0
   },
   "source": [
    "作为调查分析的一部分，我们可能想要根据国籍和用手习惯对这段数据进行统计汇总。虽然可以用pivot_table实现该功能，但是pandas.crosstab函数会更方便："
   ]
  },
  {
   "cell_type": "code",
   "execution_count": null,
   "id": "2e2123c2",
   "metadata": {},
   "outputs": [],
   "source": [
    "In [139]: pd.crosstab(data.Nationality, data.Handedness, margins=True)\n",
    "Out[139]: \n",
    "Handedness   Left-handed  Right-handed  All\n",
    "Nationality\n",
    "Japan                  2             3    5\n",
    "USA                    1             4    5\n",
    "All                    3             7   10"
   ]
  },
  {
   "cell_type": "markdown",
   "id": "647bf9f3",
   "metadata": {
    "lines_to_next_cell": 0
   },
   "source": [
    "crosstab的前两个参数可以是数组或Series，或是数组列表。就像小费数据："
   ]
  },
  {
   "cell_type": "code",
   "execution_count": null,
   "id": "e64a749e",
   "metadata": {},
   "outputs": [],
   "source": [
    "In [140]: pd.crosstab([tips.time, tips.day], tips.smoker, margins=True)\n",
    "Out[140]: \n",
    "smoker        No  Yes  All\n",
    "time   day                \n",
    "Dinner Fri     3    9   12\n",
    "       Sat    45   42   87\n",
    "       Sun    57   19   76\n",
    "       Thur    1    0    1\n",
    "Lunch  Fri     1    6    7\n",
    "       Thur   44   17   61\n",
    "All          151   93  244"
   ]
  },
  {
   "cell_type": "markdown",
   "id": "c50b65aa",
   "metadata": {},
   "source": [
    "# 10.5 总结\n",
    "\n",
    "掌握pandas数据分组工具既有助于数据清理，也有助于建模或统计分析工作。在第14章，我们会看几个例子，对真实数据使用groupby。\n",
    "\n",
    "在下一章，我们将关注时间序列数据。"
   ]
  }
 ],
 "metadata": {
  "jupytext": {
   "cell_metadata_filter": "-all",
   "main_language": "python",
   "notebook_metadata_filter": "-all"
  }
 },
 "nbformat": 4,
 "nbformat_minor": 5
}
