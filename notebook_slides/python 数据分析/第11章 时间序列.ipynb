{
 "cells": [
  {
   "cell_type": "markdown",
   "id": "523dca41",
   "metadata": {},
   "source": [
    "时间序列（time series）数据是一种重要的结构化数据形式，应用于多个领域，包括金融学、经济学、生态学、神经科学、物理学等。在多个时间点观察或测量到的任何事物都可以形成一段时间序列。很多时间序列是固定频率的，也就是说，数据点是根据某种规律定期出现的（比如每15秒、每5分钟、每月出现一次）。时间序列也可以是不定期的，没有固定的时间单位或单位之间的偏移量。时间序列数据的意义取决于具体的应用场景，主要有以下几种：\n",
    "\n",
    "- 时间戳（timestamp），特定的时刻。\n",
    "- 固定时期（period），如2007年1月或2010年全年。\n",
    "- 时间间隔（interval），由起始和结束时间戳表示。时期（period）可以被看做间隔（interval）的特例。\n",
    "- 实验或过程时间，每个时间点都是相对于特定起始时间的一个度量。例如，从放入烤箱时起，每秒钟饼干的直径。\n",
    "\n",
    "本章主要讲解前3种时间序列。许多技术都可用于处理实验型时间序列，其索引可能是一个整数或浮点数（表示从实验开始算起已经过去的时间）。最简单也最常见的时间序列都是用时间戳进行索引的。\n",
    "\n",
    ">提示：pandas也支持基于timedeltas的指数，它可以有效代表实验或经过的时间。这本书不涉及timedelta指数，但你可以学习pandas的文档（http://pandas.pydata.org/）。\n",
    "\n",
    "pandas提供了许多内置的时间序列处理工具和数据算法。因此，你可以高效处理非常大的时间序列，轻松地进行切片/切块、聚合、对定期/不定期的时间序列进行重采样等。有些工具特别适合金融和经济应用，你当然也可以用它们来分析服务器日志数据。\n",
    "\n",
    "# 11.1 日期和时间数据类型及工具\n",
    "\n",
    "Python标准库包含用于日期（date）和时间（time）数据的数据类型，而且还有日历方面的功能。我们主要会用到datetime、time以及calendar模块。datetime.datetime（也可以简写为datetime）是用得最多的数据类型："
   ]
  },
  {
   "cell_type": "code",
   "execution_count": null,
   "id": "7228650c",
   "metadata": {},
   "outputs": [],
   "source": [
    "In [10]: from datetime import datetime\n",
    "\n",
    "In [11]: now = datetime.now()\n",
    "\n",
    "In [12]: now\n",
    "Out[12]: datetime.datetime(2017, 9, 25, 14, 5, 52, 72973)\n",
    "\n",
    "In [13]: now.year, now.month, now.day\n",
    "Out[13]: (2017, 9, 25)"
   ]
  },
  {
   "cell_type": "markdown",
   "id": "d363b743",
   "metadata": {},
   "source": [
    "datetime以毫秒形式存储日期和时间。timedelta表示两个datetime对象之间的时间差："
   ]
  },
  {
   "cell_type": "code",
   "execution_count": null,
   "id": "ab8605d2",
   "metadata": {},
   "outputs": [],
   "source": [
    "In [14]: delta = datetime(2011, 1, 7) - datetime(2008, 6, 24, 8, 15)\n",
    "\n",
    "In [15]: delta\n",
    "Out[15]: datetime.timedelta(926, 56700)\n",
    "\n",
    "In [16]: delta.days\n",
    "Out[16]: 926\n",
    "\n",
    "In [17]: delta.seconds\n",
    "Out[17]: 56700"
   ]
  },
  {
   "cell_type": "markdown",
   "id": "053ab318",
   "metadata": {},
   "source": [
    "可以给datetime对象加上（或减去）一个或多个timedelta，这样会产生一个新对象："
   ]
  },
  {
   "cell_type": "code",
   "execution_count": null,
   "id": "bda1903e",
   "metadata": {},
   "outputs": [],
   "source": [
    "In [18]: from datetime import timedelta\n",
    "\n",
    "In [19]: start = datetime(2011, 1, 7)\n",
    "\n",
    "In [20]: start + timedelta(12)\n",
    "Out[20]: datetime.datetime(2011, 1, 19, 0, 0)\n",
    "\n",
    "In [21]: start - 2 * timedelta(12)\n",
    "Out[21]: datetime.datetime(2010, 12, 14, 0, 0)"
   ]
  },
  {
   "cell_type": "markdown",
   "id": "45d7caed",
   "metadata": {
    "lines_to_next_cell": 0
   },
   "source": [
    "datetime模块中的数据类型参见表10-1。虽然本章主要讲的是pandas数据类型和高级时间序列处理，但你肯定会在Python的其他地方遇到有关datetime的数据类型。\n",
    "\n",
    "表11-1 datetime模块中的数据类型\n",
    "\n",
    "![](http://upload-images.jianshu.io/upload_images/7178691-4af261a305a70aeb.png?imageMogr2/auto-orient/strip%7CimageView2/2/w/1240)\n",
    "\n",
    "tzinfo  存储时区信息的基本类型\n",
    "\n",
    "## 字符串和datetime的相互转换\n",
    "\n",
    "利用str或strftime方法（传入一个格式化字符串），datetime对象和pandas的Timestamp对象（稍后就会介绍）可以被格式化为字符串："
   ]
  },
  {
   "cell_type": "code",
   "execution_count": null,
   "id": "9b40c96c",
   "metadata": {},
   "outputs": [],
   "source": [
    "In [22]: stamp = datetime(2011, 1, 3)\n",
    "\n",
    "In [23]: str(stamp)\n",
    "Out[23]: '2011-01-03 00:00:00'\n",
    "\n",
    "In [24]: stamp.strftime('%Y-%m-%d')\n",
    "Out[24]: '2011-01-03'"
   ]
  },
  {
   "cell_type": "markdown",
   "id": "2373ce0e",
   "metadata": {
    "lines_to_next_cell": 0
   },
   "source": [
    "表11-2列出了全部的格式化编码。\n",
    "\n",
    "表11-2 datetime格式定义（兼容ISO C89）\n",
    "\n",
    "![](http://upload-images.jianshu.io/upload_images/7178691-50c751823754df58.png?imageMogr2/auto-orient/strip%7CimageView2/2/w/1240)\n",
    "\n",
    "![](http://upload-images.jianshu.io/upload_images/7178691-de0181e1f6b45eaf.png?imageMogr2/auto-orient/strip%7CimageView2/2/w/1240)\n",
    "\n",
    "datetime.strptime可以用这些格式化编码将字符串转换为日期："
   ]
  },
  {
   "cell_type": "code",
   "execution_count": null,
   "id": "796b1443",
   "metadata": {},
   "outputs": [],
   "source": [
    "In [25]: value = '2011-01-03'\n",
    "\n",
    "In [26]: datetime.strptime(value, '%Y-%m-%d')\n",
    "Out[26]: datetime.datetime(2011, 1, 3, 0, 0)\n",
    "\n",
    "In [27]: datestrs = ['7/6/2011', '8/6/2011']\n",
    "\n",
    "In [28]: [datetime.strptime(x, '%m/%d/%Y') for x in datestrs]\n",
    "Out[28]: \n",
    "[datetime.datetime(2011, 7, 6, 0, 0),\n",
    " datetime.datetime(2011, 8, 6, 0, 0)]"
   ]
  },
  {
   "cell_type": "markdown",
   "id": "114d2208",
   "metadata": {
    "lines_to_next_cell": 0
   },
   "source": [
    "datetime.strptime是通过已知格式进行日期解析的最佳方式。但是每次都要编写格式定义是很麻烦的事情，尤其是对于一些常见的日期格式。这种情况下，你可以用dateutil这个第三方包中的parser.parse方法（pandas中已经自动安装好了）："
   ]
  },
  {
   "cell_type": "code",
   "execution_count": null,
   "id": "d943f218",
   "metadata": {
    "lines_to_next_cell": 0
   },
   "outputs": [],
   "source": [
    "In [29]: from dateutil.parser import parse\n",
    "\n",
    "In [30]: parse('2011-01-03')\n",
    "Out[30]: datetime.datetime(2011, 1, 3, 0, 0)"
   ]
  },
  {
   "cell_type": "markdown",
   "id": "3f4652e8",
   "metadata": {},
   "source": [
    "dateutil可以解析几乎所有人类能够理解的日期表示形式："
   ]
  },
  {
   "cell_type": "code",
   "execution_count": null,
   "id": "fa9ad5e8",
   "metadata": {},
   "outputs": [],
   "source": [
    "In [31]: parse('Jan 31, 1997 10:45 PM')\n",
    "Out[31]: datetime.datetime(1997, 1, 31, 22, 45)"
   ]
  },
  {
   "cell_type": "markdown",
   "id": "60dfd0e5",
   "metadata": {},
   "source": [
    "在国际通用的格式中，日出现在月的前面很普遍，传入dayfirst=True即可解决这个问题："
   ]
  },
  {
   "cell_type": "code",
   "execution_count": null,
   "id": "46480b9b",
   "metadata": {},
   "outputs": [],
   "source": [
    "In [32]: parse('6/12/2011', dayfirst=True)\n",
    "Out[32]: datetime.datetime(2011, 12, 6, 0, 0)"
   ]
  },
  {
   "cell_type": "markdown",
   "id": "ca0692cb",
   "metadata": {},
   "source": [
    "pandas通常是用于处理成组日期的，不管这些日期是DataFrame的轴索引还是列。to_datetime方法可以解析多种不同的日期表示形式。对标准日期格式（如ISO8601）的解析非常快："
   ]
  },
  {
   "cell_type": "code",
   "execution_count": null,
   "id": "9b6f2c44",
   "metadata": {},
   "outputs": [],
   "source": [
    "In [33]: datestrs = ['2011-07-06 12:00:00', '2011-08-06 00:00:00']\n",
    "\n",
    "In [34]: pd.to_datetime(datestrs)\n",
    "Out[34]: DatetimeIndex(['2011-07-06 12:00:00', '2011-08-06 00:00:00'], dtype='dat\n",
    "etime64[ns]', freq=None)"
   ]
  },
  {
   "cell_type": "markdown",
   "id": "3833cd4f",
   "metadata": {
    "lines_to_next_cell": 0
   },
   "source": [
    "它还可以处理缺失值（None、空字符串等）："
   ]
  },
  {
   "cell_type": "code",
   "execution_count": null,
   "id": "ab219a96",
   "metadata": {},
   "outputs": [],
   "source": [
    "In [35]: idx = pd.to_datetime(datestrs + [None])\n",
    "\n",
    "In [36]: idx\n",
    "Out[36]: DatetimeIndex(['2011-07-06 12:00:00', '2011-08-06 00:00:00', 'NaT'], dty\n",
    "pe='datetime64[ns]', freq=None)\n",
    "\n",
    "In [37]: idx[2]\n",
    "Out[37]: NaT\n",
    "\n",
    "In [38]: pd.isnull(idx)\n",
    "Out[38]: array([False, False,  True], dtype=bool)"
   ]
  },
  {
   "cell_type": "markdown",
   "id": "3f28d8d3",
   "metadata": {
    "lines_to_next_cell": 0
   },
   "source": [
    "NaT（Not a Time）是pandas中时间戳数据的null值。\n",
    "\n",
    ">注意：dateutil.parser是一个实用但不完美的工具。比如说，它会把一些原本不是日期的字符串认作是日期（比如\"42\"会被解析为2042年的今天）。\n",
    "\n",
    "datetime对象还有一些特定于当前环境（位于不同国家或使用不同语言的系统）的格式化选项。例如，德语或法语系统所用的月份简写就与英语系统所用的不同。表11-3进行了总结。\n",
    "\n",
    "表11-3 特定于当前环境的日期格式\n",
    "\n",
    "![](http://upload-images.jianshu.io/upload_images/7178691-cf0119398273e2b0.png?imageMogr2/auto-orient/strip%7CimageView2/2/w/1240)\n",
    "\n",
    "# 11.2 时间序列基础\n",
    "\n",
    "pandas最基本的时间序列类型就是以时间戳（通常以Python字符串或datatime对象表示）为索引的Series："
   ]
  },
  {
   "cell_type": "code",
   "execution_count": null,
   "id": "a13e56b5",
   "metadata": {},
   "outputs": [],
   "source": [
    "In [39]: from datetime import datetime\n",
    "\n",
    "In [40]: dates = [datetime(2011, 1, 2), datetime(2011, 1, 5),\n",
    "   ....:          datetime(2011, 1, 7), datetime(2011, 1, 8),\n",
    "   ....:          datetime(2011, 1, 10), datetime(2011, 1, 12)]\n",
    "\n",
    "In [41]: ts = pd.Series(np.random.randn(6), index=dates)\n",
    "\n",
    "In [42]: ts\n",
    "Out[42]: \n",
    "2011-01-02   -0.204708\n",
    "2011-01-05    0.478943\n",
    "2011-01-07   -0.519439\n",
    "2011-01-08   -0.555730\n",
    "2011-01-10    1.965781\n",
    "2011-01-12    1.393406\n",
    "dtype: float64"
   ]
  },
  {
   "cell_type": "markdown",
   "id": "2132b4ba",
   "metadata": {
    "lines_to_next_cell": 0
   },
   "source": [
    "这些datetime对象实际上是被放在一个DatetimeIndex中的："
   ]
  },
  {
   "cell_type": "code",
   "execution_count": null,
   "id": "87e59377",
   "metadata": {},
   "outputs": [],
   "source": [
    "In [43]: ts.index\n",
    "Out[43]: \n",
    "DatetimeIndex(['2011-01-02', '2011-01-05', '2011-01-07', '2011-01-08',\n",
    "               '2011-01-10', '2011-01-12'],\n",
    "              dtype='datetime64[ns]', freq=None)"
   ]
  },
  {
   "cell_type": "markdown",
   "id": "b9f655b8",
   "metadata": {
    "lines_to_next_cell": 0
   },
   "source": [
    "跟其他Series一样，不同索引的时间序列之间的算术运算会自动按日期对齐："
   ]
  },
  {
   "cell_type": "code",
   "execution_count": null,
   "id": "78b93fb5",
   "metadata": {},
   "outputs": [],
   "source": [
    "In [44]: ts + ts[::2]\n",
    "Out[44]: \n",
    "2011-01-02   -0.409415\n",
    "2011-01-05         NaN\n",
    "2011-01-07   -1.038877\n",
    "2011-01-08         NaN\n",
    "2011-01-10    3.931561\n",
    "2011-01-12         NaN\n",
    "dtype: float64"
   ]
  },
  {
   "cell_type": "markdown",
   "id": "eb1f79d4",
   "metadata": {
    "lines_to_next_cell": 0
   },
   "source": [
    "ts[::2] 是每隔两个取一个。\n",
    "\n",
    "pandas用NumPy的datetime64数据类型以纳秒形式存储时间戳："
   ]
  },
  {
   "cell_type": "code",
   "execution_count": null,
   "id": "8739e634",
   "metadata": {},
   "outputs": [],
   "source": [
    "In [45]: ts.index.dtype\n",
    "Out[45]: dtype('<M8[ns]')"
   ]
  },
  {
   "cell_type": "markdown",
   "id": "6519f76b",
   "metadata": {
    "lines_to_next_cell": 0
   },
   "source": [
    "DatetimeIndex中的各个标量值是pandas的Timestamp对象："
   ]
  },
  {
   "cell_type": "code",
   "execution_count": null,
   "id": "706491df",
   "metadata": {},
   "outputs": [],
   "source": [
    "In [46]: stamp = ts.index[0]\n",
    "\n",
    "In [47]: stamp\n",
    "Out[47]: Timestamp('2011-01-02 00:00:00')"
   ]
  },
  {
   "cell_type": "markdown",
   "id": "0ab86d3f",
   "metadata": {
    "lines_to_next_cell": 0
   },
   "source": [
    "只要有需要，TimeStamp可以随时自动转换为datetime对象。此外，它还可以存储频率信息（如果有的话），且知道如何执行时区转换以及其他操作。稍后将对此进行详细讲解。\n",
    "\n",
    "## 索引、选取、子集构造\n",
    "\n",
    "当你根据标签索引选取数据时，时间序列和其它的pandas.Series很像："
   ]
  },
  {
   "cell_type": "code",
   "execution_count": null,
   "id": "5868140d",
   "metadata": {},
   "outputs": [],
   "source": [
    "In [48]: stamp = ts.index[2]\n",
    "\n",
    "In [49]: ts[stamp]\n",
    "Out[49]: -0.51943871505673811"
   ]
  },
  {
   "cell_type": "markdown",
   "id": "b5ebb0c6",
   "metadata": {
    "lines_to_next_cell": 0
   },
   "source": [
    "还有一种更为方便的用法：传入一个可以被解释为日期的字符串："
   ]
  },
  {
   "cell_type": "code",
   "execution_count": null,
   "id": "6da7167b",
   "metadata": {},
   "outputs": [],
   "source": [
    "In [50]: ts['1/10/2011']\n",
    "Out[50]: 1.9657805725027142\n",
    "\n",
    "In [51]: ts['20110110']\n",
    "Out[51]: 1.9657805725027142"
   ]
  },
  {
   "cell_type": "markdown",
   "id": "5fcfe8a2",
   "metadata": {
    "lines_to_next_cell": 0
   },
   "source": [
    "对于较长的时间序列，只需传入“年”或“年月”即可轻松选取数据的切片："
   ]
  },
  {
   "cell_type": "code",
   "execution_count": null,
   "id": "6ffeafb9",
   "metadata": {},
   "outputs": [],
   "source": [
    "In [52]: longer_ts = pd.Series(np.random.randn(1000),\n",
    "   ....:                       index=pd.date_range('1/1/2000', periods=1000))\n",
    "\n",
    "In [53]: longer_ts\n",
    "Out[53]: \n",
    "2000-01-01    0.092908\n",
    "2000-01-02    0.281746\n",
    "2000-01-03    0.769023\n",
    "2000-01-04    1.246435\n",
    "2000-01-05    1.007189\n",
    "2000-01-06   -1.296221\n",
    "2000-01-07    0.274992\n",
    "2000-01-08    0.228913\n",
    "2000-01-09    1.352917\n",
    "2000-01-10    0.886429\n",
    "                ...   \n",
    "2002-09-17   -0.139298\n",
    "2002-09-18   -1.159926\n",
    "2002-09-19    0.618965\n",
    "2002-09-20    1.373890\n",
    "2002-09-21   -0.983505\n",
    "2002-09-22    0.930944\n",
    "2002-09-23   -0.811676\n",
    "2002-09-24   -1.830156\n",
    "2002-09-25   -0.138730\n",
    "2002-09-26    0.334088\n",
    "Freq: D, Length: 1000, dtype: float64\n",
    "\n",
    "In [54]: longer_ts['2001']\n",
    "Out[54]: \n",
    "2001-01-01    1.599534\n",
    "2001-01-02    0.474071\n",
    "2001-01-03    0.151326\n",
    "2001-01-04   -0.542173\n",
    "2001-01-05   -0.475496\n",
    "2001-01-06    0.106403\n",
    "2001-01-07   -1.308228\n",
    "2001-01-08    2.173185\n",
    "2001-01-09    0.564561\n",
    "2001-01-10   -0.190481\n",
    "                ...   \n",
    "2001-12-22    0.000369\n",
    "2001-12-23    0.900885\n",
    "2001-12-24   -0.454869\n",
    "2001-12-25   -0.864547\n",
    "2001-12-26    1.129120\n",
    "2001-12-27    0.057874\n",
    "2001-12-28   -0.433739\n",
    "2001-12-29    0.092698\n",
    "2001-12-30   -1.397820\n",
    "2001-12-31    1.457823\n",
    "Freq: D, Length: 365, dtype: float64"
   ]
  },
  {
   "cell_type": "markdown",
   "id": "2280a3f7",
   "metadata": {
    "lines_to_next_cell": 0
   },
   "source": [
    "这里，字符串“2001”被解释成年，并根据它选取时间区间。指定月也同样奏效："
   ]
  },
  {
   "cell_type": "code",
   "execution_count": null,
   "id": "1758feb2",
   "metadata": {},
   "outputs": [],
   "source": [
    "In [55]: longer_ts['2001-05']\n",
    "Out[55]: \n",
    "2001-05-01   -0.622547\n",
    "2001-05-02    0.936289\n",
    "2001-05-03    0.750018\n",
    "2001-05-04   -0.056715\n",
    "2001-05-05    2.300675\n",
    "2001-05-06    0.569497\n",
    "2001-05-07    1.489410\n",
    "2001-05-08    1.264250\n",
    "2001-05-09   -0.761837\n",
    "2001-05-10   -0.331617\n",
    "                ...   \n",
    "2001-05-22    0.503699\n",
    "2001-05-23   -1.387874\n",
    "2001-05-24    0.204851\n",
    "2001-05-25    0.603705\n",
    "2001-05-26    0.545680\n",
    "2001-05-27    0.235477\n",
    "2001-05-28    0.111835\n",
    "2001-05-29   -1.251504\n",
    "2001-05-30   -2.949343\n",
    "2001-05-31    0.634634\n",
    "Freq: D, Length: 31, dtype: float64"
   ]
  },
  {
   "cell_type": "markdown",
   "id": "ca9e3d0c",
   "metadata": {
    "lines_to_next_cell": 0
   },
   "source": [
    "datetime对象也可以进行切片："
   ]
  },
  {
   "cell_type": "code",
   "execution_count": null,
   "id": "d5e07d5f",
   "metadata": {},
   "outputs": [],
   "source": [
    "In [56]: ts[datetime(2011, 1, 7):]\n",
    "Out[56]: \n",
    "2011-01-07   -0.519439\n",
    "2011-01-08   -0.555730\n",
    "2011-01-10    1.965781\n",
    "2011-01-12    1.393406\n",
    "dtype: float64"
   ]
  },
  {
   "cell_type": "markdown",
   "id": "2123a865",
   "metadata": {
    "lines_to_next_cell": 0
   },
   "source": [
    "由于大部分时间序列数据都是按照时间先后排序的，因此你也可以用不存在于该时间序列中的时间戳对其进行切片（即范围查询）："
   ]
  },
  {
   "cell_type": "code",
   "execution_count": null,
   "id": "c85ec4ee",
   "metadata": {},
   "outputs": [],
   "source": [
    "In [57]: ts\n",
    "Out[57]: \n",
    "2011-01-02   -0.204708\n",
    "2011-01-05    0.478943\n",
    "2011-01-07   -0.519439\n",
    "2011-01-08   -0.555730\n",
    "2011-01-10    1.965781\n",
    "2011-01-12    1.393406\n",
    "dtype: float64\n",
    "\n",
    "In [58]: ts['1/6/2011':'1/11/2011']\n",
    "Out[58]: \n",
    "2011-01-07   -0.519439\n",
    "2011-01-08   -0.555730\n",
    "2011-01-10    1.965781\n",
    "dtype: float64"
   ]
  },
  {
   "cell_type": "markdown",
   "id": "5524f948",
   "metadata": {
    "lines_to_next_cell": 0
   },
   "source": [
    "跟之前一样，你可以传入字符串日期、datetime或Timestamp。注意，这样切片所产生的是原时间序列的视图，跟NumPy数组的切片运算是一样的。\n",
    "\n",
    "这意味着，没有数据被复制，对切片进行修改会反映到原始数据上。\n",
    "\n",
    "此外，还有一个等价的实例方法也可以截取两个日期之间TimeSeries："
   ]
  },
  {
   "cell_type": "code",
   "execution_count": null,
   "id": "53241e28",
   "metadata": {},
   "outputs": [],
   "source": [
    "In [59]: ts.truncate(after='1/9/2011')\n",
    "Out[59]: \n",
    "2011-01-02   -0.204708\n",
    "2011-01-05    0.478943\n",
    "2011-01-07   -0.519439\n",
    "2011-01-08   -0.555730\n",
    "dtype: float64"
   ]
  },
  {
   "cell_type": "markdown",
   "id": "d88c598f",
   "metadata": {
    "lines_to_next_cell": 0
   },
   "source": [
    "面这些操作对DataFrame也有效。例如，对DataFrame的行进行索引："
   ]
  },
  {
   "cell_type": "code",
   "execution_count": null,
   "id": "8bb2acc8",
   "metadata": {},
   "outputs": [],
   "source": [
    "In [60]: dates = pd.date_range('1/1/2000', periods=100, freq='W-WED')\n",
    "\n",
    "In [61]: long_df = pd.DataFrame(np.random.randn(100, 4),\n",
    "   ....:                        index=dates,\n",
    "   ....:                        columns=['Colorado', 'Texas',\n",
    "   ....:                                 'New York', 'Ohio'])\n",
    "\n",
    "In [62]: long_df.loc['5-2001']\n",
    "Out[62]: \n",
    "            Colorado     Texas  New York      Ohio\n",
    "2001-05-02 -0.006045  0.490094 -0.277186 -0.707213\n",
    "2001-05-09 -0.560107  2.735527  0.927335  1.513906\n",
    "2001-05-16  0.538600  1.273768  0.667876 -0.969206\n",
    "2001-05-23  1.676091 -0.817649  0.050188  1.951312\n",
    "2001-05-30  3.260383  0.963301  1.201206 -1.852001"
   ]
  },
  {
   "cell_type": "markdown",
   "id": "7d8aaf94",
   "metadata": {
    "lines_to_next_cell": 0
   },
   "source": [
    "## 带有重复索引的时间序列\n",
    "\n",
    "在某些应用场景中，可能会存在多个观测数据落在同一个时间点上的情况。下面就是一个例子："
   ]
  },
  {
   "cell_type": "code",
   "execution_count": null,
   "id": "0c6fdcf7",
   "metadata": {},
   "outputs": [],
   "source": [
    "In [63]: dates = pd.DatetimeIndex(['1/1/2000', '1/2/2000', '1/2/2000',\n",
    "   ....:                           '1/2/2000', '1/3/2000'])\n",
    "In [64]: dup_ts = pd.Series(np.arange(5), index=dates)\n",
    "\n",
    "In [65]: dup_ts\n",
    "Out[65]: \n",
    "2000-01-01    0\n",
    "2000-01-02    1\n",
    "2000-01-02    2\n",
    "2000-01-02    3\n",
    "2000-01-03    4\n",
    "dtype: int64"
   ]
  },
  {
   "cell_type": "markdown",
   "id": "297706f3",
   "metadata": {
    "lines_to_next_cell": 0
   },
   "source": [
    "通过检查索引的is_unique属性，我们就可以知道它是不是唯一的："
   ]
  },
  {
   "cell_type": "code",
   "execution_count": null,
   "id": "89180591",
   "metadata": {},
   "outputs": [],
   "source": [
    "In [66]: dup_ts.index.is_unique\n",
    "Out[66]: False"
   ]
  },
  {
   "cell_type": "markdown",
   "id": "6b3a5040",
   "metadata": {
    "lines_to_next_cell": 0
   },
   "source": [
    "对这个时间序列进行索引，要么产生标量值，要么产生切片，具体要看所选的时间点是否重复："
   ]
  },
  {
   "cell_type": "code",
   "execution_count": null,
   "id": "e145699d",
   "metadata": {},
   "outputs": [],
   "source": [
    "In [67]: dup_ts['1/3/2000']  # not duplicated\n",
    "Out[67]: 4\n",
    "\n",
    "In [68]: dup_ts['1/2/2000']  # duplicated\n",
    "Out[68]: \n",
    "2000-01-02    1\n",
    "2000-01-02    2\n",
    "2000-01-02    3\n",
    "dtype: int64"
   ]
  },
  {
   "cell_type": "markdown",
   "id": "963f5279",
   "metadata": {
    "lines_to_next_cell": 0
   },
   "source": [
    "假设你想要对具有非唯一时间戳的数据进行聚合。一个办法是使用groupby，并传入level=0："
   ]
  },
  {
   "cell_type": "code",
   "execution_count": null,
   "id": "837f7b3c",
   "metadata": {},
   "outputs": [],
   "source": [
    "In [69]: grouped = dup_ts.groupby(level=0)\n",
    "\n",
    "In [70]: grouped.mean()\n",
    "Out[70]: \n",
    "2000-01-01    0\n",
    "2000-01-02    2\n",
    "2000-01-03    4\n",
    "dtype: int64\n",
    "\n",
    "In [71]: grouped.count()\n",
    "Out[71]: \n",
    "2000-01-01    1\n",
    "2000-01-02    3\n",
    "2000-01-03    1\n",
    "dtype: int64"
   ]
  },
  {
   "cell_type": "markdown",
   "id": "a2354e2d",
   "metadata": {
    "lines_to_next_cell": 0
   },
   "source": [
    "# 11.3 日期的范围、频率以及移动\n",
    "\n",
    "pandas中的原生时间序列一般被认为是不规则的，也就是说，它们没有固定的频率。对于大部分应用程序而言，这是无所谓的。但是，它常常需要以某种相对固定的频率进行分析，比如每日、每月、每15分钟等（这样自然会在时间序列中引入缺失值）。幸运的是，pandas有一整套标准时间序列频率以及用于重采样、频率推断、生成固定频率日期范围的工具。例如，我们可以将之前那个时间序列转换为一个具有固定频率（每日）的时间序列，只需调用resample即可："
   ]
  },
  {
   "cell_type": "code",
   "execution_count": null,
   "id": "aeb8724a",
   "metadata": {},
   "outputs": [],
   "source": [
    "In [72]: ts\n",
    "Out[72]: \n",
    "2011-01-02   -0.204708\n",
    "2011-01-05    0.478943\n",
    "2011-01-07   -0.519439\n",
    "2011-01-08   -0.555730\n",
    "2011-01-10    1.965781\n",
    "2011-01-12    1.393406\n",
    "dtype: float64\n",
    "\n",
    "In [73]: resampler = ts.resample('D')"
   ]
  },
  {
   "cell_type": "markdown",
   "id": "a8a61592",
   "metadata": {
    "lines_to_next_cell": 0
   },
   "source": [
    "字符串“D”是每天的意思。\n",
    "\n",
    "频率的转换（或重采样）是一个比较大的主题，稍后将专门用一节来进行讨论（11.6小节）。这里，我将告诉你如何使用基本的频率和它的倍数。\n",
    "\n",
    "## 生成日期范围\n",
    "\n",
    "虽然我之前用的时候没有明说，但你可能已经猜到pandas.date_range可用于根据指定的频率生成指定长度的DatetimeIndex："
   ]
  },
  {
   "cell_type": "code",
   "execution_count": null,
   "id": "b050dbdf",
   "metadata": {},
   "outputs": [],
   "source": [
    "In [74]: index = pd.date_range('2012-04-01', '2012-06-01')\n",
    "\n",
    "In [75]: index\n",
    "Out[75]: \n",
    "DatetimeIndex(['2012-04-01', '2012-04-02', '2012-04-03', '2012-04-04',\n",
    "               '2012-04-05', '2012-04-06', '2012-04-07', '2012-04-08',\n",
    "               '2012-04-09', '2012-04-10', '2012-04-11', '2012-04-12',\n",
    "               '2012-04-13', '2012-04-14', '2012-04-15', '2012-04-16',\n",
    "               '2012-04-17', '2012-04-18', '2012-04-19', '2012-04-20',\n",
    "               '2012-04-21', '2012-04-22', '2012-04-23', '2012-04-24',\n",
    "               '2012-04-25', '2012-04-26', '2012-04-27', '2012-04-28',\n",
    "               '2012-04-29', '2012-04-30', '2012-05-01', '2012-05-02',\n",
    "               '2012-05-03', '2012-05-04', '2012-05-05', '2012-05-06',\n",
    "               '2012-05-07', '2012-05-08', '2012-05-09', '2012-05-10',\n",
    "               '2012-05-11', '2012-05-12', '2012-05-13', '2012-05-14',\n",
    "               '2012-05-15', '2012-05-16', '2012-05-17', '2012-05-18',\n",
    "               '2012-05-19', '2012-05-20', '2012-05-21', '2012-05-22',\n",
    "               '2012-05-23', '2012-05-24', '2012-05-25', '2012-05-26',\n",
    "               '2012-05-27', '2012-05-28', '2012-05-29', '2012-05-30',\n",
    "               '2012-05-31', '2012-06-01'],\n",
    "              dtype='datetime64[ns]', freq='D')"
   ]
  },
  {
   "cell_type": "markdown",
   "id": "b3864ca4",
   "metadata": {
    "lines_to_next_cell": 0
   },
   "source": [
    "默认情况下，date_range会产生按天计算的时间点。如果只传入起始或结束日期，那就还得传入一个表示一段时间的数字："
   ]
  },
  {
   "cell_type": "code",
   "execution_count": null,
   "id": "81b0eb68",
   "metadata": {},
   "outputs": [],
   "source": [
    "In [76]: pd.date_range(start='2012-04-01', periods=20)\n",
    "Out[76]: \n",
    "DatetimeIndex(['2012-04-01', '2012-04-02', '2012-04-03', '2012-04-04',\n",
    "               '2012-04-05', '2012-04-06', '2012-04-07', '2012-04-08',\n",
    "               '2012-04-09', '2012-04-10', '2012-04-11', '2012-04-12',\n",
    "               '2012-04-13', '2012-04-14', '2012-04-15', '2012-04-16',\n",
    "               '2012-04-17', '2012-04-18', '2012-04-19', '2012-04-20'],\n",
    "              dtype='datetime64[ns]', freq='D')\n",
    "\n",
    "In [77]: pd.date_range(end='2012-06-01', periods=20)\n",
    "Out[77]: \n",
    "DatetimeIndex(['2012-05-13', '2012-05-14', '2012-05-15', '2012-05-16',\n",
    "               '2012-05-17', '2012-05-18', '2012-05-19', '2012-05-20',\n",
    "               '2012-05-21', '2012-05-22', '2012-05-23', '2012-05-24',\n",
    "               '2012-05-25', '2012-05-26', '2012-05-27','2012-05-28',\n",
    "               '2012-05-29', '2012-05-30', '2012-05-31', '2012-06-01'],\n",
    "              dtype='datetime64[ns]', freq='D')"
   ]
  },
  {
   "cell_type": "markdown",
   "id": "d9d03657",
   "metadata": {
    "lines_to_next_cell": 0
   },
   "source": [
    "起始和结束日期定义了日期索引的严格边界。例如，如果你想要生成一个由每月最后一个工作日组成的日期索引，可以传入\"BM\"频率（表示business end of month，表11-4是频率列表），这样就只会包含时间间隔内（或刚好在边界上的）符合频率要求的日期："
   ]
  },
  {
   "cell_type": "code",
   "execution_count": null,
   "id": "d8decc95",
   "metadata": {},
   "outputs": [],
   "source": [
    "In [78]: pd.date_range('2000-01-01', '2000-12-01', freq='BM')\n",
    "Out[78]: \n",
    "DatetimeIndex(['2000-01-31', '2000-02-29', '2000-03-31', '2000-04-28',\n",
    "               '2000-05-31', '2000-06-30', '2000-07-31', '2000-08-31',\n",
    "               '2000-09-29', '2000-10-31', '2000-11-30'],\n",
    "              dtype='datetime64[ns]', freq='BM')"
   ]
  },
  {
   "cell_type": "markdown",
   "id": "0c600c48",
   "metadata": {
    "lines_to_next_cell": 0
   },
   "source": [
    "表11-4 基本的时间序列频率（不完整）\n",
    "\n",
    "![](http://upload-images.jianshu.io/upload_images/7178691-c8614ddbd10793ca.png?imageMogr2/auto-orient/strip%7CimageView2/2/w/1240)\n",
    "\n",
    "![](http://upload-images.jianshu.io/upload_images/7178691-8da46ba96544b071.png?imageMogr2/auto-orient/strip%7CimageView2/2/w/1240)\n",
    "\n",
    "![](http://upload-images.jianshu.io/upload_images/7178691-3ca410609195edc4.png?imageMogr2/auto-orient/strip%7CimageView2/2/w/1240)\n",
    "\n",
    "date_range默认会保留起始和结束时间戳的时间信息（如果有的话）："
   ]
  },
  {
   "cell_type": "code",
   "execution_count": null,
   "id": "7e2084de",
   "metadata": {},
   "outputs": [],
   "source": [
    "In [79]: pd.date_range('2012-05-02 12:56:31', periods=5)\n",
    "Out[79]: \n",
    "DatetimeIndex(['2012-05-02 12:56:31', '2012-05-03 12:56:31',\n",
    "               '2012-05-04 12:56:31', '2012-05-05 12:56:31',\n",
    "               '2012-05-06 12:56:31'],\n",
    "              dtype='datetime64[ns]', freq='D')"
   ]
  },
  {
   "cell_type": "markdown",
   "id": "f3523ec5",
   "metadata": {
    "lines_to_next_cell": 0
   },
   "source": [
    "有时，虽然起始和结束日期带有时间信息，但你希望产生一组被规范化（normalize）到午夜的时间戳。normalize选项即可实现该功能："
   ]
  },
  {
   "cell_type": "code",
   "execution_count": null,
   "id": "9e1acd42",
   "metadata": {},
   "outputs": [],
   "source": [
    "In [80]: pd.date_range('2012-05-02 12:56:31', periods=5, normalize=True)\n",
    "Out[80]: \n",
    "DatetimeIndex(['2012-05-02', '2012-05-03', '2012-05-04', '2012-05-05',\n",
    "               '2012-05-06'],\n",
    "              dtype='datetime64[ns]', freq='D')"
   ]
  },
  {
   "cell_type": "markdown",
   "id": "8d11917a",
   "metadata": {
    "lines_to_next_cell": 0
   },
   "source": [
    "## 频率和日期偏移量\n",
    "\n",
    "pandas中的频率是由一个基础频率（base frequency）和一个乘数组成的。基础频率通常以一个字符串别名表示，比如\"M\"表示每月，\"H\"表示每小时。对于每个基础频率，都有一个被称为日期偏移量（date offset）的对象与之对应。例如，按小时计算的频率可以用Hour类表示："
   ]
  },
  {
   "cell_type": "code",
   "execution_count": null,
   "id": "56c7c66d",
   "metadata": {},
   "outputs": [],
   "source": [
    "In [81]: from pandas.tseries.offsets import Hour, Minute\n",
    "\n",
    "In [82]: hour = Hour()\n",
    "\n",
    "In [83]: hour\n",
    "Out[83]: <Hour>"
   ]
  },
  {
   "cell_type": "markdown",
   "id": "33864009",
   "metadata": {
    "lines_to_next_cell": 0
   },
   "source": [
    "传入一个整数即可定义偏移量的倍数："
   ]
  },
  {
   "cell_type": "code",
   "execution_count": null,
   "id": "7dd00737",
   "metadata": {},
   "outputs": [],
   "source": [
    "In [84]: four_hours = Hour(4)\n",
    "\n",
    "In [85]: four_hours\n",
    "Out[85]: <4 * Hours>"
   ]
  },
  {
   "cell_type": "markdown",
   "id": "3d4c3842",
   "metadata": {
    "lines_to_next_cell": 0
   },
   "source": [
    "一般来说，无需明确创建这样的对象，只需使用诸如\"H\"或\"4H\"这样的字符串别名即可。在基础频率前面放上一个整数即可创建倍数："
   ]
  },
  {
   "cell_type": "code",
   "execution_count": null,
   "id": "3bbe4a6c",
   "metadata": {},
   "outputs": [],
   "source": [
    "In [86]: pd.date_range('2000-01-01', '2000-01-03 23:59', freq='4h')\n",
    "Out[86]: \n",
    "DatetimeIndex(['2000-01-01 00:00:00', '2000-01-01 04:00:00',\n",
    "               '2000-01-01 08:00:00', '2000-01-01 12:00:00',\n",
    "               '2000-01-01 16:00:00', '2000-01-01 20:00:00',\n",
    "               '2000-01-02 00:00:00', '2000-01-02 04:00:00',\n",
    "               '2000-01-02 08:00:00', '2000-01-02 12:00:00',\n",
    "               '2000-01-02 16:00:00', '2000-01-02 20:00:00',\n",
    "               '2000-01-03 00:00:00', '2000-01-03 04:00:00',\n",
    "               '2000-01-03 08:00:00', '2000-01-03 12:00:00',\n",
    "               '2000-01-03 16:00:00', '2000-01-03 20:00:00'],\n",
    "              dtype='datetime64[ns]', freq='4H')"
   ]
  },
  {
   "cell_type": "markdown",
   "id": "ff4bffc1",
   "metadata": {
    "lines_to_next_cell": 0
   },
   "source": [
    "大部分偏移量对象都可通过加法进行连接："
   ]
  },
  {
   "cell_type": "code",
   "execution_count": null,
   "id": "a563ba14",
   "metadata": {},
   "outputs": [],
   "source": [
    "In [87]: Hour(2) + Minute(30)\n",
    "Out[87]: <150 * Minutes>"
   ]
  },
  {
   "cell_type": "markdown",
   "id": "bfab1cd1",
   "metadata": {
    "lines_to_next_cell": 0
   },
   "source": [
    "同理，你也可以传入频率字符串（如\"2h30min\"），这种字符串可以被高效地解析为等效的表达式："
   ]
  },
  {
   "cell_type": "code",
   "execution_count": null,
   "id": "a4354f3b",
   "metadata": {},
   "outputs": [],
   "source": [
    "In [88]: pd.date_range('2000-01-01', periods=10, freq='1h30min')\n",
    "Out[88]: \n",
    "DatetimeIndex(['2000-01-01 00:00:00', '2000-01-01 01:30:00',\n",
    "               '2000-01-01 03:00:00', '2000-01-01 04:30:00',\n",
    "               '2000-01-01 06:00:00', '2000-01-01 07:30:00',\n",
    "               '2000-01-01 09:00:00', '2000-01-01 10:30:00',\n",
    "               '2000-01-01 12:00:00', '2000-01-01 13:30:00'],\n",
    "              dtype='datetime64[ns]', freq='90T')"
   ]
  },
  {
   "cell_type": "markdown",
   "id": "334092b6",
   "metadata": {
    "lines_to_next_cell": 0
   },
   "source": [
    "有些频率所描述的时间点并不是均匀分隔的。例如，\"M\"（日历月末）和\"BM\"（每月最后一个工作日）就取决于每月的天数，对于后者，还要考虑月末是不是周末。由于没有更好的术语，我将这些称为锚点偏移量（anchored offset）。\n",
    "\n",
    "表11-4列出了pandas中的频率代码和日期偏移量类。\n",
    "\n",
    ">笔记：用户可以根据实际需求自定义一些频率类以便提供pandas所没有的日期逻辑，但具体的细节超出了本书的范围。             \n",
    "\n",
    "表11-4 时间序列的基础频率\n",
    "\n",
    "![](http://upload-images.jianshu.io/upload_images/7178691-ff139312cd972204.png?imageMogr2/auto-orient/strip%7CimageView2/2/w/1240)\n",
    "\n",
    "![](http://upload-images.jianshu.io/upload_images/7178691-adfa57a998c0296e.png?imageMogr2/auto-orient/strip%7CimageView2/2/w/1240)\n",
    "\n",
    "![](http://upload-images.jianshu.io/upload_images/7178691-d09e577a10d0e6eb.png?imageMogr2/auto-orient/strip%7CimageView2/2/w/1240)\n",
    "\n",
    "## WOM日期\n",
    "\n",
    "WOM（Week Of Month）是一种非常实用的频率类，它以WOM开头。它使你能获得诸如“每月第3个星期五”之类的日期："
   ]
  },
  {
   "cell_type": "code",
   "execution_count": null,
   "id": "67d78425",
   "metadata": {},
   "outputs": [],
   "source": [
    "In [89]: rng = pd.date_range('2012-01-01', '2012-09-01', freq='WOM-3FRI')\n",
    "\n",
    "In [90]: list(rng)\n",
    "Out[90]: \n",
    "[Timestamp('2012-01-20 00:00:00', freq='WOM-3FRI'),\n",
    " Timestamp('2012-02-17 00:00:00', freq='WOM-3FRI'),\n",
    " Timestamp('2012-03-16 00:00:00', freq='WOM-3FRI'),\n",
    " Timestamp('2012-04-20 00:00:00', freq='WOM-3FRI'),\n",
    " Timestamp('2012-05-18 00:00:00', freq='WOM-3FRI'),\n",
    " Timestamp('2012-06-15 00:00:00', freq='WOM-3FRI'),\n",
    " Timestamp('2012-07-20 00:00:00', freq='WOM-3FRI'),\n",
    " Timestamp('2012-08-17 00:00:00', freq='WOM-3FRI')]"
   ]
  },
  {
   "cell_type": "markdown",
   "id": "c8590526",
   "metadata": {
    "lines_to_next_cell": 0
   },
   "source": [
    "## 移动（超前和滞后）数据\n",
    "\n",
    "移动（shifting）指的是沿着时间轴将数据前移或后移。Series和DataFrame都有一个shift方法用于执行单纯的前移或后移操作，保持索引不变："
   ]
  },
  {
   "cell_type": "code",
   "execution_count": null,
   "id": "ae40235a",
   "metadata": {},
   "outputs": [],
   "source": [
    "In [91]: ts = pd.Series(np.random.randn(4),\n",
    "   ....:                index=pd.date_range('1/1/2000', periods=4, freq='M'))\n",
    "\n",
    "In [92]: ts\n",
    "Out[92]: \n",
    "2000-01-31   -0.066748\n",
    "2000-02-29    0.838639\n",
    "2000-03-31   -0.117388\n",
    "2000-04-30   -0.517795\n",
    "Freq: M, dtype: float64\n",
    "\n",
    "In [93]: ts.shift(2)\n",
    "Out[93]: \n",
    "2000-01-31         NaN\n",
    "2000-02-29         NaN\n",
    "2000-03-31   -0.066748\n",
    "2000-04-30    0.838639\n",
    "Freq: M, dtype: float64\n",
    "\n",
    "In [94]: ts.shift(-2)\n",
    "Out[94]: \n",
    "2000-01-31   -0.117388\n",
    "2000-02-29   -0.517795\n",
    "2000-03-31         NaN\n",
    "2000-04-30         NaN\n",
    "Freq: M, dtype: float64"
   ]
  },
  {
   "cell_type": "markdown",
   "id": "2f9e7f96",
   "metadata": {
    "lines_to_next_cell": 0
   },
   "source": [
    "当我们这样进行移动时，就会在时间序列的前面或后面产生缺失数据。\n",
    "\n",
    "shift通常用于计算一个时间序列或多个时间序列（如DataFrame的列）中的百分比变化。可以这样表达："
   ]
  },
  {
   "cell_type": "code",
   "execution_count": null,
   "id": "873f780d",
   "metadata": {},
   "outputs": [],
   "source": [
    "ts / ts.shift(1) - 1"
   ]
  },
  {
   "cell_type": "markdown",
   "id": "3a6b2a0d",
   "metadata": {
    "lines_to_next_cell": 0
   },
   "source": [
    "由于单纯的移位操作不会修改索引，所以部分数据会被丢弃。因此，如果频率已知，则可以将其传给shift以便实现对时间戳进行位移而不是对数据进行简单位移："
   ]
  },
  {
   "cell_type": "code",
   "execution_count": null,
   "id": "912577d5",
   "metadata": {},
   "outputs": [],
   "source": [
    "In [95]: ts.shift(2, freq='M')\n",
    "Out[95]: \n",
    "2000-03-31   -0.066748\n",
    "2000-04-30    0.838639\n",
    "2000-05-31   -0.117388\n",
    "2000-06-30   -0.517795\n",
    "Freq: M, dtype: float64"
   ]
  },
  {
   "cell_type": "markdown",
   "id": "0d2d5442",
   "metadata": {
    "lines_to_next_cell": 0
   },
   "source": [
    "这里还可以使用其他频率，于是你就能非常灵活地对数据进行超前和滞后处理了："
   ]
  },
  {
   "cell_type": "code",
   "execution_count": null,
   "id": "e5c55b76",
   "metadata": {},
   "outputs": [],
   "source": [
    "In [96]: ts.shift(3, freq='D')\n",
    "Out[96]: \n",
    "2000-02-03   -0.066748\n",
    "2000-03-03    0.838639\n",
    "2000-04-03   -0.117388\n",
    "2000-05-03   -0.517795\n",
    "dtype: float64\n",
    "\n",
    "In [97]: ts.shift(1, freq='90T')\n",
    "Out[97]: \n",
    "2000-01-31 01:30:00   -0.066748\n",
    "2000-02-29 01:30:00    0.838639\n",
    "2000-03-31 01:30:00   -0.117388\n",
    "2000-04-30 01:30:00   -0.517795\n",
    "Freq: M, dtype: float64"
   ]
  },
  {
   "cell_type": "markdown",
   "id": "42883da8",
   "metadata": {
    "lines_to_next_cell": 0
   },
   "source": [
    "## 通过偏移量对日期进行位移\n",
    "\n",
    "pandas的日期偏移量还可以用在datetime或Timestamp对象上："
   ]
  },
  {
   "cell_type": "code",
   "execution_count": null,
   "id": "3f4fc52d",
   "metadata": {},
   "outputs": [],
   "source": [
    "In [98]: from pandas.tseries.offsets import Day, MonthEnd\n",
    "\n",
    "In [99]: now = datetime(2011, 11, 17)\n",
    "\n",
    "In [100]: now + 3 * Day()\n",
    "Out[100]: Timestamp('2011-11-20 00:00:00')"
   ]
  },
  {
   "cell_type": "markdown",
   "id": "dc7ec31c",
   "metadata": {
    "lines_to_next_cell": 0
   },
   "source": [
    "如果加的是锚点偏移量（比如MonthEnd），第一次增量会将原日期向前滚动到符合频率规则的下一个日期："
   ]
  },
  {
   "cell_type": "code",
   "execution_count": null,
   "id": "21ff70de",
   "metadata": {},
   "outputs": [],
   "source": [
    "In [101]: now + MonthEnd()\n",
    "Out[101]: Timestamp('2011-11-30 00:00:00')\n",
    "\n",
    "In [102]: now + MonthEnd(2)\n",
    "Out[102]: Timestamp('2011-12-31 00:00:00')"
   ]
  },
  {
   "cell_type": "markdown",
   "id": "078f6a6b",
   "metadata": {
    "lines_to_next_cell": 0
   },
   "source": [
    "通过锚点偏移量的rollforward和rollback方法，可明确地将日期向前或向后“滚动”："
   ]
  },
  {
   "cell_type": "code",
   "execution_count": null,
   "id": "8a3aaf78",
   "metadata": {},
   "outputs": [],
   "source": [
    "In [103]: offset = MonthEnd()\n",
    "\n",
    "In [104]: offset.rollforward(now)\n",
    "Out[104]: Timestamp('2011-11-30 00:00:00')\n",
    "\n",
    "In [105]: offset.rollback(now)\n",
    "Out[105]: Timestamp('2011-10-31 00:00:00')"
   ]
  },
  {
   "cell_type": "markdown",
   "id": "c18a6fdc",
   "metadata": {
    "lines_to_next_cell": 0
   },
   "source": [
    "日期偏移量还有一个巧妙的用法，即结合groupby使用这两个“滚动”方法："
   ]
  },
  {
   "cell_type": "code",
   "execution_count": null,
   "id": "39e06b1b",
   "metadata": {},
   "outputs": [],
   "source": [
    "In [106]: ts = pd.Series(np.random.randn(20),\n",
    "   .....:                index=pd.date_range('1/15/2000', periods=20, freq='4d'))\n",
    "\n",
    "In [107]: ts\n",
    "Out[107]: \n",
    "2000-01-15   -0.116696\n",
    "2000-01-19    2.389645\n",
    "2000-01-23   -0.932454\n",
    "2000-01-27   -0.229331\n",
    "2000-01-31   -1.140330\n",
    "2000-02-04    0.439920\n",
    "2000-02-08   -0.823758\n",
    "2000-02-12   -0.520930\n",
    "2000-02-16    0.350282\n",
    "2000-02-20    0.204395\n",
    "2000-02-24    0.133445\n",
    "2000-02-28    0.327905\n",
    "2000-03-03    0.072153\n",
    "2000-03-07    0.131678\n",
    "2000-03-11   -1.297459\n",
    "2000-03-15    0.997747\n",
    "2000-03-19    0.870955\n",
    "2000-03-23   -0.991253\n",
    "2000-03-27    0.151699\n",
    "2000-03-31    1.266151\n",
    "Freq: 4D, dtype: float64\n",
    "\n",
    "In [108]: ts.groupby(offset.rollforward).mean()\n",
    "Out[108]: \n",
    "2000-01-31   -0.005833\n",
    "2000-02-29    0.015894\n",
    "2000-03-31    0.150209\n",
    "dtype: float64"
   ]
  },
  {
   "cell_type": "markdown",
   "id": "2cfe1cd4",
   "metadata": {
    "lines_to_next_cell": 0
   },
   "source": [
    "当然，更简单、更快速地实现该功能的办法是使用resample（11.6小节将对此进行详细介绍）："
   ]
  },
  {
   "cell_type": "code",
   "execution_count": null,
   "id": "87457459",
   "metadata": {},
   "outputs": [],
   "source": [
    "In [109]: ts.resample('M').mean()\n",
    "Out[109]: \n",
    "2000-01-31   -0.005833\n",
    "2000-02-29    0.015894\n",
    "2000-03-31    0.150209\n",
    "Freq: M, dtype: float64"
   ]
  },
  {
   "cell_type": "markdown",
   "id": "bb198237",
   "metadata": {
    "lines_to_next_cell": 0
   },
   "source": [
    "# 11.4 时区处理\n",
    "\n",
    "时间序列处理工作中最让人不爽的就是对时区的处理。许多人都选择以协调世界时（UTC，它是格林尼治标准时间（Greenwich Mean Time）的接替者，目前已经是国际标准了）来处理时间序列。时区是以UTC偏移量的形式表示的。例如，夏令时期间，纽约比UTC慢4小时，而在全年其他时间则比UTC慢5小时。\n",
    "\n",
    "在Python中，时区信息来自第三方库pytz，它使Python可以使用Olson数据库（汇编了世界时区信息）。这对历史数据非常重要，这是因为由于各地政府的各种突发奇想，夏令时转变日期（甚至UTC偏移量）已经发生过多次改变了。就拿美国来说，DST转变时间自1900年以来就改变过多次！\n",
    "\n",
    "有关pytz库的更多信息，请查阅其文档。就本书而言，由于pandas包装了pytz的功能，因此你可以不用记忆其API，只要记得时区的名称即可。时区名可以在shell中看到，也可以通过文档查看："
   ]
  },
  {
   "cell_type": "code",
   "execution_count": null,
   "id": "3650f4b3",
   "metadata": {},
   "outputs": [],
   "source": [
    "In [110]: import pytz\n",
    "\n",
    "In [111]: pytz.common_timezones[-5:]\n",
    "Out[111]: ['US/Eastern', 'US/Hawaii', 'US/Mountain', 'US/Pacific', 'UTC']"
   ]
  },
  {
   "cell_type": "markdown",
   "id": "6baa89a0",
   "metadata": {
    "lines_to_next_cell": 0
   },
   "source": [
    "要从pytz中获取时区对象，使用pytz.timezone即可："
   ]
  },
  {
   "cell_type": "code",
   "execution_count": null,
   "id": "ede31d84",
   "metadata": {},
   "outputs": [],
   "source": [
    "In [112]: tz = pytz.timezone('America/New_York')\n",
    "\n",
    "In [113]: tz\n",
    "Out[113]: <DstTzInfo 'America/New_York' LMT-1 day, 19:04:00 STD>"
   ]
  },
  {
   "cell_type": "markdown",
   "id": "c9ea7bf6",
   "metadata": {
    "lines_to_next_cell": 0
   },
   "source": [
    "pandas中的方法既可以接受时区名也可以接受这些对象。\n",
    "\n",
    "# 时区本地化和转换\n",
    "\n",
    "默认情况下，pandas中的时间序列是单纯（naive）的时区。看看下面这个时间序列："
   ]
  },
  {
   "cell_type": "code",
   "execution_count": null,
   "id": "4f45b92c",
   "metadata": {},
   "outputs": [],
   "source": [
    "In [114]: rng = pd.date_range('3/9/2012 9:30', periods=6, freq='D')\n",
    "\n",
    "In [115]: ts = pd.Series(np.random.randn(len(rng)), index=rng)\n",
    "\n",
    "In [116]: ts\n",
    "Out[116]: \n",
    "2012-03-09 09:30:00   -0.202469\n",
    "2012-03-10 09:30:00    0.050718\n",
    "2012-03-11 09:30:00    0.639869\n",
    "2012-03-12 09:30:00    0.597594\n",
    "2012-03-13 09:30:00   -0.797246\n",
    "2012-03-14 09:30:00    0.472879\n",
    "Freq: D, dtype: float64"
   ]
  },
  {
   "cell_type": "markdown",
   "id": "c3e7e1d5",
   "metadata": {
    "lines_to_next_cell": 0
   },
   "source": [
    "其索引的tz字段为None："
   ]
  },
  {
   "cell_type": "code",
   "execution_count": null,
   "id": "23447352",
   "metadata": {},
   "outputs": [],
   "source": [
    "In [117]: print(ts.index.tz)\n",
    "None"
   ]
  },
  {
   "cell_type": "markdown",
   "id": "63d4ff02",
   "metadata": {
    "lines_to_next_cell": 0
   },
   "source": [
    "可以用时区集生成日期范围："
   ]
  },
  {
   "cell_type": "code",
   "execution_count": null,
   "id": "27157474",
   "metadata": {},
   "outputs": [],
   "source": [
    "In [118]: pd.date_range('3/9/2012 9:30', periods=10, freq='D', tz='UTC')\n",
    "Out[118]: \n",
    "DatetimeIndex(['2012-03-09 09:30:00+00:00', '2012-03-10 09:30:00+00:00',\n",
    "               '2012-03-11 09:30:00+00:00', '2012-03-12 09:30:00+00:00',\n",
    "               '2012-03-13 09:30:00+00:00', '2012-03-14 09:30:00+00:00',\n",
    "               '2012-03-15 09:30:00+00:00', '2012-03-16 09:30:00+00:00',\n",
    "               '2012-03-17 09:30:00+00:00', '2012-03-18 09:30:00+00:00'],\n",
    "              dtype='datetime64[ns, UTC]', freq='D')"
   ]
  },
  {
   "cell_type": "markdown",
   "id": "80f54bb7",
   "metadata": {
    "lines_to_next_cell": 0
   },
   "source": [
    "从单纯到本地化的转换是通过tz_localize方法处理的："
   ]
  },
  {
   "cell_type": "code",
   "execution_count": null,
   "id": "27709a67",
   "metadata": {},
   "outputs": [],
   "source": [
    "In [119]: ts\n",
    "Out[119]: \n",
    "2012-03-09 09:30:00   -0.202469\n",
    "2012-03-10 09:30:00    0.050718\n",
    "2012-03-11 09:30:00    0.639869\n",
    "2012-03-12 09:30:00    0.597594\n",
    "2012-03-13 09:30:00   -0.797246\n",
    "2012-03-14 09:30:00    0.472879\n",
    "Freq: D, dtype: float64\n",
    "\n",
    "In [120]: ts_utc = ts.tz_localize('UTC')\n",
    "\n",
    "In [121]: ts_utc\n",
    "Out[121]: \n",
    "2012-03-09 09:30:00+00:00   -0.202469\n",
    "2012-03-10 09:30:00+00:00    0.050718\n",
    "2012-03-11 09:30:00+00:00    0.639869\n",
    "2012-03-12 09:30:00+00:00    0.597594\n",
    "2012-03-13 09:30:00+00:00   -0.797246\n",
    "2012-03-14 09:30:00+00:00    0.472879\n",
    "Freq: D, dtype: float64\n",
    "\n",
    "In [122]: ts_utc.index\n",
    "Out[122]: \n",
    "DatetimeIndex(['2012-03-09 09:30:00+00:00', '2012-03-10 09:30:00+00:00',\n",
    "               '2012-03-11 09:30:00+00:00', '2012-03-12 09:30:00+00:00',\n",
    "               '2012-03-13 09:30:00+00:00', '2012-03-14 09:30:00+00:00'],\n",
    "              dtype='datetime64[ns, UTC]', freq='D')"
   ]
  },
  {
   "cell_type": "markdown",
   "id": "d448b819",
   "metadata": {
    "lines_to_next_cell": 0
   },
   "source": [
    "一旦时间序列被本地化到某个特定时区，就可以用tz_convert将其转换到别的时区了："
   ]
  },
  {
   "cell_type": "code",
   "execution_count": null,
   "id": "ccc3a0f3",
   "metadata": {},
   "outputs": [],
   "source": [
    "In [123]: ts_utc.tz_convert('America/New_York')\n",
    "Out[123]: \n",
    "2012-03-09 04:30:00-05:00   -0.202469\n",
    "2012-03-10 04:30:00-05:00    0.050718\n",
    "2012-03-11 05:30:00-04:00    0.639869\n",
    "2012-03-12 05:30:00-04:00    0.597594\n",
    "2012-03-13 05:30:00-04:00   -0.797246\n",
    "2012-03-14 05:30:00-04:00    0.472879\n",
    "Freq: D, dtype: float64"
   ]
  },
  {
   "cell_type": "markdown",
   "id": "de41888b",
   "metadata": {
    "lines_to_next_cell": 0
   },
   "source": [
    "对于上面这种时间序列（它跨越了美国东部时区的夏令时转变期），我们可以将其本地化到EST，然后转换为UTC或柏林时间："
   ]
  },
  {
   "cell_type": "code",
   "execution_count": null,
   "id": "65668424",
   "metadata": {},
   "outputs": [],
   "source": [
    "In [124]: ts_eastern = ts.tz_localize('America/New_York')\n",
    "\n",
    "In [125]: ts_eastern.tz_convert('UTC')\n",
    "Out[125]: \n",
    "2012-03-09 14:30:00+00:00   -0.202469\n",
    "2012-03-10 14:30:00+00:00    0.050718\n",
    "2012-03-11 13:30:00+00:00    0.639869\n",
    "2012-03-12 13:30:00+00:00    0.597594\n",
    "2012-03-13 13:30:00+00:00   -0.797246\n",
    "2012-03-14 13:30:00+00:00    0.472879\n",
    "Freq: D, dtype: float64\n",
    "\n",
    "In [126]: ts_eastern.tz_convert('Europe/Berlin')\n",
    "Out[126]: \n",
    "2012-03-09 15:30:00+01:00   -0.202469\n",
    "2012-03-10 15:30:00+01:00    0.050718\n",
    "2012-03-11 14:30:00+01:00    0.639869\n",
    "2012-03-12 14:30:00+01:00    0.597594\n",
    "2012-03-13 14:30:00+01:00   -0.797246\n",
    "2012-03-14 14:30:00+01:00    0.472879\n",
    "Freq: D, dtype: float64"
   ]
  },
  {
   "cell_type": "markdown",
   "id": "11e47e46",
   "metadata": {
    "lines_to_next_cell": 0
   },
   "source": [
    "tz_localize和tz_convert也是DatetimeIndex的实例方法："
   ]
  },
  {
   "cell_type": "code",
   "execution_count": null,
   "id": "fa5336cf",
   "metadata": {},
   "outputs": [],
   "source": [
    "In [127]: ts.index.tz_localize('Asia/Shanghai')\n",
    "Out[127]: \n",
    "DatetimeIndex(['2012-03-09 09:30:00+08:00', '2012-03-10 09:30:00+08:00',\n",
    "               '2012-03-11 09:30:00+08:00', '2012-03-12 09:30:00+08:00',\n",
    "               '2012-03-13 09:30:00+08:00', '2012-03-14 09:30:00+08:00'],\n",
    "              dtype='datetime64[ns, Asia/Shanghai]', freq='D')"
   ]
  },
  {
   "cell_type": "markdown",
   "id": "a200bde8",
   "metadata": {
    "lines_to_next_cell": 0
   },
   "source": [
    ">注意：对单纯时间戳的本地化操作还会检查夏令时转变期附近容易混淆或不存在的时间。\n",
    "\n",
    "## 操作时区意识型Timestamp对象\n",
    "\n",
    "跟时间序列和日期范围差不多，独立的Timestamp对象也能被从单纯型（naive）本地化为时区意识型（time zone-aware），并从一个时区转换到另一个时区："
   ]
  },
  {
   "cell_type": "code",
   "execution_count": null,
   "id": "f4f07970",
   "metadata": {},
   "outputs": [],
   "source": [
    "In [128]: stamp = pd.Timestamp('2011-03-12 04:00')\n",
    "\n",
    "In [129]: stamp_utc = stamp.tz_localize('utc')\n",
    "\n",
    "In [130]: stamp_utc.tz_convert('America/New_York')\n",
    "Out[130]: Timestamp('2011-03-11 23:00:00-0500', tz='America/New_York')"
   ]
  },
  {
   "cell_type": "markdown",
   "id": "44020c23",
   "metadata": {
    "lines_to_next_cell": 0
   },
   "source": [
    "在创建Timestamp时，还可以传入一个时区信息："
   ]
  },
  {
   "cell_type": "code",
   "execution_count": null,
   "id": "5010bbea",
   "metadata": {},
   "outputs": [],
   "source": [
    "In [131]: stamp_moscow = pd.Timestamp('2011-03-12 04:00', tz='Europe/Moscow')\n",
    "\n",
    "In [132]: stamp_moscow\n",
    "Out[132]: Timestamp('2011-03-12 04:00:00+0300', tz='Europe/Moscow')"
   ]
  },
  {
   "cell_type": "markdown",
   "id": "7361ca94",
   "metadata": {
    "lines_to_next_cell": 0
   },
   "source": [
    "时区意识型Timestamp对象在内部保存了一个UTC时间戳值（自UNIX纪元（1970年1月1日）算起的纳秒数）。这个UTC值在时区转换过程中是不会发生变化的："
   ]
  },
  {
   "cell_type": "code",
   "execution_count": null,
   "id": "1ce9bc3a",
   "metadata": {},
   "outputs": [],
   "source": [
    "In [133]: stamp_utc.value\n",
    "Out[133]: 1299902400000000000\n",
    "\n",
    "In [134]: stamp_utc.tz_convert('America/New_York').value\n",
    "Out[134]: 1299902400000000000"
   ]
  },
  {
   "cell_type": "markdown",
   "id": "e4ed0499",
   "metadata": {
    "lines_to_next_cell": 0
   },
   "source": [
    "当使用pandas的DateOffset对象执行时间算术运算时，运算过程会自动关注是否存在夏令时转变期。这里，我们创建了在DST转变之前的时间戳。首先，来看夏令时转变前的30分钟："
   ]
  },
  {
   "cell_type": "code",
   "execution_count": null,
   "id": "e0469870",
   "metadata": {},
   "outputs": [],
   "source": [
    "In [135]: from pandas.tseries.offsets import Hour\n",
    "\n",
    "In [136]: stamp = pd.Timestamp('2012-03-12 01:30', tz='US/Eastern')\n",
    "\n",
    "In [137]: stamp\n",
    "Out[137]: Timestamp('2012-03-12 01:30:00-0400', tz='US/Eastern')\n",
    "\n",
    "In [138]: stamp + Hour()\n",
    "Out[138]: Timestamp('2012-03-12 02:30:00-0400', tz='US/Eastern')"
   ]
  },
  {
   "cell_type": "markdown",
   "id": "060e2b25",
   "metadata": {
    "lines_to_next_cell": 0
   },
   "source": [
    "然后，夏令时转变前90分钟："
   ]
  },
  {
   "cell_type": "code",
   "execution_count": null,
   "id": "0dbcb137",
   "metadata": {},
   "outputs": [],
   "source": [
    "In [139]: stamp = pd.Timestamp('2012-11-04 00:30', tz='US/Eastern')\n",
    "\n",
    "In [140]: stamp\n",
    "Out[140]: Timestamp('2012-11-04 00:30:00-0400', tz='US/Eastern')\n",
    "\n",
    "In [141]: stamp + 2 * Hour()\n",
    "Out[141]: Timestamp('2012-11-04 01:30:00-0500', tz='US/Eastern')"
   ]
  },
  {
   "cell_type": "markdown",
   "id": "2b001f56",
   "metadata": {
    "lines_to_next_cell": 0
   },
   "source": [
    "## 不同时区之间的运算\n",
    "\n",
    "如果两个时间序列的时区不同，在将它们合并到一起时，最终结果就会是UTC。由于时间戳其实是以UTC存储的，所以这是一个很简单的运算，并不需要发生任何转换："
   ]
  },
  {
   "cell_type": "code",
   "execution_count": null,
   "id": "d041de33",
   "metadata": {},
   "outputs": [],
   "source": [
    "In [142]: rng = pd.date_range('3/7/2012 9:30', periods=10, freq='B')\n",
    "\n",
    "In [143]: ts = pd.Series(np.random.randn(len(rng)), index=rng)\n",
    "\n",
    "In [144]: ts\n",
    "Out[144]: \n",
    "2012-03-07 09:30:00    0.522356\n",
    "2012-03-08 09:30:00   -0.546348\n",
    "2012-03-09 09:30:00   -0.733537\n",
    "2012-03-12 09:30:00    1.302736\n",
    "2012-03-13 09:30:00    0.022199\n",
    "2012-03-14 09:30:00    0.364287\n",
    "2012-03-15 09:30:00   -0.922839\n",
    "2012-03-16 09:30:00    0.312656\n",
    "2012-03-19 09:30:00   -1.128497\n",
    "2012-03-20 09:30:00   -0.333488\n",
    "Freq: B, dtype: float64\n",
    "\n",
    "In [145]: ts1 = ts[:7].tz_localize('Europe/London')\n",
    "\n",
    "In [146]: ts2 = ts1[2:].tz_convert('Europe/Moscow')\n",
    "\n",
    "In [147]: result = ts1 + ts2\n",
    "\n",
    "In [148]: result.index\n",
    "Out[148]: \n",
    "DatetimeIndex(['2012-03-07 09:30:00+00:00', '2012-03-08 09:30:00+00:00',\n",
    "               '2012-03-09 09:30:00+00:00', '2012-03-12 09:30:00+00:00',\n",
    "               '2012-03-13 09:30:00+00:00', '2012-03-14 09:30:00+00:00',\n",
    "               '2012-03-15 09:30:00+00:00'],\n",
    "              dtype='datetime64[ns, UTC]', freq='B')"
   ]
  },
  {
   "cell_type": "markdown",
   "id": "5f335403",
   "metadata": {
    "lines_to_next_cell": 0
   },
   "source": [
    "# 11.5 时期及其算术运算\n",
    "\n",
    "时期（period）表示的是时间区间，比如数日、数月、数季、数年等。Period类所表示的就是这种数据类型，其构造函数需要用到一个字符串或整数，以及表11-4中的频率："
   ]
  },
  {
   "cell_type": "code",
   "execution_count": null,
   "id": "61ace9d8",
   "metadata": {},
   "outputs": [],
   "source": [
    "In [149]: p = pd.Period(2007, freq='A-DEC')\n",
    "\n",
    "In [150]: p\n",
    "Out[150]: Period('2007', 'A-DEC')"
   ]
  },
  {
   "cell_type": "markdown",
   "id": "0542878e",
   "metadata": {
    "lines_to_next_cell": 0
   },
   "source": [
    "这里，这个Period对象表示的是从2007年1月1日到2007年12月31日之间的整段时间。只需对Period对象加上或减去一个整数即可达到根据其频率进行位移的效果："
   ]
  },
  {
   "cell_type": "code",
   "execution_count": null,
   "id": "a8addfa4",
   "metadata": {},
   "outputs": [],
   "source": [
    "In [151]: p + 5\n",
    "Out[151]: Period('2012', 'A-DEC')\n",
    "\n",
    "In [152]: p - 2\n",
    "Out[152]: Period('2005', 'A-DEC')"
   ]
  },
  {
   "cell_type": "markdown",
   "id": "e743d9ea",
   "metadata": {
    "lines_to_next_cell": 0
   },
   "source": [
    "如果两个Period对象拥有相同的频率，则它们的差就是它们之间的单位数量："
   ]
  },
  {
   "cell_type": "code",
   "execution_count": null,
   "id": "8b762328",
   "metadata": {},
   "outputs": [],
   "source": [
    "In [153]: pd.Period('2014', freq='A-DEC') - p\n",
    "Out[153]: 7"
   ]
  },
  {
   "cell_type": "markdown",
   "id": "d0d25a64",
   "metadata": {
    "lines_to_next_cell": 0
   },
   "source": [
    "period_range函数可用于创建规则的时期范围："
   ]
  },
  {
   "cell_type": "code",
   "execution_count": null,
   "id": "77156477",
   "metadata": {},
   "outputs": [],
   "source": [
    "In [154]: rng = pd.period_range('2000-01-01', '2000-06-30', freq='M')\n",
    "\n",
    "In [155]: rng\n",
    "Out[155]: PeriodIndex(['2000-01', '2000-02', '2000-03', '2000-04', '2000-05', '20\n",
    "00-06'], dtype='period[M]', freq='M')"
   ]
  },
  {
   "cell_type": "markdown",
   "id": "6e604a4d",
   "metadata": {
    "lines_to_next_cell": 0
   },
   "source": [
    "PeriodIndex类保存了一组Period，它可以在任何pandas数据结构中被用作轴索引："
   ]
  },
  {
   "cell_type": "code",
   "execution_count": null,
   "id": "923c4664",
   "metadata": {},
   "outputs": [],
   "source": [
    "In [156]: pd.Series(np.random.randn(6), index=rng)\n",
    "Out[156]: \n",
    "2000-01   -0.514551\n",
    "2000-02   -0.559782\n",
    "2000-03   -0.783408\n",
    "2000-04   -1.797685\n",
    "2000-05   -0.172670\n",
    "2000-06    0.680215\n",
    "Freq: M, dtype: float64"
   ]
  },
  {
   "cell_type": "markdown",
   "id": "a440a76a",
   "metadata": {
    "lines_to_next_cell": 0
   },
   "source": [
    "如果你有一个字符串数组，你也可以使用PeriodIndex类："
   ]
  },
  {
   "cell_type": "code",
   "execution_count": null,
   "id": "b1829366",
   "metadata": {},
   "outputs": [],
   "source": [
    "In [157]: values = ['2001Q3', '2002Q2', '2003Q1']\n",
    "\n",
    "In [158]: index = pd.PeriodIndex(values, freq='Q-DEC')\n",
    "\n",
    "In [159]: index\n",
    "Out[159]: PeriodIndex(['2001Q3', '2002Q2', '2003Q1'], dtype='period[Q-DEC]', freq\n",
    "='Q-DEC')"
   ]
  },
  {
   "cell_type": "markdown",
   "id": "41cfa2e9",
   "metadata": {
    "lines_to_next_cell": 0
   },
   "source": [
    "## 时期的频率转换\n",
    "\n",
    "Period和PeriodIndex对象都可以通过其asfreq方法被转换成别的频率。假设我们有一个年度时期，希望将其转换为当年年初或年末的一个月度时期。该任务非常简单："
   ]
  },
  {
   "cell_type": "code",
   "execution_count": null,
   "id": "8b10a5fa",
   "metadata": {},
   "outputs": [],
   "source": [
    "In [160]: p = pd.Period('2007', freq='A-DEC')\n",
    "\n",
    "In [161]: p\n",
    "Out[161]: Period('2007', 'A-DEC')\n",
    "\n",
    "In [162]: p.asfreq('M', how='start')\n",
    "Out[162]: Period('2007-01', 'M')\n",
    "\n",
    "In [163]: p.asfreq('M', how='end')\n",
    "Out[163]: Period('2007-12', 'M')"
   ]
  },
  {
   "cell_type": "markdown",
   "id": "e4bf4075",
   "metadata": {
    "lines_to_next_cell": 0
   },
   "source": [
    "你可以将Period('2007','A-DEC')看做一个被划分为多个月度时期的时间段中的游标。图11-1对此进行了说明。对于一个不以12月结束的财政年度，月度子时期的归属情况就不一样了："
   ]
  },
  {
   "cell_type": "code",
   "execution_count": null,
   "id": "65af5c4c",
   "metadata": {},
   "outputs": [],
   "source": [
    "In [164]: p = pd.Period('2007', freq='A-JUN')\n",
    "\n",
    "In [165]: p\n",
    "Out[165]: Period('2007', 'A-JUN')\n",
    "\n",
    "In [166]: p.asfreq('M', 'start')\n",
    "Out[166]: Period('2006-07', 'M')\n",
    "\n",
    "In [167]: p.asfreq('M', 'end')\n",
    "Out[167]: Period('2007-06', 'M')"
   ]
  },
  {
   "cell_type": "markdown",
   "id": "d79f58d2",
   "metadata": {
    "lines_to_next_cell": 0
   },
   "source": [
    "![图11-1 Period频率转换示例](http://upload-images.jianshu.io/upload_images/7178691-d201200d0e65676f.png?imageMogr2/auto-orient/strip%7CimageView2/2/w/1240)\n",
    "\n",
    "在将高频率转换为低频率时，超时期（superperiod）是由子时期（subperiod）所属的位置决定的。例如，在A-JUN频率中，月份“2007年8月”实际上是属于周期“2008年”的："
   ]
  },
  {
   "cell_type": "code",
   "execution_count": null,
   "id": "9dfaf36a",
   "metadata": {},
   "outputs": [],
   "source": [
    "In [168]: p = pd.Period('Aug-2007', 'M')\n",
    "\n",
    "In [169]: p.asfreq('A-JUN')\n",
    "Out[169]: Period('2008', 'A-JUN')"
   ]
  },
  {
   "cell_type": "markdown",
   "id": "d822d21d",
   "metadata": {
    "lines_to_next_cell": 0
   },
   "source": [
    "完整的PeriodIndex或TimeSeries的频率转换方式也是如此："
   ]
  },
  {
   "cell_type": "code",
   "execution_count": null,
   "id": "d22c18e5",
   "metadata": {},
   "outputs": [],
   "source": [
    "In [170]: rng = pd.period_range('2006', '2009', freq='A-DEC')\n",
    "\n",
    "In [171]: ts = pd.Series(np.random.randn(len(rng)), index=rng)\n",
    "\n",
    "In [172]: ts\n",
    "Out[172]: \n",
    "2006    1.607578\n",
    "2007    0.200381\n",
    "2008   -0.834068\n",
    "2009   -0.302988\n",
    "Freq: A-DEC, dtype: float64\n",
    "\n",
    "In [173]: ts.asfreq('M', how='start')\n",
    "Out[173]: \n",
    "2006-01    1.607578\n",
    "2007-01    0.200381\n",
    "2008-01   -0.834068\n",
    "2009-01   -0.302988\n",
    "Freq: M, dtype: float64"
   ]
  },
  {
   "cell_type": "markdown",
   "id": "db05b791",
   "metadata": {
    "lines_to_next_cell": 0
   },
   "source": [
    "这里，根据年度时期的第一个月，每年的时期被取代为每月的时期。如果我们想要每年的最后一个工作日，我们可以使用“B”频率，并指明想要该时期的末尾："
   ]
  },
  {
   "cell_type": "code",
   "execution_count": null,
   "id": "4198b161",
   "metadata": {},
   "outputs": [],
   "source": [
    "In [174]: ts.asfreq('B', how='end')\n",
    "\n",
    "Out[174]: \n",
    "2006-12-29    1.607578\n",
    "2007-12-31    0.200381\n",
    "2008-12-31   -0.834068\n",
    "2009-12-31   -0.302988\n",
    "Freq: B, dtype: float64"
   ]
  },
  {
   "cell_type": "markdown",
   "id": "745ffc39",
   "metadata": {},
   "source": [
    "## 按季度计算的时期频率\n",
    "\n",
    "季度型数据在会计、金融等领域中很常见。许多季度型数据都会涉及“财年末”的概念，通常是一年12个月中某月的最后一个日历日或工作日。就这一点来说，时期\"2012Q4\"根据财年末的不同会有不同的含义。pandas支持12种可能的季度型频率，即Q-JAN到Q-DEC："
   ]
  },
  {
   "cell_type": "code",
   "execution_count": null,
   "id": "2f52073e",
   "metadata": {},
   "outputs": [],
   "source": [
    "In [175]: p = pd.Period('2012Q4', freq='Q-JAN')\n",
    "\n",
    "In [176]: p\n",
    "Out[176]: Period('2012Q4', 'Q-JAN')"
   ]
  },
  {
   "cell_type": "markdown",
   "id": "36418f80",
   "metadata": {},
   "source": [
    "在以1月结束的财年中，2012Q4是从11月到1月（将其转换为日型频率就明白了）。图11-2对此进行了说明："
   ]
  },
  {
   "cell_type": "code",
   "execution_count": null,
   "id": "d4204076",
   "metadata": {},
   "outputs": [],
   "source": [
    "In [177]: p.asfreq('D', 'start')\n",
    "Out[177]: Period('2011-11-01', 'D')\n",
    "\n",
    "In [178]: p.asfreq('D', 'end')\n",
    "Out[178]: Period('2012-01-31', 'D')"
   ]
  },
  {
   "cell_type": "markdown",
   "id": "c502d9ea",
   "metadata": {},
   "source": [
    "![图11.2 不同季度型频率之间的转换](http://upload-images.jianshu.io/upload_images/7178691-e2e1d52c9766f6ff.png?imageMogr2/auto-orient/strip%7CimageView2/2/w/1240)\n",
    "\n",
    "因此，Period之间的算术运算会非常简单。例如，要获取该季度倒数第二个工作日下午4点的时间戳，你可以这样："
   ]
  },
  {
   "cell_type": "code",
   "execution_count": null,
   "id": "b4ccf3bf",
   "metadata": {},
   "outputs": [],
   "source": [
    "In [179]: p4pm = (p.asfreq('B', 'e') - 1).asfreq('T', 's') + 16 * 60\n",
    "\n",
    "In [180]: p4pm\n",
    "Out[180]: Period('2012-01-30 16:00', 'T')\n",
    "\n",
    "In [181]: p4pm.to_timestamp()\n",
    "Out[181]: Timestamp('2012-01-30 16:00:00')"
   ]
  },
  {
   "cell_type": "markdown",
   "id": "632aec85",
   "metadata": {
    "lines_to_next_cell": 0
   },
   "source": [
    "period_range可用于生成季度型范围。季度型范围的算术运算也跟上面是一样的："
   ]
  },
  {
   "cell_type": "code",
   "execution_count": null,
   "id": "c506d6cd",
   "metadata": {},
   "outputs": [],
   "source": [
    "In [182]: rng = pd.period_range('2011Q3', '2012Q4', freq='Q-JAN')\n",
    "\n",
    "In [183]: ts = pd.Series(np.arange(len(rng)), index=rng)\n",
    "\n",
    "In [184]: ts\n",
    "Out[184]: \n",
    "2011Q3    0\n",
    "2011Q4    1\n",
    "2012Q1    2\n",
    "2012Q2    3\n",
    "2012Q3    4\n",
    "2012Q4    5\n",
    "Freq: Q-JAN, dtype: int64\n",
    "\n",
    "In [185]: new_rng = (rng.asfreq('B', 'e') - 1).asfreq('T', 's') + 16 * 60\n",
    "\n",
    "In [186]: ts.index = new_rng.to_timestamp()\n",
    "\n",
    "In [187]: ts\n",
    "Out[187]:\n",
    "2010-10-28 16:00:00    0\n",
    "2011-01-28 16:00:00    1\n",
    "2011-04-28 16:00:00    2\n",
    "2011-07-28 16:00:00    3\n",
    "2011-10-28 16:00:00    4\n",
    "2012-01-30 16:00:00    5\n",
    "dtype: int64"
   ]
  },
  {
   "cell_type": "markdown",
   "id": "6da5191b",
   "metadata": {},
   "source": [
    "## 将Timestamp转换为Period（及其反向过程）\n",
    "\n",
    "通过使用to_period方法，可以将由时间戳索引的Series和DataFrame对象转换为以时期索引："
   ]
  },
  {
   "cell_type": "code",
   "execution_count": null,
   "id": "c734b01e",
   "metadata": {},
   "outputs": [],
   "source": [
    "In [188]: rng = pd.date_range('2000-01-01', periods=3, freq='M')\n",
    "\n",
    "In [189]: ts = pd.Series(np.random.randn(3), index=rng)\n",
    "\n",
    "In [190]: ts\n",
    "Out[190]: \n",
    "2000-01-31    1.663261\n",
    "2000-02-29   -0.996206\n",
    "2000-03-31    1.521760\n",
    "Freq: M, dtype: float64\n",
    "\n",
    "In [191]: pts = ts.to_period()\n",
    "\n",
    "In [192]: pts\n",
    "Out[192]: \n",
    "2000-01    1.663261\n",
    "2000-02   -0.996206\n",
    "2000-03    1.521760\n",
    "Freq: M, dtype: float64"
   ]
  },
  {
   "cell_type": "markdown",
   "id": "e7c22ae5",
   "metadata": {
    "lines_to_next_cell": 0
   },
   "source": [
    "由于时期指的是非重叠时间区间，因此对于给定的频率，一个时间戳只能属于一个时期。新PeriodIndex的频率默认是从时间戳推断而来的，你也可以指定任何别的频率。结果中允许存在重复时期："
   ]
  },
  {
   "cell_type": "code",
   "execution_count": null,
   "id": "a835f907",
   "metadata": {},
   "outputs": [],
   "source": [
    "In [193]: rng = pd.date_range('1/29/2000', periods=6, freq='D')\n",
    "\n",
    "In [194]: ts2 = pd.Series(np.random.randn(6), index=rng)\n",
    "\n",
    "In [195]: ts2\n",
    "Out[195]: \n",
    "2000-01-29    0.244175\n",
    "2000-01-30    0.423331\n",
    "2000-01-31   -0.654040\n",
    "2000-02-01    2.089154\n",
    "2000-02-02   -0.060220\n",
    "2000-02-03   -0.167933\n",
    "Freq: D, dtype: float64\n",
    "\n",
    "In [196]: ts2.to_period('M')\n",
    "Out[196]: \n",
    "2000-01    0.244175\n",
    "2000-01    0.423331\n",
    "2000-01   -0.654040\n",
    "2000-02    2.089154\n",
    "2000-02   -0.060220\n",
    "2000-02   -0.167933\n",
    "Freq: M, dtype: float64"
   ]
  },
  {
   "cell_type": "markdown",
   "id": "913e8ef9",
   "metadata": {},
   "source": [
    "要转换回时间戳，使用to_timestamp即可："
   ]
  },
  {
   "cell_type": "code",
   "execution_count": null,
   "id": "a7bbcbd0",
   "metadata": {},
   "outputs": [],
   "source": [
    "In [197]: pts = ts2.to_period()\n",
    "\n",
    "In [198]: pts\n",
    "Out[198]: \n",
    "2000-01-29    0.244175\n",
    "2000-01-30    0.423331\n",
    "2000-01-31   -0.654040\n",
    "2000-02-01    2.089154\n",
    "2000-02-02   -0.060220\n",
    "2000-02-03   -0.167933\n",
    "Freq: D, dtype: float64\n",
    "\n",
    "In [199]: pts.to_timestamp(how='end')\n",
    "Out[199]: \n",
    "2000-01-29    0.244175\n",
    "2000-01-30    0.423331\n",
    "2000-01-31   -0.654040\n",
    "2000-02-01    2.089154\n",
    "2000-02-02   -0.060220\n",
    "2000-02-03   -0.167933\n",
    "Freq: D, dtype: float64"
   ]
  },
  {
   "cell_type": "markdown",
   "id": "724f98d2",
   "metadata": {
    "lines_to_next_cell": 0
   },
   "source": [
    "## 通过数组创建PeriodIndex\n",
    "\n",
    "固定频率的数据集通常会将时间信息分开存放在多个列中。例如，在下面这个宏观经济数据集中，年度和季度就分别存放在不同的列中："
   ]
  },
  {
   "cell_type": "code",
   "execution_count": null,
   "id": "fa33a98c",
   "metadata": {},
   "outputs": [],
   "source": [
    "In [200]: data = pd.read_csv('examples/macrodata.csv')\n",
    "\n",
    "In [201]: data.head(5)\n",
    "Out[201]: \n",
    "     year  quarter   realgdp  realcons  realinv  realgovt  realdpi    cpi  \\\n",
    "0  1959.0      1.0  2710.349    1707.4  286.898   470.045   1886.9  28.98   \n",
    "1  1959.0      2.0  2778.801    1733.7  310.859   481.301   1919.7  29.15   \n",
    "2  1959.0      3.0  2775.488    1751.8  289.226   491.260   1916.4  29.35   \n",
    "3  1959.0      4.0  2785.204    1753.7  299.356   484.052   1931.3  29.37   \n",
    "4  1960.0      1.0  2847.699    1770.5  331.722   462.199   1955.5  29.54   \n",
    "      m1  tbilrate  unemp      pop  infl  realint  \n",
    "0  139.7      2.82    5.8  177.146  0.00     0.00  \n",
    "1  141.7      3.08    5.1  177.830  2.34     0.74  \n",
    "2  140.5      3.82    5.3  178.657  2.74     1.09  \n",
    "3  140.0      4.33    5.6  179.386  0.27     4.06  \n",
    "4  139.6      3.50    5.2  180.007  2.31     1.19  \n",
    "\n",
    "In [202]: data.year\n",
    "Out[202]: \n",
    "0      1959.0\n",
    "1      1959.0\n",
    "2      1959.0\n",
    "3      1959.0\n",
    "4      1960.0\n",
    "5      1960.0\n",
    "6      1960.0\n",
    "7      1960.0\n",
    "8      1961.0\n",
    "9      1961.0\n",
    "        ...  \n",
    "193    2007.0\n",
    "194    2007.0\n",
    "195    2007.0\n",
    "196    2008.0\n",
    "197    2008.0\n",
    "198    2008.0\n",
    "199    2008.0\n",
    "200    2009.0\n",
    "201    2009.0\n",
    "202    2009.0\n",
    "Name: year, Length: 203, dtype: float64\n",
    "\n",
    "In [203]: data.quarter\n",
    "Out[203]: \n",
    "0      1.0\n",
    "1      2.0\n",
    "2      3.0\n",
    "3      4.0\n",
    "4      1.0\n",
    "5      2.0\n",
    "6      3.0\n",
    "7      4.0\n",
    "8      1.0\n",
    "9      2.0\n",
    "      ... \n",
    "193    2.0\n",
    "194    3.0\n",
    "195    4.0\n",
    "196    1.0\n",
    "197    2.0\n",
    "198    3.0\n",
    "199    4.0\n",
    "200    1.0\n",
    "201    2.0\n",
    "202    3.0\n",
    "Name: quarter, Length: 203, dtype: float64"
   ]
  },
  {
   "cell_type": "markdown",
   "id": "4e9b7cf2",
   "metadata": {
    "lines_to_next_cell": 0
   },
   "source": [
    "通过将这些数组以及一个频率传入PeriodIndex，就可以将它们合并成DataFrame的一个索引："
   ]
  },
  {
   "cell_type": "code",
   "execution_count": null,
   "id": "fd48e346",
   "metadata": {},
   "outputs": [],
   "source": [
    "In [204]: index = pd.PeriodIndex(year=data.year, quarter=data.quarter,\n",
    "   .....:                        freq='Q-DEC')\n",
    "\n",
    "In [205]: index\n",
    "Out[205]: \n",
    "PeriodIndex(['1959Q1', '1959Q2', '1959Q3', '1959Q4', '1960Q1', '1960Q2',\n",
    "             '1960Q3', '1960Q4', '1961Q1', '1961Q2',\n",
    "             ...\n",
    "             '2007Q2', '2007Q3', '2007Q4', '2008Q1', '2008Q2', '2008Q3',\n",
    "             '2008Q4', '2009Q1', '2009Q2', '2009Q3'],\n",
    "            dtype='period[Q-DEC]', length=203, freq='Q-DEC')\n",
    "\n",
    "In [206]: data.index = index\n",
    "\n",
    "In [207]: data.infl\n",
    "Out[207]: \n",
    "1959Q1    0.00\n",
    "1959Q2    2.34\n",
    "1959Q3    2.74\n",
    "1959Q4    0.27\n",
    "1960Q1    2.31\n",
    "1960Q2    0.14\n",
    "1960Q3    2.70\n",
    "1960Q4    1.21\n",
    "1961Q1   -0.40\n",
    "1961Q2    1.47\n",
    "          ... \n",
    "2007Q2    2.75\n",
    "2007Q3    3.45\n",
    "2007Q4    6.38\n",
    "2008Q1    2.82\n",
    "2008Q2    8.53\n",
    "2008Q3   -3.16\n",
    "2008Q4   -8.79\n",
    "2009Q1    0.94\n",
    "2009Q2    3.37\n",
    "2009Q3    3.56\n",
    "Freq: Q-DEC, Name: infl, Length: 203, dtype: float64"
   ]
  },
  {
   "cell_type": "markdown",
   "id": "e2e83206",
   "metadata": {
    "lines_to_next_cell": 0
   },
   "source": [
    "# 11.6 重采样及频率转换\n",
    "\n",
    "重采样（resampling）指的是将时间序列从一个频率转换到另一个频率的处理过程。将高频率数据聚合到低频率称为降采样（downsampling），而将低频率数据转换到高频率则称为升采样（upsampling）。并不是所有的重采样都能被划分到这两个大类中。例如，将W-WED（每周三）转换为W-FRI既不是降采样也不是升采样。\n",
    "\n",
    "pandas对象都带有一个resample方法，它是各种频率转换工作的主力函数。resample有一个类似于groupby的API，调用resample可以分组数据，然后会调用一个聚合函数："
   ]
  },
  {
   "cell_type": "code",
   "execution_count": null,
   "id": "e3f3529e",
   "metadata": {},
   "outputs": [],
   "source": [
    "In [208]: rng = pd.date_range('2000-01-01', periods=100, freq='D')\n",
    "\n",
    "In [209]: ts = pd.Series(np.random.randn(len(rng)), index=rng)\n",
    "\n",
    "In [210]: ts\n",
    "Out[210]: \n",
    "2000-01-01    0.631634\n",
    "2000-01-02   -1.594313\n",
    "2000-01-03   -1.519937\n",
    "2000-01-04    1.108752\n",
    "2000-01-05    1.255853\n",
    "2000-01-06   -0.024330\n",
    "2000-01-07   -2.047939\n",
    "2000-01-08   -0.272657\n",
    "2000-01-09   -1.692615\n",
    "2000-01-10    1.423830\n",
    "                ...   \n",
    "2000-03-31   -0.007852\n",
    "2000-04-01   -1.638806\n",
    "2000-04-02    1.401227\n",
    "2000-04-03    1.758539\n",
    "2000-04-04    0.628932\n",
    "2000-04-05   -0.423776\n",
    "2000-04-06    0.789740\n",
    "2000-04-07    0.937568\n",
    "2000-04-08   -2.253294\n",
    "2000-04-09   -1.772919\n",
    "Freq: D, Length: 100, dtype: float64\n",
    "\n",
    "In [211]: ts.resample('M').mean()\n",
    "Out[211]: \n",
    "2000-01-31   -0.165893\n",
    "2000-02-29    0.078606\n",
    "2000-03-31    0.223811\n",
    "2000-04-30   -0.063643\n",
    "Freq: M, dtype: float64\n",
    "\n",
    "In [212]: ts.resample('M', kind='period').mean()\n",
    "Out[212]: \n",
    "2000-01   -0.165893\n",
    "2000-02    0.078606\n",
    "2000-03    0.223811\n",
    "2000-04   -0.063643\n",
    "Freq: M, dtype: float64"
   ]
  },
  {
   "cell_type": "markdown",
   "id": "db8d727b",
   "metadata": {},
   "source": [
    "resample是一个灵活高效的方法，可用于处理非常大的时间序列。我将通过一系列的示例说明其用法。表11-5总结它的一些选项。\n",
    "\n",
    "表11-5 resample方法的参数\n",
    "![](https://upload-images.jianshu.io/upload_images/7178691-b40a57086c904e83.png?imageMogr2/auto-orient/strip%7CimageView2/2/w/1240)\n"
   ]
  },
  {
   "cell_type": "markdown",
   "id": "825c41d9",
   "metadata": {
    "lines_to_next_cell": 0
   },
   "source": [
    "## 降采样\n",
    "\n",
    "将数据聚合到规律的低频率是一件非常普通的时间序列处理任务。待聚合的数据不必拥有固定的频率，期望的频率会自动定义聚合的面元边界，这些面元用于将时间序列拆分为多个片段。例如，要转换到月度频率（'M'或'BM'），数据需要被划分到多个单月时间段中。各时间段都是半开放的。一个数据点只能属于一个时间段，所有时间段的并集必须能组成整个时间帧。在用resample对数据进行降采样时，需要考虑两样东西：\n",
    "\n",
    "- 各区间哪边是闭合的。\n",
    "- 如何标记各个聚合面元，用区间的开头还是末尾。\n",
    "\n",
    "为了说明，我们来看一些“1分钟”数据："
   ]
  },
  {
   "cell_type": "code",
   "execution_count": null,
   "id": "4eacf986",
   "metadata": {},
   "outputs": [],
   "source": [
    "In [213]: rng = pd.date_range('2000-01-01', periods=12, freq='T')\n",
    "\n",
    "In [214]: ts = pd.Series(np.arange(12), index=rng)\n",
    "\n",
    "In [215]: ts\n",
    "Out[215]: \n",
    "2000-01-01 00:00:00     0\n",
    "2000-01-01 00:01:00     1\n",
    "2000-01-01 00:02:00     2\n",
    "2000-01-01 00:03:00     3\n",
    "2000-01-01 00:04:00     4\n",
    "2000-01-01 00:05:00     5\n",
    "2000-01-01 00:06:00     6\n",
    "2000-01-01 00:07:00     7\n",
    "2000-01-01 00:08:00     8\n",
    "2000-01-01 00:09:00     9\n",
    "2000-01-01 00:10:00    10\n",
    "2000-01-01 00:11:00    11\n",
    "Freq: T, dtype: int64"
   ]
  },
  {
   "cell_type": "markdown",
   "id": "b78129ca",
   "metadata": {
    "lines_to_next_cell": 0
   },
   "source": [
    "假设你想要通过求和的方式将这些数据聚合到“5分钟”块中："
   ]
  },
  {
   "cell_type": "code",
   "execution_count": null,
   "id": "9c343fc0",
   "metadata": {},
   "outputs": [],
   "source": [
    "In [216]: ts.resample('5min', closed='right').sum()\n",
    "Out[216]: \n",
    "1999-12-31 23:55:00     0\n",
    "2000-01-01 00:00:00    15\n",
    "2000-01-01 00:05:00    40\n",
    "2000-01-01 00:10:00    11\n",
    "Freq: 5T, dtype: int64"
   ]
  },
  {
   "cell_type": "markdown",
   "id": "6727dfa3",
   "metadata": {
    "lines_to_next_cell": 0
   },
   "source": [
    "传入的频率将会以“5分钟”的增量定义面元边界。默认情况下，面元的右边界是包含的，因此00:00到00:05的区间中是包含00:05的。传入closed='left'会让区间以左边界闭合："
   ]
  },
  {
   "cell_type": "code",
   "execution_count": null,
   "id": "2686ed56",
   "metadata": {},
   "outputs": [],
   "source": [
    "In [217]: ts.resample('5min', closed='right').sum()\n",
    "Out[217]: \n",
    "1999-12-31 23:55:00     0\n",
    "2000-01-01 00:00:00    15\n",
    "2000-01-01 00:05:00    40\n",
    "2000-01-01 00:10:00    11\n",
    "Freq: 5T, dtype: int64"
   ]
  },
  {
   "cell_type": "markdown",
   "id": "62f3ba74",
   "metadata": {
    "lines_to_next_cell": 0
   },
   "source": [
    "如你所见，最终的时间序列是以各面元右边界的时间戳进行标记的。传入label='right'即可用面元的邮编界对其进行标记："
   ]
  },
  {
   "cell_type": "code",
   "execution_count": null,
   "id": "f03fc636",
   "metadata": {},
   "outputs": [],
   "source": [
    "In [218]: ts.resample('5min', closed='right', label='right').sum()\n",
    "Out[218]: \n",
    "2000-01-01 00:00:00     0\n",
    "2000-01-01 00:05:00    15\n",
    "2000-01-01 00:10:00    40\n",
    "2000-01-01 00:15:00    11\n",
    "Freq: 5T, dtype: int64"
   ]
  },
  {
   "cell_type": "markdown",
   "id": "536a160a",
   "metadata": {
    "lines_to_next_cell": 0
   },
   "source": [
    "图11-3说明了“1分钟”数据被转换为“5分钟”数据的处理过程。\n",
    "\n",
    "![图11-3 各种closed、label约定的“5分钟”重采样演示](http://upload-images.jianshu.io/upload_images/7178691-7a77f47844f2ee8c.png?imageMogr2/auto-orient/strip%7CimageView2/2/w/1240)\n",
    "\n",
    "最后，你可能希望对结果索引做一些位移，比如从右边界减去一秒以便更容易明白该时间戳到底表示的是哪个区间。只需通过loffset设置一个字符串或日期偏移量即可实现这个目的："
   ]
  },
  {
   "cell_type": "code",
   "execution_count": null,
   "id": "993cb4a0",
   "metadata": {},
   "outputs": [],
   "source": [
    "In [219]: ts.resample('5min', closed='right',\n",
    "   .....:             label='right', loffset='-1s').sum()\n",
    "Out[219]: \n",
    "1999-12-31 23:59:59     0\n",
    "2000-01-01 00:04:59    15\n",
    "In [219]: ts.resample('5min', closed='right',\n",
    "   .....:             label='right', loffset='-1s').sum()\n",
    "Out[219]: \n",
    "1999-12-31 23:59:59     0\n",
    "2000-01-01 00:04:59    15"
   ]
  },
  {
   "cell_type": "markdown",
   "id": "309d8d27",
   "metadata": {
    "lines_to_next_cell": 0
   },
   "source": [
    "此外，也可以通过调用结果对象的shift方法来实现该目的，这样就不需要设置loffset了。\n",
    "\n",
    "##OHLC重采样\n",
    "\n",
    "金融领域中有一种无所不在的时间序列聚合方式，即计算各面元的四个值：第一个值（open，开盘）、最后一个值（close，收盘）、最大值（high，最高）以及最小值（low，最低）。传入how='ohlc'即可得到一个含有这四种聚合值的DataFrame。整个过程很高效，只需一次扫描即可计算出结果："
   ]
  },
  {
   "cell_type": "code",
   "execution_count": null,
   "id": "7ec9726a",
   "metadata": {},
   "outputs": [],
   "source": [
    "In [220]: ts.resample('5min').ohlc()\n",
    "Out[220]: \n",
    "                     open  high  low  close\n",
    "2000-01-01 00:00:00     0     4    0      4\n",
    "2000-01-01 00:05:00     5     9    5      9\n",
    "2000-01-01 00:10:00    10    11   10     11"
   ]
  },
  {
   "cell_type": "markdown",
   "id": "4945c5f2",
   "metadata": {
    "lines_to_next_cell": 0
   },
   "source": [
    "##升采样和插值\n",
    "\n",
    "在将数据从低频率转换到高频率时，就不需要聚合了。我们来看一个带有一些周型数据的DataFrame："
   ]
  },
  {
   "cell_type": "code",
   "execution_count": null,
   "id": "6b546ca4",
   "metadata": {},
   "outputs": [],
   "source": [
    "In [221]: frame = pd.DataFrame(np.random.randn(2, 4),\n",
    "   .....:                      index=pd.date_range('1/1/2000', periods=2,\n",
    "   .....:                                          freq='W-WED'),\n",
    "   .....:                      columns=['Colorado', 'Texas', 'New York', 'Ohio'])\n",
    "\n",
    "In [222]: frame\n",
    "Out[222]: \n",
    "            Colorado     Texas  New York      Ohio\n",
    "2000-01-05 -0.896431  0.677263  0.036503  0.087102\n",
    "2000-01-12 -0.046662  0.927238  0.482284 -0.867130"
   ]
  },
  {
   "cell_type": "markdown",
   "id": "70db5c01",
   "metadata": {
    "lines_to_next_cell": 0
   },
   "source": [
    "当你对这个数据进行聚合，每组只有一个值，这样就会引入缺失值。我们使用asfreq方法转换成高频，不经过聚合："
   ]
  },
  {
   "cell_type": "code",
   "execution_count": null,
   "id": "fbc93694",
   "metadata": {},
   "outputs": [],
   "source": [
    "In [223]: df_daily = frame.resample('D').asfreq()\n",
    "\n",
    "In [224]: df_daily\n",
    "Out[224]: \n",
    "            Colorado     Texas  New York      Ohio\n",
    "2000-01-05 -0.896431  0.677263  0.036503  0.087102\n",
    "2000-01-06       NaN       NaN       NaN       NaN\n",
    "2000-01-07       NaN       NaN       NaN       NaN\n",
    "2000-01-08       NaN       NaN       NaN       NaN\n",
    "2000-01-09       NaN       NaN       NaN       NaN\n",
    "2000-01-10       NaN       NaN       NaN       NaN\n",
    "2000-01-11       NaN       NaN       NaN       NaN\n",
    "2000-01-12 -0.046662  0.927238  0.482284 -0.867130"
   ]
  },
  {
   "cell_type": "markdown",
   "id": "c6c24bf2",
   "metadata": {
    "lines_to_next_cell": 0
   },
   "source": [
    "假设你想要用前面的周型值填充“非星期三”。resampling的填充和插值方式跟fillna和reindex的一样："
   ]
  },
  {
   "cell_type": "code",
   "execution_count": null,
   "id": "dfa2db8a",
   "metadata": {},
   "outputs": [],
   "source": [
    "In [225]: frame.resample('D').ffill()\n",
    "Out[225]: \n",
    "            Colorado     Texas  New York      Ohio\n",
    "2000-01-05 -0.896431  0.677263  0.036503  0.087102\n",
    "2000-01-06 -0.896431  0.677263  0.036503  0.087102\n",
    "2000-01-07 -0.896431  0.677263  0.036503  0.087102\n",
    "2000-01-08 -0.896431  0.677263  0.036503  0.087102\n",
    "2000-01-09 -0.896431  0.677263  0.036503  0.087102\n",
    "2000-01-10 -0.896431  0.677263  0.036503  0.087102\n",
    "2000-01-11 -0.896431  0.677263  0.036503  0.087102\n",
    "2000-01-12 -0.046662  0.927238  0.482284 -0.867130"
   ]
  },
  {
   "cell_type": "markdown",
   "id": "ac831be0",
   "metadata": {
    "lines_to_next_cell": 0
   },
   "source": [
    "同样，这里也可以只填充指定的时期数（目的是限制前面的观测值的持续使用距离）："
   ]
  },
  {
   "cell_type": "code",
   "execution_count": null,
   "id": "0833916b",
   "metadata": {},
   "outputs": [],
   "source": [
    "In [226]: frame.resample('D').ffill(limit=2)\n",
    "Out[226]:\n",
    "            Colorado     Texas  New York      Ohio\n",
    "2000-01-05 -0.896431  0.677263  0.036503  0.087102\n",
    "2000-01-06 -0.896431  0.677263  0.036503  0.087102\n",
    "2000-01-07 -0.896431  0.677263  0.036503  0.087102\n",
    "2000-01-08       NaN       NaN       NaN       NaN\n",
    "2000-01-09       NaN       NaN       NaN       NaN\n",
    "2000-01-10       NaN       NaN       NaN       NaN\n",
    "2000-01-11       NaN       NaN       NaN       NaN\n",
    "2000-01-12 -0.046662  0.927238  0.482284 -0.867130"
   ]
  },
  {
   "cell_type": "markdown",
   "id": "80be4677",
   "metadata": {
    "lines_to_next_cell": 0
   },
   "source": [
    "注意，新的日期索引完全没必要跟旧的重叠："
   ]
  },
  {
   "cell_type": "code",
   "execution_count": null,
   "id": "3da548f7",
   "metadata": {},
   "outputs": [],
   "source": [
    "In [227]: frame.resample('W-THU').ffill()\n",
    "Out[227]: \n",
    "            Colorado     Texas  New York      Ohio\n",
    "2000-01-06 -0.896431  0.677263  0.036503  0.087102\n",
    "2000-01-13 -0.046662  0.927238  0.482284 -0.867130"
   ]
  },
  {
   "cell_type": "markdown",
   "id": "d00c369b",
   "metadata": {},
   "source": [
    "## 通过时期进行重采样\n",
    "\n",
    "对那些使用时期索引的数据进行重采样与时间戳很像："
   ]
  },
  {
   "cell_type": "code",
   "execution_count": null,
   "id": "04b54b98",
   "metadata": {},
   "outputs": [],
   "source": [
    "In [228]: frame = pd.DataFrame(np.random.randn(24, 4),\n",
    "   .....:                      index=pd.period_range('1-2000', '12-2001',\n",
    "   .....:                                            freq='M'),\n",
    "   .....:                      columns=['Colorado', 'Texas', 'New York', 'Ohio'])\n",
    "\n",
    "In [229]: frame[:5]\n",
    "Out[229]: \n",
    "         Colorado     Texas  New York      Ohio\n",
    "2000-01  0.493841 -0.155434  1.397286  1.507055\n",
    "2000-02 -1.179442  0.443171  1.395676 -0.529658\n",
    "2000-03  0.787358  0.248845  0.743239  1.267746\n",
    "2000-04  1.302395 -0.272154 -0.051532 -0.467740\n",
    "2000-05 -1.040816  0.426419  0.312945 -1.115689\n",
    "\n",
    "In [230]: annual_frame = frame.resample('A-DEC').mean()\n",
    "\n",
    "In [231]: annual_frame\n",
    "Out[231]: \n",
    "      Colorado     Texas  New York      Ohio\n",
    "2000  0.556703  0.016631  0.111873 -0.027445\n",
    "2001  0.046303  0.163344  0.251503 -0.157276"
   ]
  },
  {
   "cell_type": "markdown",
   "id": "640aae8f",
   "metadata": {},
   "source": [
    "升采样要稍微麻烦一些，因为你必须决定在新频率中各区间的哪端用于放置原来的值，就像asfreq方法那样。convention参数默认为'start'，也可设置为'end'："
   ]
  },
  {
   "cell_type": "code",
   "execution_count": null,
   "id": "6ba63062",
   "metadata": {},
   "outputs": [],
   "source": [
    "# Q-DEC: Quarterly, year ending in December\n",
    "In [232]: annual_frame.resample('Q-DEC').ffill()\n",
    "Out[232]: \n",
    "        Colorado     Texas  New York      Ohio\n",
    "2000Q1  0.556703  0.016631  0.111873 -0.027445\n",
    "2000Q2  0.556703  0.016631  0.111873 -0.027445\n",
    "2000Q3  0.556703  0.016631  0.111873 -0.027445\n",
    "2000Q4  0.556703  0.016631  0.111873 -0.027445\n",
    "2001Q1  0.046303  0.163344  0.251503 -0.157276\n",
    "2001Q2  0.046303  0.163344  0.251503 -0.157276\n",
    "2001Q3  0.046303  0.163344  0.251503 -0.157276\n",
    "2001Q4  0.046303  0.163344  0.251503 -0.157276\n",
    "\n",
    "In [233]: annual_frame.resample('Q-DEC', convention='end').ffill()\n",
    "Out[233]: \n",
    "        Colorado     Texas  New York      Ohio\n",
    "2000Q4  0.556703  0.016631  0.111873 -0.027445\n",
    "2001Q1  0.556703  0.016631  0.111873 -0.027445\n",
    "2001Q2  0.556703  0.016631  0.111873 -0.027445\n",
    "2001Q3  0.556703  0.016631  0.111873 -0.027445\n",
    "2001Q4  0.046303  0.163344  0.251503 -0.157276"
   ]
  },
  {
   "cell_type": "markdown",
   "id": "5724b2ed",
   "metadata": {
    "lines_to_next_cell": 0
   },
   "source": [
    "由于时期指的是时间区间，所以升采样和降采样的规则就比较严格：\n",
    "\n",
    "- 在降采样中，目标频率必须是源频率的子时期（subperiod）。\n",
    "- 在升采样中，目标频率必须是源频率的超时期（superperiod）。\n",
    "\n",
    "如果不满足这些条件，就会引发异常。这主要影响的是按季、年、周计算的频率。例如，由Q-MAR定义的时间区间只能升采样为A-MAR、A-JUN、A-SEP、A-DEC等："
   ]
  },
  {
   "cell_type": "code",
   "execution_count": null,
   "id": "26662a4b",
   "metadata": {},
   "outputs": [],
   "source": [
    "In [234]: annual_frame.resample('Q-MAR').ffill()\n",
    "Out[234]: \n",
    "        Colorado     Texas  New York      Ohio\n",
    "2000Q4  0.556703  0.016631  0.111873 -0.027445\n",
    "2001Q1  0.556703  0.016631  0.111873 -0.027445\n",
    "2001Q2  0.556703  0.016631  0.111873 -0.027445\n",
    "2001Q3  0.556703  0.016631  0.111873 -0.027445\n",
    "2001Q4  0.046303  0.163344  0.251503 -0.157276\n",
    "2002Q1  0.046303  0.163344  0.251503 -0.157276\n",
    "2002Q2  0.046303  0.163344  0.251503 -0.157276\n",
    "2002Q3  0.046303  0.163344  0.251503 -0.157276"
   ]
  },
  {
   "cell_type": "markdown",
   "id": "07b3f815",
   "metadata": {
    "lines_to_next_cell": 0
   },
   "source": [
    "# 11.7 移动窗口函数\n",
    "\n",
    "在移动窗口（可以带有指数衰减权数）上计算的各种统计函数也是一类常见于时间序列的数组变换。这样可以圆滑噪音数据或断裂数据。我将它们称为移动窗口函数（moving window function），其中还包括那些窗口不定长的函数（如指数加权移动平均）。跟其他统计函数一样，移动窗口函数也会自动排除缺失值。\n",
    "\n",
    "开始之前，我们加载一些时间序列数据，将其重采样为工作日频率："
   ]
  },
  {
   "cell_type": "code",
   "execution_count": null,
   "id": "fe43a94a",
   "metadata": {},
   "outputs": [],
   "source": [
    "In [235]: close_px_all = pd.read_csv('examples/stock_px_2.csv',\n",
    "   .....:                            parse_dates=True, index_col=0)\n",
    "\n",
    "In [236]: close_px = close_px_all[['AAPL', 'MSFT', 'XOM']]\n",
    "\n",
    "In [237]: close_px = close_px.resample('B').ffill()"
   ]
  },
  {
   "cell_type": "markdown",
   "id": "6c5bbb1f",
   "metadata": {
    "lines_to_next_cell": 0
   },
   "source": [
    "现在引入rolling运算符，它与resample和groupby很像。可以在TimeSeries或DataFrame以及一个window（表示期数，见图11-4）上调用它："
   ]
  },
  {
   "cell_type": "code",
   "execution_count": null,
   "id": "72bf5d5f",
   "metadata": {},
   "outputs": [],
   "source": [
    "In [238]: close_px.AAPL.plot()\n",
    "Out[238]: <matplotlib.axes._subplots.AxesSubplot at 0x7f2f2570cf98>\n",
    "\n",
    "In [239]: close_px.AAPL.rolling(250).mean().plot()"
   ]
  },
  {
   "cell_type": "markdown",
   "id": "0bc21fce",
   "metadata": {
    "lines_to_next_cell": 0
   },
   "source": [
    "![图11-4 苹果公司股价的250日均线](http://upload-images.jianshu.io/upload_images/7178691-3327483eab730b09.png?imageMogr2/auto-orient/strip%7CimageView2/2/w/1240)\n",
    "\n",
    "表达式rolling(250)与groupby很像，但不是对其进行分组，而是创建一个按照250天分组的滑动窗口对象。然后，我们就得到了苹果公司股价的250天的移动窗口。\n",
    "\n",
    "默认情况下，rolling函数需要窗口中所有的值为非NA值。可以修改该行为以解决缺失数据的问题。其实，在时间序列开始处尚不足窗口期的那些数据就是个特例（见图11-5）："
   ]
  },
  {
   "cell_type": "code",
   "execution_count": null,
   "id": "c118116c",
   "metadata": {},
   "outputs": [],
   "source": [
    "In [241]: appl_std250 = close_px.AAPL.rolling(250, min_periods=10).std()\n",
    "\n",
    "In [242]: appl_std250[5:12]\n",
    "Out[242]: \n",
    "2003-01-09         NaN\n",
    "2003-01-10         NaN\n",
    "2003-01-13         NaN\n",
    "2003-01-14         NaN\n",
    "2003-01-15    0.077496\n",
    "2003-01-16    0.074760\n",
    "2003-01-17    0.112368\n",
    "Freq: B, Name: AAPL, dtype: float64\n",
    "\n",
    "In [243]: appl_std250.plot()"
   ]
  },
  {
   "cell_type": "markdown",
   "id": "2b5230b3",
   "metadata": {
    "lines_to_next_cell": 0
   },
   "source": [
    "![图11-5 苹果公司250日每日回报标准差](http://upload-images.jianshu.io/upload_images/7178691-15f565bed1ccad09.png?imageMogr2/auto-orient/strip%7CimageView2/2/w/1240)\n",
    "\n",
    "要计算扩展窗口平均（expanding window mean），可以使用expanding而不是rolling。“扩展”意味着，从时间序列的起始处开始窗口，增加窗口直到它超过所有的序列。apple_std250时间序列的扩展窗口平均如下所示："
   ]
  },
  {
   "cell_type": "code",
   "execution_count": null,
   "id": "a8b2d97f",
   "metadata": {},
   "outputs": [],
   "source": [
    "In [244]: expanding_mean = appl_std250.expanding().mean()"
   ]
  },
  {
   "cell_type": "markdown",
   "id": "9b7f7076",
   "metadata": {
    "lines_to_next_cell": 0
   },
   "source": [
    "对DataFrame调用rolling_mean（以及与之类似的函数）会将转换应用到所有的列上（见图11-6）："
   ]
  },
  {
   "cell_type": "code",
   "execution_count": null,
   "id": "213f0583",
   "metadata": {},
   "outputs": [],
   "source": [
    "In [246]: close_px.rolling(60).mean().plot(logy=True)"
   ]
  },
  {
   "cell_type": "markdown",
   "id": "4d02ea66",
   "metadata": {
    "lines_to_next_cell": 0
   },
   "source": [
    "![图11-6 各股价60日均线（对数Y轴）](http://upload-images.jianshu.io/upload_images/7178691-979f748052b2279f.png?imageMogr2/auto-orient/strip%7CimageView2/2/w/1240)\n",
    "\n",
    "rolling函数也可以接受一个指定固定大小时间补偿字符串，而不是一组时期。这样可以方便处理不规律的时间序列。这些字符串也可以传递给resample。例如，我们可以计算20天的滚动均值，如下所示："
   ]
  },
  {
   "cell_type": "code",
   "execution_count": null,
   "id": "4675518e",
   "metadata": {},
   "outputs": [],
   "source": [
    "In [247]: close_px.rolling('20D').mean()\n",
    "Out[247]:\n",
    "                  AAPL       MSFT        XOM\n",
    "2003-01-02    7.400000  21.110000  29.220000\n",
    "2003-01-03    7.425000  21.125000  29.230000\n",
    "2003-01-06    7.433333  21.256667  29.473333\n",
    "2003-01-07    7.432500  21.425000  29.342500\n",
    "2003-01-08    7.402000  21.402000  29.240000\n",
    "2003-01-09    7.391667  21.490000  29.273333\n",
    "2003-01-10    7.387143  21.558571  29.238571\n",
    "2003-01-13    7.378750  21.633750  29.197500\n",
    "2003-01-14    7.370000  21.717778  29.194444\n",
    "2003-01-15    7.355000  21.757000  29.152000\n",
    "...                ...        ...        ...\n",
    "2011-10-03  398.002143  25.890714  72.413571\n",
    "2011-10-04  396.802143  25.807857  72.427143\n",
    "2011-10-05  395.751429  25.729286  72.422857\n",
    "2011-10-06  394.099286  25.673571  72.375714\n",
    "2011-10-07  392.479333  25.712000  72.454667\n",
    "2011-10-10  389.351429  25.602143  72.527857\n",
    "2011-10-11  388.505000  25.674286  72.835000\n",
    "2011-10-12  388.531429  25.810000  73.400714\n",
    "2011-10-13  388.826429  25.961429  73.905000\n",
    "2011-10-14  391.038000  26.048667  74.185333\n",
    "[2292 rows x 3 columns]"
   ]
  },
  {
   "cell_type": "markdown",
   "id": "3d20d6f8",
   "metadata": {
    "lines_to_next_cell": 0
   },
   "source": [
    "## 指数加权函数\n",
    "\n",
    "另一种使用固定大小窗口及相等权数观测值的办法是，定义一个衰减因子（decay factor）常量，以便使近期的观测值拥有更大的权数。衰减因子的定义方式有很多，比较流行的是使用时间间隔（span），它可以使结果兼容于窗口大小等于时间间隔的简单移动窗口（simple moving window）函数。\n",
    "\n",
    "由于指数加权统计会赋予近期的观测值更大的权数，因此相对于等权统计，它能“适应”更快的变化。\n",
    "\n",
    "除了rolling和expanding，pandas还有ewm运算符。下面这个例子对比了苹果公司股价的30日移动平均和span=30的指数加权移动平均（如图11-7所示）："
   ]
  },
  {
   "cell_type": "code",
   "execution_count": null,
   "id": "5044ebdc",
   "metadata": {},
   "outputs": [],
   "source": [
    "In [249]: aapl_px = close_px.AAPL['2006':'2007']\n",
    "\n",
    "In [250]: ma60 = aapl_px.rolling(30, min_periods=20).mean()\n",
    "\n",
    "In [251]: ewma60 = aapl_px.ewm(span=30).mean()\n",
    "\n",
    "In [252]: ma60.plot(style='k--', label='Simple MA')\n",
    "Out[252]: <matplotlib.axes._subplots.AxesSubplot at 0x7f2f252161d0>\n",
    "\n",
    "In [253]: ewma60.plot(style='k-', label='EW MA')\n",
    "Out[253]: <matplotlib.axes._subplots.AxesSubplot at 0x7f2f252161d0>\n",
    "\n",
    "In [254]: plt.legend()"
   ]
  },
  {
   "cell_type": "markdown",
   "id": "3d7490fb",
   "metadata": {
    "lines_to_next_cell": 0
   },
   "source": [
    "![图11-7 简单移动平均与指数加权移动平均](http://upload-images.jianshu.io/upload_images/7178691-dae48defe3749fad.png?imageMogr2/auto-orient/strip%7CimageView2/2/w/1240)\n",
    "\n",
    "## 二元移动窗口函数\n",
    "\n",
    "有些统计运算（如相关系数和协方差）需要在两个时间序列上执行。例如，金融分析师常常对某只股票对某个参考指数（如标准普尔500指数）的相关系数感兴趣。要进行说明，我们先计算我们感兴趣的时间序列的百分数变化："
   ]
  },
  {
   "cell_type": "code",
   "execution_count": null,
   "id": "f006e5e4",
   "metadata": {},
   "outputs": [],
   "source": [
    "In [256]: spx_px = close_px_all['SPX']\n",
    "\n",
    "In [257]: spx_rets = spx_px.pct_change()\n",
    "\n",
    "In [258]: returns = close_px.pct_change()"
   ]
  },
  {
   "cell_type": "markdown",
   "id": "4468224b",
   "metadata": {
    "lines_to_next_cell": 0
   },
   "source": [
    "调用rolling之后，corr聚合函数开始计算与spx_rets滚动相关系数（结果见图11-8）："
   ]
  },
  {
   "cell_type": "code",
   "execution_count": null,
   "id": "2c0788a3",
   "metadata": {},
   "outputs": [],
   "source": [
    "In [259]: corr = returns.AAPL.rolling(125, min_periods=100).corr(spx_rets)\n",
    "\n",
    "In [260]: corr.plot()"
   ]
  },
  {
   "cell_type": "markdown",
   "id": "f784801f",
   "metadata": {
    "lines_to_next_cell": 0
   },
   "source": [
    "![图11-8 AAPL 6个月的回报与标准普尔500指数的相关系数](http://upload-images.jianshu.io/upload_images/7178691-e81e0f602b4db0ed.png?imageMogr2/auto-orient/strip%7CimageView2/2/w/1240)\n",
    "\n",
    "假设你想要一次性计算多只股票与标准普尔500指数的相关系数。虽然编写一个循环并新建一个DataFrame不是什么难事，但比较啰嗦。其实，只需传入一个TimeSeries和一个DataFrame，rolling_corr就会自动计算TimeSeries（本例中就是spx_rets）与DataFrame各列的相关系数。结果如图11-9所示："
   ]
  },
  {
   "cell_type": "code",
   "execution_count": null,
   "id": "d9145dca",
   "metadata": {},
   "outputs": [],
   "source": [
    "In [262]: corr = returns.rolling(125, min_periods=100).corr(spx_rets)\n",
    "\n",
    "In [263]: corr.plot()"
   ]
  },
  {
   "cell_type": "markdown",
   "id": "9e094ff9",
   "metadata": {},
   "source": [
    "![图11-9 3只股票6个月的回报与标准普尔500指数的相关系数](http://upload-images.jianshu.io/upload_images/7178691-0a54a028a62b9b50.png?imageMogr2/auto-orient/strip%7CimageView2/2/w/1240)"
   ]
  },
  {
   "cell_type": "markdown",
   "id": "23cadcc0",
   "metadata": {
    "lines_to_next_cell": 0
   },
   "source": [
    "## 用户定义的移动窗口函数\n",
    "\n",
    "rolling_apply函数使你能够在移动窗口上应用自己设计的数组函数。唯一要求的就是：该函数要能从数组的各个片段中产生单个值（即约简）。比如说，当我们用rolling(...).quantile(q)计算样本分位数时，可能对样本中特定值的百分等级感兴趣。scipy.stats.percentileofscore函数就能达到这个目的（结果见图11-10）："
   ]
  },
  {
   "cell_type": "code",
   "execution_count": null,
   "id": "2f71bb29",
   "metadata": {},
   "outputs": [],
   "source": [
    "In [265]: from scipy.stats import percentileofscore\n",
    "\n",
    "In [266]: score_at_2percent = lambda x: percentileofscore(x, 0.02)\n",
    "\n",
    "In [267]: result = returns.AAPL.rolling(250).apply(score_at_2percent)\n",
    "\n",
    "In [268]: result.plot()"
   ]
  },
  {
   "cell_type": "markdown",
   "id": "3ec0b5e5",
   "metadata": {},
   "source": [
    "![图11-10 AAPL 2%回报率的百分等级（一年窗口期）](http://upload-images.jianshu.io/upload_images/7178691-af49e84a90c23c1e.png?imageMogr2/auto-orient/strip%7CimageView2/2/w/1240)\n",
    "\n",
    "如果你没安装SciPy，可以使用conda或pip安装。\n",
    "\n",
    "# 11.8 总结\n",
    "\n",
    "与前面章节接触的数据相比，时间序列数据要求不同类型的分析和数据转换工具。\n",
    "\n",
    "在接下来的章节中，我们将学习一些高级的pandas方法和如何开始使用建模库statsmodels和scikit-learn。"
   ]
  }
 ],
 "metadata": {
  "jupytext": {
   "cell_metadata_filter": "-all",
   "main_language": "python",
   "notebook_metadata_filter": "-all"
  }
 },
 "nbformat": 4,
 "nbformat_minor": 5
}
