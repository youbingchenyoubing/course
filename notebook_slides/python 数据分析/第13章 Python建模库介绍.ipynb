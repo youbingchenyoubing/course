{
 "cells": [
  {
   "cell_type": "markdown",
   "id": "304fd5de",
   "metadata": {
    "lines_to_next_cell": 0
   },
   "source": [
    "本书中，我已经介绍了Python数据分析的编程基础。因为数据分析师和科学家总是在数据规整和准备上花费大量时间，这本书的重点在于掌握这些功能。\n",
    "\n",
    "开发模型选用什么库取决于应用本身。许多统计问题可以用简单方法解决，比如普通的最小二乘回归，其它问题可能需要复杂的机器学习方法。幸运的是，Python已经成为了运用这些分析方法的语言之一，因此读完此书，你可以探索许多工具。\n",
    "\n",
    "本章中，我会回顾一些pandas的特点，在你胶着于pandas数据规整和模型拟合和评分时，它们可能派上用场。然后我会简短介绍两个流行的建模工具，statsmodels和scikit-learn。这二者每个都值得再写一本书，我就不做全面的介绍，而是建议你学习两个项目的线上文档和其它基于Python的数据科学、统计和机器学习的书籍。\n",
    "\n",
    "# 13.1 pandas与模型代码的接口\n",
    "\n",
    "模型开发的通常工作流是使用pandas进行数据加载和清洗，然后切换到建模库进行建模。开发模型的重要一环是机器学习中的“特征工程”。它可以描述从原始数据集中提取信息的任何数据转换或分析，这些数据集可能在建模中有用。本书中学习的数据聚合和GroupBy工具常用于特征工程中。\n",
    "\n",
    "优秀的特征工程超出了本书的范围，我会尽量直白地介绍一些用于数据操作和建模切换的方法。\n",
    "\n",
    "pandas与其它分析库通常是靠NumPy的数组联系起来的。将DataFrame转换为NumPy数组，可以使用.values属性："
   ]
  },
  {
   "cell_type": "code",
   "execution_count": null,
   "id": "1b6edbc1",
   "metadata": {},
   "outputs": [],
   "source": [
    "In [10]: import pandas as pd\n",
    "\n",
    "In [11]: import numpy as np\n",
    "\n",
    "In [12]: data = pd.DataFrame({\n",
    "   ....:     'x0': [1, 2, 3, 4, 5],\n",
    "   ....:     'x1': [0.01, -0.01, 0.25, -4.1, 0.],\n",
    "   ....:     'y': [-1.5, 0., 3.6, 1.3, -2.]})\n",
    "\n",
    "In [13]: data\n",
    "Out[13]: \n",
    "   x0    x1    y\n",
    "0   1  0.01 -1.5\n",
    "1   2 -0.01  0.0\n",
    "2   3  0.25  3.6\n",
    "3   4 -4.10  1.3\n",
    "4   5  0.00 -2.0\n",
    "\n",
    "In [14]: data.columns\n",
    "Out[14]: Index(['x0', 'x1', 'y'], dtype='object')\n",
    "\n",
    "In [15]: data.values\n",
    "Out[15]: \n",
    "array([[ 1.  ,  0.01, -1.5 ],\n",
    "       [ 2.  , -0.01,  0.  ],\n",
    "       [ 3.  ,  0.25,  3.6 ],\n",
    "       [ 4.  , -4.1 ,  1.3 ],\n",
    "       [ 5.  ,  0.  , -2.  ]])"
   ]
  },
  {
   "cell_type": "markdown",
   "id": "1150ed08",
   "metadata": {
    "lines_to_next_cell": 0
   },
   "source": [
    "要转换回DataFrame，可以传递一个二维ndarray，可带有列名："
   ]
  },
  {
   "cell_type": "code",
   "execution_count": null,
   "id": "9ceb07a7",
   "metadata": {},
   "outputs": [],
   "source": [
    "In [16]: df2 = pd.DataFrame(data.values, columns=['one', 'two', 'three'])\n",
    "\n",
    "In [17]: df2\n",
    "Out[17]: \n",
    "   one   two  three\n",
    "0  1.0  0.01   -1.5\n",
    "1  2.0 -0.01    0.0\n",
    "2  3.0  0.25    3.6\n",
    "3  4.0 -4.10    1.3\n",
    "4  5.0  0.00   -2.0"
   ]
  },
  {
   "cell_type": "markdown",
   "id": "30d6e6fc",
   "metadata": {
    "lines_to_next_cell": 0
   },
   "source": [
    ">笔记：最好当数据是均匀的时候使用.values属性。例如，全是数值类型。如果数据是不均匀的，结果会是Python对象的ndarray：\n",
    ">```python\n",
    ">In [18]: df3 = data.copy()\n",
    ">\n",
    ">In [19]: df3['strings'] = ['a', 'b', 'c', 'd', 'e']\n",
    ">\n",
    ">In [20]: df3\n",
    ">Out[20]: \n",
    ">   x0    x1    y strings\n",
    ">0   1  0.01 -1.5       a\n",
    ">1   2 -0.01  0.0       b\n",
    ">2   3  0.25  3.6       c\n",
    ">3   4 -4.10  1.3       d\n",
    ">4   5  0.00 -2.0       e\n",
    ">\n",
    ">In [21]: df3.values\n",
    ">Out[21]: \n",
    ">array([[1, 0.01, -1.5, 'a'],\n",
    ">       [2, -0.01, 0.0, 'b'],\n",
    ">       [3, 0.25, 3.6, 'c'],\n",
    ">       [4, -4.1, 1.3, 'd'],\n",
    ">       [5, 0.0, -2.0, 'e']], dtype=object)\n",
    ">```\n",
    "\n",
    "对于一些模型，你可能只想使用列的子集。我建议你使用loc，用values作索引："
   ]
  },
  {
   "cell_type": "code",
   "execution_count": null,
   "id": "13f93552",
   "metadata": {},
   "outputs": [],
   "source": [
    "In [22]: model_cols = ['x0', 'x1']\n",
    "\n",
    "In [23]: data.loc[:, model_cols].values\n",
    "Out[23]: \n",
    "array([[ 1.  ,  0.01],\n",
    "       [ 2.  , -0.01],\n",
    "       [ 3.  ,  0.25],\n",
    "       [ 4.  , -4.1 ],\n",
    "       [ 5.  ,  0.  ]])"
   ]
  },
  {
   "cell_type": "markdown",
   "id": "e840109d",
   "metadata": {
    "lines_to_next_cell": 0
   },
   "source": [
    "一些库原生支持pandas，会自动完成工作：从DataFrame转换到NumPy，将模型的参数名添加到输出表的列或Series。其它情况，你可以手工进行“元数据管理”。\n",
    "\n",
    "在第12章，我们学习了pandas的Categorical类型和pandas.get_dummies函数。假设数据集中有一个非数值列："
   ]
  },
  {
   "cell_type": "code",
   "execution_count": null,
   "id": "6e0bbb88",
   "metadata": {},
   "outputs": [],
   "source": [
    "In [24]: data['category'] = pd.Categorical(['a', 'b', 'a', 'a', 'b'],\n",
    "   ....:                                   categories=['a', 'b'])\n",
    "\n",
    "In [25]: data\n",
    "Out[25]: \n",
    "   x0    x1    y category\n",
    "0   1  0.01 -1.5        a\n",
    "1   2 -0.01  0.0        b\n",
    "2   3  0.25  3.6        a\n",
    "3   4 -4.10  1.3        a\n",
    "4   5  0.00 -2.0        b"
   ]
  },
  {
   "cell_type": "markdown",
   "id": "a2349966",
   "metadata": {
    "lines_to_next_cell": 0
   },
   "source": [
    "如果我们想替换category列为虚变量，我们可以创建虚变量，删除category列，然后添加到结果："
   ]
  },
  {
   "cell_type": "code",
   "execution_count": null,
   "id": "fae41d9c",
   "metadata": {},
   "outputs": [],
   "source": [
    "In [26]: dummies = pd.get_dummies(data.category, prefix='category')\n",
    "\n",
    "In [27]: data_with_dummies = data.drop('category', axis=1).join(dummies)\n",
    "\n",
    "In [28]: data_with_dummies\n",
    "Out[28]: \n",
    "   x0    x1    y  category_a  category_b\n",
    "0   1  0.01 -1.5           1           0\n",
    "1   2 -0.01  0.0           0           1\n",
    "2   3  0.25  3.6           1           0\n",
    "3   4 -4.10  1.3           1           0\n",
    "4   5  0.00 -2.0           0           1"
   ]
  },
  {
   "cell_type": "markdown",
   "id": "17355894",
   "metadata": {
    "lines_to_next_cell": 0
   },
   "source": [
    "用虚变量拟合某些统计模型会有一些细微差别。当你不只有数字列时，使用Patsy（下一节的主题）可能更简单，更不容易出错。\n",
    "\n",
    "# 13.2 用Patsy创建模型描述\n",
    "\n",
    "Patsy是Python的一个库，使用简短的字符串“公式语法”描述统计模型（尤其是线性模型），可能是受到了R和S统计编程语言的公式语法的启发。\n",
    "\n",
    "Patsy适合描述statsmodels的线性模型，因此我会关注于它的主要特点，让你尽快掌握。Patsy的公式是一个特殊的字符串语法，如下所示："
   ]
  },
  {
   "cell_type": "code",
   "execution_count": null,
   "id": "042324c5",
   "metadata": {},
   "outputs": [],
   "source": [
    "y ~ x0 + x1"
   ]
  },
  {
   "cell_type": "markdown",
   "id": "e3a1e28a",
   "metadata": {
    "lines_to_next_cell": 0
   },
   "source": [
    "a+b不是将a与b相加的意思，而是为模型创建的设计矩阵。patsy.dmatrices函数接收一个公式字符串和一个数据集（可以是DataFrame或数组的字典），为线性模型创建设计矩阵："
   ]
  },
  {
   "cell_type": "code",
   "execution_count": null,
   "id": "2dca7a76",
   "metadata": {},
   "outputs": [],
   "source": [
    "In [29]: data = pd.DataFrame({\n",
    "   ....:     'x0': [1, 2, 3, 4, 5],\n",
    "   ....:     'x1': [0.01, -0.01, 0.25, -4.1, 0.],\n",
    "   ....:     'y': [-1.5, 0., 3.6, 1.3, -2.]})\n",
    "\n",
    "In [30]: data\n",
    "Out[30]: \n",
    "   x0    x1    y\n",
    "0   1  0.01 -1.5\n",
    "1   2 -0.01  0.0\n",
    "2   3  0.25  3.6\n",
    "3   4 -4.10  1.3\n",
    "4   5  0.00 -2.0\n",
    "\n",
    "In [31]: import patsy\n",
    "\n",
    "In [32]: y, X = patsy.dmatrices('y ~ x0 + x1', data)"
   ]
  },
  {
   "cell_type": "markdown",
   "id": "ccfad7d7",
   "metadata": {
    "lines_to_next_cell": 0
   },
   "source": [
    "现在有："
   ]
  },
  {
   "cell_type": "code",
   "execution_count": null,
   "id": "5be87b0c",
   "metadata": {},
   "outputs": [],
   "source": [
    "In [33]: y\n",
    "Out[33]: \n",
    "DesignMatrix with shape (5, 1)\n",
    "     y\n",
    "  -1.5\n",
    "   0.0\n",
    "   3.6\n",
    "   1.3\n",
    "  -2.0\n",
    "  Terms:\n",
    "    'y' (column 0)\n",
    "\n",
    "In [34]: X\n",
    "Out[34]: \n",
    "DesignMatrix with shape (5, 3)\n",
    "  Intercept  x0     x1\n",
    "          1   1   0.01\n",
    "          1   2  -0.01\n",
    "          1   3   0.25\n",
    "          1   4  -4.10\n",
    "          1   5   0.00\n",
    "  Terms:\n",
    "    'Intercept' (column 0)\n",
    "    'x0' (column 1)\n",
    "    'x1' (column 2)"
   ]
  },
  {
   "cell_type": "markdown",
   "id": "6c08f40d",
   "metadata": {
    "lines_to_next_cell": 0
   },
   "source": [
    "这些Patsy的DesignMatrix实例是NumPy的ndarray，带有附加元数据："
   ]
  },
  {
   "cell_type": "code",
   "execution_count": null,
   "id": "cba7b667",
   "metadata": {},
   "outputs": [],
   "source": [
    "In [35]: np.asarray(y)\n",
    "Out[35]: \n",
    "array([[-1.5],\n",
    "       [ 0. ],\n",
    "       [ 3.6],\n",
    "       [ 1.3],\n",
    "       [-2. ]])\n",
    "\n",
    "In [36]: np.asarray(X)\n",
    "Out[36]: \n",
    "array([[ 1.  ,  1.  ,  0.01],\n",
    "       [ 1.  ,  2.  , -0.01],\n",
    "       [ 1.  ,  3.  ,  0.25],\n",
    "       [ 1.  ,  4.  , -4.1 ],\n",
    "       [ 1.  ,  5.  ,  0.  ]])"
   ]
  },
  {
   "cell_type": "markdown",
   "id": "165341b1",
   "metadata": {
    "lines_to_next_cell": 0
   },
   "source": [
    "你可能想Intercept是哪里来的。这是线性模型（比如普通最小二乘回归）的惯例用法。添加 +0 到模型可以不显示intercept："
   ]
  },
  {
   "cell_type": "code",
   "execution_count": null,
   "id": "69c62fde",
   "metadata": {},
   "outputs": [],
   "source": [
    "In [37]: patsy.dmatrices('y ~ x0 + x1 + 0', data)[1]\n",
    "Out[37]: \n",
    "DesignMatrix with shape (5, 2)\n",
    "  x0     x1\n",
    "   1   0.01\n",
    "   2  -0.01\n",
    "   3   0.25\n",
    "   4  -4.10\n",
    "   5   0.00\n",
    "  Terms:\n",
    "    'x0' (column 0)\n",
    "    'x1' (column 1)"
   ]
  },
  {
   "cell_type": "markdown",
   "id": "feb086d1",
   "metadata": {
    "lines_to_next_cell": 0
   },
   "source": [
    "Patsy对象可以直接传递到算法（比如numpy.linalg.lstsq）中，它执行普通最小二乘回归："
   ]
  },
  {
   "cell_type": "code",
   "execution_count": null,
   "id": "a8478fa9",
   "metadata": {},
   "outputs": [],
   "source": [
    "In [38]: coef, resid, _, _ = np.linalg.lstsq(X, y)"
   ]
  },
  {
   "cell_type": "markdown",
   "id": "5db92043",
   "metadata": {
    "lines_to_next_cell": 0
   },
   "source": [
    "模型的元数据保留在design_info属性中，因此你可以重新附加列名到拟合系数，以获得一个Series，例如："
   ]
  },
  {
   "cell_type": "code",
   "execution_count": null,
   "id": "cb9cd20f",
   "metadata": {},
   "outputs": [],
   "source": [
    "In [39]: coef\n",
    "Out[39]: \n",
    "array([[ 0.3129],\n",
    "       [-0.0791],\n",
    "       [-0.2655]])\n",
    "\n",
    "In [40]: coef = pd.Series(coef.squeeze(), index=X.design_info.column_names)\n",
    "\n",
    "In [41]: coef\n",
    "Out[41]: \n",
    "Intercept    0.312910\n",
    "x0          -0.079106\n",
    "x1          -0.265464\n",
    "dtype: float64"
   ]
  },
  {
   "cell_type": "markdown",
   "id": "dbfafe57",
   "metadata": {
    "lines_to_next_cell": 0
   },
   "source": [
    "## 用Patsy公式进行数据转换\n",
    "\n",
    "你可以将Python代码与patsy公式结合。在评估公式时，库将尝试查找在封闭作用域内使用的函数："
   ]
  },
  {
   "cell_type": "code",
   "execution_count": null,
   "id": "d31b39d1",
   "metadata": {},
   "outputs": [],
   "source": [
    "In [42]: y, X = patsy.dmatrices('y ~ x0 + np.log(np.abs(x1) + 1)', data)\n",
    "\n",
    "In [43]: X\n",
    "Out[43]: \n",
    "DesignMatrix with shape (5, 3)\n",
    "  Intercept  x0  np.log(np.abs(x1) + 1)\n",
    "          1   1                 0.00995\n",
    "          1   2                 0.00995\n",
    "          1   3                 0.22314\n",
    "          1   4                 1.62924\n",
    "          1   5                 0.00000\n",
    "  Terms:\n",
    "    'Intercept' (column 0)\n",
    "    'x0' (column 1)\n",
    "    'np.log(np.abs(x1) + 1)' (column 2)"
   ]
  },
  {
   "cell_type": "markdown",
   "id": "702b381f",
   "metadata": {
    "lines_to_next_cell": 0
   },
   "source": [
    "常见的变量转换包括标准化（平均值为0，方差为1）和中心化（减去平均值）。Patsy有内置的函数进行这样的工作："
   ]
  },
  {
   "cell_type": "code",
   "execution_count": null,
   "id": "4ae85cb2",
   "metadata": {},
   "outputs": [],
   "source": [
    "In [44]: y, X = patsy.dmatrices('y ~ standardize(x0) + center(x1)', data)\n",
    "\n",
    "In [45]: X\n",
    "Out[45]: \n",
    "DesignMatrix with shape (5, 3)\n",
    "  Intercept  standardize(x0)  center(x1)\n",
    "          1         -1.41421        0.78\n",
    "          1         -0.70711        0.76\n",
    "          1          0.00000        1.02\n",
    "          1          0.70711       -3.33\n",
    "          1          1.41421        0.77\n",
    "  Terms:\n",
    "    'Intercept' (column 0)\n",
    "    'standardize(x0)' (column 1)\n",
    "    'center(x1)' (column 2)"
   ]
  },
  {
   "cell_type": "markdown",
   "id": "f774083f",
   "metadata": {
    "lines_to_next_cell": 0
   },
   "source": [
    "作为建模的一步，你可能拟合模型到一个数据集，然后用另一个数据集评估模型。另一个数据集可能是剩余的部分或是新数据。当执行中心化和标准化转变，用新数据进行预测要格外小心。因为你必须使用平均值或标准差转换新数据集，这也称作状态转换。\n",
    "\n",
    "patsy.build_design_matrices函数可以使用原始样本数据集的保存信息，来转换新数据，："
   ]
  },
  {
   "cell_type": "code",
   "execution_count": null,
   "id": "e3e190ca",
   "metadata": {},
   "outputs": [],
   "source": [
    "In [46]: new_data = pd.DataFrame({\n",
    "   ....:     'x0': [6, 7, 8, 9],\n",
    "   ....:     'x1': [3.1, -0.5, 0, 2.3],\n",
    "   ....:     'y': [1, 2, 3, 4]})\n",
    "\n",
    "In [47]: new_X = patsy.build_design_matrices([X.design_info], new_data)\n",
    "\n",
    "In [48]: new_X\n",
    "Out[48]: \n",
    "[DesignMatrix with shape (4, 3)\n",
    "   Intercept  standardize(x0)  center(x1)\n",
    "           1          2.12132        3.87\n",
    "           1          2.82843        0.27\n",
    "           1          3.53553        0.77\n",
    "           1          4.24264        3.07\n",
    "   Terms:\n",
    "     'Intercept' (column 0)\n",
    "     'standardize(x0)' (column 1)\n",
    "     'center(x1)' (column 2)]"
   ]
  },
  {
   "cell_type": "markdown",
   "id": "c5d9f829",
   "metadata": {
    "lines_to_next_cell": 0
   },
   "source": [
    "因为Patsy中的加号不是加法的意义，当你按照名称将数据集的列相加时，你必须用特殊I函数将它们封装起来："
   ]
  },
  {
   "cell_type": "code",
   "execution_count": null,
   "id": "2a433ccc",
   "metadata": {},
   "outputs": [],
   "source": [
    "In [49]: y, X = patsy.dmatrices('y ~ I(x0 + x1)', data)\n",
    "\n",
    "In [50]: X\n",
    "Out[50]: \n",
    "DesignMatrix with shape (5, 2)\n",
    "  Intercept  I(x0 + x1)\n",
    "          1        1.01\n",
    "          1        1.99\n",
    "          1        3.25\n",
    "          1       -0.10\n",
    "          1        5.00\n",
    "  Terms:\n",
    "    'Intercept' (column 0)\n",
    "    'I(x0 + x1)' (column 1)"
   ]
  },
  {
   "cell_type": "markdown",
   "id": "fa838fe3",
   "metadata": {
    "lines_to_next_cell": 0
   },
   "source": [
    "Patsy的patsy.builtins模块还有一些其它的内置转换。请查看线上文档。\n",
    "\n",
    "分类数据有一个特殊的转换类，下面进行讲解。\n",
    "\n",
    "## 分类数据和Patsy\n",
    "\n",
    "非数值数据可以用多种方式转换为模型设计矩阵。完整的讲解超出了本书范围，最好和统计课一起学习。\n",
    "\n",
    "当你在Patsy公式中使用非数值数据，它们会默认转换为虚变量。如果有截距，会去掉一个，避免共线性："
   ]
  },
  {
   "cell_type": "code",
   "execution_count": null,
   "id": "29a9c895",
   "metadata": {},
   "outputs": [],
   "source": [
    "In [51]: data = pd.DataFrame({\n",
    "   ....:     'key1': ['a', 'a', 'b', 'b', 'a', 'b', 'a', 'b'],\n",
    "   ....:     'key2': [0, 1, 0, 1, 0, 1, 0, 0],\n",
    "   ....:     'v1': [1, 2, 3, 4, 5, 6, 7, 8],\n",
    "   ....:     'v2': [-1, 0, 2.5, -0.5, 4.0, -1.2, 0.2, -1.7]\n",
    "   ....: })\n",
    "\n",
    "In [52]: y, X = patsy.dmatrices('v2 ~ key1', data)\n",
    "\n",
    "In [53]: X\n",
    "Out[53]: \n",
    "DesignMatrix with shape (8, 2)\n",
    "  Intercept  key1[T.b]\n",
    "          1          0\n",
    "          1          0\n",
    "          1          1\n",
    "          1          1\n",
    "          1          0\n",
    "          1          1\n",
    "          1          0\n",
    "          1          1\n",
    "  Terms:\n",
    "    'Intercept' (column 0)\n",
    "    'key1' (column 1)"
   ]
  },
  {
   "cell_type": "markdown",
   "id": "73b4fe8a",
   "metadata": {
    "lines_to_next_cell": 0
   },
   "source": [
    "如果你从模型中忽略截距，每个分类值的列都会包括在设计矩阵的模型中："
   ]
  },
  {
   "cell_type": "code",
   "execution_count": null,
   "id": "a59a1542",
   "metadata": {},
   "outputs": [],
   "source": [
    "In [54]: y, X = patsy.dmatrices('v2 ~ key1 + 0', data)\n",
    "\n",
    "In [55]: X\n",
    "Out[55]: \n",
    "DesignMatrix with shape (8, 2)\n",
    "  key1[a]  key1[b]\n",
    "        1        0\n",
    "        1        0\n",
    "        0        1\n",
    "        0        1\n",
    "        1        0\n",
    "        0        1\n",
    "        1        0\n",
    "        0        1\n",
    "  Terms:\n",
    "    'key1' (columns 0:2)"
   ]
  },
  {
   "cell_type": "markdown",
   "id": "efb5a4be",
   "metadata": {
    "lines_to_next_cell": 0
   },
   "source": [
    "使用C函数，数值列可以截取为分类量："
   ]
  },
  {
   "cell_type": "code",
   "execution_count": null,
   "id": "dfc60d1a",
   "metadata": {},
   "outputs": [],
   "source": [
    "In [56]: y, X = patsy.dmatrices('v2 ~ C(key2)', data)\n",
    "\n",
    "In [57]: X\n",
    "Out[57]: \n",
    "DesignMatrix with shape (8, 2)\n",
    "  Intercept  C(key2)[T.1]\n",
    "          1             0\n",
    "          1             1\n",
    "          1             0\n",
    "          1             1\n",
    "          1             0\n",
    "          1             1\n",
    "          1             0\n",
    "          1             0\n",
    "  Terms:\n",
    "    'Intercept' (column 0)\n",
    "    'C(key2)' (column 1)"
   ]
  },
  {
   "cell_type": "markdown",
   "id": "da9d5a85",
   "metadata": {
    "lines_to_next_cell": 0
   },
   "source": [
    "当你在模型中使用多个分类名，事情就会变复杂，因为会包括key1:key2形式的相交部分，它可以用在方差（ANOVA）模型分析中："
   ]
  },
  {
   "cell_type": "code",
   "execution_count": null,
   "id": "23ba9f95",
   "metadata": {},
   "outputs": [],
   "source": [
    "In [58]: data['key2'] = data['key2'].map({0: 'zero', 1: 'one'})\n",
    "\n",
    "In [59]: data\n",
    "Out[59]: \n",
    "  key1  key2  v1   v2\n",
    "0    a  zero   1 -1.0\n",
    "1    a   one   2  0.0\n",
    "2    b  zero   3  2.5\n",
    "3    b   one   4 -0.5\n",
    "4    a  zero   5  4.0\n",
    "5    b   one   6 -1.2\n",
    "6    a  zero   7  0.2\n",
    "7    b  zero   8 -1.7\n",
    "\n",
    "In [60]: y, X = patsy.dmatrices('v2 ~ key1 + key2', data)\n",
    "\n",
    "In [61]: X\n",
    "Out[61]: \n",
    "DesignMatrix with shape (8, 3)\n",
    "  Intercept  key1[T.b]  key2[T.zero]\n",
    "          1          0             1\n",
    "          1          0             0\n",
    "          1          1             1\n",
    "          1          1             0\n",
    "          1          0             1\n",
    "          1          1             0\n",
    "          1          0             1\n",
    "          1          1             1\n",
    "  Terms:\n",
    "    'Intercept' (column 0)\n",
    "    'key1' (column 1)\n",
    "    'key2' (column 2)\n",
    "\n",
    "In [62]: y, X = patsy.dmatrices('v2 ~ key1 + key2 + key1:key2', data)\n",
    "\n",
    "In [63]: X\n",
    "Out[63]: \n",
    "DesignMatrix with shape (8, 4)\n",
    "  Intercept  key1[T.b]  key2[T.zero]\n",
    "key1[T.b]:key2[T.zero]\n",
    "          1          0             1                       0\n",
    "          1          0             0                       0\n",
    "          1          1             1                       1\n",
    "          1          1             0                       0\n",
    "          1          0             1                       0\n",
    "          1          1             0                       0\n",
    "          1          0             1                       0\n",
    "          1          1             1                       1\n",
    "  Terms:\n",
    "    'Intercept' (column 0)\n",
    "    'key1' (column 1)\n",
    "    'key2' (column 2)\n",
    "    'key1:key2' (column 3)"
   ]
  },
  {
   "cell_type": "markdown",
   "id": "04f40076",
   "metadata": {
    "lines_to_next_cell": 0
   },
   "source": [
    "Patsy提供转换分类数据的其它方法，包括以特定顺序转换。请参阅线上文档。\n",
    "\n",
    "# 13.3 statsmodels介绍\n",
    "\n",
    "statsmodels是Python进行拟合多种统计模型、进行统计试验和数据探索可视化的库。Statsmodels包含许多经典的统计方法，但没有贝叶斯方法和机器学习模型。\n",
    "\n",
    "statsmodels包含的模型有：\n",
    "\n",
    "- 线性模型，广义线性模型和健壮线性模型\n",
    "- 线性混合效应模型\n",
    "- 方差（ANOVA）方法分析\n",
    "- 时间序列过程和状态空间模型\n",
    "- 广义矩估计\n",
    "\n",
    "下面，我会使用一些基本的statsmodels工具，探索Patsy公式和pandasDataFrame对象如何使用模型接口。\n",
    "\n",
    "## 估计线性模型\n",
    "\n",
    "statsmodels有多种线性回归模型，包括从基本（比如普通最小二乘）到复杂（比如迭代加权最小二乘法）的。\n",
    "\n",
    "statsmodels的线性模型有两种不同的接口：基于数组和基于公式。它们可以通过API模块引入："
   ]
  },
  {
   "cell_type": "code",
   "execution_count": null,
   "id": "0555c341",
   "metadata": {},
   "outputs": [],
   "source": [
    "import statsmodels.api as sm\n",
    "import statsmodels.formula.api as smf"
   ]
  },
  {
   "cell_type": "markdown",
   "id": "cb036b6a",
   "metadata": {
    "lines_to_next_cell": 0
   },
   "source": [
    "为了展示它们的使用方法，我们从一些随机数据生成一个线性模型："
   ]
  },
  {
   "cell_type": "code",
   "execution_count": null,
   "id": "d38e531c",
   "metadata": {},
   "outputs": [],
   "source": [
    "def dnorm(mean, variance, size=1):\n",
    "    if isinstance(size, int):\n",
    "        size = size,\n",
    "    return mean + np.sqrt(variance) * np.random.randn(*size)\n",
    "\n",
    "# For reproducibility\n",
    "np.random.seed(12345)\n",
    "\n",
    "N = 100\n",
    "X = np.c_[dnorm(0, 0.4, size=N),\n",
    "          dnorm(0, 0.6, size=N),\n",
    "          dnorm(0, 0.2, size=N)]\n",
    "eps = dnorm(0, 0.1, size=N)\n",
    "beta = [0.1, 0.3, 0.5]\n",
    "\n",
    "y = np.dot(X, beta) + eps"
   ]
  },
  {
   "cell_type": "markdown",
   "id": "52457d81",
   "metadata": {
    "lines_to_next_cell": 0
   },
   "source": [
    "这里，我使用了“真实”模型和可知参数beta。此时，dnorm可用来生成正态分布数据，带有特定均值和方差。现在有："
   ]
  },
  {
   "cell_type": "code",
   "execution_count": null,
   "id": "919968c6",
   "metadata": {},
   "outputs": [],
   "source": [
    "In [66]: X[:5]\n",
    "Out[66]: \n",
    "array([[-0.1295, -1.2128,  0.5042],\n",
    "       [ 0.3029, -0.4357, -0.2542],\n",
    "       [-0.3285, -0.0253,  0.1384],\n",
    "       [-0.3515, -0.7196, -0.2582],\n",
    "       [ 1.2433, -0.3738, -0.5226]])\n",
    "\n",
    "In [67]: y[:5]\n",
    "Out[67]: array([ 0.4279, -0.6735, -0.0909, -0.4895,-0.1289])"
   ]
  },
  {
   "cell_type": "markdown",
   "id": "dcb4602d",
   "metadata": {
    "lines_to_next_cell": 0
   },
   "source": [
    "像之前Patsy看到的，线性模型通常要拟合一个截距。sm.add_constant函数可以添加一个截距的列到现存的矩阵："
   ]
  },
  {
   "cell_type": "code",
   "execution_count": null,
   "id": "1e2e4870",
   "metadata": {},
   "outputs": [],
   "source": [
    "In [68]: X_model = sm.add_constant(X)\n",
    "\n",
    "In [69]: X_model[:5]\n",
    "Out[69]: \n",
    "array([[ 1.    , -0.1295, -1.2128,  0.5042],\n",
    "       [ 1.    ,  0.3029, -0.4357, -0.2542],\n",
    "       [ 1.    , -0.3285, -0.0253,  0.1384],\n",
    "       [ 1.    , -0.3515, -0.7196, -0.2582],\n",
    "       [ 1.    ,  1.2433, -0.3738, -0.5226]])"
   ]
  },
  {
   "cell_type": "markdown",
   "id": "d63e3293",
   "metadata": {
    "lines_to_next_cell": 0
   },
   "source": [
    "sm.OLS类可以拟合一个普通最小二乘回归："
   ]
  },
  {
   "cell_type": "code",
   "execution_count": null,
   "id": "0c4ce450",
   "metadata": {},
   "outputs": [],
   "source": [
    "In [70]: model = sm.OLS(y, X)"
   ]
  },
  {
   "cell_type": "markdown",
   "id": "83965fdb",
   "metadata": {
    "lines_to_next_cell": 0
   },
   "source": [
    "这个模型的fit方法返回了一个回归结果对象，它包含估计的模型参数和其它内容："
   ]
  },
  {
   "cell_type": "code",
   "execution_count": null,
   "id": "e3547739",
   "metadata": {},
   "outputs": [],
   "source": [
    "In [71]: results = model.fit()\n",
    "\n",
    "In [72]: results.params\n",
    "Out[72]: array([ 0.1783,  0.223 ,  0.501 ])"
   ]
  },
  {
   "cell_type": "markdown",
   "id": "42ae4a2b",
   "metadata": {
    "lines_to_next_cell": 0
   },
   "source": [
    "对结果使用summary方法可以打印模型的详细诊断结果："
   ]
  },
  {
   "cell_type": "code",
   "execution_count": null,
   "id": "95ce7fea",
   "metadata": {},
   "outputs": [],
   "source": [
    "In [73]: print(results.summary())\n",
    "OLS Regression Results                            \n",
    "==============================================================================\n",
    "Dep. Variable:                      y   R-squared:                       0.430\n",
    "Model:                            OLS   Adj. R-squared:                  0.413\n",
    "Method:                 Least Squares   F-statistic:                     24.42\n",
    "Date:                Mon, 25 Sep 2017   Prob (F-statistic):           7.44e-12\n",
    "Time:                        14:06:15   Log-Likelihood:                -34.305\n",
    "No. Observations:                 100   AIC:                             74.61\n",
    "Df Residuals:                      97   BIC:                             82.42\n",
    "Df Model:                           3                                         \n",
    "Covariance Type:            nonrobust                                         \n",
    "==============================================================================\n",
    "                 coef    std err          t      P>|t|      [0.025      0.975]\n",
    "------------------------------------------------------------------------------\n",
    "x1             0.1783      0.053      3.364      0.001       0.073       0.283\n",
    "x2             0.2230      0.046      4.818      0.000       0.131       0.315\n",
    "x3             0.5010      0.080      6.237      0.000       0.342       0.660\n",
    "==============================================================================\n",
    "Omnibus:                        4.662   Durbin-Watson:                   2.201\n",
    "Prob(Omnibus):                  0.097   Jarque-Bera (JB):                4.098\n",
    "Skew:                           0.481   Prob(JB):                        0.129\n",
    "Kurtosis:                       3.243   Cond. No.\n",
    "1.74\n",
    "==============================================================================\n",
    "Warnings:\n",
    "[1] Standard Errors assume that the covariance matrix of the errors is correctly \n",
    "specified."
   ]
  },
  {
   "cell_type": "markdown",
   "id": "acb61c41",
   "metadata": {
    "lines_to_next_cell": 0
   },
   "source": [
    "这里的参数名为通用名x1, x2等等。假设所有的模型参数都在一个DataFrame中："
   ]
  },
  {
   "cell_type": "code",
   "execution_count": null,
   "id": "eda7af40",
   "metadata": {},
   "outputs": [],
   "source": [
    "In [74]: data = pd.DataFrame(X, columns=['col0', 'col1', 'col2'])\n",
    "\n",
    "In [75]: data['y'] = y\n",
    "\n",
    "In [76]: data[:5]\n",
    "Out[76]: \n",
    "       col0      col1      col2         y\n",
    "0 -0.129468 -1.212753  0.504225  0.427863\n",
    "1  0.302910 -0.435742 -0.254180 -0.673480\n",
    "2 -0.328522 -0.025302  0.138351 -0.090878\n",
    "3 -0.351475 -0.719605 -0.258215 -0.489494\n",
    "4  1.243269 -0.373799 -0.522629 -0.128941"
   ]
  },
  {
   "cell_type": "markdown",
   "id": "06e5536c",
   "metadata": {
    "lines_to_next_cell": 0
   },
   "source": [
    "现在，我们使用statsmodels的公式API和Patsy的公式字符串："
   ]
  },
  {
   "cell_type": "code",
   "execution_count": null,
   "id": "c0794aa7",
   "metadata": {},
   "outputs": [],
   "source": [
    "In [77]: results = smf.ols('y ~ col0 + col1 + col2', data=data).fit()\n",
    "\n",
    "In [78]: results.params\n",
    "Out[78]: \n",
    "Intercept    0.033559\n",
    "col0         0.176149\n",
    "col1         0.224826\n",
    "col2         0.514808\n",
    "dtype: float64\n",
    "\n",
    "In [79]: results.tvalues\n",
    "Out[79]: \n",
    "Intercept    0.952188\n",
    "col0         3.319754\n",
    "col1         4.850730\n",
    "col2         6.303971\n",
    "dtype: float64"
   ]
  },
  {
   "cell_type": "markdown",
   "id": "aae819f7",
   "metadata": {
    "lines_to_next_cell": 0
   },
   "source": [
    "观察下statsmodels是如何返回Series结果的，附带有DataFrame的列名。当使用公式和pandas对象时，我们不需要使用add_constant。\n",
    "\n",
    "给出一个样本外数据，你可以根据估计的模型参数计算预测值："
   ]
  },
  {
   "cell_type": "code",
   "execution_count": null,
   "id": "5e63d092",
   "metadata": {},
   "outputs": [],
   "source": [
    "In [80]: results.predict(data[:5])\n",
    "Out[80]: \n",
    "0   -0.002327\n",
    "1   -0.141904\n",
    "2    0.041226\n",
    "3   -0.323070\n",
    "4   -0.100535\n",
    "dtype: float64"
   ]
  },
  {
   "cell_type": "markdown",
   "id": "4e24be5a",
   "metadata": {
    "lines_to_next_cell": 0
   },
   "source": [
    "statsmodels的线性模型结果还有其它的分析、诊断和可视化工具。除了普通最小二乘模型，还有其它的线性模型。\n",
    "\n",
    "## 估计时间序列过程\n",
    "\n",
    "statsmodels的另一模型类是进行时间序列分析，包括自回归过程、卡尔曼滤波和其它态空间模型，和多元自回归模型。\n",
    "\n",
    "用自回归结构和噪声来模拟一些时间序列数据："
   ]
  },
  {
   "cell_type": "code",
   "execution_count": null,
   "id": "5b03531e",
   "metadata": {},
   "outputs": [],
   "source": [
    "init_x = 4\n",
    "\n",
    "import random\n",
    "values = [init_x, init_x]\n",
    "N = 1000\n",
    "\n",
    "b0 = 0.8\n",
    "b1 = -0.4\n",
    "noise = dnorm(0, 0.1, N)\n",
    "for i in range(N):\n",
    "    new_x = values[-1] * b0 + values[-2] * b1 + noise[i]\n",
    "    values.append(new_x)"
   ]
  },
  {
   "cell_type": "markdown",
   "id": "373ec46a",
   "metadata": {
    "lines_to_next_cell": 0
   },
   "source": [
    "这个数据有AR(2)结构（两个延迟），参数是0.8和-0.4。拟合AR模型时，你可能不知道滞后项的个数，因此可以用较多的滞后量来拟合这个模型："
   ]
  },
  {
   "cell_type": "code",
   "execution_count": null,
   "id": "9bade138",
   "metadata": {},
   "outputs": [],
   "source": [
    "In [82]: MAXLAGS = 5\n",
    "\n",
    "In [83]: model = sm.tsa.AR(values)\n",
    "\n",
    "In [84]: results = model.fit(MAXLAGS)"
   ]
  },
  {
   "cell_type": "markdown",
   "id": "bad6990a",
   "metadata": {
    "lines_to_next_cell": 0
   },
   "source": [
    "结果中的估计参数首先是截距，其次是前两个参数的估计值："
   ]
  },
  {
   "cell_type": "code",
   "execution_count": null,
   "id": "be0b33c4",
   "metadata": {},
   "outputs": [],
   "source": [
    "In [85]: results.params\n",
    "Out[85]: array([-0.0062,  0.7845, -0.4085, -0.0136,  0.015 ,  0.0143])"
   ]
  },
  {
   "cell_type": "markdown",
   "id": "2d95fce8",
   "metadata": {
    "lines_to_next_cell": 0
   },
   "source": [
    "更多的细节以及如何解释结果超出了本书的范围，可以通过statsmodels文档学习更多。\n",
    "\n",
    "# 13.4 scikit-learn介绍\n",
    "\n",
    "scikit-learn是一个广泛使用、用途多样的Python机器学习库。它包含多种标准监督和非监督机器学习方法和模型选择和评估、数据转换、数据加载和模型持久化工具。这些模型可以用于分类、聚合、预测和其它任务。\n",
    "\n",
    "机器学习方面的学习和应用scikit-learn和TensorFlow解决实际问题的线上和纸质资料很多。本节中，我会简要介绍scikit-learn API的风格。\n",
    "\n",
    "写作此书的时候，scikit-learn并没有和pandas深度结合，但是有些第三方包在开发中。尽管如此，pandas非常适合在模型拟合前处理数据集。\n",
    "\n",
    "举个例子，我用一个Kaggle竞赛的经典数据集，关于泰坦尼克号乘客的生还率。我们用pandas加载测试和训练数据集："
   ]
  },
  {
   "cell_type": "code",
   "execution_count": null,
   "id": "b5698ed2",
   "metadata": {},
   "outputs": [],
   "source": [
    "In [86]: train = pd.read_csv('datasets/titanic/train.csv')\n",
    "\n",
    "In [87]: test = pd.read_csv('datasets/titanic/test.csv')\n",
    "\n",
    "In [88]: train[:4]\n",
    "Out[88]: \n",
    "   PassengerId  Survived  Pclass  \\\n",
    "0            1         0       3   \n",
    "1            2         1       1   \n",
    "2            3         1       3   \n",
    "3            4         1       1   \n",
    "                                                Name     Sex   Age  SibSp  \\\n",
    "0                            Braund, Mr. Owen Harris    male  22.0      1   \n",
    "1  Cumings, Mrs. John Bradley (Florence Briggs Th...  female  38.0      1   \n",
    "2                             Heikkinen, Miss. Laina  female  26.0      0   \n",
    "3       Futrelle, Mrs. Jacques Heath (Lily May Peel)  female  35.0      1   \n",
    "   Parch            Ticket     Fare Cabin Embarked  \n",
    "0      0         A/5 21171   7.2500   NaN        S  \n",
    "1      0          PC 17599  71.2833   C85        C  \n",
    "2      0  STON/O2. 3101282   7.9250   NaN        S  \n",
    "3      0            113803  53.1000  C123        S"
   ]
  },
  {
   "cell_type": "markdown",
   "id": "b09ba9ef",
   "metadata": {
    "lines_to_next_cell": 0
   },
   "source": [
    "statsmodels和scikit-learn通常不能接收缺失数据，因此我们要查看列是否包含缺失值："
   ]
  },
  {
   "cell_type": "code",
   "execution_count": null,
   "id": "07d68ea0",
   "metadata": {},
   "outputs": [],
   "source": [
    "In [89]: train.isnull().sum()\n",
    "Out[89]: \n",
    "PassengerId      0\n",
    "Survived         0\n",
    "Pclass           0\n",
    "Name             0\n",
    "Sex              0\n",
    "Age            177\n",
    "SibSp            0\n",
    "Parch            0\n",
    "Ticket           0\n",
    "Fare             0\n",
    "Cabin          687\n",
    "Embarked         2\n",
    "dtype: int64\n",
    "\n",
    "In [90]: test.isnull().sum()\n",
    "Out[90]: \n",
    "PassengerId      0\n",
    "Pclass           0\n",
    "Name             0\n",
    "Sex              0\n",
    "Age             86\n",
    "SibSp            0\n",
    "Parch            0\n",
    "Ticket           0\n",
    "Fare             1\n",
    "Cabin          327\n",
    "Embarked         0\n",
    "dtype: int64"
   ]
  },
  {
   "cell_type": "markdown",
   "id": "24658de3",
   "metadata": {
    "lines_to_next_cell": 0
   },
   "source": [
    "在统计和机器学习的例子中，根据数据中的特征，一个典型的任务是预测乘客能否生还。模型现在训练数据集中拟合，然后用样本外测试数据集评估。\n",
    "\n",
    "我想用年龄作为预测值，但是它包含缺失值。缺失数据补全的方法有多种，我用的是一种简单方法，用训练数据集的中位数补全两个表的空值："
   ]
  },
  {
   "cell_type": "code",
   "execution_count": null,
   "id": "965d6ff7",
   "metadata": {},
   "outputs": [],
   "source": [
    "In [91]: impute_value = train['Age'].median()\n",
    "\n",
    "In [92]: train['Age'] = train['Age'].fillna(impute_value)\n",
    "\n",
    "In [93]: test['Age'] = test['Age'].fillna(impute_value)"
   ]
  },
  {
   "cell_type": "markdown",
   "id": "6647cd6b",
   "metadata": {
    "lines_to_next_cell": 0
   },
   "source": [
    "现在我们需要指定模型。我增加了一个列IsFemale，作为“Sex”列的编码："
   ]
  },
  {
   "cell_type": "code",
   "execution_count": null,
   "id": "15c8c04b",
   "metadata": {},
   "outputs": [],
   "source": [
    "In [94]: train['IsFemale'] = (train['Sex'] == 'female').astype(int)\n",
    "\n",
    "In [95]: test['IsFemale'] = (test['Sex'] == 'female').astype(int)"
   ]
  },
  {
   "cell_type": "markdown",
   "id": "35fb94d5",
   "metadata": {
    "lines_to_next_cell": 0
   },
   "source": [
    "然后，我们确定一些模型变量，并创建NumPy数组："
   ]
  },
  {
   "cell_type": "code",
   "execution_count": null,
   "id": "dc391634",
   "metadata": {},
   "outputs": [],
   "source": [
    "In [96]: predictors = ['Pclass', 'IsFemale', 'Age']\n",
    "\n",
    "In [97]: X_train = train[predictors].values\n",
    "\n",
    "In [98]: X_test = test[predictors].values\n",
    "\n",
    "In [99]: y_train = train['Survived'].values\n",
    "\n",
    "In [100]: X_train[:5]\n",
    "Out[100]: \n",
    "array([[  3.,   0.,  22.],\n",
    "       [  1.,   1.,  38.],\n",
    "       [  3.,   1.,  26.],\n",
    "       [  1.,   1.,  35.],\n",
    "       [  3.,   0.,  35.]])\n",
    "\n",
    "In [101]: y_train[:5]\n",
    "Out[101]: array([0, 1, 1, 1, 0])"
   ]
  },
  {
   "cell_type": "markdown",
   "id": "14a4d9a3",
   "metadata": {
    "lines_to_next_cell": 0
   },
   "source": [
    "我不能保证这是一个好模型，但它的特征都符合。我们用scikit-learn的LogisticRegression模型，创建一个模型实例："
   ]
  },
  {
   "cell_type": "code",
   "execution_count": null,
   "id": "b460e684",
   "metadata": {},
   "outputs": [],
   "source": [
    "In [102]: from sklearn.linear_model import LogisticRegression\n",
    "\n",
    "In [103]: model = LogisticRegression()"
   ]
  },
  {
   "cell_type": "markdown",
   "id": "1e6bbf08",
   "metadata": {
    "lines_to_next_cell": 0
   },
   "source": [
    "与statsmodels类似，我们可以用模型的fit方法，将它拟合到训练数据："
   ]
  },
  {
   "cell_type": "code",
   "execution_count": null,
   "id": "059af4e7",
   "metadata": {},
   "outputs": [],
   "source": [
    "In [104]: model.fit(X_train, y_train)\n",
    "Out[104]: \n",
    "LogisticRegression(C=1.0, class_weight=None, dual=False, fit_intercept=True,\n",
    "          intercept_scaling=1, max_iter=100, multi_class='ovr', n_jobs=1,\n",
    "          penalty='l2', random_state=None, solver='liblinear', tol=0.0001,\n",
    "          verbose=0, warm_start=False)"
   ]
  },
  {
   "cell_type": "markdown",
   "id": "a5d21ce1",
   "metadata": {
    "lines_to_next_cell": 0
   },
   "source": [
    "现在，我们可以用model.predict，对测试数据进行预测："
   ]
  },
  {
   "cell_type": "code",
   "execution_count": null,
   "id": "d9ed3efd",
   "metadata": {},
   "outputs": [],
   "source": [
    "In [105]: y_predict = model.predict(X_test)\n",
    "\n",
    "In [106]: y_predict[:10]\n",
    "Out[106]: array([0, 0, 0, 0, 1, 0, 1, 0, 1, 0])"
   ]
  },
  {
   "cell_type": "markdown",
   "id": "7d306a36",
   "metadata": {
    "lines_to_next_cell": 0
   },
   "source": [
    "如果你有测试数据集的真是值，你可以计算准确率或其它错误度量值："
   ]
  },
  {
   "cell_type": "code",
   "execution_count": null,
   "id": "afd41ce3",
   "metadata": {},
   "outputs": [],
   "source": [
    "(y_true == y_predict).mean()"
   ]
  },
  {
   "cell_type": "markdown",
   "id": "fafaf344",
   "metadata": {
    "lines_to_next_cell": 0
   },
   "source": [
    "在实际中，模型训练经常有许多额外的复杂因素。许多模型有可以调节的参数，有些方法（比如交叉验证）可以用来进行参数调节，避免对训练数据过拟合。这通常可以提高预测性或对新数据的健壮性。\n",
    "\n",
    "交叉验证通过分割训练数据来模拟样本外预测。基于模型的精度得分（比如均方差），可以对模型参数进行网格搜索。有些模型，如logistic回归，有内置的交叉验证的估计类。例如，logisticregressioncv类可以用一个参数指定网格搜索对模型的正则化参数C的粒度："
   ]
  },
  {
   "cell_type": "code",
   "execution_count": null,
   "id": "519b28d6",
   "metadata": {},
   "outputs": [],
   "source": [
    "In [107]: from sklearn.linear_model import LogisticRegressionCV\n",
    "\n",
    "In [108]: model_cv = LogisticRegressionCV(10)\n",
    "\n",
    "In [109]: model_cv.fit(X_train, y_train)\n",
    "Out[109]: \n",
    "LogisticRegressionCV(Cs=10, class_weight=None, cv=None, dual=False,\n",
    "           fit_intercept=True, intercept_scaling=1.0, max_iter=100,\n",
    "           multi_class='ovr', n_jobs=1, penalty='l2', random_state=None,\n",
    "           refit=True, scoring=None, solver='lbfgs', tol=0.0001, verbose=0)"
   ]
  },
  {
   "cell_type": "markdown",
   "id": "e0d71b36",
   "metadata": {
    "lines_to_next_cell": 0
   },
   "source": [
    "要手动进行交叉验证，你可以使用cross_val_score帮助函数，它可以处理数据分割。例如，要交叉验证我们的带有四个不重叠训练数据的模型，可以这样做："
   ]
  },
  {
   "cell_type": "code",
   "execution_count": null,
   "id": "41e71891",
   "metadata": {},
   "outputs": [],
   "source": [
    "In [110]: from sklearn.model_selection import cross_val_score\n",
    "\n",
    "In [111]: model = LogisticRegression(C=10)\n",
    "\n",
    "In [112]: scores = cross_val_score(model, X_train, y_train, cv=4)\n",
    "\n",
    "In [113]: scores\n",
    "Out[113]: array([ 0.7723,  0.8027,  0.7703,  0.7883])"
   ]
  },
  {
   "cell_type": "markdown",
   "id": "56190d2d",
   "metadata": {},
   "source": [
    "默认的评分指标取决于模型本身，但是可以明确指定一个评分。交叉验证过的模型需要更长时间来训练，但会有更高的模型性能。\n",
    "\n",
    "# 13.5 继续学习\n",
    "\n",
    "我只是介绍了一些Python建模库的表面内容，现在有越来越多的框架用于各种统计和机器学习，它们都是用Python或Python用户界面实现的。\n",
    "\n",
    "这本书的重点是数据规整，有其它的书是关注建模和数据科学工具的。其中优秀的有：\n",
    "\n",
    "- Andreas Mueller and Sarah Guido (O’Reilly)的 《Introduction to Machine Learning with Python》\n",
    "- Jake VanderPlas (O’Reilly)的 《Python Data Science Handbook》\n",
    "- Joel Grus (O’Reilly) 的 《Data Science from Scratch: First Principles》\n",
    "- Sebastian Raschka (Packt Publishing) 的《Python Machine Learning》\n",
    "- Aurélien Géron (O’Reilly) 的《Hands-On Machine Learning with Scikit-Learn and TensorFlow》\n",
    "\n",
    "虽然书是学习的好资源，但是随着底层开源软件的发展，书的内容会过时。最好是不断熟悉各种统计和机器学习框架的文档，学习最新的功能和API。"
   ]
  }
 ],
 "metadata": {
  "jupytext": {
   "cell_metadata_filter": "-all",
   "main_language": "python",
   "notebook_metadata_filter": "-all"
  }
 },
 "nbformat": 4,
 "nbformat_minor": 5
}
