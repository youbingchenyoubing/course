{
 "cells": [
  {
   "cell_type": "markdown",
   "id": "176c5c1c8d76b6c1",
   "metadata": {},
   "source": [
    "一、项目背景\n",
    "本数据报告以淘宝app平台为数据集，通过行业的指标对淘宝用户行为进行分析，从而探索淘宝用户的行为模式，具体指标包括：日PV和日UV分析，付费率分析，复购行为分析，漏斗流失分析和用户价值RFM分析。\n",
    "\n",
    "二、数据来源\n",
    "https://tianchi.aliyun.com/dataset/dataDetail?dataId=46&userId=1"
   ]
  },
  {
   "cell_type": "markdown",
   "id": "174a0fd9d7cd072a",
   "metadata": {},
   "source": [
    "三、分析目标\n",
    "\n",
    "1.日PV有多少\n",
    "\n",
    "2.日UV有多少\n",
    "\n",
    "3.付费率情况如何\n",
    "\n",
    "4.复购率是多少\n",
    "\n",
    "5漏斗流失情况如何\n",
    "\n",
    "6.用户价值情况"
   ]
  },
  {
   "cell_type": "markdown",
   "id": "a7ed9c502bd6d260",
   "metadata": {},
   "source": [
    "四、理解数据\n",
    "本数据集共有104万条左右数据，数据为淘宝APP2014年11月18日至2014年12月18日的用户行为数据，共计6列字段，列字段分别是：\n",
    "\n",
    "user_id：用户身份，脱敏\n",
    "\n",
    "item_id：商品ID，脱敏\n",
    "\n",
    "behavior_type：用户行为类型（包含点击、收藏、加购物车、支付四种行为，分别用数字1、2、3、4表示）\n",
    "\n",
    "user_geohash：地理位置\n",
    "\n",
    "item_category：品类ID（商品所属的品类）\n",
    "\n",
    "time：用户行为发生的时间\n",
    "\n"
   ]
  },
  {
   "cell_type": "code",
   "id": "769e3645670ea7b4",
   "metadata": {
    "ExecuteTime": {
     "end_time": "2024-06-20T04:51:15.172820Z",
     "start_time": "2024-06-20T04:50:46.939260Z"
    }
   },
   "source": [
    "import pandas as pd\n",
    "import numpy as py\n",
    "import matplotlib.pyplot as plt\n",
    "import seaborn as sns\n",
    "data_user = pd.read_csv('./input/tianchi_mobile_recommend_train_user.csv')\n",
    "data_user.head()"
   ],
   "outputs": [
    {
     "data": {
      "text/plain": [
       "    user_id    item_id  behavior_type user_geohash  item_category  \\\n",
       "0  98047837  232431562              1          NaN           4245   \n",
       "1  97726136  383583590              1          NaN           5894   \n",
       "2  98607707   64749712              1          NaN           2883   \n",
       "3  98662432  320593836              1      96nn52n           6562   \n",
       "4  98145908  290208520              1          NaN          13926   \n",
       "\n",
       "            time  \n",
       "0  2014-12-06 02  \n",
       "1  2014-12-09 20  \n",
       "2  2014-12-18 11  \n",
       "3  2014-12-06 10  \n",
       "4  2014-12-16 21  "
      ],
      "text/html": [
       "<div>\n",
       "<style scoped>\n",
       "    .dataframe tbody tr th:only-of-type {\n",
       "        vertical-align: middle;\n",
       "    }\n",
       "\n",
       "    .dataframe tbody tr th {\n",
       "        vertical-align: top;\n",
       "    }\n",
       "\n",
       "    .dataframe thead th {\n",
       "        text-align: right;\n",
       "    }\n",
       "</style>\n",
       "<table border=\"1\" class=\"dataframe\">\n",
       "  <thead>\n",
       "    <tr style=\"text-align: right;\">\n",
       "      <th></th>\n",
       "      <th>user_id</th>\n",
       "      <th>item_id</th>\n",
       "      <th>behavior_type</th>\n",
       "      <th>user_geohash</th>\n",
       "      <th>item_category</th>\n",
       "      <th>time</th>\n",
       "    </tr>\n",
       "  </thead>\n",
       "  <tbody>\n",
       "    <tr>\n",
       "      <th>0</th>\n",
       "      <td>98047837</td>\n",
       "      <td>232431562</td>\n",
       "      <td>1</td>\n",
       "      <td>NaN</td>\n",
       "      <td>4245</td>\n",
       "      <td>2014-12-06 02</td>\n",
       "    </tr>\n",
       "    <tr>\n",
       "      <th>1</th>\n",
       "      <td>97726136</td>\n",
       "      <td>383583590</td>\n",
       "      <td>1</td>\n",
       "      <td>NaN</td>\n",
       "      <td>5894</td>\n",
       "      <td>2014-12-09 20</td>\n",
       "    </tr>\n",
       "    <tr>\n",
       "      <th>2</th>\n",
       "      <td>98607707</td>\n",
       "      <td>64749712</td>\n",
       "      <td>1</td>\n",
       "      <td>NaN</td>\n",
       "      <td>2883</td>\n",
       "      <td>2014-12-18 11</td>\n",
       "    </tr>\n",
       "    <tr>\n",
       "      <th>3</th>\n",
       "      <td>98662432</td>\n",
       "      <td>320593836</td>\n",
       "      <td>1</td>\n",
       "      <td>96nn52n</td>\n",
       "      <td>6562</td>\n",
       "      <td>2014-12-06 10</td>\n",
       "    </tr>\n",
       "    <tr>\n",
       "      <th>4</th>\n",
       "      <td>98145908</td>\n",
       "      <td>290208520</td>\n",
       "      <td>1</td>\n",
       "      <td>NaN</td>\n",
       "      <td>13926</td>\n",
       "      <td>2014-12-16 21</td>\n",
       "    </tr>\n",
       "  </tbody>\n",
       "</table>\n",
       "</div>"
      ]
     },
     "execution_count": 5,
     "metadata": {},
     "output_type": "execute_result"
    }
   ],
   "execution_count": 5
  },
  {
   "cell_type": "code",
   "id": "ccaee048450241e1",
   "metadata": {
    "ExecuteTime": {
     "end_time": "2024-06-20T08:01:53.900724Z",
     "start_time": "2024-06-20T08:01:52.549533Z"
    }
   },
   "source": [
    "#缺失值处理\n",
    "missingTotal = data_user.isnull().sum()\n",
    "missingExist = missingTotal[missingTotal>0]\n",
    "missingExist = missingExist.sort_values(ascending=False)"
   ],
   "outputs": [],
   "execution_count": 16
  },
  {
   "cell_type": "code",
   "id": "51f28f3647fc8a2c",
   "metadata": {
    "ExecuteTime": {
     "end_time": "2024-06-20T08:03:40.706166Z",
     "start_time": "2024-06-20T08:03:40.691443Z"
    }
   },
   "source": "print(missingExist)",
   "outputs": [
    {
     "name": "stdout",
     "output_type": "stream",
     "text": [
      "user_geohash    8334824\n",
      "dtype: int64\n"
     ]
    }
   ],
   "execution_count": 19
  },
  {
   "metadata": {
    "ExecuteTime": {
     "end_time": "2024-06-20T08:15:49.476065Z",
     "start_time": "2024-06-20T08:15:49.447173Z"
    }
   },
   "cell_type": "code",
   "source": "print(missingTotal)",
   "id": "c4e3b16404c00f33",
   "outputs": [
    {
     "name": "stdout",
     "output_type": "stream",
     "text": [
      "user_id                0\n",
      "item_id                0\n",
      "behavior_type          0\n",
      "user_geohash     8334824\n",
      "item_category          0\n",
      "time                   0\n",
      "dtype: int64\n"
     ]
    }
   ],
   "execution_count": 23
  },
  {
   "metadata": {},
   "cell_type": "markdown",
   "source": "存在缺失值的是User_geohash，有8334824条，不能删除缺失值，因为地理信息在数据集收集过程中做过加密转换，因此对数据集不做处理。",
   "id": "8b9bb4737164d175"
  },
  {
   "metadata": {
    "ExecuteTime": {
     "end_time": "2024-06-20T08:18:00.595902Z",
     "start_time": "2024-06-20T08:17:33.359107Z"
    }
   },
   "cell_type": "code",
   "source": [
    "#一致化处理\n",
    "import re\n",
    "#拆分数据集\n",
    "data_user['date'] = data_user['time'].map(lambda s: re.compile(' ').split(s)[0])"
   ],
   "id": "df01900ec5747597",
   "outputs": [],
   "execution_count": 24
  },
  {
   "metadata": {
    "ExecuteTime": {
     "end_time": "2024-06-20T08:18:33.896085Z",
     "start_time": "2024-06-20T08:18:07.428947Z"
    }
   },
   "cell_type": "code",
   "source": [
    "data_user['hour']=data_user['time'].map(lambda s:re.compile(' ').split(s)[1])\n",
    "data_user.head()"
   ],
   "id": "9ec591b28e7f89a6",
   "outputs": [
    {
     "data": {
      "text/plain": [
       "    user_id    item_id  behavior_type user_geohash  item_category  \\\n",
       "0  98047837  232431562              1          NaN           4245   \n",
       "1  97726136  383583590              1          NaN           5894   \n",
       "2  98607707   64749712              1          NaN           2883   \n",
       "3  98662432  320593836              1      96nn52n           6562   \n",
       "4  98145908  290208520              1          NaN          13926   \n",
       "\n",
       "            time        date hour  \n",
       "0  2014-12-06 02  2014-12-06   02  \n",
       "1  2014-12-09 20  2014-12-09   20  \n",
       "2  2014-12-18 11  2014-12-18   11  \n",
       "3  2014-12-06 10  2014-12-06   10  \n",
       "4  2014-12-16 21  2014-12-16   21  "
      ],
      "text/html": [
       "<div>\n",
       "<style scoped>\n",
       "    .dataframe tbody tr th:only-of-type {\n",
       "        vertical-align: middle;\n",
       "    }\n",
       "\n",
       "    .dataframe tbody tr th {\n",
       "        vertical-align: top;\n",
       "    }\n",
       "\n",
       "    .dataframe thead th {\n",
       "        text-align: right;\n",
       "    }\n",
       "</style>\n",
       "<table border=\"1\" class=\"dataframe\">\n",
       "  <thead>\n",
       "    <tr style=\"text-align: right;\">\n",
       "      <th></th>\n",
       "      <th>user_id</th>\n",
       "      <th>item_id</th>\n",
       "      <th>behavior_type</th>\n",
       "      <th>user_geohash</th>\n",
       "      <th>item_category</th>\n",
       "      <th>time</th>\n",
       "      <th>date</th>\n",
       "      <th>hour</th>\n",
       "    </tr>\n",
       "  </thead>\n",
       "  <tbody>\n",
       "    <tr>\n",
       "      <th>0</th>\n",
       "      <td>98047837</td>\n",
       "      <td>232431562</td>\n",
       "      <td>1</td>\n",
       "      <td>NaN</td>\n",
       "      <td>4245</td>\n",
       "      <td>2014-12-06 02</td>\n",
       "      <td>2014-12-06</td>\n",
       "      <td>02</td>\n",
       "    </tr>\n",
       "    <tr>\n",
       "      <th>1</th>\n",
       "      <td>97726136</td>\n",
       "      <td>383583590</td>\n",
       "      <td>1</td>\n",
       "      <td>NaN</td>\n",
       "      <td>5894</td>\n",
       "      <td>2014-12-09 20</td>\n",
       "      <td>2014-12-09</td>\n",
       "      <td>20</td>\n",
       "    </tr>\n",
       "    <tr>\n",
       "      <th>2</th>\n",
       "      <td>98607707</td>\n",
       "      <td>64749712</td>\n",
       "      <td>1</td>\n",
       "      <td>NaN</td>\n",
       "      <td>2883</td>\n",
       "      <td>2014-12-18 11</td>\n",
       "      <td>2014-12-18</td>\n",
       "      <td>11</td>\n",
       "    </tr>\n",
       "    <tr>\n",
       "      <th>3</th>\n",
       "      <td>98662432</td>\n",
       "      <td>320593836</td>\n",
       "      <td>1</td>\n",
       "      <td>96nn52n</td>\n",
       "      <td>6562</td>\n",
       "      <td>2014-12-06 10</td>\n",
       "      <td>2014-12-06</td>\n",
       "      <td>10</td>\n",
       "    </tr>\n",
       "    <tr>\n",
       "      <th>4</th>\n",
       "      <td>98145908</td>\n",
       "      <td>290208520</td>\n",
       "      <td>1</td>\n",
       "      <td>NaN</td>\n",
       "      <td>13926</td>\n",
       "      <td>2014-12-16 21</td>\n",
       "      <td>2014-12-16</td>\n",
       "      <td>21</td>\n",
       "    </tr>\n",
       "  </tbody>\n",
       "</table>\n",
       "</div>"
      ]
     },
     "execution_count": 25,
     "metadata": {},
     "output_type": "execute_result"
    }
   ],
   "execution_count": 25
  },
  {
   "metadata": {
    "ExecuteTime": {
     "end_time": "2024-06-20T08:39:20.226175Z",
     "start_time": "2024-06-20T08:39:20.140705Z"
    }
   },
   "cell_type": "code",
   "source": [
    "#查看data_user数据集数据类型：\n",
    "data_user.dtypes"
   ],
   "id": "5b71550f97b6c2cd",
   "outputs": [
    {
     "data": {
      "text/plain": [
       "user_id           int64\n",
       "item_id           int64\n",
       "behavior_type     int64\n",
       "user_geohash     object\n",
       "item_category     int64\n",
       "time             object\n",
       "date             object\n",
       "hour             object\n",
       "dtype: object"
      ]
     },
     "execution_count": 26,
     "metadata": {},
     "output_type": "execute_result"
    }
   ],
   "execution_count": 26
  },
  {
   "metadata": {
    "ExecuteTime": {
     "end_time": "2024-06-20T08:40:05.764887Z",
     "start_time": "2024-06-20T08:39:44.720802Z"
    }
   },
   "cell_type": "code",
   "source": [
    "data_user['date']=pd.to_datetime(data_user['date'])\n",
    "data_user['time']=pd.to_datetime(data_user['time'])\n",
    "data_user['hour']=data_user['hour'].astype('int64')\n",
    "data_user.dtypes"
   ],
   "id": "601339a4a2cad686",
   "outputs": [
    {
     "data": {
      "text/plain": [
       "user_id                   int64\n",
       "item_id                   int64\n",
       "behavior_type             int64\n",
       "user_geohash             object\n",
       "item_category             int64\n",
       "time             datetime64[ns]\n",
       "date             datetime64[ns]\n",
       "hour                      int64\n",
       "dtype: object"
      ]
     },
     "execution_count": 27,
     "metadata": {},
     "output_type": "execute_result"
    }
   ],
   "execution_count": 27
  },
  {
   "metadata": {
    "ExecuteTime": {
     "end_time": "2024-06-20T08:43:09.863321Z",
     "start_time": "2024-06-20T08:41:43.189321Z"
    }
   },
   "cell_type": "code",
   "source": [
    "#异常值处理\n",
    "data_user = data_user.sort_values(by='time',ascending=True)\n",
    "data_user = data_user.reset_index(drop=True)\n",
    "# pandas 的 describe 方法用于生成描述性统计信息的汇总表，主要用于数据框或系列（Series）。它能够对数值型数据、类别型数据和混合数据类型生成统计摘要。\n",
    "data_user.describe()"
   ],
   "id": "ce8ac682e13dc991",
   "outputs": [
    {
     "data": {
      "text/plain": [
       "            user_id       item_id  behavior_type  item_category  \\\n",
       "count  1.225691e+07  1.225691e+07   1.225691e+07   1.225691e+07   \n",
       "mean   7.170732e+07  2.023084e+08   1.105271e+00   6.846162e+03   \n",
       "min    4.913000e+03  6.400000e+01   1.000000e+00   2.000000e+00   \n",
       "25%    3.584965e+07  1.014130e+08   1.000000e+00   3.721000e+03   \n",
       "50%    7.292804e+07  2.021359e+08   1.000000e+00   6.209000e+03   \n",
       "75%    1.073774e+08  3.035405e+08   1.000000e+00   1.029000e+04   \n",
       "max    1.424559e+08  4.045625e+08   4.000000e+00   1.408000e+04   \n",
       "std    4.122920e+07  1.167397e+08   4.572662e-01   3.809922e+03   \n",
       "\n",
       "                                time                           date  \\\n",
       "count                       12256906                       12256906   \n",
       "mean   2014-12-04 04:47:28.445702144  2014-12-03 13:58:23.675396352   \n",
       "min              2014-11-18 00:00:00            2014-11-18 00:00:00   \n",
       "25%              2014-11-26 15:00:00            2014-11-26 00:00:00   \n",
       "50%              2014-12-04 14:00:00            2014-12-04 00:00:00   \n",
       "75%              2014-12-11 23:00:00            2014-12-11 00:00:00   \n",
       "max              2014-12-18 23:00:00            2014-12-18 00:00:00   \n",
       "std                              NaN                            NaN   \n",
       "\n",
       "               hour  \n",
       "count  1.225691e+07  \n",
       "mean   1.481799e+01  \n",
       "min    0.000000e+00  \n",
       "25%    1.000000e+01  \n",
       "50%    1.600000e+01  \n",
       "75%    2.000000e+01  \n",
       "max    2.300000e+01  \n",
       "std    6.474778e+00  "
      ],
      "text/html": [
       "<div>\n",
       "<style scoped>\n",
       "    .dataframe tbody tr th:only-of-type {\n",
       "        vertical-align: middle;\n",
       "    }\n",
       "\n",
       "    .dataframe tbody tr th {\n",
       "        vertical-align: top;\n",
       "    }\n",
       "\n",
       "    .dataframe thead th {\n",
       "        text-align: right;\n",
       "    }\n",
       "</style>\n",
       "<table border=\"1\" class=\"dataframe\">\n",
       "  <thead>\n",
       "    <tr style=\"text-align: right;\">\n",
       "      <th></th>\n",
       "      <th>user_id</th>\n",
       "      <th>item_id</th>\n",
       "      <th>behavior_type</th>\n",
       "      <th>item_category</th>\n",
       "      <th>time</th>\n",
       "      <th>date</th>\n",
       "      <th>hour</th>\n",
       "    </tr>\n",
       "  </thead>\n",
       "  <tbody>\n",
       "    <tr>\n",
       "      <th>count</th>\n",
       "      <td>1.225691e+07</td>\n",
       "      <td>1.225691e+07</td>\n",
       "      <td>1.225691e+07</td>\n",
       "      <td>1.225691e+07</td>\n",
       "      <td>12256906</td>\n",
       "      <td>12256906</td>\n",
       "      <td>1.225691e+07</td>\n",
       "    </tr>\n",
       "    <tr>\n",
       "      <th>mean</th>\n",
       "      <td>7.170732e+07</td>\n",
       "      <td>2.023084e+08</td>\n",
       "      <td>1.105271e+00</td>\n",
       "      <td>6.846162e+03</td>\n",
       "      <td>2014-12-04 04:47:28.445702144</td>\n",
       "      <td>2014-12-03 13:58:23.675396352</td>\n",
       "      <td>1.481799e+01</td>\n",
       "    </tr>\n",
       "    <tr>\n",
       "      <th>min</th>\n",
       "      <td>4.913000e+03</td>\n",
       "      <td>6.400000e+01</td>\n",
       "      <td>1.000000e+00</td>\n",
       "      <td>2.000000e+00</td>\n",
       "      <td>2014-11-18 00:00:00</td>\n",
       "      <td>2014-11-18 00:00:00</td>\n",
       "      <td>0.000000e+00</td>\n",
       "    </tr>\n",
       "    <tr>\n",
       "      <th>25%</th>\n",
       "      <td>3.584965e+07</td>\n",
       "      <td>1.014130e+08</td>\n",
       "      <td>1.000000e+00</td>\n",
       "      <td>3.721000e+03</td>\n",
       "      <td>2014-11-26 15:00:00</td>\n",
       "      <td>2014-11-26 00:00:00</td>\n",
       "      <td>1.000000e+01</td>\n",
       "    </tr>\n",
       "    <tr>\n",
       "      <th>50%</th>\n",
       "      <td>7.292804e+07</td>\n",
       "      <td>2.021359e+08</td>\n",
       "      <td>1.000000e+00</td>\n",
       "      <td>6.209000e+03</td>\n",
       "      <td>2014-12-04 14:00:00</td>\n",
       "      <td>2014-12-04 00:00:00</td>\n",
       "      <td>1.600000e+01</td>\n",
       "    </tr>\n",
       "    <tr>\n",
       "      <th>75%</th>\n",
       "      <td>1.073774e+08</td>\n",
       "      <td>3.035405e+08</td>\n",
       "      <td>1.000000e+00</td>\n",
       "      <td>1.029000e+04</td>\n",
       "      <td>2014-12-11 23:00:00</td>\n",
       "      <td>2014-12-11 00:00:00</td>\n",
       "      <td>2.000000e+01</td>\n",
       "    </tr>\n",
       "    <tr>\n",
       "      <th>max</th>\n",
       "      <td>1.424559e+08</td>\n",
       "      <td>4.045625e+08</td>\n",
       "      <td>4.000000e+00</td>\n",
       "      <td>1.408000e+04</td>\n",
       "      <td>2014-12-18 23:00:00</td>\n",
       "      <td>2014-12-18 00:00:00</td>\n",
       "      <td>2.300000e+01</td>\n",
       "    </tr>\n",
       "    <tr>\n",
       "      <th>std</th>\n",
       "      <td>4.122920e+07</td>\n",
       "      <td>1.167397e+08</td>\n",
       "      <td>4.572662e-01</td>\n",
       "      <td>3.809922e+03</td>\n",
       "      <td>NaN</td>\n",
       "      <td>NaN</td>\n",
       "      <td>6.474778e+00</td>\n",
       "    </tr>\n",
       "  </tbody>\n",
       "</table>\n",
       "</div>"
      ]
     },
     "execution_count": 28,
     "metadata": {},
     "output_type": "execute_result"
    }
   ],
   "execution_count": 28
  },
  {
   "metadata": {},
   "cell_type": "markdown",
   "source": "通过观察数据集的四分位数，总数，平均值，方差等，发现数据集并无异常值存在。",
   "id": "2eb14414591ceee"
  },
  {
   "metadata": {},
   "cell_type": "code",
   "outputs": [],
   "execution_count": null,
   "source": "",
   "id": "443acd6716c55d92"
  }
 ],
 "metadata": {
  "kernelspec": {
   "display_name": "Python 3 (ipykernel)",
   "language": "python",
   "name": "python3"
  },
  "language_info": {
   "codemirror_mode": {
    "name": "ipython",
    "version": 2
   },
   "file_extension": ".py",
   "mimetype": "text/x-python",
   "name": "python",
   "nbconvert_exporter": "python",
   "pygments_lexer": "ipython2",
   "version": "2.7.6"
  }
 },
 "nbformat": 4,
 "nbformat_minor": 5
}
